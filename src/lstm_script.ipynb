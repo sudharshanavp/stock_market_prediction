{
 "cells": [
  {
   "cell_type": "code",
   "execution_count": 1,
   "metadata": {},
   "outputs": [],
   "source": [
    "import models.lstm_model as lstm\n",
    "import pandas as pd\n",
    "import os"
   ]
  },
  {
   "cell_type": "code",
   "execution_count": 2,
   "metadata": {},
   "outputs": [],
   "source": [
    "import absl.logging\n",
    "absl.logging.set_verbosity(absl.logging.ERROR)"
   ]
  },
  {
   "cell_type": "code",
   "execution_count": 3,
   "metadata": {},
   "outputs": [],
   "source": [
    "dataset_path = \"../data/raw/stock/yahoo_finance/\"\n",
    "stocks = pd.read_csv(\"../data/ind_nifty50list.csv\")\n",
    "\n",
    "list_of_stocks = list(stocks.Symbol)"
   ]
  },
  {
   "cell_type": "code",
   "execution_count": null,
   "metadata": {},
   "outputs": [],
   "source": [
    "list_of_stocks"
   ]
  },
  {
   "cell_type": "code",
   "execution_count": 6,
   "metadata": {},
   "outputs": [
    {
     "data": {
      "text/plain": [
       "False"
      ]
     },
     "execution_count": 6,
     "metadata": {},
     "output_type": "execute_result"
    }
   ],
   "source": [
    "os.path.isdir(\"../models/lstm_models/TCS\")"
   ]
  },
  {
   "cell_type": "code",
   "execution_count": null,
   "metadata": {},
   "outputs": [],
   "source": [
    "for stock in list_of_stocks:\n",
    "    stock_name = stock\n",
    "    stock_path = '../data/raw/stock/yahoo_finance/' + stock_name\n",
    "    save_path = \"../models/lstm_models/\" + stock_name\n",
    "    if os.path.isdir(save_path):\n",
    "        print(stock_name + \"model already exists\")\n",
    "        continue\n",
    "    try:\n",
    "        lstm_object = lstm.LongShortTermMemory(stock_path)\n",
    "        trained_model = lstm_object.train_model(10, 1e-4, save_path)\n",
    "        print(\"Trained \" + stock_name + \" stock\")\n",
    "    except:\n",
    "        print(\"Exception \" + stock_name)"
   ]
  },
  {
   "cell_type": "code",
   "execution_count": null,
   "metadata": {},
   "outputs": [],
   "source": [
    "lstm_object = lstm.LongShortTermMemory(stock_path)"
   ]
  },
  {
   "cell_type": "code",
   "execution_count": null,
   "metadata": {},
   "outputs": [],
   "source": [
    "save_path = \"../models/lstm_models/\" + stock_name"
   ]
  },
  {
   "cell_type": "code",
   "execution_count": null,
   "metadata": {},
   "outputs": [],
   "source": [
    "trained_model = lstm_object.train_model(10, 1e-4, save_path)"
   ]
  },
  {
   "cell_type": "code",
   "execution_count": null,
   "metadata": {},
   "outputs": [],
   "source": [
    "lstm_object.test_model(save_path)"
   ]
  },
  {
   "cell_type": "code",
   "execution_count": null,
   "metadata": {},
   "outputs": [],
   "source": []
  }
 ],
 "metadata": {
  "interpreter": {
   "hash": "ed56072c6f91ed32cf61c7f75c4cf4bf0da527d22a01a7641aa726cefce82bd8"
  },
  "kernelspec": {
   "display_name": "Python 3.9.12 ('stock_prediction')",
   "language": "python",
   "name": "python3"
  },
  "language_info": {
   "codemirror_mode": {
    "name": "ipython",
    "version": 3
   },
   "file_extension": ".py",
   "mimetype": "text/x-python",
   "name": "python",
   "nbconvert_exporter": "python",
   "pygments_lexer": "ipython3",
   "version": "3.9.12"
  },
  "orig_nbformat": 4
 },
 "nbformat": 4,
 "nbformat_minor": 2
}
