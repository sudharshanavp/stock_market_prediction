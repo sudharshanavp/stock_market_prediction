{
 "cells": [
  {
   "cell_type": "code",
   "execution_count": 12,
   "metadata": {},
   "outputs": [],
   "source": [
    "import models.lstm_model as lstm\n",
    "import os"
   ]
  },
  {
   "cell_type": "code",
   "execution_count": 13,
   "metadata": {},
   "outputs": [],
   "source": [
    "dataset_path = \"../data/raw/stock/yahoo_finance/\"\n",
    "list_of_stocks = []\n",
    "\n",
    "for root, dirs, files in os.walk(dataset_path):\n",
    "    for file in files:\n",
    "        list_of_stocks.append(os.path.join(root,file))"
   ]
  },
  {
   "cell_type": "code",
   "execution_count": 14,
   "metadata": {},
   "outputs": [
    {
     "name": "stderr",
     "output_type": "stream",
     "text": [
      "/home/turner/miniconda3/envs/stock_prediction/lib/python3.9/site-packages/keras/optimizer_v2/nadam.py:73: UserWarning: The `lr` argument is deprecated, use `learning_rate` instead.\n",
      "  super(Nadam, self).__init__(name, **kwargs)\n"
     ]
    },
    {
     "name": "stdout",
     "output_type": "stream",
     "text": [
      "Epoch 1/100\n",
      "    375/Unknown - 19s 27ms/step - loss: 2.2372e-04 - mae: 0.0140 - accuracy: 8.0000e-04"
     ]
    },
    {
     "name": "stderr",
     "output_type": "stream",
     "text": [
      "2022-06-12 14:24:35.897030: W tensorflow/python/util/util.cc:368] Sets are not currently considered sequences, but this may change in the future, so consider avoiding using them.\n",
      "WARNING:absl:Found untraced functions such as lstm_cell_layer_call_fn, lstm_cell_layer_call_and_return_conditional_losses, lstm_cell_1_layer_call_fn, lstm_cell_1_layer_call_and_return_conditional_losses while saving (showing 4 of 4). These functions will not be directly callable after loading.\n"
     ]
    },
    {
     "name": "stdout",
     "output_type": "stream",
     "text": [
      "INFO:tensorflow:Assets written to: ../models/lstm_models/DRREDDY/assets\n"
     ]
    },
    {
     "name": "stderr",
     "output_type": "stream",
     "text": [
      "INFO:tensorflow:Assets written to: ../models/lstm_models/DRREDDY/assets\n",
      "WARNING:absl:<keras.layers.recurrent.LSTMCell object at 0x7f6e415708b0> has the same name 'LSTMCell' as a built-in Keras object. Consider renaming <class 'keras.layers.recurrent.LSTMCell'> to avoid naming conflicts when loading with `tf.keras.models.load_model`. If renaming is not possible, pass the object in the `custom_objects` parameter of the load function.\n",
      "WARNING:absl:<keras.layers.recurrent.LSTMCell object at 0x7f6e41573550> has the same name 'LSTMCell' as a built-in Keras object. Consider renaming <class 'keras.layers.recurrent.LSTMCell'> to avoid naming conflicts when loading with `tf.keras.models.load_model`. If renaming is not possible, pass the object in the `custom_objects` parameter of the load function.\n"
     ]
    },
    {
     "name": "stdout",
     "output_type": "stream",
     "text": [
      "376/376 [==============================] - 45s 96ms/step - loss: 2.4619e-04 - mae: 0.0143 - accuracy: 7.9787e-04 - val_loss: 0.0031 - val_mae: 0.0597 - val_accuracy: 0.0000e+00\n",
      "Epoch 2/100\n",
      "375/376 [============================>.] - ETA: 0s - loss: 2.1582e-04 - mae: 0.0132 - accuracy: 8.0000e-04"
     ]
    },
    {
     "name": "stderr",
     "output_type": "stream",
     "text": [
      "WARNING:absl:Found untraced functions such as lstm_cell_layer_call_fn, lstm_cell_layer_call_and_return_conditional_losses, lstm_cell_1_layer_call_fn, lstm_cell_1_layer_call_and_return_conditional_losses while saving (showing 4 of 4). These functions will not be directly callable after loading.\n"
     ]
    },
    {
     "name": "stdout",
     "output_type": "stream",
     "text": [
      "INFO:tensorflow:Assets written to: ../models/lstm_models/DRREDDY/assets\n"
     ]
    },
    {
     "name": "stderr",
     "output_type": "stream",
     "text": [
      "INFO:tensorflow:Assets written to: ../models/lstm_models/DRREDDY/assets\n",
      "WARNING:absl:<keras.layers.recurrent.LSTMCell object at 0x7f6e415708b0> has the same name 'LSTMCell' as a built-in Keras object. Consider renaming <class 'keras.layers.recurrent.LSTMCell'> to avoid naming conflicts when loading with `tf.keras.models.load_model`. If renaming is not possible, pass the object in the `custom_objects` parameter of the load function.\n",
      "WARNING:absl:<keras.layers.recurrent.LSTMCell object at 0x7f6e41573550> has the same name 'LSTMCell' as a built-in Keras object. Consider renaming <class 'keras.layers.recurrent.LSTMCell'> to avoid naming conflicts when loading with `tf.keras.models.load_model`. If renaming is not possible, pass the object in the `custom_objects` parameter of the load function.\n"
     ]
    },
    {
     "name": "stdout",
     "output_type": "stream",
     "text": [
      "376/376 [==============================] - 28s 75ms/step - loss: 2.3484e-04 - mae: 0.0135 - accuracy: 7.9787e-04 - val_loss: 0.0026 - val_mae: 0.0538 - val_accuracy: 0.0000e+00\n",
      "Epoch 3/100\n",
      "376/376 [==============================] - ETA: 0s - loss: 1.8862e-04 - mae: 0.0121 - accuracy: 7.9787e-04"
     ]
    },
    {
     "name": "stderr",
     "output_type": "stream",
     "text": [
      "WARNING:absl:Found untraced functions such as lstm_cell_layer_call_fn, lstm_cell_layer_call_and_return_conditional_losses, lstm_cell_1_layer_call_fn, lstm_cell_1_layer_call_and_return_conditional_losses while saving (showing 4 of 4). These functions will not be directly callable after loading.\n"
     ]
    },
    {
     "name": "stdout",
     "output_type": "stream",
     "text": [
      "INFO:tensorflow:Assets written to: ../models/lstm_models/DRREDDY/assets\n"
     ]
    },
    {
     "name": "stderr",
     "output_type": "stream",
     "text": [
      "INFO:tensorflow:Assets written to: ../models/lstm_models/DRREDDY/assets\n",
      "WARNING:absl:<keras.layers.recurrent.LSTMCell object at 0x7f6e415708b0> has the same name 'LSTMCell' as a built-in Keras object. Consider renaming <class 'keras.layers.recurrent.LSTMCell'> to avoid naming conflicts when loading with `tf.keras.models.load_model`. If renaming is not possible, pass the object in the `custom_objects` parameter of the load function.\n",
      "WARNING:absl:<keras.layers.recurrent.LSTMCell object at 0x7f6e41573550> has the same name 'LSTMCell' as a built-in Keras object. Consider renaming <class 'keras.layers.recurrent.LSTMCell'> to avoid naming conflicts when loading with `tf.keras.models.load_model`. If renaming is not possible, pass the object in the `custom_objects` parameter of the load function.\n"
     ]
    },
    {
     "name": "stdout",
     "output_type": "stream",
     "text": [
      "376/376 [==============================] - 16s 43ms/step - loss: 1.8862e-04 - mae: 0.0121 - accuracy: 7.9787e-04 - val_loss: 0.0022 - val_mae: 0.0482 - val_accuracy: 0.0000e+00\n",
      "Epoch 4/100\n",
      "375/376 [============================>.] - ETA: 0s - loss: 1.5077e-04 - mae: 0.0111 - accuracy: 8.0000e-04"
     ]
    },
    {
     "name": "stderr",
     "output_type": "stream",
     "text": [
      "WARNING:absl:Found untraced functions such as lstm_cell_layer_call_fn, lstm_cell_layer_call_and_return_conditional_losses, lstm_cell_1_layer_call_fn, lstm_cell_1_layer_call_and_return_conditional_losses while saving (showing 4 of 4). These functions will not be directly callable after loading.\n"
     ]
    },
    {
     "name": "stdout",
     "output_type": "stream",
     "text": [
      "INFO:tensorflow:Assets written to: ../models/lstm_models/DRREDDY/assets\n"
     ]
    },
    {
     "name": "stderr",
     "output_type": "stream",
     "text": [
      "INFO:tensorflow:Assets written to: ../models/lstm_models/DRREDDY/assets\n",
      "WARNING:absl:<keras.layers.recurrent.LSTMCell object at 0x7f6e415708b0> has the same name 'LSTMCell' as a built-in Keras object. Consider renaming <class 'keras.layers.recurrent.LSTMCell'> to avoid naming conflicts when loading with `tf.keras.models.load_model`. If renaming is not possible, pass the object in the `custom_objects` parameter of the load function.\n",
      "WARNING:absl:<keras.layers.recurrent.LSTMCell object at 0x7f6e41573550> has the same name 'LSTMCell' as a built-in Keras object. Consider renaming <class 'keras.layers.recurrent.LSTMCell'> to avoid naming conflicts when loading with `tf.keras.models.load_model`. If renaming is not possible, pass the object in the `custom_objects` parameter of the load function.\n"
     ]
    },
    {
     "name": "stdout",
     "output_type": "stream",
     "text": [
      "376/376 [==============================] - 16s 43ms/step - loss: 1.6654e-04 - mae: 0.0114 - accuracy: 7.9787e-04 - val_loss: 0.0019 - val_mae: 0.0447 - val_accuracy: 0.0000e+00\n",
      "Epoch 5/100\n",
      "375/376 [============================>.] - ETA: 0s - loss: 1.3880e-04 - mae: 0.0106 - accuracy: 8.0000e-04"
     ]
    },
    {
     "name": "stderr",
     "output_type": "stream",
     "text": [
      "WARNING:absl:Found untraced functions such as lstm_cell_layer_call_fn, lstm_cell_layer_call_and_return_conditional_losses, lstm_cell_1_layer_call_fn, lstm_cell_1_layer_call_and_return_conditional_losses while saving (showing 4 of 4). These functions will not be directly callable after loading.\n"
     ]
    },
    {
     "name": "stdout",
     "output_type": "stream",
     "text": [
      "INFO:tensorflow:Assets written to: ../models/lstm_models/DRREDDY/assets\n"
     ]
    },
    {
     "name": "stderr",
     "output_type": "stream",
     "text": [
      "INFO:tensorflow:Assets written to: ../models/lstm_models/DRREDDY/assets\n",
      "WARNING:absl:<keras.layers.recurrent.LSTMCell object at 0x7f6e415708b0> has the same name 'LSTMCell' as a built-in Keras object. Consider renaming <class 'keras.layers.recurrent.LSTMCell'> to avoid naming conflicts when loading with `tf.keras.models.load_model`. If renaming is not possible, pass the object in the `custom_objects` parameter of the load function.\n",
      "WARNING:absl:<keras.layers.recurrent.LSTMCell object at 0x7f6e41573550> has the same name 'LSTMCell' as a built-in Keras object. Consider renaming <class 'keras.layers.recurrent.LSTMCell'> to avoid naming conflicts when loading with `tf.keras.models.load_model`. If renaming is not possible, pass the object in the `custom_objects` parameter of the load function.\n"
     ]
    },
    {
     "name": "stdout",
     "output_type": "stream",
     "text": [
      "376/376 [==============================] - 17s 44ms/step - loss: 1.5343e-04 - mae: 0.0109 - accuracy: 7.9787e-04 - val_loss: 0.0017 - val_mae: 0.0428 - val_accuracy: 0.0000e+00\n",
      "Epoch 6/100\n",
      "375/376 [============================>.] - ETA: 0s - loss: 1.3064e-04 - mae: 0.0103 - accuracy: 8.0000e-04"
     ]
    },
    {
     "name": "stderr",
     "output_type": "stream",
     "text": [
      "WARNING:absl:Found untraced functions such as lstm_cell_layer_call_fn, lstm_cell_layer_call_and_return_conditional_losses, lstm_cell_1_layer_call_fn, lstm_cell_1_layer_call_and_return_conditional_losses while saving (showing 4 of 4). These functions will not be directly callable after loading.\n"
     ]
    },
    {
     "name": "stdout",
     "output_type": "stream",
     "text": [
      "INFO:tensorflow:Assets written to: ../models/lstm_models/DRREDDY/assets\n"
     ]
    },
    {
     "name": "stderr",
     "output_type": "stream",
     "text": [
      "INFO:tensorflow:Assets written to: ../models/lstm_models/DRREDDY/assets\n",
      "WARNING:absl:<keras.layers.recurrent.LSTMCell object at 0x7f6e415708b0> has the same name 'LSTMCell' as a built-in Keras object. Consider renaming <class 'keras.layers.recurrent.LSTMCell'> to avoid naming conflicts when loading with `tf.keras.models.load_model`. If renaming is not possible, pass the object in the `custom_objects` parameter of the load function.\n",
      "WARNING:absl:<keras.layers.recurrent.LSTMCell object at 0x7f6e41573550> has the same name 'LSTMCell' as a built-in Keras object. Consider renaming <class 'keras.layers.recurrent.LSTMCell'> to avoid naming conflicts when loading with `tf.keras.models.load_model`. If renaming is not possible, pass the object in the `custom_objects` parameter of the load function.\n"
     ]
    },
    {
     "name": "stdout",
     "output_type": "stream",
     "text": [
      "376/376 [==============================] - 17s 46ms/step - loss: 1.4428e-04 - mae: 0.0105 - accuracy: 7.9787e-04 - val_loss: 0.0016 - val_mae: 0.0418 - val_accuracy: 0.0000e+00\n",
      "Epoch 7/100\n",
      "376/376 [==============================] - ETA: 0s - loss: 1.3706e-04 - mae: 0.0103 - accuracy: 7.9787e-04"
     ]
    },
    {
     "name": "stderr",
     "output_type": "stream",
     "text": [
      "WARNING:absl:Found untraced functions such as lstm_cell_layer_call_fn, lstm_cell_layer_call_and_return_conditional_losses, lstm_cell_1_layer_call_fn, lstm_cell_1_layer_call_and_return_conditional_losses while saving (showing 4 of 4). These functions will not be directly callable after loading.\n"
     ]
    },
    {
     "name": "stdout",
     "output_type": "stream",
     "text": [
      "INFO:tensorflow:Assets written to: ../models/lstm_models/DRREDDY/assets\n"
     ]
    },
    {
     "name": "stderr",
     "output_type": "stream",
     "text": [
      "INFO:tensorflow:Assets written to: ../models/lstm_models/DRREDDY/assets\n",
      "WARNING:absl:<keras.layers.recurrent.LSTMCell object at 0x7f6e415708b0> has the same name 'LSTMCell' as a built-in Keras object. Consider renaming <class 'keras.layers.recurrent.LSTMCell'> to avoid naming conflicts when loading with `tf.keras.models.load_model`. If renaming is not possible, pass the object in the `custom_objects` parameter of the load function.\n",
      "WARNING:absl:<keras.layers.recurrent.LSTMCell object at 0x7f6e41573550> has the same name 'LSTMCell' as a built-in Keras object. Consider renaming <class 'keras.layers.recurrent.LSTMCell'> to avoid naming conflicts when loading with `tf.keras.models.load_model`. If renaming is not possible, pass the object in the `custom_objects` parameter of the load function.\n"
     ]
    },
    {
     "name": "stdout",
     "output_type": "stream",
     "text": [
      "376/376 [==============================] - 18s 49ms/step - loss: 1.3706e-04 - mae: 0.0103 - accuracy: 7.9787e-04 - val_loss: 0.0016 - val_mae: 0.0414 - val_accuracy: 0.0000e+00\n",
      "Epoch 8/100\n",
      "376/376 [==============================] - ETA: 0s - loss: 1.3094e-04 - mae: 0.0101 - accuracy: 7.9787e-04"
     ]
    },
    {
     "name": "stderr",
     "output_type": "stream",
     "text": [
      "WARNING:absl:Found untraced functions such as lstm_cell_layer_call_fn, lstm_cell_layer_call_and_return_conditional_losses, lstm_cell_1_layer_call_fn, lstm_cell_1_layer_call_and_return_conditional_losses while saving (showing 4 of 4). These functions will not be directly callable after loading.\n"
     ]
    },
    {
     "name": "stdout",
     "output_type": "stream",
     "text": [
      "INFO:tensorflow:Assets written to: ../models/lstm_models/DRREDDY/assets\n"
     ]
    },
    {
     "name": "stderr",
     "output_type": "stream",
     "text": [
      "INFO:tensorflow:Assets written to: ../models/lstm_models/DRREDDY/assets\n",
      "WARNING:absl:<keras.layers.recurrent.LSTMCell object at 0x7f6e415708b0> has the same name 'LSTMCell' as a built-in Keras object. Consider renaming <class 'keras.layers.recurrent.LSTMCell'> to avoid naming conflicts when loading with `tf.keras.models.load_model`. If renaming is not possible, pass the object in the `custom_objects` parameter of the load function.\n",
      "WARNING:absl:<keras.layers.recurrent.LSTMCell object at 0x7f6e41573550> has the same name 'LSTMCell' as a built-in Keras object. Consider renaming <class 'keras.layers.recurrent.LSTMCell'> to avoid naming conflicts when loading with `tf.keras.models.load_model`. If renaming is not possible, pass the object in the `custom_objects` parameter of the load function.\n"
     ]
    },
    {
     "name": "stdout",
     "output_type": "stream",
     "text": [
      "376/376 [==============================] - 18s 48ms/step - loss: 1.3094e-04 - mae: 0.0101 - accuracy: 7.9787e-04 - val_loss: 0.0015 - val_mae: 0.0412 - val_accuracy: 0.0000e+00\n",
      "Epoch 9/100\n",
      "376/376 [==============================] - ETA: 0s - loss: 1.2552e-04 - mae: 0.0099 - accuracy: 7.9787e-04"
     ]
    },
    {
     "name": "stderr",
     "output_type": "stream",
     "text": [
      "WARNING:absl:Found untraced functions such as lstm_cell_layer_call_fn, lstm_cell_layer_call_and_return_conditional_losses, lstm_cell_1_layer_call_fn, lstm_cell_1_layer_call_and_return_conditional_losses while saving (showing 4 of 4). These functions will not be directly callable after loading.\n"
     ]
    },
    {
     "name": "stdout",
     "output_type": "stream",
     "text": [
      "INFO:tensorflow:Assets written to: ../models/lstm_models/DRREDDY/assets\n"
     ]
    },
    {
     "name": "stderr",
     "output_type": "stream",
     "text": [
      "INFO:tensorflow:Assets written to: ../models/lstm_models/DRREDDY/assets\n",
      "WARNING:absl:<keras.layers.recurrent.LSTMCell object at 0x7f6e415708b0> has the same name 'LSTMCell' as a built-in Keras object. Consider renaming <class 'keras.layers.recurrent.LSTMCell'> to avoid naming conflicts when loading with `tf.keras.models.load_model`. If renaming is not possible, pass the object in the `custom_objects` parameter of the load function.\n",
      "WARNING:absl:<keras.layers.recurrent.LSTMCell object at 0x7f6e41573550> has the same name 'LSTMCell' as a built-in Keras object. Consider renaming <class 'keras.layers.recurrent.LSTMCell'> to avoid naming conflicts when loading with `tf.keras.models.load_model`. If renaming is not possible, pass the object in the `custom_objects` parameter of the load function.\n"
     ]
    },
    {
     "name": "stdout",
     "output_type": "stream",
     "text": [
      "376/376 [==============================] - 17s 44ms/step - loss: 1.2552e-04 - mae: 0.0099 - accuracy: 7.9787e-04 - val_loss: 0.0015 - val_mae: 0.0413 - val_accuracy: 0.0000e+00\n",
      "Epoch 10/100\n",
      "376/376 [==============================] - ETA: 0s - loss: 1.2056e-04 - mae: 0.0097 - accuracy: 7.9787e-04"
     ]
    },
    {
     "name": "stderr",
     "output_type": "stream",
     "text": [
      "WARNING:absl:Found untraced functions such as lstm_cell_layer_call_fn, lstm_cell_layer_call_and_return_conditional_losses, lstm_cell_1_layer_call_fn, lstm_cell_1_layer_call_and_return_conditional_losses while saving (showing 4 of 4). These functions will not be directly callable after loading.\n"
     ]
    },
    {
     "name": "stdout",
     "output_type": "stream",
     "text": [
      "INFO:tensorflow:Assets written to: ../models/lstm_models/DRREDDY/assets\n"
     ]
    },
    {
     "name": "stderr",
     "output_type": "stream",
     "text": [
      "INFO:tensorflow:Assets written to: ../models/lstm_models/DRREDDY/assets\n",
      "WARNING:absl:<keras.layers.recurrent.LSTMCell object at 0x7f6e415708b0> has the same name 'LSTMCell' as a built-in Keras object. Consider renaming <class 'keras.layers.recurrent.LSTMCell'> to avoid naming conflicts when loading with `tf.keras.models.load_model`. If renaming is not possible, pass the object in the `custom_objects` parameter of the load function.\n",
      "WARNING:absl:<keras.layers.recurrent.LSTMCell object at 0x7f6e41573550> has the same name 'LSTMCell' as a built-in Keras object. Consider renaming <class 'keras.layers.recurrent.LSTMCell'> to avoid naming conflicts when loading with `tf.keras.models.load_model`. If renaming is not possible, pass the object in the `custom_objects` parameter of the load function.\n"
     ]
    },
    {
     "name": "stdout",
     "output_type": "stream",
     "text": [
      "376/376 [==============================] - 19s 51ms/step - loss: 1.2056e-04 - mae: 0.0097 - accuracy: 7.9787e-04 - val_loss: 0.0015 - val_mae: 0.0414 - val_accuracy: 0.0000e+00\n",
      "Epoch 11/100\n",
      "375/376 [============================>.] - ETA: 0s - loss: 1.0609e-04 - mae: 0.0093 - accuracy: 8.0000e-04"
     ]
    },
    {
     "name": "stderr",
     "output_type": "stream",
     "text": [
      "WARNING:absl:Found untraced functions such as lstm_cell_layer_call_fn, lstm_cell_layer_call_and_return_conditional_losses, lstm_cell_1_layer_call_fn, lstm_cell_1_layer_call_and_return_conditional_losses while saving (showing 4 of 4). These functions will not be directly callable after loading.\n"
     ]
    },
    {
     "name": "stdout",
     "output_type": "stream",
     "text": [
      "INFO:tensorflow:Assets written to: ../models/lstm_models/DRREDDY/assets\n"
     ]
    },
    {
     "name": "stderr",
     "output_type": "stream",
     "text": [
      "INFO:tensorflow:Assets written to: ../models/lstm_models/DRREDDY/assets\n",
      "WARNING:absl:<keras.layers.recurrent.LSTMCell object at 0x7f6e415708b0> has the same name 'LSTMCell' as a built-in Keras object. Consider renaming <class 'keras.layers.recurrent.LSTMCell'> to avoid naming conflicts when loading with `tf.keras.models.load_model`. If renaming is not possible, pass the object in the `custom_objects` parameter of the load function.\n",
      "WARNING:absl:<keras.layers.recurrent.LSTMCell object at 0x7f6e41573550> has the same name 'LSTMCell' as a built-in Keras object. Consider renaming <class 'keras.layers.recurrent.LSTMCell'> to avoid naming conflicts when loading with `tf.keras.models.load_model`. If renaming is not possible, pass the object in the `custom_objects` parameter of the load function.\n"
     ]
    },
    {
     "name": "stdout",
     "output_type": "stream",
     "text": [
      "376/376 [==============================] - 19s 49ms/step - loss: 1.1595e-04 - mae: 0.0095 - accuracy: 7.9787e-04 - val_loss: 0.0014 - val_mae: 0.0416 - val_accuracy: 0.0000e+00\n",
      "Epoch 12/100\n",
      "376/376 [==============================] - ETA: 0s - loss: 1.1157e-04 - mae: 0.0094 - accuracy: 7.9787e-04"
     ]
    },
    {
     "name": "stderr",
     "output_type": "stream",
     "text": [
      "WARNING:absl:Found untraced functions such as lstm_cell_layer_call_fn, lstm_cell_layer_call_and_return_conditional_losses, lstm_cell_1_layer_call_fn, lstm_cell_1_layer_call_and_return_conditional_losses while saving (showing 4 of 4). These functions will not be directly callable after loading.\n"
     ]
    },
    {
     "name": "stdout",
     "output_type": "stream",
     "text": [
      "INFO:tensorflow:Assets written to: ../models/lstm_models/DRREDDY/assets\n"
     ]
    },
    {
     "name": "stderr",
     "output_type": "stream",
     "text": [
      "INFO:tensorflow:Assets written to: ../models/lstm_models/DRREDDY/assets\n",
      "WARNING:absl:<keras.layers.recurrent.LSTMCell object at 0x7f6e415708b0> has the same name 'LSTMCell' as a built-in Keras object. Consider renaming <class 'keras.layers.recurrent.LSTMCell'> to avoid naming conflicts when loading with `tf.keras.models.load_model`. If renaming is not possible, pass the object in the `custom_objects` parameter of the load function.\n",
      "WARNING:absl:<keras.layers.recurrent.LSTMCell object at 0x7f6e41573550> has the same name 'LSTMCell' as a built-in Keras object. Consider renaming <class 'keras.layers.recurrent.LSTMCell'> to avoid naming conflicts when loading with `tf.keras.models.load_model`. If renaming is not possible, pass the object in the `custom_objects` parameter of the load function.\n"
     ]
    },
    {
     "name": "stdout",
     "output_type": "stream",
     "text": [
      "376/376 [==============================] - 17s 45ms/step - loss: 1.1157e-04 - mae: 0.0094 - accuracy: 7.9787e-04 - val_loss: 0.0014 - val_mae: 0.0418 - val_accuracy: 0.0000e+00\n",
      "Epoch 13/100\n",
      "375/376 [============================>.] - ETA: 0s - loss: 9.8779e-05 - mae: 0.0090 - accuracy: 8.0000e-04"
     ]
    },
    {
     "name": "stderr",
     "output_type": "stream",
     "text": [
      "WARNING:absl:Found untraced functions such as lstm_cell_layer_call_fn, lstm_cell_layer_call_and_return_conditional_losses, lstm_cell_1_layer_call_fn, lstm_cell_1_layer_call_and_return_conditional_losses while saving (showing 4 of 4). These functions will not be directly callable after loading.\n"
     ]
    },
    {
     "name": "stdout",
     "output_type": "stream",
     "text": [
      "INFO:tensorflow:Assets written to: ../models/lstm_models/DRREDDY/assets\n"
     ]
    },
    {
     "name": "stderr",
     "output_type": "stream",
     "text": [
      "INFO:tensorflow:Assets written to: ../models/lstm_models/DRREDDY/assets\n",
      "WARNING:absl:<keras.layers.recurrent.LSTMCell object at 0x7f6e415708b0> has the same name 'LSTMCell' as a built-in Keras object. Consider renaming <class 'keras.layers.recurrent.LSTMCell'> to avoid naming conflicts when loading with `tf.keras.models.load_model`. If renaming is not possible, pass the object in the `custom_objects` parameter of the load function.\n",
      "WARNING:absl:<keras.layers.recurrent.LSTMCell object at 0x7f6e41573550> has the same name 'LSTMCell' as a built-in Keras object. Consider renaming <class 'keras.layers.recurrent.LSTMCell'> to avoid naming conflicts when loading with `tf.keras.models.load_model`. If renaming is not possible, pass the object in the `custom_objects` parameter of the load function.\n"
     ]
    },
    {
     "name": "stdout",
     "output_type": "stream",
     "text": [
      "376/376 [==============================] - 17s 44ms/step - loss: 1.0738e-04 - mae: 0.0092 - accuracy: 7.9787e-04 - val_loss: 0.0014 - val_mae: 0.0420 - val_accuracy: 0.0000e+00\n",
      "Epoch 14/100\n",
      "376/376 [==============================] - ETA: 0s - loss: 1.0332e-04 - mae: 0.0090 - accuracy: 7.9787e-04"
     ]
    },
    {
     "name": "stderr",
     "output_type": "stream",
     "text": [
      "WARNING:absl:Found untraced functions such as lstm_cell_layer_call_fn, lstm_cell_layer_call_and_return_conditional_losses, lstm_cell_1_layer_call_fn, lstm_cell_1_layer_call_and_return_conditional_losses while saving (showing 4 of 4). These functions will not be directly callable after loading.\n"
     ]
    },
    {
     "name": "stdout",
     "output_type": "stream",
     "text": [
      "INFO:tensorflow:Assets written to: ../models/lstm_models/DRREDDY/assets\n"
     ]
    },
    {
     "name": "stderr",
     "output_type": "stream",
     "text": [
      "INFO:tensorflow:Assets written to: ../models/lstm_models/DRREDDY/assets\n",
      "WARNING:absl:<keras.layers.recurrent.LSTMCell object at 0x7f6e415708b0> has the same name 'LSTMCell' as a built-in Keras object. Consider renaming <class 'keras.layers.recurrent.LSTMCell'> to avoid naming conflicts when loading with `tf.keras.models.load_model`. If renaming is not possible, pass the object in the `custom_objects` parameter of the load function.\n",
      "WARNING:absl:<keras.layers.recurrent.LSTMCell object at 0x7f6e41573550> has the same name 'LSTMCell' as a built-in Keras object. Consider renaming <class 'keras.layers.recurrent.LSTMCell'> to avoid naming conflicts when loading with `tf.keras.models.load_model`. If renaming is not possible, pass the object in the `custom_objects` parameter of the load function.\n"
     ]
    },
    {
     "name": "stdout",
     "output_type": "stream",
     "text": [
      "376/376 [==============================] - 17s 45ms/step - loss: 1.0332e-04 - mae: 0.0090 - accuracy: 7.9787e-04 - val_loss: 0.0014 - val_mae: 0.0422 - val_accuracy: 0.0000e+00\n",
      "Epoch 15/100\n",
      "376/376 [==============================] - 10s 28ms/step - loss: 9.9381e-05 - mae: 0.0089 - accuracy: 7.9787e-04 - val_loss: 0.0014 - val_mae: 0.0424 - val_accuracy: 0.0000e+00\n",
      "Epoch 16/100\n",
      "376/376 [==============================] - 12s 31ms/step - loss: 9.5555e-05 - mae: 0.0088 - accuracy: 7.9787e-04 - val_loss: 0.0014 - val_mae: 0.0427 - val_accuracy: 0.0000e+00\n",
      "Epoch 17/100\n",
      "376/376 [==============================] - 13s 34ms/step - loss: 9.1857e-05 - mae: 0.0086 - accuracy: 7.9787e-04 - val_loss: 0.0014 - val_mae: 0.0430 - val_accuracy: 0.0000e+00\n",
      "Epoch 18/100\n",
      "376/376 [==============================] - 12s 32ms/step - loss: 8.8310e-05 - mae: 0.0085 - accuracy: 7.9787e-04 - val_loss: 0.0015 - val_mae: 0.0433 - val_accuracy: 0.0000e+00\n",
      "Epoch 19/100\n",
      "376/376 [==============================] - 12s 33ms/step - loss: 8.4966e-05 - mae: 0.0084 - accuracy: 7.9787e-04 - val_loss: 0.0015 - val_mae: 0.0438 - val_accuracy: 0.0000e+00\n",
      "Epoch 20/100\n",
      "376/376 [==============================] - 12s 33ms/step - loss: 8.1881e-05 - mae: 0.0083 - accuracy: 7.9787e-04 - val_loss: 0.0015 - val_mae: 0.0443 - val_accuracy: 0.0000e+00\n",
      "Epoch 21/100\n",
      "376/376 [==============================] - 14s 37ms/step - loss: 7.9108e-05 - mae: 0.0082 - accuracy: 7.9787e-04 - val_loss: 0.0015 - val_mae: 0.0449 - val_accuracy: 0.0000e+00\n",
      "Epoch 22/100\n",
      "376/376 [==============================] - 12s 31ms/step - loss: 7.6696e-05 - mae: 0.0081 - accuracy: 7.9787e-04 - val_loss: 0.0016 - val_mae: 0.0457 - val_accuracy: 0.0000e+00\n",
      "Epoch 23/100\n",
      "376/376 [==============================] - 11s 28ms/step - loss: 7.4672e-05 - mae: 0.0080 - accuracy: 7.9787e-04 - val_loss: 0.0016 - val_mae: 0.0465 - val_accuracy: 0.0000e+00\n",
      "Epoch 24/100\n",
      "376/376 [==============================] - 11s 28ms/step - loss: 7.3033e-05 - mae: 0.0080 - accuracy: 7.9787e-04 - val_loss: 0.0016 - val_mae: 0.0472 - val_accuracy: 0.0000e+00\n",
      "Epoch 25/100\n",
      "376/376 [==============================] - 11s 28ms/step - loss: 7.1731e-05 - mae: 0.0080 - accuracy: 7.9787e-04 - val_loss: 0.0017 - val_mae: 0.0480 - val_accuracy: 0.0000e+00\n",
      "Epoch 26/100\n",
      "376/376 [==============================] - 11s 28ms/step - loss: 7.0681e-05 - mae: 0.0079 - accuracy: 7.9787e-04 - val_loss: 0.0017 - val_mae: 0.0487 - val_accuracy: 0.0000e+00\n",
      "Epoch 27/100\n",
      "376/376 [==============================] - 11s 29ms/step - loss: 6.9776e-05 - mae: 0.0079 - accuracy: 7.9787e-04 - val_loss: 0.0017 - val_mae: 0.0492 - val_accuracy: 0.0000e+00\n",
      "Epoch 28/100\n",
      "376/376 [==============================] - 11s 28ms/step - loss: 6.8914e-05 - mae: 0.0079 - accuracy: 7.9787e-04 - val_loss: 0.0018 - val_mae: 0.0496 - val_accuracy: 0.0000e+00\n",
      "Epoch 29/100\n",
      "376/376 [==============================] - 11s 28ms/step - loss: 6.8020e-05 - mae: 0.0078 - accuracy: 7.9787e-04 - val_loss: 0.0018 - val_mae: 0.0499 - val_accuracy: 0.0000e+00\n",
      "Epoch 30/100\n",
      "376/376 [==============================] - 11s 28ms/step - loss: 6.7050e-05 - mae: 0.0078 - accuracy: 7.9787e-04 - val_loss: 0.0018 - val_mae: 0.0500 - val_accuracy: 0.0000e+00\n",
      "Epoch 31/100\n",
      "376/376 [==============================] - 11s 28ms/step - loss: 6.5993e-05 - mae: 0.0077 - accuracy: 7.9787e-04 - val_loss: 0.0018 - val_mae: 0.0501 - val_accuracy: 0.0000e+00\n",
      "Epoch 32/100\n",
      "376/376 [==============================] - 11s 28ms/step - loss: 6.4862e-05 - mae: 0.0077 - accuracy: 7.9787e-04 - val_loss: 0.0018 - val_mae: 0.0501 - val_accuracy: 0.0000e+00\n",
      "Epoch 33/100\n",
      "376/376 [==============================] - 11s 30ms/step - loss: 6.3681e-05 - mae: 0.0076 - accuracy: 7.9787e-04 - val_loss: 0.0018 - val_mae: 0.0502 - val_accuracy: 0.0000e+00\n",
      "Epoch 34/100\n",
      "376/376 [==============================] - 11s 30ms/step - loss: 6.2483e-05 - mae: 0.0076 - accuracy: 7.9787e-04 - val_loss: 0.0018 - val_mae: 0.0504 - val_accuracy: 0.0000e+00\n",
      "Epoch 35/100\n",
      "376/376 [==============================] - 11s 30ms/step - loss: 6.1296e-05 - mae: 0.0075 - accuracy: 7.9787e-04 - val_loss: 0.0018 - val_mae: 0.0507 - val_accuracy: 0.0000e+00\n",
      "Epoch 36/100\n",
      "376/376 [==============================] - 11s 30ms/step - loss: 6.0142e-05 - mae: 0.0074 - accuracy: 7.9787e-04 - val_loss: 0.0019 - val_mae: 0.0512 - val_accuracy: 0.0000e+00\n",
      "Epoch 37/100\n",
      "376/376 [==============================] - 11s 29ms/step - loss: 5.9036e-05 - mae: 0.0074 - accuracy: 7.9787e-04 - val_loss: 0.0019 - val_mae: 0.0518 - val_accuracy: 0.0000e+00\n",
      "Epoch 38/100\n",
      "376/376 [==============================] - 10s 27ms/step - loss: 5.7991e-05 - mae: 0.0073 - accuracy: 7.9787e-04 - val_loss: 0.0020 - val_mae: 0.0527 - val_accuracy: 0.0000e+00\n",
      "Epoch 39/100\n",
      "376/376 [==============================] - 11s 30ms/step - loss: 5.7015e-05 - mae: 0.0073 - accuracy: 7.9787e-04 - val_loss: 0.0021 - val_mae: 0.0538 - val_accuracy: 0.0000e+00\n",
      "Epoch 40/100\n",
      "376/376 [==============================] - 11s 29ms/step - loss: 5.6117e-05 - mae: 0.0072 - accuracy: 7.9787e-04 - val_loss: 0.0022 - val_mae: 0.0552 - val_accuracy: 0.0000e+00\n",
      "Epoch 41/100\n",
      "376/376 [==============================] - 11s 29ms/step - loss: 5.5309e-05 - mae: 0.0072 - accuracy: 7.9787e-04 - val_loss: 0.0023 - val_mae: 0.0569 - val_accuracy: 0.0000e+00\n",
      "Epoch 42/100\n",
      "376/376 [==============================] - 11s 28ms/step - loss: 5.4605e-05 - mae: 0.0072 - accuracy: 7.9787e-04 - val_loss: 0.0025 - val_mae: 0.0589 - val_accuracy: 0.0000e+00\n",
      "Epoch 43/100\n",
      "376/376 [==============================] - 11s 29ms/step - loss: 5.4026e-05 - mae: 0.0071 - accuracy: 7.9787e-04 - val_loss: 0.0028 - val_mae: 0.0614 - val_accuracy: 0.0000e+00\n",
      "Epoch 44/100\n",
      "376/376 [==============================] - 11s 28ms/step - loss: 5.3588e-05 - mae: 0.0071 - accuracy: 7.9787e-04 - val_loss: 0.0031 - val_mae: 0.0642 - val_accuracy: 0.0000e+00\n",
      "Epoch 45/100\n",
      "376/376 [==============================] - 11s 28ms/step - loss: 5.3287e-05 - mae: 0.0071 - accuracy: 7.9787e-04 - val_loss: 0.0034 - val_mae: 0.0675 - val_accuracy: 0.0000e+00\n",
      "Epoch 46/100\n",
      "376/376 [==============================] - 11s 28ms/step - loss: 5.3078e-05 - mae: 0.0071 - accuracy: 7.9787e-04 - val_loss: 0.0039 - val_mae: 0.0716 - val_accuracy: 0.0000e+00\n",
      "Epoch 47/100\n",
      "376/376 [==============================] - 11s 28ms/step - loss: 5.2904e-05 - mae: 0.0071 - accuracy: 7.9787e-04 - val_loss: 0.0045 - val_mae: 0.0771 - val_accuracy: 0.0000e+00\n",
      "Epoch 48/100\n",
      "376/376 [==============================] - 11s 28ms/step - loss: 5.2797e-05 - mae: 0.0070 - accuracy: 7.9787e-04 - val_loss: 0.0055 - val_mae: 0.0861 - val_accuracy: 0.0000e+00\n",
      "Epoch 49/100\n",
      "376/376 [==============================] - 11s 28ms/step - loss: 5.2797e-05 - mae: 0.0070 - accuracy: 7.9787e-04 - val_loss: 0.0075 - val_mae: 0.1022 - val_accuracy: 0.0000e+00\n",
      "Epoch 50/100\n",
      "376/376 [==============================] - 11s 29ms/step - loss: 5.2183e-05 - mae: 0.0069 - accuracy: 7.9787e-04 - val_loss: 0.0115 - val_mae: 0.1253 - val_accuracy: 0.0000e+00\n",
      "Epoch 51/100\n",
      "376/376 [==============================] - 13s 34ms/step - loss: 5.0027e-05 - mae: 0.0066 - accuracy: 7.9787e-04 - val_loss: 0.0159 - val_mae: 0.1495 - val_accuracy: 0.0000e+00\n",
      "Epoch 52/100\n",
      "376/376 [==============================] - 12s 31ms/step - loss: 5.1756e-05 - mae: 0.0068 - accuracy: 7.9787e-04 - val_loss: 0.0248 - val_mae: 0.1696 - val_accuracy: 0.0000e+00\n",
      "Epoch 53/100\n",
      "376/376 [==============================] - 11s 28ms/step - loss: 4.2848e-05 - mae: 0.0058 - accuracy: 7.9787e-04 - val_loss: 0.0115 - val_mae: 0.1376 - val_accuracy: 0.0000e+00\n",
      "Epoch 54/100\n",
      "376/376 [==============================] - ETA: 0s - loss: 6.9764e-05 - mae: 0.0081 - accuracy: 7.9787e-04"
     ]
    },
    {
     "name": "stderr",
     "output_type": "stream",
     "text": [
      "WARNING:absl:Found untraced functions such as lstm_cell_layer_call_fn, lstm_cell_layer_call_and_return_conditional_losses, lstm_cell_1_layer_call_fn, lstm_cell_1_layer_call_and_return_conditional_losses while saving (showing 4 of 4). These functions will not be directly callable after loading.\n"
     ]
    },
    {
     "name": "stdout",
     "output_type": "stream",
     "text": [
      "INFO:tensorflow:Assets written to: ../models/lstm_models/DRREDDY/assets\n"
     ]
    },
    {
     "name": "stderr",
     "output_type": "stream",
     "text": [
      "INFO:tensorflow:Assets written to: ../models/lstm_models/DRREDDY/assets\n",
      "WARNING:absl:<keras.layers.recurrent.LSTMCell object at 0x7f6e415708b0> has the same name 'LSTMCell' as a built-in Keras object. Consider renaming <class 'keras.layers.recurrent.LSTMCell'> to avoid naming conflicts when loading with `tf.keras.models.load_model`. If renaming is not possible, pass the object in the `custom_objects` parameter of the load function.\n",
      "WARNING:absl:<keras.layers.recurrent.LSTMCell object at 0x7f6e41573550> has the same name 'LSTMCell' as a built-in Keras object. Consider renaming <class 'keras.layers.recurrent.LSTMCell'> to avoid naming conflicts when loading with `tf.keras.models.load_model`. If renaming is not possible, pass the object in the `custom_objects` parameter of the load function.\n"
     ]
    },
    {
     "name": "stdout",
     "output_type": "stream",
     "text": [
      "376/376 [==============================] - 21s 57ms/step - loss: 6.9764e-05 - mae: 0.0081 - accuracy: 7.9787e-04 - val_loss: 0.0011 - val_mae: 0.0431 - val_accuracy: 0.0000e+00\n",
      "Epoch 55/100\n",
      "375/376 [============================>.] - ETA: 0s - loss: 6.3355e-05 - mae: 0.0080 - accuracy: 8.0000e-04"
     ]
    },
    {
     "name": "stderr",
     "output_type": "stream",
     "text": [
      "WARNING:absl:Found untraced functions such as lstm_cell_layer_call_fn, lstm_cell_layer_call_and_return_conditional_losses, lstm_cell_1_layer_call_fn, lstm_cell_1_layer_call_and_return_conditional_losses while saving (showing 4 of 4). These functions will not be directly callable after loading.\n"
     ]
    },
    {
     "name": "stdout",
     "output_type": "stream",
     "text": [
      "INFO:tensorflow:Assets written to: ../models/lstm_models/DRREDDY/assets\n"
     ]
    },
    {
     "name": "stderr",
     "output_type": "stream",
     "text": [
      "INFO:tensorflow:Assets written to: ../models/lstm_models/DRREDDY/assets\n",
      "WARNING:absl:<keras.layers.recurrent.LSTMCell object at 0x7f6e415708b0> has the same name 'LSTMCell' as a built-in Keras object. Consider renaming <class 'keras.layers.recurrent.LSTMCell'> to avoid naming conflicts when loading with `tf.keras.models.load_model`. If renaming is not possible, pass the object in the `custom_objects` parameter of the load function.\n",
      "WARNING:absl:<keras.layers.recurrent.LSTMCell object at 0x7f6e41573550> has the same name 'LSTMCell' as a built-in Keras object. Consider renaming <class 'keras.layers.recurrent.LSTMCell'> to avoid naming conflicts when loading with `tf.keras.models.load_model`. If renaming is not possible, pass the object in the `custom_objects` parameter of the load function.\n"
     ]
    },
    {
     "name": "stdout",
     "output_type": "stream",
     "text": [
      "376/376 [==============================] - 17s 45ms/step - loss: 6.5887e-05 - mae: 0.0081 - accuracy: 7.9787e-04 - val_loss: 3.4902e-04 - val_mae: 0.0189 - val_accuracy: 0.0000e+00\n",
      "Epoch 56/100\n",
      "376/376 [==============================] - 10s 28ms/step - loss: 7.9172e-05 - mae: 0.0085 - accuracy: 7.9787e-04 - val_loss: 4.0464e-04 - val_mae: 0.0208 - val_accuracy: 0.0000e+00\n",
      "Epoch 57/100\n",
      "376/376 [==============================] - 10s 27ms/step - loss: 6.4203e-05 - mae: 0.0074 - accuracy: 7.9787e-04 - val_loss: 5.0308e-04 - val_mae: 0.0238 - val_accuracy: 0.0000e+00\n",
      "Epoch 58/100\n",
      "376/376 [==============================] - 10s 28ms/step - loss: 5.2507e-05 - mae: 0.0065 - accuracy: 7.9787e-04 - val_loss: 6.6680e-04 - val_mae: 0.0283 - val_accuracy: 0.0000e+00\n",
      "Epoch 59/100\n",
      "376/376 [==============================] - 10s 27ms/step - loss: 4.6128e-05 - mae: 0.0060 - accuracy: 7.9787e-04 - val_loss: 8.7211e-04 - val_mae: 0.0331 - val_accuracy: 0.0000e+00\n",
      "Epoch 60/100\n",
      "376/376 [==============================] - 10s 28ms/step - loss: 4.2577e-05 - mae: 0.0057 - accuracy: 7.9787e-04 - val_loss: 0.0011 - val_mae: 0.0377 - val_accuracy: 0.0000e+00\n",
      "Epoch 61/100\n",
      "376/376 [==============================] - 10s 28ms/step - loss: 4.0545e-05 - mae: 0.0056 - accuracy: 7.9787e-04 - val_loss: 0.0013 - val_mae: 0.0418 - val_accuracy: 0.0000e+00\n",
      "Epoch 62/100\n",
      "376/376 [==============================] - 10s 28ms/step - loss: 3.9484e-05 - mae: 0.0056 - accuracy: 7.9787e-04 - val_loss: 0.0015 - val_mae: 0.0454 - val_accuracy: 0.0000e+00\n",
      "Epoch 63/100\n",
      "376/376 [==============================] - 10s 27ms/step - loss: 3.8964e-05 - mae: 0.0056 - accuracy: 7.9787e-04 - val_loss: 0.0017 - val_mae: 0.0483 - val_accuracy: 0.0000e+00\n",
      "Epoch 64/100\n",
      "376/376 [==============================] - 10s 28ms/step - loss: 3.8735e-05 - mae: 0.0057 - accuracy: 7.9787e-04 - val_loss: 0.0019 - val_mae: 0.0508 - val_accuracy: 0.0000e+00\n",
      "Epoch 65/100\n",
      "376/376 [==============================] - 10s 27ms/step - loss: 3.8663e-05 - mae: 0.0057 - accuracy: 7.9787e-04 - val_loss: 0.0020 - val_mae: 0.0528 - val_accuracy: 0.0000e+00\n",
      "Epoch 66/100\n",
      "376/376 [==============================] - 10s 28ms/step - loss: 3.8654e-05 - mae: 0.0057 - accuracy: 7.9787e-04 - val_loss: 0.0021 - val_mae: 0.0543 - val_accuracy: 0.0000e+00\n",
      "Epoch 67/100\n",
      "376/376 [==============================] - 10s 27ms/step - loss: 3.8640e-05 - mae: 0.0057 - accuracy: 7.9787e-04 - val_loss: 0.0022 - val_mae: 0.0554 - val_accuracy: 0.0000e+00\n",
      "Epoch 68/100\n",
      "376/376 [==============================] - 11s 28ms/step - loss: 3.8612e-05 - mae: 0.0057 - accuracy: 7.9787e-04 - val_loss: 0.0023 - val_mae: 0.0563 - val_accuracy: 0.0000e+00\n",
      "Epoch 69/100\n",
      "376/376 [==============================] - 10s 28ms/step - loss: 3.8582e-05 - mae: 0.0057 - accuracy: 7.9787e-04 - val_loss: 0.0024 - val_mae: 0.0571 - val_accuracy: 0.0000e+00\n",
      "Epoch 70/100\n",
      "376/376 [==============================] - 11s 28ms/step - loss: 3.8553e-05 - mae: 0.0057 - accuracy: 7.9787e-04 - val_loss: 0.0025 - val_mae: 0.0579 - val_accuracy: 0.0000e+00\n",
      "Epoch 71/100\n",
      "376/376 [==============================] - 11s 30ms/step - loss: 3.8536e-05 - mae: 0.0057 - accuracy: 7.9787e-04 - val_loss: 0.0027 - val_mae: 0.0590 - val_accuracy: 0.0000e+00\n",
      "Epoch 72/100\n",
      "376/376 [==============================] - 11s 30ms/step - loss: 3.8528e-05 - mae: 0.0057 - accuracy: 7.9787e-04 - val_loss: 0.0029 - val_mae: 0.0604 - val_accuracy: 0.0000e+00\n",
      "Epoch 73/100\n",
      "376/376 [==============================] - 11s 29ms/step - loss: 3.8534e-05 - mae: 0.0057 - accuracy: 7.9787e-04 - val_loss: 0.0032 - val_mae: 0.0622 - val_accuracy: 0.0000e+00\n",
      "Epoch 74/100\n",
      "376/376 [==============================] - 12s 32ms/step - loss: 3.8532e-05 - mae: 0.0057 - accuracy: 7.9787e-04 - val_loss: 0.0035 - val_mae: 0.0644 - val_accuracy: 0.0000e+00\n",
      "Epoch 75/100\n",
      "376/376 [==============================] - 11s 30ms/step - loss: 3.8537e-05 - mae: 0.0057 - accuracy: 7.9787e-04 - val_loss: 0.0039 - val_mae: 0.0671 - val_accuracy: 0.0000e+00\n",
      "Epoch 76/100\n",
      "376/376 [==============================] - 11s 29ms/step - loss: 3.8497e-05 - mae: 0.0057 - accuracy: 7.9787e-04 - val_loss: 0.0045 - val_mae: 0.0704 - val_accuracy: 0.0000e+00\n",
      "Epoch 77/100\n",
      "376/376 [==============================] - 11s 28ms/step - loss: 3.8476e-05 - mae: 0.0057 - accuracy: 7.9787e-04 - val_loss: 0.0051 - val_mae: 0.0737 - val_accuracy: 0.0000e+00\n",
      "Epoch 78/100\n",
      "376/376 [==============================] - 11s 29ms/step - loss: 3.8353e-05 - mae: 0.0057 - accuracy: 7.9787e-04 - val_loss: 0.0059 - val_mae: 0.0779 - val_accuracy: 0.0000e+00\n",
      "Epoch 79/100\n",
      "376/376 [==============================] - 10s 28ms/step - loss: 3.8314e-05 - mae: 0.0057 - accuracy: 7.9787e-04 - val_loss: 0.0066 - val_mae: 0.0812 - val_accuracy: 0.0000e+00\n",
      "Epoch 80/100\n",
      "376/376 [==============================] - 11s 30ms/step - loss: 3.8083e-05 - mae: 0.0057 - accuracy: 7.9787e-04 - val_loss: 0.0076 - val_mae: 0.0854 - val_accuracy: 0.0000e+00\n",
      "Epoch 81/100\n",
      "376/376 [==============================] - 11s 29ms/step - loss: 3.8041e-05 - mae: 0.0057 - accuracy: 7.9787e-04 - val_loss: 0.0083 - val_mae: 0.0874 - val_accuracy: 0.0000e+00\n",
      "Epoch 82/100\n",
      "376/376 [==============================] - 10s 28ms/step - loss: 3.7686e-05 - mae: 0.0056 - accuracy: 7.9787e-04 - val_loss: 0.0091 - val_mae: 0.0909 - val_accuracy: 0.0000e+00\n",
      "Epoch 83/100\n",
      "376/376 [==============================] - 10s 28ms/step - loss: 3.7656e-05 - mae: 0.0056 - accuracy: 7.9787e-04 - val_loss: 0.0094 - val_mae: 0.0906 - val_accuracy: 0.0000e+00\n",
      "Epoch 84/100\n",
      "376/376 [==============================] - 11s 28ms/step - loss: 3.7214e-05 - mae: 0.0056 - accuracy: 7.9787e-04 - val_loss: 0.0098 - val_mae: 0.0930 - val_accuracy: 0.0000e+00\n",
      "Epoch 85/100\n",
      "376/376 [==============================] - 13s 35ms/step - loss: 3.7265e-05 - mae: 0.0056 - accuracy: 7.9787e-04 - val_loss: 0.0094 - val_mae: 0.0898 - val_accuracy: 0.0000e+00\n",
      "Epoch 86/100\n",
      "376/376 [==============================] - 13s 35ms/step - loss: 3.6793e-05 - mae: 0.0055 - accuracy: 7.9787e-04 - val_loss: 0.0092 - val_mae: 0.0912 - val_accuracy: 0.0000e+00\n",
      "Epoch 87/100\n",
      "376/376 [==============================] - 13s 34ms/step - loss: 3.6972e-05 - mae: 0.0055 - accuracy: 7.9787e-04 - val_loss: 0.0079 - val_mae: 0.0851 - val_accuracy: 0.0000e+00\n",
      "Epoch 88/100\n",
      "376/376 [==============================] - 11s 30ms/step - loss: 3.6500e-05 - mae: 0.0055 - accuracy: 7.9787e-04 - val_loss: 0.0072 - val_mae: 0.0872 - val_accuracy: 0.0000e+00\n",
      "Epoch 89/100\n",
      "376/376 [==============================] - 11s 29ms/step - loss: 3.6806e-05 - mae: 0.0055 - accuracy: 7.9787e-04 - val_loss: 0.0054 - val_mae: 0.0797 - val_accuracy: 0.0000e+00\n",
      "Epoch 90/100\n",
      "376/376 [==============================] - 10s 28ms/step - loss: 3.6330e-05 - mae: 0.0055 - accuracy: 7.9787e-04 - val_loss: 0.0049 - val_mae: 0.0849 - val_accuracy: 0.0000e+00\n",
      "Epoch 91/100\n",
      "376/376 [==============================] - 11s 28ms/step - loss: 3.6706e-05 - mae: 0.0055 - accuracy: 7.9787e-04 - val_loss: 0.0035 - val_mae: 0.0764 - val_accuracy: 0.0000e+00\n",
      "Epoch 92/100\n",
      "376/376 [==============================] - 11s 29ms/step - loss: 3.6183e-05 - mae: 0.0054 - accuracy: 7.9787e-04 - val_loss: 0.0048 - val_mae: 0.0916 - val_accuracy: 0.0000e+00\n",
      "Epoch 93/100\n",
      "376/376 [==============================] - 11s 29ms/step - loss: 3.6759e-05 - mae: 0.0055 - accuracy: 7.9787e-04 - val_loss: 0.0042 - val_mae: 0.0815 - val_accuracy: 0.0000e+00\n",
      "Epoch 94/100\n",
      "376/376 [==============================] - 11s 28ms/step - loss: 3.6131e-05 - mae: 0.0054 - accuracy: 7.9787e-04 - val_loss: 0.0130 - val_mae: 0.1488 - val_accuracy: 0.0000e+00\n",
      "Epoch 95/100\n",
      "376/376 [==============================] - 11s 29ms/step - loss: 3.8366e-05 - mae: 0.0057 - accuracy: 7.9787e-04 - val_loss: 0.0025 - val_mae: 0.0554 - val_accuracy: 0.0000e+00\n",
      "Epoch 96/100\n",
      "376/376 [==============================] - 11s 30ms/step - loss: 3.6764e-05 - mae: 0.0055 - accuracy: 7.9787e-04 - val_loss: 0.0309 - val_mae: 0.2259 - val_accuracy: 0.0000e+00\n",
      "Epoch 97/100\n",
      "376/376 [==============================] - 12s 33ms/step - loss: 4.7792e-05 - mae: 0.0064 - accuracy: 7.9787e-04 - val_loss: 0.0012 - val_mae: 0.0422 - val_accuracy: 0.0000e+00\n",
      "Epoch 98/100\n",
      "376/376 [==============================] - 11s 30ms/step - loss: 5.1991e-05 - mae: 0.0071 - accuracy: 7.9787e-04 - val_loss: 7.7444e-04 - val_mae: 0.0319 - val_accuracy: 0.0000e+00\n",
      "Epoch 99/100\n",
      "376/376 [==============================] - 12s 33ms/step - loss: 7.0653e-05 - mae: 0.0067 - accuracy: 7.9787e-04 - val_loss: 0.0027 - val_mae: 0.0548 - val_accuracy: 0.0000e+00\n",
      "Epoch 100/100\n",
      "376/376 [==============================] - 11s 28ms/step - loss: 3.3303e-05 - mae: 0.0053 - accuracy: 7.9787e-04 - val_loss: 0.0014 - val_mae: 0.0338 - val_accuracy: 0.0000e+00\n",
      "1/1 [==============================] - 1s 985ms/step - loss: 6.6635e-05 - mae: 0.0016 - accuracy: 0.0000e+00\n",
      "Epoch 1/100\n"
     ]
    },
    {
     "name": "stderr",
     "output_type": "stream",
     "text": [
      "/home/turner/miniconda3/envs/stock_prediction/lib/python3.9/site-packages/keras/optimizer_v2/nadam.py:73: UserWarning: The `lr` argument is deprecated, use `learning_rate` instead.\n",
      "  super(Nadam, self).__init__(name, **kwargs)\n"
     ]
    },
    {
     "name": "stdout",
     "output_type": "stream",
     "text": [
      "    376/Unknown - 15s 27ms/step - loss: 2.6257e-04 - mae: 0.0142 - accuracy: 2.6596e-04"
     ]
    },
    {
     "name": "stderr",
     "output_type": "stream",
     "text": [
      "WARNING:absl:Found untraced functions such as lstm_cell_layer_call_fn, lstm_cell_layer_call_and_return_conditional_losses, lstm_cell_1_layer_call_fn, lstm_cell_1_layer_call_and_return_conditional_losses while saving (showing 4 of 4). These functions will not be directly callable after loading.\n"
     ]
    },
    {
     "name": "stdout",
     "output_type": "stream",
     "text": [
      "INFO:tensorflow:Assets written to: ../models/lstm_models/AXISBANK/assets\n"
     ]
    },
    {
     "name": "stderr",
     "output_type": "stream",
     "text": [
      "INFO:tensorflow:Assets written to: ../models/lstm_models/AXISBANK/assets\n",
      "WARNING:absl:<keras.layers.recurrent.LSTMCell object at 0x7f6e28171670> has the same name 'LSTMCell' as a built-in Keras object. Consider renaming <class 'keras.layers.recurrent.LSTMCell'> to avoid naming conflicts when loading with `tf.keras.models.load_model`. If renaming is not possible, pass the object in the `custom_objects` parameter of the load function.\n",
      "WARNING:absl:<keras.layers.recurrent.LSTMCell object at 0x7f6e2814f250> has the same name 'LSTMCell' as a built-in Keras object. Consider renaming <class 'keras.layers.recurrent.LSTMCell'> to avoid naming conflicts when loading with `tf.keras.models.load_model`. If renaming is not possible, pass the object in the `custom_objects` parameter of the load function.\n"
     ]
    },
    {
     "name": "stdout",
     "output_type": "stream",
     "text": [
      "376/376 [==============================] - 24s 51ms/step - loss: 2.6257e-04 - mae: 0.0142 - accuracy: 2.6596e-04 - val_loss: 0.0046 - val_mae: 0.0827 - val_accuracy: 0.0000e+00\n",
      "Epoch 2/100\n",
      "375/376 [============================>.] - ETA: 0s - loss: 3.8520e-04 - mae: 0.0164 - accuracy: 2.6667e-04"
     ]
    },
    {
     "name": "stderr",
     "output_type": "stream",
     "text": [
      "WARNING:absl:Found untraced functions such as lstm_cell_layer_call_fn, lstm_cell_layer_call_and_return_conditional_losses, lstm_cell_1_layer_call_fn, lstm_cell_1_layer_call_and_return_conditional_losses while saving (showing 4 of 4). These functions will not be directly callable after loading.\n"
     ]
    },
    {
     "name": "stdout",
     "output_type": "stream",
     "text": [
      "INFO:tensorflow:Assets written to: ../models/lstm_models/AXISBANK/assets\n"
     ]
    },
    {
     "name": "stderr",
     "output_type": "stream",
     "text": [
      "INFO:tensorflow:Assets written to: ../models/lstm_models/AXISBANK/assets\n",
      "WARNING:absl:<keras.layers.recurrent.LSTMCell object at 0x7f6e28171670> has the same name 'LSTMCell' as a built-in Keras object. Consider renaming <class 'keras.layers.recurrent.LSTMCell'> to avoid naming conflicts when loading with `tf.keras.models.load_model`. If renaming is not possible, pass the object in the `custom_objects` parameter of the load function.\n",
      "WARNING:absl:<keras.layers.recurrent.LSTMCell object at 0x7f6e2814f250> has the same name 'LSTMCell' as a built-in Keras object. Consider renaming <class 'keras.layers.recurrent.LSTMCell'> to avoid naming conflicts when loading with `tf.keras.models.load_model`. If renaming is not possible, pass the object in the `custom_objects` parameter of the load function.\n"
     ]
    },
    {
     "name": "stdout",
     "output_type": "stream",
     "text": [
      "376/376 [==============================] - 35s 92ms/step - loss: 3.8655e-04 - mae: 0.0164 - accuracy: 2.6596e-04 - val_loss: 0.0033 - val_mae: 0.0685 - val_accuracy: 0.0000e+00\n",
      "Epoch 3/100\n",
      "376/376 [==============================] - ETA: 0s - loss: 2.4856e-04 - mae: 0.0140 - accuracy: 2.6596e-04"
     ]
    },
    {
     "name": "stderr",
     "output_type": "stream",
     "text": [
      "WARNING:absl:Found untraced functions such as lstm_cell_layer_call_fn, lstm_cell_layer_call_and_return_conditional_losses, lstm_cell_1_layer_call_fn, lstm_cell_1_layer_call_and_return_conditional_losses while saving (showing 4 of 4). These functions will not be directly callable after loading.\n"
     ]
    },
    {
     "name": "stdout",
     "output_type": "stream",
     "text": [
      "INFO:tensorflow:Assets written to: ../models/lstm_models/AXISBANK/assets\n"
     ]
    },
    {
     "name": "stderr",
     "output_type": "stream",
     "text": [
      "INFO:tensorflow:Assets written to: ../models/lstm_models/AXISBANK/assets\n",
      "WARNING:absl:<keras.layers.recurrent.LSTMCell object at 0x7f6e28171670> has the same name 'LSTMCell' as a built-in Keras object. Consider renaming <class 'keras.layers.recurrent.LSTMCell'> to avoid naming conflicts when loading with `tf.keras.models.load_model`. If renaming is not possible, pass the object in the `custom_objects` parameter of the load function.\n",
      "WARNING:absl:<keras.layers.recurrent.LSTMCell object at 0x7f6e2814f250> has the same name 'LSTMCell' as a built-in Keras object. Consider renaming <class 'keras.layers.recurrent.LSTMCell'> to avoid naming conflicts when loading with `tf.keras.models.load_model`. If renaming is not possible, pass the object in the `custom_objects` parameter of the load function.\n"
     ]
    },
    {
     "name": "stdout",
     "output_type": "stream",
     "text": [
      "376/376 [==============================] - 18s 49ms/step - loss: 2.4856e-04 - mae: 0.0140 - accuracy: 2.6596e-04 - val_loss: 0.0028 - val_mae: 0.0622 - val_accuracy: 0.0000e+00\n",
      "Epoch 4/100\n",
      "376/376 [==============================] - ETA: 0s - loss: 2.0443e-04 - mae: 0.0129 - accuracy: 2.6596e-04"
     ]
    },
    {
     "name": "stderr",
     "output_type": "stream",
     "text": [
      "WARNING:absl:Found untraced functions such as lstm_cell_layer_call_fn, lstm_cell_layer_call_and_return_conditional_losses, lstm_cell_1_layer_call_fn, lstm_cell_1_layer_call_and_return_conditional_losses while saving (showing 4 of 4). These functions will not be directly callable after loading.\n"
     ]
    },
    {
     "name": "stdout",
     "output_type": "stream",
     "text": [
      "INFO:tensorflow:Assets written to: ../models/lstm_models/AXISBANK/assets\n"
     ]
    },
    {
     "name": "stderr",
     "output_type": "stream",
     "text": [
      "INFO:tensorflow:Assets written to: ../models/lstm_models/AXISBANK/assets\n",
      "WARNING:absl:<keras.layers.recurrent.LSTMCell object at 0x7f6e28171670> has the same name 'LSTMCell' as a built-in Keras object. Consider renaming <class 'keras.layers.recurrent.LSTMCell'> to avoid naming conflicts when loading with `tf.keras.models.load_model`. If renaming is not possible, pass the object in the `custom_objects` parameter of the load function.\n",
      "WARNING:absl:<keras.layers.recurrent.LSTMCell object at 0x7f6e2814f250> has the same name 'LSTMCell' as a built-in Keras object. Consider renaming <class 'keras.layers.recurrent.LSTMCell'> to avoid naming conflicts when loading with `tf.keras.models.load_model`. If renaming is not possible, pass the object in the `custom_objects` parameter of the load function.\n"
     ]
    },
    {
     "name": "stdout",
     "output_type": "stream",
     "text": [
      "376/376 [==============================] - 20s 52ms/step - loss: 2.0443e-04 - mae: 0.0129 - accuracy: 2.6596e-04 - val_loss: 0.0025 - val_mae: 0.0580 - val_accuracy: 0.0000e+00\n",
      "Epoch 5/100\n",
      "375/376 [============================>.] - ETA: 0s - loss: 1.8504e-04 - mae: 0.0123 - accuracy: 2.6667e-04"
     ]
    },
    {
     "name": "stderr",
     "output_type": "stream",
     "text": [
      "WARNING:absl:Found untraced functions such as lstm_cell_layer_call_fn, lstm_cell_layer_call_and_return_conditional_losses, lstm_cell_1_layer_call_fn, lstm_cell_1_layer_call_and_return_conditional_losses while saving (showing 4 of 4). These functions will not be directly callable after loading.\n"
     ]
    },
    {
     "name": "stdout",
     "output_type": "stream",
     "text": [
      "INFO:tensorflow:Assets written to: ../models/lstm_models/AXISBANK/assets\n"
     ]
    },
    {
     "name": "stderr",
     "output_type": "stream",
     "text": [
      "INFO:tensorflow:Assets written to: ../models/lstm_models/AXISBANK/assets\n",
      "WARNING:absl:<keras.layers.recurrent.LSTMCell object at 0x7f6e28171670> has the same name 'LSTMCell' as a built-in Keras object. Consider renaming <class 'keras.layers.recurrent.LSTMCell'> to avoid naming conflicts when loading with `tf.keras.models.load_model`. If renaming is not possible, pass the object in the `custom_objects` parameter of the load function.\n",
      "WARNING:absl:<keras.layers.recurrent.LSTMCell object at 0x7f6e2814f250> has the same name 'LSTMCell' as a built-in Keras object. Consider renaming <class 'keras.layers.recurrent.LSTMCell'> to avoid naming conflicts when loading with `tf.keras.models.load_model`. If renaming is not possible, pass the object in the `custom_objects` parameter of the load function.\n"
     ]
    },
    {
     "name": "stdout",
     "output_type": "stream",
     "text": [
      "376/376 [==============================] - 20s 53ms/step - loss: 1.8664e-04 - mae: 0.0123 - accuracy: 2.6596e-04 - val_loss: 0.0023 - val_mae: 0.0551 - val_accuracy: 0.0000e+00\n",
      "Epoch 6/100\n",
      "375/376 [============================>.] - ETA: 0s - loss: 1.7351e-04 - mae: 0.0119 - accuracy: 2.6667e-04"
     ]
    },
    {
     "name": "stderr",
     "output_type": "stream",
     "text": [
      "WARNING:absl:Found untraced functions such as lstm_cell_layer_call_fn, lstm_cell_layer_call_and_return_conditional_losses, lstm_cell_1_layer_call_fn, lstm_cell_1_layer_call_and_return_conditional_losses while saving (showing 4 of 4). These functions will not be directly callable after loading.\n"
     ]
    },
    {
     "name": "stdout",
     "output_type": "stream",
     "text": [
      "INFO:tensorflow:Assets written to: ../models/lstm_models/AXISBANK/assets\n"
     ]
    },
    {
     "name": "stderr",
     "output_type": "stream",
     "text": [
      "INFO:tensorflow:Assets written to: ../models/lstm_models/AXISBANK/assets\n",
      "WARNING:absl:<keras.layers.recurrent.LSTMCell object at 0x7f6e28171670> has the same name 'LSTMCell' as a built-in Keras object. Consider renaming <class 'keras.layers.recurrent.LSTMCell'> to avoid naming conflicts when loading with `tf.keras.models.load_model`. If renaming is not possible, pass the object in the `custom_objects` parameter of the load function.\n",
      "WARNING:absl:<keras.layers.recurrent.LSTMCell object at 0x7f6e2814f250> has the same name 'LSTMCell' as a built-in Keras object. Consider renaming <class 'keras.layers.recurrent.LSTMCell'> to avoid naming conflicts when loading with `tf.keras.models.load_model`. If renaming is not possible, pass the object in the `custom_objects` parameter of the load function.\n"
     ]
    },
    {
     "name": "stdout",
     "output_type": "stream",
     "text": [
      "376/376 [==============================] - 21s 57ms/step - loss: 1.7505e-04 - mae: 0.0120 - accuracy: 2.6596e-04 - val_loss: 0.0022 - val_mae: 0.0530 - val_accuracy: 0.0000e+00\n",
      "Epoch 7/100\n",
      "376/376 [==============================] - ETA: 0s - loss: 1.6554e-04 - mae: 0.0117 - accuracy: 2.6596e-04"
     ]
    },
    {
     "name": "stderr",
     "output_type": "stream",
     "text": [
      "WARNING:absl:Found untraced functions such as lstm_cell_layer_call_fn, lstm_cell_layer_call_and_return_conditional_losses, lstm_cell_1_layer_call_fn, lstm_cell_1_layer_call_and_return_conditional_losses while saving (showing 4 of 4). These functions will not be directly callable after loading.\n"
     ]
    },
    {
     "name": "stdout",
     "output_type": "stream",
     "text": [
      "INFO:tensorflow:Assets written to: ../models/lstm_models/AXISBANK/assets\n"
     ]
    },
    {
     "name": "stderr",
     "output_type": "stream",
     "text": [
      "INFO:tensorflow:Assets written to: ../models/lstm_models/AXISBANK/assets\n",
      "WARNING:absl:<keras.layers.recurrent.LSTMCell object at 0x7f6e28171670> has the same name 'LSTMCell' as a built-in Keras object. Consider renaming <class 'keras.layers.recurrent.LSTMCell'> to avoid naming conflicts when loading with `tf.keras.models.load_model`. If renaming is not possible, pass the object in the `custom_objects` parameter of the load function.\n",
      "WARNING:absl:<keras.layers.recurrent.LSTMCell object at 0x7f6e2814f250> has the same name 'LSTMCell' as a built-in Keras object. Consider renaming <class 'keras.layers.recurrent.LSTMCell'> to avoid naming conflicts when loading with `tf.keras.models.load_model`. If renaming is not possible, pass the object in the `custom_objects` parameter of the load function.\n"
     ]
    },
    {
     "name": "stdout",
     "output_type": "stream",
     "text": [
      "376/376 [==============================] - 20s 54ms/step - loss: 1.6554e-04 - mae: 0.0117 - accuracy: 2.6596e-04 - val_loss: 0.0021 - val_mae: 0.0517 - val_accuracy: 0.0000e+00\n",
      "Epoch 8/100\n",
      "374/376 [============================>.] - ETA: 0s - loss: 1.5531e-04 - mae: 0.0113 - accuracy: 2.6738e-04"
     ]
    },
    {
     "name": "stderr",
     "output_type": "stream",
     "text": [
      "WARNING:absl:Found untraced functions such as lstm_cell_layer_call_fn, lstm_cell_layer_call_and_return_conditional_losses, lstm_cell_1_layer_call_fn, lstm_cell_1_layer_call_and_return_conditional_losses while saving (showing 4 of 4). These functions will not be directly callable after loading.\n"
     ]
    },
    {
     "name": "stdout",
     "output_type": "stream",
     "text": [
      "INFO:tensorflow:Assets written to: ../models/lstm_models/AXISBANK/assets\n"
     ]
    },
    {
     "name": "stderr",
     "output_type": "stream",
     "text": [
      "INFO:tensorflow:Assets written to: ../models/lstm_models/AXISBANK/assets\n",
      "WARNING:absl:<keras.layers.recurrent.LSTMCell object at 0x7f6e28171670> has the same name 'LSTMCell' as a built-in Keras object. Consider renaming <class 'keras.layers.recurrent.LSTMCell'> to avoid naming conflicts when loading with `tf.keras.models.load_model`. If renaming is not possible, pass the object in the `custom_objects` parameter of the load function.\n",
      "WARNING:absl:<keras.layers.recurrent.LSTMCell object at 0x7f6e2814f250> has the same name 'LSTMCell' as a built-in Keras object. Consider renaming <class 'keras.layers.recurrent.LSTMCell'> to avoid naming conflicts when loading with `tf.keras.models.load_model`. If renaming is not possible, pass the object in the `custom_objects` parameter of the load function.\n"
     ]
    },
    {
     "name": "stdout",
     "output_type": "stream",
     "text": [
      "376/376 [==============================] - 18s 48ms/step - loss: 1.5706e-04 - mae: 0.0114 - accuracy: 2.6596e-04 - val_loss: 0.0020 - val_mae: 0.0508 - val_accuracy: 0.0000e+00\n",
      "Epoch 9/100\n",
      "375/376 [============================>.] - ETA: 0s - loss: 1.4795e-04 - mae: 0.0111 - accuracy: 2.6667e-04"
     ]
    },
    {
     "name": "stderr",
     "output_type": "stream",
     "text": [
      "WARNING:absl:Found untraced functions such as lstm_cell_layer_call_fn, lstm_cell_layer_call_and_return_conditional_losses, lstm_cell_1_layer_call_fn, lstm_cell_1_layer_call_and_return_conditional_losses while saving (showing 4 of 4). These functions will not be directly callable after loading.\n"
     ]
    },
    {
     "name": "stdout",
     "output_type": "stream",
     "text": [
      "INFO:tensorflow:Assets written to: ../models/lstm_models/AXISBANK/assets\n"
     ]
    },
    {
     "name": "stderr",
     "output_type": "stream",
     "text": [
      "INFO:tensorflow:Assets written to: ../models/lstm_models/AXISBANK/assets\n",
      "WARNING:absl:<keras.layers.recurrent.LSTMCell object at 0x7f6e28171670> has the same name 'LSTMCell' as a built-in Keras object. Consider renaming <class 'keras.layers.recurrent.LSTMCell'> to avoid naming conflicts when loading with `tf.keras.models.load_model`. If renaming is not possible, pass the object in the `custom_objects` parameter of the load function.\n",
      "WARNING:absl:<keras.layers.recurrent.LSTMCell object at 0x7f6e2814f250> has the same name 'LSTMCell' as a built-in Keras object. Consider renaming <class 'keras.layers.recurrent.LSTMCell'> to avoid naming conflicts when loading with `tf.keras.models.load_model`. If renaming is not possible, pass the object in the `custom_objects` parameter of the load function.\n"
     ]
    },
    {
     "name": "stdout",
     "output_type": "stream",
     "text": [
      "376/376 [==============================] - 19s 51ms/step - loss: 1.4922e-04 - mae: 0.0111 - accuracy: 2.6596e-04 - val_loss: 0.0020 - val_mae: 0.0503 - val_accuracy: 0.0000e+00\n",
      "Epoch 10/100\n",
      "376/376 [==============================] - ETA: 0s - loss: 1.4192e-04 - mae: 0.0109 - accuracy: 2.6596e-04"
     ]
    },
    {
     "name": "stderr",
     "output_type": "stream",
     "text": [
      "WARNING:absl:Found untraced functions such as lstm_cell_layer_call_fn, lstm_cell_layer_call_and_return_conditional_losses, lstm_cell_1_layer_call_fn, lstm_cell_1_layer_call_and_return_conditional_losses while saving (showing 4 of 4). These functions will not be directly callable after loading.\n"
     ]
    },
    {
     "name": "stdout",
     "output_type": "stream",
     "text": [
      "INFO:tensorflow:Assets written to: ../models/lstm_models/AXISBANK/assets\n"
     ]
    },
    {
     "name": "stderr",
     "output_type": "stream",
     "text": [
      "INFO:tensorflow:Assets written to: ../models/lstm_models/AXISBANK/assets\n",
      "WARNING:absl:<keras.layers.recurrent.LSTMCell object at 0x7f6e28171670> has the same name 'LSTMCell' as a built-in Keras object. Consider renaming <class 'keras.layers.recurrent.LSTMCell'> to avoid naming conflicts when loading with `tf.keras.models.load_model`. If renaming is not possible, pass the object in the `custom_objects` parameter of the load function.\n",
      "WARNING:absl:<keras.layers.recurrent.LSTMCell object at 0x7f6e2814f250> has the same name 'LSTMCell' as a built-in Keras object. Consider renaming <class 'keras.layers.recurrent.LSTMCell'> to avoid naming conflicts when loading with `tf.keras.models.load_model`. If renaming is not possible, pass the object in the `custom_objects` parameter of the load function.\n"
     ]
    },
    {
     "name": "stdout",
     "output_type": "stream",
     "text": [
      "376/376 [==============================] - 19s 52ms/step - loss: 1.4192e-04 - mae: 0.0109 - accuracy: 2.6596e-04 - val_loss: 0.0020 - val_mae: 0.0502 - val_accuracy: 0.0000e+00\n",
      "Epoch 11/100\n",
      "376/376 [==============================] - 11s 29ms/step - loss: 1.3519e-04 - mae: 0.0106 - accuracy: 2.6596e-04 - val_loss: 0.0020 - val_mae: 0.0504 - val_accuracy: 0.0000e+00\n",
      "Epoch 12/100\n",
      "376/376 [==============================] - 11s 30ms/step - loss: 1.2913e-04 - mae: 0.0104 - accuracy: 2.6596e-04 - val_loss: 0.0020 - val_mae: 0.0508 - val_accuracy: 0.0000e+00\n",
      "Epoch 13/100\n",
      "376/376 [==============================] - 11s 30ms/step - loss: 1.2387e-04 - mae: 0.0102 - accuracy: 2.6596e-04 - val_loss: 0.0020 - val_mae: 0.0515 - val_accuracy: 0.0000e+00\n",
      "Epoch 14/100\n",
      "376/376 [==============================] - 11s 30ms/step - loss: 1.1950e-04 - mae: 0.0101 - accuracy: 2.6596e-04 - val_loss: 0.0021 - val_mae: 0.0523 - val_accuracy: 0.0000e+00\n",
      "Epoch 15/100\n",
      "376/376 [==============================] - 13s 36ms/step - loss: 1.1602e-04 - mae: 0.0100 - accuracy: 2.6596e-04 - val_loss: 0.0022 - val_mae: 0.0529 - val_accuracy: 0.0000e+00\n",
      "Epoch 16/100\n",
      "376/376 [==============================] - 14s 37ms/step - loss: 1.1337e-04 - mae: 0.0099 - accuracy: 2.6596e-04 - val_loss: 0.0022 - val_mae: 0.0533 - val_accuracy: 0.0000e+00\n",
      "Epoch 17/100\n",
      "376/376 [==============================] - 13s 34ms/step - loss: 1.1144e-04 - mae: 0.0098 - accuracy: 2.6596e-04 - val_loss: 0.0022 - val_mae: 0.0531 - val_accuracy: 0.0000e+00\n",
      "Epoch 18/100\n",
      "376/376 [==============================] - 12s 31ms/step - loss: 1.1008e-04 - mae: 0.0098 - accuracy: 2.6596e-04 - val_loss: 0.0021 - val_mae: 0.0521 - val_accuracy: 0.0000e+00\n",
      "Epoch 19/100\n",
      "376/376 [==============================] - 12s 32ms/step - loss: 1.0909e-04 - mae: 0.0098 - accuracy: 2.6596e-04 - val_loss: 0.0020 - val_mae: 0.0505 - val_accuracy: 0.0000e+00\n",
      "Epoch 20/100\n",
      "376/376 [==============================] - ETA: 0s - loss: 1.0825e-04 - mae: 0.0098 - accuracy: 2.6596e-04"
     ]
    },
    {
     "name": "stderr",
     "output_type": "stream",
     "text": [
      "WARNING:absl:Found untraced functions such as lstm_cell_layer_call_fn, lstm_cell_layer_call_and_return_conditional_losses, lstm_cell_1_layer_call_fn, lstm_cell_1_layer_call_and_return_conditional_losses while saving (showing 4 of 4). These functions will not be directly callable after loading.\n"
     ]
    },
    {
     "name": "stdout",
     "output_type": "stream",
     "text": [
      "INFO:tensorflow:Assets written to: ../models/lstm_models/AXISBANK/assets\n"
     ]
    },
    {
     "name": "stderr",
     "output_type": "stream",
     "text": [
      "INFO:tensorflow:Assets written to: ../models/lstm_models/AXISBANK/assets\n",
      "WARNING:absl:<keras.layers.recurrent.LSTMCell object at 0x7f6e28171670> has the same name 'LSTMCell' as a built-in Keras object. Consider renaming <class 'keras.layers.recurrent.LSTMCell'> to avoid naming conflicts when loading with `tf.keras.models.load_model`. If renaming is not possible, pass the object in the `custom_objects` parameter of the load function.\n",
      "WARNING:absl:<keras.layers.recurrent.LSTMCell object at 0x7f6e2814f250> has the same name 'LSTMCell' as a built-in Keras object. Consider renaming <class 'keras.layers.recurrent.LSTMCell'> to avoid naming conflicts when loading with `tf.keras.models.load_model`. If renaming is not possible, pass the object in the `custom_objects` parameter of the load function.\n"
     ]
    },
    {
     "name": "stdout",
     "output_type": "stream",
     "text": [
      "376/376 [==============================] - 20s 54ms/step - loss: 1.0825e-04 - mae: 0.0098 - accuracy: 2.6596e-04 - val_loss: 0.0019 - val_mae: 0.0483 - val_accuracy: 0.0000e+00\n",
      "Epoch 21/100\n",
      "375/376 [============================>.] - ETA: 0s - loss: 1.0558e-04 - mae: 0.0097 - accuracy: 2.6667e-04"
     ]
    },
    {
     "name": "stderr",
     "output_type": "stream",
     "text": [
      "WARNING:absl:Found untraced functions such as lstm_cell_layer_call_fn, lstm_cell_layer_call_and_return_conditional_losses, lstm_cell_1_layer_call_fn, lstm_cell_1_layer_call_and_return_conditional_losses while saving (showing 4 of 4). These functions will not be directly callable after loading.\n"
     ]
    },
    {
     "name": "stdout",
     "output_type": "stream",
     "text": [
      "INFO:tensorflow:Assets written to: ../models/lstm_models/AXISBANK/assets\n"
     ]
    },
    {
     "name": "stderr",
     "output_type": "stream",
     "text": [
      "INFO:tensorflow:Assets written to: ../models/lstm_models/AXISBANK/assets\n",
      "WARNING:absl:<keras.layers.recurrent.LSTMCell object at 0x7f6e28171670> has the same name 'LSTMCell' as a built-in Keras object. Consider renaming <class 'keras.layers.recurrent.LSTMCell'> to avoid naming conflicts when loading with `tf.keras.models.load_model`. If renaming is not possible, pass the object in the `custom_objects` parameter of the load function.\n",
      "WARNING:absl:<keras.layers.recurrent.LSTMCell object at 0x7f6e2814f250> has the same name 'LSTMCell' as a built-in Keras object. Consider renaming <class 'keras.layers.recurrent.LSTMCell'> to avoid naming conflicts when loading with `tf.keras.models.load_model`. If renaming is not possible, pass the object in the `custom_objects` parameter of the load function.\n"
     ]
    },
    {
     "name": "stdout",
     "output_type": "stream",
     "text": [
      "376/376 [==============================] - 20s 54ms/step - loss: 1.0739e-04 - mae: 0.0098 - accuracy: 2.6596e-04 - val_loss: 0.0017 - val_mae: 0.0458 - val_accuracy: 0.0000e+00\n",
      "Epoch 22/100\n",
      "375/376 [============================>.] - ETA: 0s - loss: 1.0462e-04 - mae: 0.0097 - accuracy: 2.6667e-04"
     ]
    },
    {
     "name": "stderr",
     "output_type": "stream",
     "text": [
      "WARNING:absl:Found untraced functions such as lstm_cell_layer_call_fn, lstm_cell_layer_call_and_return_conditional_losses, lstm_cell_1_layer_call_fn, lstm_cell_1_layer_call_and_return_conditional_losses while saving (showing 4 of 4). These functions will not be directly callable after loading.\n"
     ]
    },
    {
     "name": "stdout",
     "output_type": "stream",
     "text": [
      "INFO:tensorflow:Assets written to: ../models/lstm_models/AXISBANK/assets\n"
     ]
    },
    {
     "name": "stderr",
     "output_type": "stream",
     "text": [
      "INFO:tensorflow:Assets written to: ../models/lstm_models/AXISBANK/assets\n",
      "WARNING:absl:<keras.layers.recurrent.LSTMCell object at 0x7f6e28171670> has the same name 'LSTMCell' as a built-in Keras object. Consider renaming <class 'keras.layers.recurrent.LSTMCell'> to avoid naming conflicts when loading with `tf.keras.models.load_model`. If renaming is not possible, pass the object in the `custom_objects` parameter of the load function.\n",
      "WARNING:absl:<keras.layers.recurrent.LSTMCell object at 0x7f6e2814f250> has the same name 'LSTMCell' as a built-in Keras object. Consider renaming <class 'keras.layers.recurrent.LSTMCell'> to avoid naming conflicts when loading with `tf.keras.models.load_model`. If renaming is not possible, pass the object in the `custom_objects` parameter of the load function.\n"
     ]
    },
    {
     "name": "stdout",
     "output_type": "stream",
     "text": [
      "376/376 [==============================] - 20s 53ms/step - loss: 1.0635e-04 - mae: 0.0098 - accuracy: 2.6596e-04 - val_loss: 0.0015 - val_mae: 0.0433 - val_accuracy: 0.0000e+00\n",
      "Epoch 23/100\n",
      "375/376 [============================>.] - ETA: 0s - loss: 1.0341e-04 - mae: 0.0097 - accuracy: 2.6667e-04"
     ]
    },
    {
     "name": "stderr",
     "output_type": "stream",
     "text": [
      "WARNING:absl:Found untraced functions such as lstm_cell_layer_call_fn, lstm_cell_layer_call_and_return_conditional_losses, lstm_cell_1_layer_call_fn, lstm_cell_1_layer_call_and_return_conditional_losses while saving (showing 4 of 4). These functions will not be directly callable after loading.\n"
     ]
    },
    {
     "name": "stdout",
     "output_type": "stream",
     "text": [
      "INFO:tensorflow:Assets written to: ../models/lstm_models/AXISBANK/assets\n"
     ]
    },
    {
     "name": "stderr",
     "output_type": "stream",
     "text": [
      "INFO:tensorflow:Assets written to: ../models/lstm_models/AXISBANK/assets\n",
      "WARNING:absl:<keras.layers.recurrent.LSTMCell object at 0x7f6e28171670> has the same name 'LSTMCell' as a built-in Keras object. Consider renaming <class 'keras.layers.recurrent.LSTMCell'> to avoid naming conflicts when loading with `tf.keras.models.load_model`. If renaming is not possible, pass the object in the `custom_objects` parameter of the load function.\n",
      "WARNING:absl:<keras.layers.recurrent.LSTMCell object at 0x7f6e2814f250> has the same name 'LSTMCell' as a built-in Keras object. Consider renaming <class 'keras.layers.recurrent.LSTMCell'> to avoid naming conflicts when loading with `tf.keras.models.load_model`. If renaming is not possible, pass the object in the `custom_objects` parameter of the load function.\n"
     ]
    },
    {
     "name": "stdout",
     "output_type": "stream",
     "text": [
      "376/376 [==============================] - 20s 54ms/step - loss: 1.0504e-04 - mae: 0.0098 - accuracy: 2.6596e-04 - val_loss: 0.0014 - val_mae: 0.0409 - val_accuracy: 0.0000e+00\n",
      "Epoch 24/100\n",
      "376/376 [==============================] - ETA: 0s - loss: 1.0347e-04 - mae: 0.0097 - accuracy: 2.6596e-04"
     ]
    },
    {
     "name": "stderr",
     "output_type": "stream",
     "text": [
      "WARNING:absl:Found untraced functions such as lstm_cell_layer_call_fn, lstm_cell_layer_call_and_return_conditional_losses, lstm_cell_1_layer_call_fn, lstm_cell_1_layer_call_and_return_conditional_losses while saving (showing 4 of 4). These functions will not be directly callable after loading.\n"
     ]
    },
    {
     "name": "stdout",
     "output_type": "stream",
     "text": [
      "INFO:tensorflow:Assets written to: ../models/lstm_models/AXISBANK/assets\n"
     ]
    },
    {
     "name": "stderr",
     "output_type": "stream",
     "text": [
      "INFO:tensorflow:Assets written to: ../models/lstm_models/AXISBANK/assets\n",
      "WARNING:absl:<keras.layers.recurrent.LSTMCell object at 0x7f6e28171670> has the same name 'LSTMCell' as a built-in Keras object. Consider renaming <class 'keras.layers.recurrent.LSTMCell'> to avoid naming conflicts when loading with `tf.keras.models.load_model`. If renaming is not possible, pass the object in the `custom_objects` parameter of the load function.\n",
      "WARNING:absl:<keras.layers.recurrent.LSTMCell object at 0x7f6e2814f250> has the same name 'LSTMCell' as a built-in Keras object. Consider renaming <class 'keras.layers.recurrent.LSTMCell'> to avoid naming conflicts when loading with `tf.keras.models.load_model`. If renaming is not possible, pass the object in the `custom_objects` parameter of the load function.\n"
     ]
    },
    {
     "name": "stdout",
     "output_type": "stream",
     "text": [
      "376/376 [==============================] - 20s 54ms/step - loss: 1.0347e-04 - mae: 0.0097 - accuracy: 2.6596e-04 - val_loss: 0.0013 - val_mae: 0.0387 - val_accuracy: 0.0000e+00\n",
      "Epoch 25/100\n",
      "375/376 [============================>.] - ETA: 0s - loss: 1.0023e-04 - mae: 0.0095 - accuracy: 2.6667e-04"
     ]
    },
    {
     "name": "stderr",
     "output_type": "stream",
     "text": [
      "WARNING:absl:Found untraced functions such as lstm_cell_layer_call_fn, lstm_cell_layer_call_and_return_conditional_losses, lstm_cell_1_layer_call_fn, lstm_cell_1_layer_call_and_return_conditional_losses while saving (showing 4 of 4). These functions will not be directly callable after loading.\n"
     ]
    },
    {
     "name": "stdout",
     "output_type": "stream",
     "text": [
      "INFO:tensorflow:Assets written to: ../models/lstm_models/AXISBANK/assets\n"
     ]
    },
    {
     "name": "stderr",
     "output_type": "stream",
     "text": [
      "INFO:tensorflow:Assets written to: ../models/lstm_models/AXISBANK/assets\n",
      "WARNING:absl:<keras.layers.recurrent.LSTMCell object at 0x7f6e28171670> has the same name 'LSTMCell' as a built-in Keras object. Consider renaming <class 'keras.layers.recurrent.LSTMCell'> to avoid naming conflicts when loading with `tf.keras.models.load_model`. If renaming is not possible, pass the object in the `custom_objects` parameter of the load function.\n",
      "WARNING:absl:<keras.layers.recurrent.LSTMCell object at 0x7f6e2814f250> has the same name 'LSTMCell' as a built-in Keras object. Consider renaming <class 'keras.layers.recurrent.LSTMCell'> to avoid naming conflicts when loading with `tf.keras.models.load_model`. If renaming is not possible, pass the object in the `custom_objects` parameter of the load function.\n"
     ]
    },
    {
     "name": "stdout",
     "output_type": "stream",
     "text": [
      "376/376 [==============================] - 22s 58ms/step - loss: 1.0168e-04 - mae: 0.0096 - accuracy: 2.6596e-04 - val_loss: 0.0012 - val_mae: 0.0367 - val_accuracy: 0.0000e+00\n",
      "Epoch 26/100\n",
      "376/376 [==============================] - ETA: 0s - loss: 9.9755e-05 - mae: 0.0095 - accuracy: 2.6596e-04"
     ]
    },
    {
     "name": "stderr",
     "output_type": "stream",
     "text": [
      "WARNING:absl:Found untraced functions such as lstm_cell_layer_call_fn, lstm_cell_layer_call_and_return_conditional_losses, lstm_cell_1_layer_call_fn, lstm_cell_1_layer_call_and_return_conditional_losses while saving (showing 4 of 4). These functions will not be directly callable after loading.\n"
     ]
    },
    {
     "name": "stdout",
     "output_type": "stream",
     "text": [
      "INFO:tensorflow:Assets written to: ../models/lstm_models/AXISBANK/assets\n"
     ]
    },
    {
     "name": "stderr",
     "output_type": "stream",
     "text": [
      "INFO:tensorflow:Assets written to: ../models/lstm_models/AXISBANK/assets\n",
      "WARNING:absl:<keras.layers.recurrent.LSTMCell object at 0x7f6e28171670> has the same name 'LSTMCell' as a built-in Keras object. Consider renaming <class 'keras.layers.recurrent.LSTMCell'> to avoid naming conflicts when loading with `tf.keras.models.load_model`. If renaming is not possible, pass the object in the `custom_objects` parameter of the load function.\n",
      "WARNING:absl:<keras.layers.recurrent.LSTMCell object at 0x7f6e2814f250> has the same name 'LSTMCell' as a built-in Keras object. Consider renaming <class 'keras.layers.recurrent.LSTMCell'> to avoid naming conflicts when loading with `tf.keras.models.load_model`. If renaming is not possible, pass the object in the `custom_objects` parameter of the load function.\n"
     ]
    },
    {
     "name": "stdout",
     "output_type": "stream",
     "text": [
      "376/376 [==============================] - 20s 53ms/step - loss: 9.9755e-05 - mae: 0.0095 - accuracy: 2.6596e-04 - val_loss: 0.0011 - val_mae: 0.0349 - val_accuracy: 0.0000e+00\n",
      "Epoch 27/100\n",
      "376/376 [==============================] - ETA: 0s - loss: 9.7771e-05 - mae: 0.0094 - accuracy: 2.6596e-04"
     ]
    },
    {
     "name": "stderr",
     "output_type": "stream",
     "text": [
      "WARNING:absl:Found untraced functions such as lstm_cell_layer_call_fn, lstm_cell_layer_call_and_return_conditional_losses, lstm_cell_1_layer_call_fn, lstm_cell_1_layer_call_and_return_conditional_losses while saving (showing 4 of 4). These functions will not be directly callable after loading.\n"
     ]
    },
    {
     "name": "stdout",
     "output_type": "stream",
     "text": [
      "INFO:tensorflow:Assets written to: ../models/lstm_models/AXISBANK/assets\n"
     ]
    },
    {
     "name": "stderr",
     "output_type": "stream",
     "text": [
      "INFO:tensorflow:Assets written to: ../models/lstm_models/AXISBANK/assets\n",
      "WARNING:absl:<keras.layers.recurrent.LSTMCell object at 0x7f6e28171670> has the same name 'LSTMCell' as a built-in Keras object. Consider renaming <class 'keras.layers.recurrent.LSTMCell'> to avoid naming conflicts when loading with `tf.keras.models.load_model`. If renaming is not possible, pass the object in the `custom_objects` parameter of the load function.\n",
      "WARNING:absl:<keras.layers.recurrent.LSTMCell object at 0x7f6e2814f250> has the same name 'LSTMCell' as a built-in Keras object. Consider renaming <class 'keras.layers.recurrent.LSTMCell'> to avoid naming conflicts when loading with `tf.keras.models.load_model`. If renaming is not possible, pass the object in the `custom_objects` parameter of the load function.\n"
     ]
    },
    {
     "name": "stdout",
     "output_type": "stream",
     "text": [
      "376/376 [==============================] - 20s 54ms/step - loss: 9.7771e-05 - mae: 0.0094 - accuracy: 2.6596e-04 - val_loss: 9.6404e-04 - val_mae: 0.0334 - val_accuracy: 0.0000e+00\n",
      "Epoch 28/100\n",
      "375/376 [============================>.] - ETA: 0s - loss: 9.4552e-05 - mae: 0.0092 - accuracy: 2.6667e-04"
     ]
    },
    {
     "name": "stderr",
     "output_type": "stream",
     "text": [
      "WARNING:absl:Found untraced functions such as lstm_cell_layer_call_fn, lstm_cell_layer_call_and_return_conditional_losses, lstm_cell_1_layer_call_fn, lstm_cell_1_layer_call_and_return_conditional_losses while saving (showing 4 of 4). These functions will not be directly callable after loading.\n"
     ]
    },
    {
     "name": "stdout",
     "output_type": "stream",
     "text": [
      "INFO:tensorflow:Assets written to: ../models/lstm_models/AXISBANK/assets\n"
     ]
    },
    {
     "name": "stderr",
     "output_type": "stream",
     "text": [
      "INFO:tensorflow:Assets written to: ../models/lstm_models/AXISBANK/assets\n",
      "WARNING:absl:<keras.layers.recurrent.LSTMCell object at 0x7f6e28171670> has the same name 'LSTMCell' as a built-in Keras object. Consider renaming <class 'keras.layers.recurrent.LSTMCell'> to avoid naming conflicts when loading with `tf.keras.models.load_model`. If renaming is not possible, pass the object in the `custom_objects` parameter of the load function.\n",
      "WARNING:absl:<keras.layers.recurrent.LSTMCell object at 0x7f6e2814f250> has the same name 'LSTMCell' as a built-in Keras object. Consider renaming <class 'keras.layers.recurrent.LSTMCell'> to avoid naming conflicts when loading with `tf.keras.models.load_model`. If renaming is not possible, pass the object in the `custom_objects` parameter of the load function.\n"
     ]
    },
    {
     "name": "stdout",
     "output_type": "stream",
     "text": [
      "376/376 [==============================] - 22s 58ms/step - loss: 9.5779e-05 - mae: 0.0092 - accuracy: 2.6596e-04 - val_loss: 8.9051e-04 - val_mae: 0.0321 - val_accuracy: 0.0000e+00\n",
      "Epoch 29/100\n",
      "376/376 [==============================] - ETA: 0s - loss: 9.3811e-05 - mae: 0.0091 - accuracy: 2.6596e-04"
     ]
    },
    {
     "name": "stderr",
     "output_type": "stream",
     "text": [
      "WARNING:absl:Found untraced functions such as lstm_cell_layer_call_fn, lstm_cell_layer_call_and_return_conditional_losses, lstm_cell_1_layer_call_fn, lstm_cell_1_layer_call_and_return_conditional_losses while saving (showing 4 of 4). These functions will not be directly callable after loading.\n"
     ]
    },
    {
     "name": "stdout",
     "output_type": "stream",
     "text": [
      "INFO:tensorflow:Assets written to: ../models/lstm_models/AXISBANK/assets\n"
     ]
    },
    {
     "name": "stderr",
     "output_type": "stream",
     "text": [
      "INFO:tensorflow:Assets written to: ../models/lstm_models/AXISBANK/assets\n",
      "WARNING:absl:<keras.layers.recurrent.LSTMCell object at 0x7f6e28171670> has the same name 'LSTMCell' as a built-in Keras object. Consider renaming <class 'keras.layers.recurrent.LSTMCell'> to avoid naming conflicts when loading with `tf.keras.models.load_model`. If renaming is not possible, pass the object in the `custom_objects` parameter of the load function.\n",
      "WARNING:absl:<keras.layers.recurrent.LSTMCell object at 0x7f6e2814f250> has the same name 'LSTMCell' as a built-in Keras object. Consider renaming <class 'keras.layers.recurrent.LSTMCell'> to avoid naming conflicts when loading with `tf.keras.models.load_model`. If renaming is not possible, pass the object in the `custom_objects` parameter of the load function.\n"
     ]
    },
    {
     "name": "stdout",
     "output_type": "stream",
     "text": [
      "376/376 [==============================] - 21s 55ms/step - loss: 9.3811e-05 - mae: 0.0091 - accuracy: 2.6596e-04 - val_loss: 8.2809e-04 - val_mae: 0.0310 - val_accuracy: 0.0000e+00\n",
      "Epoch 30/100\n",
      "375/376 [============================>.] - ETA: 0s - loss: 9.0770e-05 - mae: 0.0089 - accuracy: 2.6667e-04"
     ]
    },
    {
     "name": "stderr",
     "output_type": "stream",
     "text": [
      "WARNING:absl:Found untraced functions such as lstm_cell_layer_call_fn, lstm_cell_layer_call_and_return_conditional_losses, lstm_cell_1_layer_call_fn, lstm_cell_1_layer_call_and_return_conditional_losses while saving (showing 4 of 4). These functions will not be directly callable after loading.\n"
     ]
    },
    {
     "name": "stdout",
     "output_type": "stream",
     "text": [
      "INFO:tensorflow:Assets written to: ../models/lstm_models/AXISBANK/assets\n"
     ]
    },
    {
     "name": "stderr",
     "output_type": "stream",
     "text": [
      "INFO:tensorflow:Assets written to: ../models/lstm_models/AXISBANK/assets\n",
      "WARNING:absl:<keras.layers.recurrent.LSTMCell object at 0x7f6e28171670> has the same name 'LSTMCell' as a built-in Keras object. Consider renaming <class 'keras.layers.recurrent.LSTMCell'> to avoid naming conflicts when loading with `tf.keras.models.load_model`. If renaming is not possible, pass the object in the `custom_objects` parameter of the load function.\n",
      "WARNING:absl:<keras.layers.recurrent.LSTMCell object at 0x7f6e2814f250> has the same name 'LSTMCell' as a built-in Keras object. Consider renaming <class 'keras.layers.recurrent.LSTMCell'> to avoid naming conflicts when loading with `tf.keras.models.load_model`. If renaming is not possible, pass the object in the `custom_objects` parameter of the load function.\n"
     ]
    },
    {
     "name": "stdout",
     "output_type": "stream",
     "text": [
      "376/376 [==============================] - 21s 57ms/step - loss: 9.1888e-05 - mae: 0.0090 - accuracy: 2.6596e-04 - val_loss: 7.7537e-04 - val_mae: 0.0300 - val_accuracy: 0.0000e+00\n",
      "Epoch 31/100\n",
      "375/376 [============================>.] - ETA: 0s - loss: 8.8948e-05 - mae: 0.0088 - accuracy: 2.6667e-04"
     ]
    },
    {
     "name": "stderr",
     "output_type": "stream",
     "text": [
      "WARNING:absl:Found untraced functions such as lstm_cell_layer_call_fn, lstm_cell_layer_call_and_return_conditional_losses, lstm_cell_1_layer_call_fn, lstm_cell_1_layer_call_and_return_conditional_losses while saving (showing 4 of 4). These functions will not be directly callable after loading.\n"
     ]
    },
    {
     "name": "stdout",
     "output_type": "stream",
     "text": [
      "INFO:tensorflow:Assets written to: ../models/lstm_models/AXISBANK/assets\n"
     ]
    },
    {
     "name": "stderr",
     "output_type": "stream",
     "text": [
      "INFO:tensorflow:Assets written to: ../models/lstm_models/AXISBANK/assets\n",
      "WARNING:absl:<keras.layers.recurrent.LSTMCell object at 0x7f6e28171670> has the same name 'LSTMCell' as a built-in Keras object. Consider renaming <class 'keras.layers.recurrent.LSTMCell'> to avoid naming conflicts when loading with `tf.keras.models.load_model`. If renaming is not possible, pass the object in the `custom_objects` parameter of the load function.\n",
      "WARNING:absl:<keras.layers.recurrent.LSTMCell object at 0x7f6e2814f250> has the same name 'LSTMCell' as a built-in Keras object. Consider renaming <class 'keras.layers.recurrent.LSTMCell'> to avoid naming conflicts when loading with `tf.keras.models.load_model`. If renaming is not possible, pass the object in the `custom_objects` parameter of the load function.\n"
     ]
    },
    {
     "name": "stdout",
     "output_type": "stream",
     "text": [
      "376/376 [==============================] - 21s 56ms/step - loss: 9.0021e-05 - mae: 0.0089 - accuracy: 2.6596e-04 - val_loss: 7.3104e-04 - val_mae: 0.0292 - val_accuracy: 0.0000e+00\n",
      "Epoch 32/100\n",
      "375/376 [============================>.] - ETA: 0s - loss: 8.7186e-05 - mae: 0.0087 - accuracy: 2.6667e-04"
     ]
    },
    {
     "name": "stderr",
     "output_type": "stream",
     "text": [
      "WARNING:absl:Found untraced functions such as lstm_cell_layer_call_fn, lstm_cell_layer_call_and_return_conditional_losses, lstm_cell_1_layer_call_fn, lstm_cell_1_layer_call_and_return_conditional_losses while saving (showing 4 of 4). These functions will not be directly callable after loading.\n"
     ]
    },
    {
     "name": "stdout",
     "output_type": "stream",
     "text": [
      "INFO:tensorflow:Assets written to: ../models/lstm_models/AXISBANK/assets\n"
     ]
    },
    {
     "name": "stderr",
     "output_type": "stream",
     "text": [
      "INFO:tensorflow:Assets written to: ../models/lstm_models/AXISBANK/assets\n",
      "WARNING:absl:<keras.layers.recurrent.LSTMCell object at 0x7f6e28171670> has the same name 'LSTMCell' as a built-in Keras object. Consider renaming <class 'keras.layers.recurrent.LSTMCell'> to avoid naming conflicts when loading with `tf.keras.models.load_model`. If renaming is not possible, pass the object in the `custom_objects` parameter of the load function.\n",
      "WARNING:absl:<keras.layers.recurrent.LSTMCell object at 0x7f6e2814f250> has the same name 'LSTMCell' as a built-in Keras object. Consider renaming <class 'keras.layers.recurrent.LSTMCell'> to avoid naming conflicts when loading with `tf.keras.models.load_model`. If renaming is not possible, pass the object in the `custom_objects` parameter of the load function.\n"
     ]
    },
    {
     "name": "stdout",
     "output_type": "stream",
     "text": [
      "376/376 [==============================] - 20s 54ms/step - loss: 8.8221e-05 - mae: 0.0087 - accuracy: 2.6596e-04 - val_loss: 6.9387e-04 - val_mae: 0.0285 - val_accuracy: 0.0000e+00\n",
      "Epoch 33/100\n",
      "375/376 [============================>.] - ETA: 0s - loss: 8.5493e-05 - mae: 0.0086 - accuracy: 2.6667e-04"
     ]
    },
    {
     "name": "stderr",
     "output_type": "stream",
     "text": [
      "WARNING:absl:Found untraced functions such as lstm_cell_layer_call_fn, lstm_cell_layer_call_and_return_conditional_losses, lstm_cell_1_layer_call_fn, lstm_cell_1_layer_call_and_return_conditional_losses while saving (showing 4 of 4). These functions will not be directly callable after loading.\n"
     ]
    },
    {
     "name": "stdout",
     "output_type": "stream",
     "text": [
      "INFO:tensorflow:Assets written to: ../models/lstm_models/AXISBANK/assets\n"
     ]
    },
    {
     "name": "stderr",
     "output_type": "stream",
     "text": [
      "INFO:tensorflow:Assets written to: ../models/lstm_models/AXISBANK/assets\n",
      "WARNING:absl:<keras.layers.recurrent.LSTMCell object at 0x7f6e28171670> has the same name 'LSTMCell' as a built-in Keras object. Consider renaming <class 'keras.layers.recurrent.LSTMCell'> to avoid naming conflicts when loading with `tf.keras.models.load_model`. If renaming is not possible, pass the object in the `custom_objects` parameter of the load function.\n",
      "WARNING:absl:<keras.layers.recurrent.LSTMCell object at 0x7f6e2814f250> has the same name 'LSTMCell' as a built-in Keras object. Consider renaming <class 'keras.layers.recurrent.LSTMCell'> to avoid naming conflicts when loading with `tf.keras.models.load_model`. If renaming is not possible, pass the object in the `custom_objects` parameter of the load function.\n"
     ]
    },
    {
     "name": "stdout",
     "output_type": "stream",
     "text": [
      "376/376 [==============================] - 22s 57ms/step - loss: 8.6496e-05 - mae: 0.0086 - accuracy: 2.6596e-04 - val_loss: 6.6269e-04 - val_mae: 0.0278 - val_accuracy: 0.0000e+00\n",
      "Epoch 34/100\n",
      "376/376 [==============================] - ETA: 0s - loss: 8.4849e-05 - mae: 0.0085 - accuracy: 2.6596e-04"
     ]
    },
    {
     "name": "stderr",
     "output_type": "stream",
     "text": [
      "WARNING:absl:Found untraced functions such as lstm_cell_layer_call_fn, lstm_cell_layer_call_and_return_conditional_losses, lstm_cell_1_layer_call_fn, lstm_cell_1_layer_call_and_return_conditional_losses while saving (showing 4 of 4). These functions will not be directly callable after loading.\n"
     ]
    },
    {
     "name": "stdout",
     "output_type": "stream",
     "text": [
      "INFO:tensorflow:Assets written to: ../models/lstm_models/AXISBANK/assets\n"
     ]
    },
    {
     "name": "stderr",
     "output_type": "stream",
     "text": [
      "INFO:tensorflow:Assets written to: ../models/lstm_models/AXISBANK/assets\n",
      "WARNING:absl:<keras.layers.recurrent.LSTMCell object at 0x7f6e28171670> has the same name 'LSTMCell' as a built-in Keras object. Consider renaming <class 'keras.layers.recurrent.LSTMCell'> to avoid naming conflicts when loading with `tf.keras.models.load_model`. If renaming is not possible, pass the object in the `custom_objects` parameter of the load function.\n",
      "WARNING:absl:<keras.layers.recurrent.LSTMCell object at 0x7f6e2814f250> has the same name 'LSTMCell' as a built-in Keras object. Consider renaming <class 'keras.layers.recurrent.LSTMCell'> to avoid naming conflicts when loading with `tf.keras.models.load_model`. If renaming is not possible, pass the object in the `custom_objects` parameter of the load function.\n"
     ]
    },
    {
     "name": "stdout",
     "output_type": "stream",
     "text": [
      "376/376 [==============================] - 20s 52ms/step - loss: 8.4849e-05 - mae: 0.0085 - accuracy: 2.6596e-04 - val_loss: 6.3637e-04 - val_mae: 0.0273 - val_accuracy: 0.0000e+00\n",
      "Epoch 35/100\n",
      "376/376 [==============================] - ETA: 0s - loss: 8.3264e-05 - mae: 0.0084 - accuracy: 2.6596e-04"
     ]
    },
    {
     "name": "stderr",
     "output_type": "stream",
     "text": [
      "WARNING:absl:Found untraced functions such as lstm_cell_layer_call_fn, lstm_cell_layer_call_and_return_conditional_losses, lstm_cell_1_layer_call_fn, lstm_cell_1_layer_call_and_return_conditional_losses while saving (showing 4 of 4). These functions will not be directly callable after loading.\n"
     ]
    },
    {
     "name": "stdout",
     "output_type": "stream",
     "text": [
      "INFO:tensorflow:Assets written to: ../models/lstm_models/AXISBANK/assets\n"
     ]
    },
    {
     "name": "stderr",
     "output_type": "stream",
     "text": [
      "INFO:tensorflow:Assets written to: ../models/lstm_models/AXISBANK/assets\n",
      "WARNING:absl:<keras.layers.recurrent.LSTMCell object at 0x7f6e28171670> has the same name 'LSTMCell' as a built-in Keras object. Consider renaming <class 'keras.layers.recurrent.LSTMCell'> to avoid naming conflicts when loading with `tf.keras.models.load_model`. If renaming is not possible, pass the object in the `custom_objects` parameter of the load function.\n",
      "WARNING:absl:<keras.layers.recurrent.LSTMCell object at 0x7f6e2814f250> has the same name 'LSTMCell' as a built-in Keras object. Consider renaming <class 'keras.layers.recurrent.LSTMCell'> to avoid naming conflicts when loading with `tf.keras.models.load_model`. If renaming is not possible, pass the object in the `custom_objects` parameter of the load function.\n"
     ]
    },
    {
     "name": "stdout",
     "output_type": "stream",
     "text": [
      "376/376 [==============================] - 20s 53ms/step - loss: 8.3264e-05 - mae: 0.0084 - accuracy: 2.6596e-04 - val_loss: 6.1391e-04 - val_mae: 0.0269 - val_accuracy: 0.0000e+00\n",
      "Epoch 36/100\n",
      "376/376 [==============================] - ETA: 0s - loss: 8.1721e-05 - mae: 0.0083 - accuracy: 2.6596e-04"
     ]
    }
   ],
   "source": [
    "for stock_path in list_of_stocks[0:2]:\n",
    "    lstm_object = lstm.LongShortTermMemory(stock_path)\n",
    "    stock_name = stock_path.replace('../data/raw/stock/yahoo_finance/','')\n",
    "    save_path = \"../models/lstm_models/\" + stock_name\n",
    "    trained_model = lstm_object.train_model(10, 1e-4, save_path)\n",
    "    lstm_object.test_model(save_path)\n",
    "    "
   ]
  },
  {
   "cell_type": "code",
   "execution_count": null,
   "metadata": {},
   "outputs": [],
   "source": [
    "lstm_object = lstm.LongShortTermMemory(stock_path)"
   ]
  },
  {
   "cell_type": "code",
   "execution_count": null,
   "metadata": {},
   "outputs": [],
   "source": [
    "save_path = \"../models/lstm_models/\" + stock_name"
   ]
  },
  {
   "cell_type": "code",
   "execution_count": null,
   "metadata": {},
   "outputs": [],
   "source": [
    "trained_model = lstm_object.train_model(10, 1e-4, save_path)"
   ]
  },
  {
   "cell_type": "code",
   "execution_count": null,
   "metadata": {},
   "outputs": [],
   "source": [
    "lstm_object.test_model(save_path)"
   ]
  }
 ],
 "metadata": {
  "interpreter": {
   "hash": "ed56072c6f91ed32cf61c7f75c4cf4bf0da527d22a01a7641aa726cefce82bd8"
  },
  "kernelspec": {
   "display_name": "Python 3.9.12 ('stock_prediction')",
   "language": "python",
   "name": "python3"
  },
  "language_info": {
   "codemirror_mode": {
    "name": "ipython",
    "version": 3
   },
   "file_extension": ".py",
   "mimetype": "text/x-python",
   "name": "python",
   "nbconvert_exporter": "python",
   "pygments_lexer": "ipython3",
   "version": "3.9.12"
  },
  "orig_nbformat": 4
 },
 "nbformat": 4,
 "nbformat_minor": 2
}
