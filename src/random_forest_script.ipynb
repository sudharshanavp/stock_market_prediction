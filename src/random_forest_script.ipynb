{
 "cells": [
  {
   "cell_type": "code",
   "execution_count": null,
   "metadata": {},
   "outputs": [],
   "source": [
    "import pandas as pd\n",
    "import models.random_forest_model as rf\n",
    "import os"
   ]
  },
  {
   "cell_type": "code",
   "execution_count": null,
   "metadata": {},
   "outputs": [],
   "source": [
    "from joblib import dump\n",
    "pd.options.mode.chained_assignment = None\n"
   ]
  },
  {
   "cell_type": "code",
   "execution_count": null,
   "metadata": {},
   "outputs": [],
   "source": [
    "dataset_path = '../data/processed/stocks/nse_scraped/'\n",
    "stocks = pd.read_csv(\"../data/ind_nifty50list.csv\")\n",
    "\n",
    "list_of_stocks = list(stocks.Symbol)"
   ]
  },
  {
   "cell_type": "code",
   "execution_count": null,
   "metadata": {},
   "outputs": [],
   "source": [
    "stock_name = \"ADANIPORTS\"\n",
    "save_path = \"../models/rf_models/\" + stock_name + \".joblib\"\n",
    "os.path.isfile(save_path)"
   ]
  },
  {
   "cell_type": "code",
   "execution_count": null,
   "metadata": {},
   "outputs": [],
   "source": [
    "list_of_stocks.remove('APOLLOHOSP')"
   ]
  },
  {
   "cell_type": "code",
   "execution_count": null,
   "metadata": {},
   "outputs": [],
   "source": [
    "for stock in list_of_stocks:\n",
    "    stock_name = stock\n",
    "    stock_path = dataset_path + stock_name + \".csv\"\n",
    "    save_path = \"../models/rf_models/\" + stock_name + \".joblib\"\n",
    "    \n",
    "    if os.path.isfile(save_path):\n",
    "        print(stock_name + \" model already exists\")\n",
    "        continue\n",
    "    try: \n",
    "        print(stock_name)\n",
    "        rf_object = rf.RandomForest(stock_path, 14)\n",
    "        rf_object.feature_engineering()\n",
    "        rf_random = rf_object.random_search()\n",
    "        trained_model = rf_object.train_model(rf_random)\n",
    "        dump(trained_model, save_path, compress='zlib')\n",
    "        print(\"Trained \" + stock_name)\n",
    "    except:\n",
    "        print(\"Exception \" + stock_name)"
   ]
  }
 ],
 "metadata": {
  "interpreter": {
   "hash": "ed56072c6f91ed32cf61c7f75c4cf4bf0da527d22a01a7641aa726cefce82bd8"
  },
  "kernelspec": {
   "display_name": "Python 3.9.12 ('stock_prediction')",
   "language": "python",
   "name": "python3"
  },
  "language_info": {
   "codemirror_mode": {
    "name": "ipython",
    "version": 3
   },
   "file_extension": ".py",
   "mimetype": "text/x-python",
   "name": "python",
   "nbconvert_exporter": "python",
   "pygments_lexer": "ipython3",
   "version": "3.9.12"
  },
  "orig_nbformat": 4
 },
 "nbformat": 4,
 "nbformat_minor": 2
}
