{
 "cells": [
  {
   "cell_type": "code",
   "execution_count": 13,
   "metadata": {},
   "outputs": [],
   "source": [
    "import pandas as pd\n",
    "import models.random_forest_model as rf\n",
    "import os"
   ]
  },
  {
   "cell_type": "code",
   "execution_count": 14,
   "metadata": {},
   "outputs": [],
   "source": [
    "from joblib import dump"
   ]
  },
  {
   "cell_type": "code",
   "execution_count": 15,
   "metadata": {},
   "outputs": [],
   "source": [
    "dataset_path = '../data/processed/stocks/nse_scraped/'\n",
    "stocks = pd.read_csv(\"../data/ind_nifty50list.csv\")\n",
    "list_of_stocks = list(stocks.Symbol)"
   ]
  },
  {
   "cell_type": "code",
   "execution_count": 17,
   "metadata": {},
   "outputs": [
    {
     "ename": "TypeError",
     "evalue": "string indices must be integers",
     "output_type": "error",
     "traceback": [
      "\u001b[0;31m---------------------------------------------------------------------------\u001b[0m",
      "\u001b[0;31mTypeError\u001b[0m                                 Traceback (most recent call last)",
      "\u001b[1;32m/home/turner/repos/stock_market_prediction/src/random_forest_script.ipynb Cell 4'\u001b[0m in \u001b[0;36m<cell line: 1>\u001b[0;34m()\u001b[0m\n\u001b[1;32m      <a href='vscode-notebook-cell://wsl%2Bubuntu-20.04/home/turner/repos/stock_market_prediction/src/random_forest_script.ipynb#ch0000002vscode-remote?line=7'>8</a>\u001b[0m     \u001b[39mcontinue\u001b[39;00m\n\u001b[1;32m      <a href='vscode-notebook-cell://wsl%2Bubuntu-20.04/home/turner/repos/stock_market_prediction/src/random_forest_script.ipynb#ch0000002vscode-remote?line=8'>9</a>\u001b[0m rf_object \u001b[39m=\u001b[39m rf\u001b[39m.\u001b[39mRandomForest(stock_path, \u001b[39m14\u001b[39m)\n\u001b[0;32m---> <a href='vscode-notebook-cell://wsl%2Bubuntu-20.04/home/turner/repos/stock_market_prediction/src/random_forest_script.ipynb#ch0000002vscode-remote?line=9'>10</a>\u001b[0m rf_object\u001b[39m.\u001b[39;49mfeature_engineering()\n\u001b[1;32m     <a href='vscode-notebook-cell://wsl%2Bubuntu-20.04/home/turner/repos/stock_market_prediction/src/random_forest_script.ipynb#ch0000002vscode-remote?line=10'>11</a>\u001b[0m trained_model \u001b[39m=\u001b[39m rf_object\u001b[39m.\u001b[39mtrain_model(rf_object\u001b[39m.\u001b[39mrandom_search())\n\u001b[1;32m     <a href='vscode-notebook-cell://wsl%2Bubuntu-20.04/home/turner/repos/stock_market_prediction/src/random_forest_script.ipynb#ch0000002vscode-remote?line=11'>12</a>\u001b[0m dump(trained_model, save_path)\n",
      "File \u001b[0;32m~/repos/stock_market_prediction/src/models/random_forest_model.py:18\u001b[0m, in \u001b[0;36mRandomForest.feature_engineering\u001b[0;34m(self)\u001b[0m\n\u001b[1;32m     <a href='file:///home/turner/repos/stock_market_prediction/src/models/random_forest_model.py?line=16'>17</a>\u001b[0m \u001b[39mdef\u001b[39;00m \u001b[39mfeature_engineering\u001b[39m(\u001b[39mself\u001b[39m):\n\u001b[0;32m---> <a href='file:///home/turner/repos/stock_market_prediction/src/models/random_forest_model.py?line=17'>18</a>\u001b[0m     price_diff_feature \u001b[39m=\u001b[39m StockData\u001b[39m.\u001b[39;49mchange_in_price(\u001b[39mself\u001b[39;49m\u001b[39m.\u001b[39;49min_data)\n\u001b[1;32m     <a href='file:///home/turner/repos/stock_market_prediction/src/models/random_forest_model.py?line=18'>19</a>\u001b[0m     price_diff_feature[\u001b[39m\"\u001b[39m\u001b[39mSymbol\u001b[39m\u001b[39m\"\u001b[39m] \u001b[39m=\u001b[39m \u001b[39mself\u001b[39m\u001b[39m.\u001b[39min_data[\u001b[39m\"\u001b[39m\u001b[39mSymbol\u001b[39m\u001b[39m\"\u001b[39m]\n\u001b[1;32m     <a href='file:///home/turner/repos/stock_market_prediction/src/models/random_forest_model.py?line=20'>21</a>\u001b[0m     rsi_feature \u001b[39m=\u001b[39m StockData\u001b[39m.\u001b[39mrelative_strength_index(\u001b[39mself\u001b[39m\u001b[39m.\u001b[39mdays, price_diff_feature)\n",
      "File \u001b[0;32m~/repos/stock_market_prediction/src/data/stock_prediction_rf_data.py:8\u001b[0m, in \u001b[0;36mchange_in_price\u001b[0;34m(in_data)\u001b[0m\n\u001b[1;32m      <a href='file:///home/turner/repos/stock_market_prediction/src/data/stock_prediction_rf_data.py?line=5'>6</a>\u001b[0m \u001b[39mdef\u001b[39;00m \u001b[39mchange_in_price\u001b[39m(in_data: pd\u001b[39m.\u001b[39mDataFrame):\n\u001b[0;32m----> <a href='file:///home/turner/repos/stock_market_prediction/src/data/stock_prediction_rf_data.py?line=7'>8</a>\u001b[0m     new_data \u001b[39m=\u001b[39m in_data[\n\u001b[1;32m      <a href='file:///home/turner/repos/stock_market_prediction/src/data/stock_prediction_rf_data.py?line=8'>9</a>\u001b[0m         [\n\u001b[1;32m     <a href='file:///home/turner/repos/stock_market_prediction/src/data/stock_prediction_rf_data.py?line=9'>10</a>\u001b[0m             \u001b[39m\"\u001b[39;49m\u001b[39mDate\u001b[39;49m\u001b[39m\"\u001b[39;49m,\n\u001b[1;32m     <a href='file:///home/turner/repos/stock_market_prediction/src/data/stock_prediction_rf_data.py?line=10'>11</a>\u001b[0m             \u001b[39m\"\u001b[39;49m\u001b[39mSymbol\u001b[39;49m\u001b[39m\"\u001b[39;49m,\n\u001b[1;32m     <a href='file:///home/turner/repos/stock_market_prediction/src/data/stock_prediction_rf_data.py?line=11'>12</a>\u001b[0m             \u001b[39m\"\u001b[39;49m\u001b[39mPrev Close\u001b[39;49m\u001b[39m\"\u001b[39;49m,\n\u001b[1;32m     <a href='file:///home/turner/repos/stock_market_prediction/src/data/stock_prediction_rf_data.py?line=12'>13</a>\u001b[0m             \u001b[39m\"\u001b[39;49m\u001b[39mOpen\u001b[39;49m\u001b[39m\"\u001b[39;49m,\n\u001b[1;32m     <a href='file:///home/turner/repos/stock_market_prediction/src/data/stock_prediction_rf_data.py?line=13'>14</a>\u001b[0m             \u001b[39m\"\u001b[39;49m\u001b[39mHigh\u001b[39;49m\u001b[39m\"\u001b[39;49m,\n\u001b[1;32m     <a href='file:///home/turner/repos/stock_market_prediction/src/data/stock_prediction_rf_data.py?line=14'>15</a>\u001b[0m             \u001b[39m\"\u001b[39;49m\u001b[39mLow\u001b[39;49m\u001b[39m\"\u001b[39;49m,\n\u001b[1;32m     <a href='file:///home/turner/repos/stock_market_prediction/src/data/stock_prediction_rf_data.py?line=15'>16</a>\u001b[0m             \u001b[39m\"\u001b[39;49m\u001b[39mLast\u001b[39;49m\u001b[39m\"\u001b[39;49m,\n\u001b[1;32m     <a href='file:///home/turner/repos/stock_market_prediction/src/data/stock_prediction_rf_data.py?line=16'>17</a>\u001b[0m             \u001b[39m\"\u001b[39;49m\u001b[39mClose\u001b[39;49m\u001b[39m\"\u001b[39;49m,\n\u001b[1;32m     <a href='file:///home/turner/repos/stock_market_prediction/src/data/stock_prediction_rf_data.py?line=17'>18</a>\u001b[0m             \u001b[39m\"\u001b[39;49m\u001b[39mVWAP\u001b[39;49m\u001b[39m\"\u001b[39;49m,\n\u001b[1;32m     <a href='file:///home/turner/repos/stock_market_prediction/src/data/stock_prediction_rf_data.py?line=18'>19</a>\u001b[0m             \u001b[39m\"\u001b[39;49m\u001b[39mVolume\u001b[39;49m\u001b[39m\"\u001b[39;49m,\n\u001b[1;32m     <a href='file:///home/turner/repos/stock_market_prediction/src/data/stock_prediction_rf_data.py?line=19'>20</a>\u001b[0m         ]\n\u001b[1;32m     <a href='file:///home/turner/repos/stock_market_prediction/src/data/stock_prediction_rf_data.py?line=20'>21</a>\u001b[0m     ]\n\u001b[1;32m     <a href='file:///home/turner/repos/stock_market_prediction/src/data/stock_prediction_rf_data.py?line=22'>23</a>\u001b[0m     new_data \u001b[39m=\u001b[39m new_data\u001b[39m.\u001b[39msort_values(by\u001b[39m=\u001b[39m[\u001b[39m\"\u001b[39m\u001b[39mSymbol\u001b[39m\u001b[39m\"\u001b[39m, \u001b[39m\"\u001b[39m\u001b[39mDate\u001b[39m\u001b[39m\"\u001b[39m])\n\u001b[1;32m     <a href='file:///home/turner/repos/stock_market_prediction/src/data/stock_prediction_rf_data.py?line=23'>24</a>\u001b[0m     new_data[\u001b[39m\"\u001b[39m\u001b[39mchange_in_price\u001b[39m\u001b[39m\"\u001b[39m] \u001b[39m=\u001b[39m new_data[\u001b[39m\"\u001b[39m\u001b[39mClose\u001b[39m\u001b[39m\"\u001b[39m]\u001b[39m.\u001b[39mdiff()\n",
      "\u001b[0;31mTypeError\u001b[0m: string indices must be integers"
     ]
    }
   ],
   "source": [
    "for stock in list_of_stocks:\n",
    "    stock_name = stock\n",
    "    stock_path = dataset_path + stock_name + \".csv\"\n",
    "    save_path = \"../models/rf_models/\" + stock_name + \".joblib\"\n",
    "    \n",
    "    if os.path.isdir(save_path):\n",
    "        print(stock_name + \" model already exists\")\n",
    "        continue\n",
    "    rf_object = rf.RandomForest(stock_path, 14)\n",
    "    rf_object.feature_engineering()\n",
    "    trained_model = rf_object.train_model(rf_object.random_search())\n",
    "    dump(trained_model, save_path)\n",
    "        \n",
    "    # except:\n",
    "    #     print(\"Exception \" + stock_name)"
   ]
  }
 ],
 "metadata": {
  "interpreter": {
   "hash": "ed56072c6f91ed32cf61c7f75c4cf4bf0da527d22a01a7641aa726cefce82bd8"
  },
  "kernelspec": {
   "display_name": "Python 3.9.12 ('stock_prediction')",
   "language": "python",
   "name": "python3"
  },
  "language_info": {
   "codemirror_mode": {
    "name": "ipython",
    "version": 3
   },
   "file_extension": ".py",
   "mimetype": "text/x-python",
   "name": "python",
   "nbconvert_exporter": "python",
   "pygments_lexer": "ipython3",
   "version": "3.9.12"
  },
  "orig_nbformat": 4
 },
 "nbformat": 4,
 "nbformat_minor": 2
}
