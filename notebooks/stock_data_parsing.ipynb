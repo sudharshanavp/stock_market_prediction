{
 "cells": [
  {
   "cell_type": "code",
   "execution_count": 3,
   "metadata": {},
   "outputs": [],
   "source": [
    "import pandas as pd\n",
    "import pandas_datareader as pdr\n",
    "import time "
   ]
  },
  {
   "cell_type": "code",
   "execution_count": 6,
   "metadata": {},
   "outputs": [],
   "source": [
    "stocks_df = pd.read_csv(\"./data/f_and_o.csv\")\n",
    "\n",
    "stock_selected = []\n",
    "for i in stocks_df['Symbol'].values:\n",
    "    stock_selected.append(i)\n",
    "\n",
    "stock_selected.remove('NIFTY')\n",
    "stock_selected.remove('BANKNIFTY')\n",
    "stock_selected.remove('FINNIFTY')\n",
    "stock_selected.remove('CADILAHC')\n",
    "stock_selected.append('ZYDUSLIFE')"
   ]
  },
  {
   "cell_type": "code",
   "execution_count": 7,
   "metadata": {},
   "outputs": [],
   "source": [
    "def fetch_data(symbol):\n",
    "    try:\n",
    "        \"\"\" Function to save the Open Low high close volume and adjusted_close data. \"\"\"\n",
    "        df = pdr.DataReader(symbol + \".NS\", 'yahoo', start='2000-01-01', end='2022-04-01')\n",
    "        df.to_csv(\"../data/raw/stock/yahoo_finance\" + symbol)\n",
    "    except:\n",
    "        print(symbol + \" does not exist\")"
   ]
  },
  {
   "cell_type": "code",
   "execution_count": null,
   "metadata": {},
   "outputs": [],
   "source": [
    "for i in stock_selected:\n",
    "    fetch_data(symbol = i)\n",
    "    time.sleep(10)\n",
    "    print(i)"
   ]
  }
 ],
 "metadata": {
  "interpreter": {
   "hash": "96c29df3c9882678c9224b48ef6832271283dc1a6410b0d31dfff6ccd69c0f45"
  },
  "kernelspec": {
   "display_name": "Python 3.9.7 ('data_science')",
   "language": "python",
   "name": "python3"
  },
  "language_info": {
   "codemirror_mode": {
    "name": "ipython",
    "version": 3
   },
   "file_extension": ".py",
   "mimetype": "text/x-python",
   "name": "python",
   "nbconvert_exporter": "python",
   "pygments_lexer": "ipython3",
   "version": "3.9.7"
  },
  "orig_nbformat": 4
 },
 "nbformat": 4,
 "nbformat_minor": 2
}
