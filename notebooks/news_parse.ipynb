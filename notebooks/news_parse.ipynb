{
 "cells": [
  {
   "cell_type": "markdown",
   "metadata": {},
   "source": [
    "# News Parse prototyping\n",
    "\n",
    "for sentiment analysis of a specified stock we need to "
   ]
  },
  {
   "cell_type": "code",
   "execution_count": 2,
   "metadata": {},
   "outputs": [
    {
     "name": "stderr",
     "output_type": "stream",
     "text": [
      "/home/turner/miniconda3/envs/stock_prediction/lib/python3.9/site-packages/_distutils_hack/__init__.py:17: UserWarning: Distutils was imported before Setuptools, but importing Setuptools also replaces the `distutils` module in `sys.modules`. This may lead to undesirable behaviors or errors. To avoid these issues, avoid using distutils directly, ensure that setuptools is installed in the traditional way (e.g. not an editable install), and/or make sure that setuptools is always imported before distutils.\n",
      "  warnings.warn(\n",
      "/home/turner/miniconda3/envs/stock_prediction/lib/python3.9/site-packages/_distutils_hack/__init__.py:30: UserWarning: Setuptools is replacing distutils.\n",
      "  warnings.warn(\"Setuptools is replacing distutils.\")\n"
     ]
    },
    {
     "ename": "AssertionError",
     "evalue": "/home/turner/miniconda3/envs/stock_prediction/lib/python3.9/distutils/core.py",
     "output_type": "error",
     "traceback": [
      "\u001b[0;31m---------------------------------------------------------------------------\u001b[0m",
      "\u001b[0;31mAssertionError\u001b[0m                            Traceback (most recent call last)",
      "\u001b[1;32m/home/turner/repos/stock_market_prediction/notebooks/news_parse.ipynb Cell 2'\u001b[0m in \u001b[0;36m<cell line: 6>\u001b[0;34m()\u001b[0m\n\u001b[1;32m      <a href='vscode-notebook-cell://wsl%2Bubuntu-20.04/home/turner/repos/stock_market_prediction/notebooks/news_parse.ipynb#ch0000001vscode-remote?line=2'>3</a>\u001b[0m \u001b[39mfrom\u001b[39;00m \u001b[39mbs4\u001b[39;00m \u001b[39mimport\u001b[39;00m BeautifulSoup\n\u001b[1;32m      <a href='vscode-notebook-cell://wsl%2Bubuntu-20.04/home/turner/repos/stock_market_prediction/notebooks/news_parse.ipynb#ch0000001vscode-remote?line=3'>4</a>\u001b[0m \u001b[39mfrom\u001b[39;00m \u001b[39mrequests\u001b[39;00m \u001b[39mimport\u001b[39;00m get\n\u001b[0;32m----> <a href='vscode-notebook-cell://wsl%2Bubuntu-20.04/home/turner/repos/stock_market_prediction/notebooks/news_parse.ipynb#ch0000001vscode-remote?line=5'>6</a>\u001b[0m \u001b[39mimport\u001b[39;00m \u001b[39mpandas\u001b[39;00m \u001b[39mas\u001b[39;00m \u001b[39mpd\u001b[39;00m\n\u001b[1;32m      <a href='vscode-notebook-cell://wsl%2Bubuntu-20.04/home/turner/repos/stock_market_prediction/notebooks/news_parse.ipynb#ch0000001vscode-remote?line=6'>7</a>\u001b[0m \u001b[39mfrom\u001b[39;00m \u001b[39mnltk\u001b[39;00m\u001b[39m.\u001b[39;00m\u001b[39mcorpus\u001b[39;00m \u001b[39mimport\u001b[39;00m stopwords\n\u001b[1;32m      <a href='vscode-notebook-cell://wsl%2Bubuntu-20.04/home/turner/repos/stock_market_prediction/notebooks/news_parse.ipynb#ch0000001vscode-remote?line=7'>8</a>\u001b[0m \u001b[39mfrom\u001b[39;00m \u001b[39mnltk\u001b[39;00m\u001b[39m.\u001b[39;00m\u001b[39mtokenize\u001b[39;00m \u001b[39mimport\u001b[39;00m word_tokenize\n",
      "File \u001b[0;32m~/miniconda3/envs/stock_prediction/lib/python3.9/site-packages/pandas/__init__.py:48\u001b[0m, in \u001b[0;36m<module>\u001b[0;34m\u001b[0m\n\u001b[1;32m     <a href='file:///~/miniconda3/envs/stock_prediction/lib/python3.9/site-packages/pandas/__init__.py?line=44'>45</a>\u001b[0m \u001b[39m# let init-time option registration happen\u001b[39;00m\n\u001b[1;32m     <a href='file:///~/miniconda3/envs/stock_prediction/lib/python3.9/site-packages/pandas/__init__.py?line=45'>46</a>\u001b[0m \u001b[39mimport\u001b[39;00m \u001b[39mpandas\u001b[39;00m\u001b[39m.\u001b[39;00m\u001b[39mcore\u001b[39;00m\u001b[39m.\u001b[39;00m\u001b[39mconfig_init\u001b[39;00m\n\u001b[0;32m---> <a href='file:///~/miniconda3/envs/stock_prediction/lib/python3.9/site-packages/pandas/__init__.py?line=47'>48</a>\u001b[0m \u001b[39mfrom\u001b[39;00m \u001b[39mpandas\u001b[39;00m\u001b[39m.\u001b[39;00m\u001b[39mcore\u001b[39;00m\u001b[39m.\u001b[39;00m\u001b[39mapi\u001b[39;00m \u001b[39mimport\u001b[39;00m (\n\u001b[1;32m     <a href='file:///~/miniconda3/envs/stock_prediction/lib/python3.9/site-packages/pandas/__init__.py?line=48'>49</a>\u001b[0m     \u001b[39m# dtype\u001b[39;00m\n\u001b[1;32m     <a href='file:///~/miniconda3/envs/stock_prediction/lib/python3.9/site-packages/pandas/__init__.py?line=49'>50</a>\u001b[0m     Int8Dtype,\n\u001b[1;32m     <a href='file:///~/miniconda3/envs/stock_prediction/lib/python3.9/site-packages/pandas/__init__.py?line=50'>51</a>\u001b[0m     Int16Dtype,\n\u001b[1;32m     <a href='file:///~/miniconda3/envs/stock_prediction/lib/python3.9/site-packages/pandas/__init__.py?line=51'>52</a>\u001b[0m     Int32Dtype,\n\u001b[1;32m     <a href='file:///~/miniconda3/envs/stock_prediction/lib/python3.9/site-packages/pandas/__init__.py?line=52'>53</a>\u001b[0m     Int64Dtype,\n\u001b[1;32m     <a href='file:///~/miniconda3/envs/stock_prediction/lib/python3.9/site-packages/pandas/__init__.py?line=53'>54</a>\u001b[0m     UInt8Dtype,\n\u001b[1;32m     <a href='file:///~/miniconda3/envs/stock_prediction/lib/python3.9/site-packages/pandas/__init__.py?line=54'>55</a>\u001b[0m     UInt16Dtype,\n\u001b[1;32m     <a href='file:///~/miniconda3/envs/stock_prediction/lib/python3.9/site-packages/pandas/__init__.py?line=55'>56</a>\u001b[0m     UInt32Dtype,\n\u001b[1;32m     <a href='file:///~/miniconda3/envs/stock_prediction/lib/python3.9/site-packages/pandas/__init__.py?line=56'>57</a>\u001b[0m     UInt64Dtype,\n\u001b[1;32m     <a href='file:///~/miniconda3/envs/stock_prediction/lib/python3.9/site-packages/pandas/__init__.py?line=57'>58</a>\u001b[0m     Float32Dtype,\n\u001b[1;32m     <a href='file:///~/miniconda3/envs/stock_prediction/lib/python3.9/site-packages/pandas/__init__.py?line=58'>59</a>\u001b[0m     Float64Dtype,\n\u001b[1;32m     <a href='file:///~/miniconda3/envs/stock_prediction/lib/python3.9/site-packages/pandas/__init__.py?line=59'>60</a>\u001b[0m     CategoricalDtype,\n\u001b[1;32m     <a href='file:///~/miniconda3/envs/stock_prediction/lib/python3.9/site-packages/pandas/__init__.py?line=60'>61</a>\u001b[0m     PeriodDtype,\n\u001b[1;32m     <a href='file:///~/miniconda3/envs/stock_prediction/lib/python3.9/site-packages/pandas/__init__.py?line=61'>62</a>\u001b[0m     IntervalDtype,\n\u001b[1;32m     <a href='file:///~/miniconda3/envs/stock_prediction/lib/python3.9/site-packages/pandas/__init__.py?line=62'>63</a>\u001b[0m     DatetimeTZDtype,\n\u001b[1;32m     <a href='file:///~/miniconda3/envs/stock_prediction/lib/python3.9/site-packages/pandas/__init__.py?line=63'>64</a>\u001b[0m     StringDtype,\n\u001b[1;32m     <a href='file:///~/miniconda3/envs/stock_prediction/lib/python3.9/site-packages/pandas/__init__.py?line=64'>65</a>\u001b[0m     BooleanDtype,\n\u001b[1;32m     <a href='file:///~/miniconda3/envs/stock_prediction/lib/python3.9/site-packages/pandas/__init__.py?line=65'>66</a>\u001b[0m     \u001b[39m# missing\u001b[39;00m\n\u001b[1;32m     <a href='file:///~/miniconda3/envs/stock_prediction/lib/python3.9/site-packages/pandas/__init__.py?line=66'>67</a>\u001b[0m     NA,\n\u001b[1;32m     <a href='file:///~/miniconda3/envs/stock_prediction/lib/python3.9/site-packages/pandas/__init__.py?line=67'>68</a>\u001b[0m     isna,\n\u001b[1;32m     <a href='file:///~/miniconda3/envs/stock_prediction/lib/python3.9/site-packages/pandas/__init__.py?line=68'>69</a>\u001b[0m     isnull,\n\u001b[1;32m     <a href='file:///~/miniconda3/envs/stock_prediction/lib/python3.9/site-packages/pandas/__init__.py?line=69'>70</a>\u001b[0m     notna,\n\u001b[1;32m     <a href='file:///~/miniconda3/envs/stock_prediction/lib/python3.9/site-packages/pandas/__init__.py?line=70'>71</a>\u001b[0m     notnull,\n\u001b[1;32m     <a href='file:///~/miniconda3/envs/stock_prediction/lib/python3.9/site-packages/pandas/__init__.py?line=71'>72</a>\u001b[0m     \u001b[39m# indexes\u001b[39;00m\n\u001b[1;32m     <a href='file:///~/miniconda3/envs/stock_prediction/lib/python3.9/site-packages/pandas/__init__.py?line=72'>73</a>\u001b[0m     Index,\n\u001b[1;32m     <a href='file:///~/miniconda3/envs/stock_prediction/lib/python3.9/site-packages/pandas/__init__.py?line=73'>74</a>\u001b[0m     CategoricalIndex,\n\u001b[1;32m     <a href='file:///~/miniconda3/envs/stock_prediction/lib/python3.9/site-packages/pandas/__init__.py?line=74'>75</a>\u001b[0m     RangeIndex,\n\u001b[1;32m     <a href='file:///~/miniconda3/envs/stock_prediction/lib/python3.9/site-packages/pandas/__init__.py?line=75'>76</a>\u001b[0m     MultiIndex,\n\u001b[1;32m     <a href='file:///~/miniconda3/envs/stock_prediction/lib/python3.9/site-packages/pandas/__init__.py?line=76'>77</a>\u001b[0m     IntervalIndex,\n\u001b[1;32m     <a href='file:///~/miniconda3/envs/stock_prediction/lib/python3.9/site-packages/pandas/__init__.py?line=77'>78</a>\u001b[0m     TimedeltaIndex,\n\u001b[1;32m     <a href='file:///~/miniconda3/envs/stock_prediction/lib/python3.9/site-packages/pandas/__init__.py?line=78'>79</a>\u001b[0m     DatetimeIndex,\n\u001b[1;32m     <a href='file:///~/miniconda3/envs/stock_prediction/lib/python3.9/site-packages/pandas/__init__.py?line=79'>80</a>\u001b[0m     PeriodIndex,\n\u001b[1;32m     <a href='file:///~/miniconda3/envs/stock_prediction/lib/python3.9/site-packages/pandas/__init__.py?line=80'>81</a>\u001b[0m     IndexSlice,\n\u001b[1;32m     <a href='file:///~/miniconda3/envs/stock_prediction/lib/python3.9/site-packages/pandas/__init__.py?line=81'>82</a>\u001b[0m     \u001b[39m# tseries\u001b[39;00m\n\u001b[1;32m     <a href='file:///~/miniconda3/envs/stock_prediction/lib/python3.9/site-packages/pandas/__init__.py?line=82'>83</a>\u001b[0m     NaT,\n\u001b[1;32m     <a href='file:///~/miniconda3/envs/stock_prediction/lib/python3.9/site-packages/pandas/__init__.py?line=83'>84</a>\u001b[0m     Period,\n\u001b[1;32m     <a href='file:///~/miniconda3/envs/stock_prediction/lib/python3.9/site-packages/pandas/__init__.py?line=84'>85</a>\u001b[0m     period_range,\n\u001b[1;32m     <a href='file:///~/miniconda3/envs/stock_prediction/lib/python3.9/site-packages/pandas/__init__.py?line=85'>86</a>\u001b[0m     Timedelta,\n\u001b[1;32m     <a href='file:///~/miniconda3/envs/stock_prediction/lib/python3.9/site-packages/pandas/__init__.py?line=86'>87</a>\u001b[0m     timedelta_range,\n\u001b[1;32m     <a href='file:///~/miniconda3/envs/stock_prediction/lib/python3.9/site-packages/pandas/__init__.py?line=87'>88</a>\u001b[0m     Timestamp,\n\u001b[1;32m     <a href='file:///~/miniconda3/envs/stock_prediction/lib/python3.9/site-packages/pandas/__init__.py?line=88'>89</a>\u001b[0m     date_range,\n\u001b[1;32m     <a href='file:///~/miniconda3/envs/stock_prediction/lib/python3.9/site-packages/pandas/__init__.py?line=89'>90</a>\u001b[0m     bdate_range,\n\u001b[1;32m     <a href='file:///~/miniconda3/envs/stock_prediction/lib/python3.9/site-packages/pandas/__init__.py?line=90'>91</a>\u001b[0m     Interval,\n\u001b[1;32m     <a href='file:///~/miniconda3/envs/stock_prediction/lib/python3.9/site-packages/pandas/__init__.py?line=91'>92</a>\u001b[0m     interval_range,\n\u001b[1;32m     <a href='file:///~/miniconda3/envs/stock_prediction/lib/python3.9/site-packages/pandas/__init__.py?line=92'>93</a>\u001b[0m     DateOffset,\n\u001b[1;32m     <a href='file:///~/miniconda3/envs/stock_prediction/lib/python3.9/site-packages/pandas/__init__.py?line=93'>94</a>\u001b[0m     \u001b[39m# conversion\u001b[39;00m\n\u001b[1;32m     <a href='file:///~/miniconda3/envs/stock_prediction/lib/python3.9/site-packages/pandas/__init__.py?line=94'>95</a>\u001b[0m     to_numeric,\n\u001b[1;32m     <a href='file:///~/miniconda3/envs/stock_prediction/lib/python3.9/site-packages/pandas/__init__.py?line=95'>96</a>\u001b[0m     to_datetime,\n\u001b[1;32m     <a href='file:///~/miniconda3/envs/stock_prediction/lib/python3.9/site-packages/pandas/__init__.py?line=96'>97</a>\u001b[0m     to_timedelta,\n\u001b[1;32m     <a href='file:///~/miniconda3/envs/stock_prediction/lib/python3.9/site-packages/pandas/__init__.py?line=97'>98</a>\u001b[0m     \u001b[39m# misc\u001b[39;00m\n\u001b[1;32m     <a href='file:///~/miniconda3/envs/stock_prediction/lib/python3.9/site-packages/pandas/__init__.py?line=98'>99</a>\u001b[0m     Flags,\n\u001b[1;32m    <a href='file:///~/miniconda3/envs/stock_prediction/lib/python3.9/site-packages/pandas/__init__.py?line=99'>100</a>\u001b[0m     Grouper,\n\u001b[1;32m    <a href='file:///~/miniconda3/envs/stock_prediction/lib/python3.9/site-packages/pandas/__init__.py?line=100'>101</a>\u001b[0m     factorize,\n\u001b[1;32m    <a href='file:///~/miniconda3/envs/stock_prediction/lib/python3.9/site-packages/pandas/__init__.py?line=101'>102</a>\u001b[0m     unique,\n\u001b[1;32m    <a href='file:///~/miniconda3/envs/stock_prediction/lib/python3.9/site-packages/pandas/__init__.py?line=102'>103</a>\u001b[0m     value_counts,\n\u001b[1;32m    <a href='file:///~/miniconda3/envs/stock_prediction/lib/python3.9/site-packages/pandas/__init__.py?line=103'>104</a>\u001b[0m     NamedAgg,\n\u001b[1;32m    <a href='file:///~/miniconda3/envs/stock_prediction/lib/python3.9/site-packages/pandas/__init__.py?line=104'>105</a>\u001b[0m     array,\n\u001b[1;32m    <a href='file:///~/miniconda3/envs/stock_prediction/lib/python3.9/site-packages/pandas/__init__.py?line=105'>106</a>\u001b[0m     Categorical,\n\u001b[1;32m    <a href='file:///~/miniconda3/envs/stock_prediction/lib/python3.9/site-packages/pandas/__init__.py?line=106'>107</a>\u001b[0m     set_eng_float_format,\n\u001b[1;32m    <a href='file:///~/miniconda3/envs/stock_prediction/lib/python3.9/site-packages/pandas/__init__.py?line=107'>108</a>\u001b[0m     Series,\n\u001b[1;32m    <a href='file:///~/miniconda3/envs/stock_prediction/lib/python3.9/site-packages/pandas/__init__.py?line=108'>109</a>\u001b[0m     DataFrame,\n\u001b[1;32m    <a href='file:///~/miniconda3/envs/stock_prediction/lib/python3.9/site-packages/pandas/__init__.py?line=109'>110</a>\u001b[0m )\n\u001b[1;32m    <a href='file:///~/miniconda3/envs/stock_prediction/lib/python3.9/site-packages/pandas/__init__.py?line=111'>112</a>\u001b[0m \u001b[39mfrom\u001b[39;00m \u001b[39mpandas\u001b[39;00m\u001b[39m.\u001b[39;00m\u001b[39mcore\u001b[39;00m\u001b[39m.\u001b[39;00m\u001b[39marrays\u001b[39;00m\u001b[39m.\u001b[39;00m\u001b[39msparse\u001b[39;00m \u001b[39mimport\u001b[39;00m SparseDtype\n\u001b[1;32m    <a href='file:///~/miniconda3/envs/stock_prediction/lib/python3.9/site-packages/pandas/__init__.py?line=113'>114</a>\u001b[0m \u001b[39mfrom\u001b[39;00m \u001b[39mpandas\u001b[39;00m\u001b[39m.\u001b[39;00m\u001b[39mtseries\u001b[39;00m\u001b[39m.\u001b[39;00m\u001b[39mapi\u001b[39;00m \u001b[39mimport\u001b[39;00m infer_freq\n",
      "File \u001b[0;32m~/miniconda3/envs/stock_prediction/lib/python3.9/site-packages/pandas/core/api.py:29\u001b[0m, in \u001b[0;36m<module>\u001b[0;34m\u001b[0m\n\u001b[1;32m     <a href='file:///~/miniconda3/envs/stock_prediction/lib/python3.9/site-packages/pandas/core/api.py?line=16'>17</a>\u001b[0m \u001b[39mfrom\u001b[39;00m \u001b[39mpandas\u001b[39;00m\u001b[39m.\u001b[39;00m\u001b[39mcore\u001b[39;00m\u001b[39m.\u001b[39;00m\u001b[39mdtypes\u001b[39;00m\u001b[39m.\u001b[39;00m\u001b[39mmissing\u001b[39;00m \u001b[39mimport\u001b[39;00m (\n\u001b[1;32m     <a href='file:///~/miniconda3/envs/stock_prediction/lib/python3.9/site-packages/pandas/core/api.py?line=17'>18</a>\u001b[0m     isna,\n\u001b[1;32m     <a href='file:///~/miniconda3/envs/stock_prediction/lib/python3.9/site-packages/pandas/core/api.py?line=18'>19</a>\u001b[0m     isnull,\n\u001b[1;32m     <a href='file:///~/miniconda3/envs/stock_prediction/lib/python3.9/site-packages/pandas/core/api.py?line=19'>20</a>\u001b[0m     notna,\n\u001b[1;32m     <a href='file:///~/miniconda3/envs/stock_prediction/lib/python3.9/site-packages/pandas/core/api.py?line=20'>21</a>\u001b[0m     notnull,\n\u001b[1;32m     <a href='file:///~/miniconda3/envs/stock_prediction/lib/python3.9/site-packages/pandas/core/api.py?line=21'>22</a>\u001b[0m )\n\u001b[1;32m     <a href='file:///~/miniconda3/envs/stock_prediction/lib/python3.9/site-packages/pandas/core/api.py?line=23'>24</a>\u001b[0m \u001b[39mfrom\u001b[39;00m \u001b[39mpandas\u001b[39;00m\u001b[39m.\u001b[39;00m\u001b[39mcore\u001b[39;00m\u001b[39m.\u001b[39;00m\u001b[39malgorithms\u001b[39;00m \u001b[39mimport\u001b[39;00m (\n\u001b[1;32m     <a href='file:///~/miniconda3/envs/stock_prediction/lib/python3.9/site-packages/pandas/core/api.py?line=24'>25</a>\u001b[0m     factorize,\n\u001b[1;32m     <a href='file:///~/miniconda3/envs/stock_prediction/lib/python3.9/site-packages/pandas/core/api.py?line=25'>26</a>\u001b[0m     unique,\n\u001b[1;32m     <a href='file:///~/miniconda3/envs/stock_prediction/lib/python3.9/site-packages/pandas/core/api.py?line=26'>27</a>\u001b[0m     value_counts,\n\u001b[1;32m     <a href='file:///~/miniconda3/envs/stock_prediction/lib/python3.9/site-packages/pandas/core/api.py?line=27'>28</a>\u001b[0m )\n\u001b[0;32m---> <a href='file:///~/miniconda3/envs/stock_prediction/lib/python3.9/site-packages/pandas/core/api.py?line=28'>29</a>\u001b[0m \u001b[39mfrom\u001b[39;00m \u001b[39mpandas\u001b[39;00m\u001b[39m.\u001b[39;00m\u001b[39mcore\u001b[39;00m\u001b[39m.\u001b[39;00m\u001b[39marrays\u001b[39;00m \u001b[39mimport\u001b[39;00m Categorical\n\u001b[1;32m     <a href='file:///~/miniconda3/envs/stock_prediction/lib/python3.9/site-packages/pandas/core/api.py?line=29'>30</a>\u001b[0m \u001b[39mfrom\u001b[39;00m \u001b[39mpandas\u001b[39;00m\u001b[39m.\u001b[39;00m\u001b[39mcore\u001b[39;00m\u001b[39m.\u001b[39;00m\u001b[39marrays\u001b[39;00m\u001b[39m.\u001b[39;00m\u001b[39mboolean\u001b[39;00m \u001b[39mimport\u001b[39;00m BooleanDtype\n\u001b[1;32m     <a href='file:///~/miniconda3/envs/stock_prediction/lib/python3.9/site-packages/pandas/core/api.py?line=30'>31</a>\u001b[0m \u001b[39mfrom\u001b[39;00m \u001b[39mpandas\u001b[39;00m\u001b[39m.\u001b[39;00m\u001b[39mcore\u001b[39;00m\u001b[39m.\u001b[39;00m\u001b[39marrays\u001b[39;00m\u001b[39m.\u001b[39;00m\u001b[39mfloating\u001b[39;00m \u001b[39mimport\u001b[39;00m (\n\u001b[1;32m     <a href='file:///~/miniconda3/envs/stock_prediction/lib/python3.9/site-packages/pandas/core/api.py?line=31'>32</a>\u001b[0m     Float32Dtype,\n\u001b[1;32m     <a href='file:///~/miniconda3/envs/stock_prediction/lib/python3.9/site-packages/pandas/core/api.py?line=32'>33</a>\u001b[0m     Float64Dtype,\n\u001b[1;32m     <a href='file:///~/miniconda3/envs/stock_prediction/lib/python3.9/site-packages/pandas/core/api.py?line=33'>34</a>\u001b[0m )\n",
      "File \u001b[0;32m~/miniconda3/envs/stock_prediction/lib/python3.9/site-packages/pandas/core/arrays/__init__.py:1\u001b[0m, in \u001b[0;36m<module>\u001b[0;34m\u001b[0m\n\u001b[0;32m----> <a href='file:///~/miniconda3/envs/stock_prediction/lib/python3.9/site-packages/pandas/core/arrays/__init__.py?line=0'>1</a>\u001b[0m \u001b[39mfrom\u001b[39;00m \u001b[39mpandas\u001b[39;00m\u001b[39m.\u001b[39;00m\u001b[39mcore\u001b[39;00m\u001b[39m.\u001b[39;00m\u001b[39marrays\u001b[39;00m\u001b[39m.\u001b[39;00m\u001b[39mbase\u001b[39;00m \u001b[39mimport\u001b[39;00m (\n\u001b[1;32m      <a href='file:///~/miniconda3/envs/stock_prediction/lib/python3.9/site-packages/pandas/core/arrays/__init__.py?line=1'>2</a>\u001b[0m     ExtensionArray,\n\u001b[1;32m      <a href='file:///~/miniconda3/envs/stock_prediction/lib/python3.9/site-packages/pandas/core/arrays/__init__.py?line=2'>3</a>\u001b[0m     ExtensionOpsMixin,\n\u001b[1;32m      <a href='file:///~/miniconda3/envs/stock_prediction/lib/python3.9/site-packages/pandas/core/arrays/__init__.py?line=3'>4</a>\u001b[0m     ExtensionScalarOpsMixin,\n\u001b[1;32m      <a href='file:///~/miniconda3/envs/stock_prediction/lib/python3.9/site-packages/pandas/core/arrays/__init__.py?line=4'>5</a>\u001b[0m )\n\u001b[1;32m      <a href='file:///~/miniconda3/envs/stock_prediction/lib/python3.9/site-packages/pandas/core/arrays/__init__.py?line=5'>6</a>\u001b[0m \u001b[39mfrom\u001b[39;00m \u001b[39mpandas\u001b[39;00m\u001b[39m.\u001b[39;00m\u001b[39mcore\u001b[39;00m\u001b[39m.\u001b[39;00m\u001b[39marrays\u001b[39;00m\u001b[39m.\u001b[39;00m\u001b[39mboolean\u001b[39;00m \u001b[39mimport\u001b[39;00m BooleanArray\n\u001b[1;32m      <a href='file:///~/miniconda3/envs/stock_prediction/lib/python3.9/site-packages/pandas/core/arrays/__init__.py?line=6'>7</a>\u001b[0m \u001b[39mfrom\u001b[39;00m \u001b[39mpandas\u001b[39;00m\u001b[39m.\u001b[39;00m\u001b[39mcore\u001b[39;00m\u001b[39m.\u001b[39;00m\u001b[39marrays\u001b[39;00m\u001b[39m.\u001b[39;00m\u001b[39mcategorical\u001b[39;00m \u001b[39mimport\u001b[39;00m Categorical\n",
      "File \u001b[0;32m~/miniconda3/envs/stock_prediction/lib/python3.9/site-packages/pandas/core/arrays/base.py:68\u001b[0m, in \u001b[0;36m<module>\u001b[0;34m\u001b[0m\n\u001b[1;32m     <a href='file:///~/miniconda3/envs/stock_prediction/lib/python3.9/site-packages/pandas/core/arrays/base.py?line=60'>61</a>\u001b[0m \u001b[39mfrom\u001b[39;00m \u001b[39mpandas\u001b[39;00m\u001b[39m.\u001b[39;00m\u001b[39mcore\u001b[39;00m\u001b[39m.\u001b[39;00m\u001b[39mdtypes\u001b[39;00m\u001b[39m.\u001b[39;00m\u001b[39mgeneric\u001b[39;00m \u001b[39mimport\u001b[39;00m (\n\u001b[1;32m     <a href='file:///~/miniconda3/envs/stock_prediction/lib/python3.9/site-packages/pandas/core/arrays/base.py?line=61'>62</a>\u001b[0m     ABCDataFrame,\n\u001b[1;32m     <a href='file:///~/miniconda3/envs/stock_prediction/lib/python3.9/site-packages/pandas/core/arrays/base.py?line=62'>63</a>\u001b[0m     ABCIndex,\n\u001b[1;32m     <a href='file:///~/miniconda3/envs/stock_prediction/lib/python3.9/site-packages/pandas/core/arrays/base.py?line=63'>64</a>\u001b[0m     ABCSeries,\n\u001b[1;32m     <a href='file:///~/miniconda3/envs/stock_prediction/lib/python3.9/site-packages/pandas/core/arrays/base.py?line=64'>65</a>\u001b[0m )\n\u001b[1;32m     <a href='file:///~/miniconda3/envs/stock_prediction/lib/python3.9/site-packages/pandas/core/arrays/base.py?line=65'>66</a>\u001b[0m \u001b[39mfrom\u001b[39;00m \u001b[39mpandas\u001b[39;00m\u001b[39m.\u001b[39;00m\u001b[39mcore\u001b[39;00m\u001b[39m.\u001b[39;00m\u001b[39mdtypes\u001b[39;00m\u001b[39m.\u001b[39;00m\u001b[39mmissing\u001b[39;00m \u001b[39mimport\u001b[39;00m isna\n\u001b[0;32m---> <a href='file:///~/miniconda3/envs/stock_prediction/lib/python3.9/site-packages/pandas/core/arrays/base.py?line=67'>68</a>\u001b[0m \u001b[39mfrom\u001b[39;00m \u001b[39mpandas\u001b[39;00m\u001b[39m.\u001b[39;00m\u001b[39mcore\u001b[39;00m \u001b[39mimport\u001b[39;00m (\n\u001b[1;32m     <a href='file:///~/miniconda3/envs/stock_prediction/lib/python3.9/site-packages/pandas/core/arrays/base.py?line=68'>69</a>\u001b[0m     arraylike,\n\u001b[1;32m     <a href='file:///~/miniconda3/envs/stock_prediction/lib/python3.9/site-packages/pandas/core/arrays/base.py?line=69'>70</a>\u001b[0m     missing,\n\u001b[1;32m     <a href='file:///~/miniconda3/envs/stock_prediction/lib/python3.9/site-packages/pandas/core/arrays/base.py?line=70'>71</a>\u001b[0m     roperator,\n\u001b[1;32m     <a href='file:///~/miniconda3/envs/stock_prediction/lib/python3.9/site-packages/pandas/core/arrays/base.py?line=71'>72</a>\u001b[0m )\n\u001b[1;32m     <a href='file:///~/miniconda3/envs/stock_prediction/lib/python3.9/site-packages/pandas/core/arrays/base.py?line=72'>73</a>\u001b[0m \u001b[39mfrom\u001b[39;00m \u001b[39mpandas\u001b[39;00m\u001b[39m.\u001b[39;00m\u001b[39mcore\u001b[39;00m\u001b[39m.\u001b[39;00m\u001b[39malgorithms\u001b[39;00m \u001b[39mimport\u001b[39;00m (\n\u001b[1;32m     <a href='file:///~/miniconda3/envs/stock_prediction/lib/python3.9/site-packages/pandas/core/arrays/base.py?line=73'>74</a>\u001b[0m     factorize_array,\n\u001b[1;32m     <a href='file:///~/miniconda3/envs/stock_prediction/lib/python3.9/site-packages/pandas/core/arrays/base.py?line=74'>75</a>\u001b[0m     isin,\n\u001b[0;32m   (...)\u001b[0m\n\u001b[1;32m     <a href='file:///~/miniconda3/envs/stock_prediction/lib/python3.9/site-packages/pandas/core/arrays/base.py?line=77'>78</a>\u001b[0m     unique,\n\u001b[1;32m     <a href='file:///~/miniconda3/envs/stock_prediction/lib/python3.9/site-packages/pandas/core/arrays/base.py?line=78'>79</a>\u001b[0m )\n\u001b[1;32m     <a href='file:///~/miniconda3/envs/stock_prediction/lib/python3.9/site-packages/pandas/core/arrays/base.py?line=79'>80</a>\u001b[0m \u001b[39mfrom\u001b[39;00m \u001b[39mpandas\u001b[39;00m\u001b[39m.\u001b[39;00m\u001b[39mcore\u001b[39;00m\u001b[39m.\u001b[39;00m\u001b[39marray_algos\u001b[39;00m\u001b[39m.\u001b[39;00m\u001b[39mquantile\u001b[39;00m \u001b[39mimport\u001b[39;00m quantile_with_mask\n",
      "File \u001b[0;32m~/miniconda3/envs/stock_prediction/lib/python3.9/site-packages/pandas/core/arraylike.py:21\u001b[0m, in \u001b[0;36m<module>\u001b[0;34m\u001b[0m\n\u001b[1;32m     <a href='file:///~/miniconda3/envs/stock_prediction/lib/python3.9/site-packages/pandas/core/arraylike.py?line=18'>19</a>\u001b[0m \u001b[39mfrom\u001b[39;00m \u001b[39mpandas\u001b[39;00m\u001b[39m.\u001b[39;00m\u001b[39mcore\u001b[39;00m \u001b[39mimport\u001b[39;00m roperator\n\u001b[1;32m     <a href='file:///~/miniconda3/envs/stock_prediction/lib/python3.9/site-packages/pandas/core/arraylike.py?line=19'>20</a>\u001b[0m \u001b[39mfrom\u001b[39;00m \u001b[39mpandas\u001b[39;00m\u001b[39m.\u001b[39;00m\u001b[39mcore\u001b[39;00m\u001b[39m.\u001b[39;00m\u001b[39mconstruction\u001b[39;00m \u001b[39mimport\u001b[39;00m extract_array\n\u001b[0;32m---> <a href='file:///~/miniconda3/envs/stock_prediction/lib/python3.9/site-packages/pandas/core/arraylike.py?line=20'>21</a>\u001b[0m \u001b[39mfrom\u001b[39;00m \u001b[39mpandas\u001b[39;00m\u001b[39m.\u001b[39;00m\u001b[39mcore\u001b[39;00m\u001b[39m.\u001b[39;00m\u001b[39mops\u001b[39;00m\u001b[39m.\u001b[39;00m\u001b[39mcommon\u001b[39;00m \u001b[39mimport\u001b[39;00m unpack_zerodim_and_defer\n\u001b[1;32m     <a href='file:///~/miniconda3/envs/stock_prediction/lib/python3.9/site-packages/pandas/core/arraylike.py?line=22'>23</a>\u001b[0m REDUCTION_ALIASES \u001b[39m=\u001b[39m {\n\u001b[1;32m     <a href='file:///~/miniconda3/envs/stock_prediction/lib/python3.9/site-packages/pandas/core/arraylike.py?line=23'>24</a>\u001b[0m     \u001b[39m\"\u001b[39m\u001b[39mmaximum\u001b[39m\u001b[39m\"\u001b[39m: \u001b[39m\"\u001b[39m\u001b[39mmax\u001b[39m\u001b[39m\"\u001b[39m,\n\u001b[1;32m     <a href='file:///~/miniconda3/envs/stock_prediction/lib/python3.9/site-packages/pandas/core/arraylike.py?line=24'>25</a>\u001b[0m     \u001b[39m\"\u001b[39m\u001b[39mminimum\u001b[39m\u001b[39m\"\u001b[39m: \u001b[39m\"\u001b[39m\u001b[39mmin\u001b[39m\u001b[39m\"\u001b[39m,\n\u001b[1;32m     <a href='file:///~/miniconda3/envs/stock_prediction/lib/python3.9/site-packages/pandas/core/arraylike.py?line=25'>26</a>\u001b[0m     \u001b[39m\"\u001b[39m\u001b[39madd\u001b[39m\u001b[39m\"\u001b[39m: \u001b[39m\"\u001b[39m\u001b[39msum\u001b[39m\u001b[39m\"\u001b[39m,\n\u001b[1;32m     <a href='file:///~/miniconda3/envs/stock_prediction/lib/python3.9/site-packages/pandas/core/arraylike.py?line=26'>27</a>\u001b[0m     \u001b[39m\"\u001b[39m\u001b[39mmultiply\u001b[39m\u001b[39m\"\u001b[39m: \u001b[39m\"\u001b[39m\u001b[39mprod\u001b[39m\u001b[39m\"\u001b[39m,\n\u001b[1;32m     <a href='file:///~/miniconda3/envs/stock_prediction/lib/python3.9/site-packages/pandas/core/arraylike.py?line=27'>28</a>\u001b[0m }\n\u001b[1;32m     <a href='file:///~/miniconda3/envs/stock_prediction/lib/python3.9/site-packages/pandas/core/arraylike.py?line=30'>31</a>\u001b[0m \u001b[39mclass\u001b[39;00m \u001b[39mOpsMixin\u001b[39;00m:\n\u001b[1;32m     <a href='file:///~/miniconda3/envs/stock_prediction/lib/python3.9/site-packages/pandas/core/arraylike.py?line=31'>32</a>\u001b[0m     \u001b[39m# -------------------------------------------------------------\u001b[39;00m\n\u001b[1;32m     <a href='file:///~/miniconda3/envs/stock_prediction/lib/python3.9/site-packages/pandas/core/arraylike.py?line=32'>33</a>\u001b[0m     \u001b[39m# Comparisons\u001b[39;00m\n",
      "File \u001b[0;32m~/miniconda3/envs/stock_prediction/lib/python3.9/site-packages/pandas/core/ops/__init__.py:33\u001b[0m, in \u001b[0;36m<module>\u001b[0;34m\u001b[0m\n\u001b[1;32m     <a href='file:///~/miniconda3/envs/stock_prediction/lib/python3.9/site-packages/pandas/core/ops/__init__.py?line=26'>27</a>\u001b[0m \u001b[39mfrom\u001b[39;00m \u001b[39mpandas\u001b[39;00m\u001b[39m.\u001b[39;00m\u001b[39mcore\u001b[39;00m\u001b[39m.\u001b[39;00m\u001b[39mdtypes\u001b[39;00m\u001b[39m.\u001b[39;00m\u001b[39mmissing\u001b[39;00m \u001b[39mimport\u001b[39;00m isna\n\u001b[1;32m     <a href='file:///~/miniconda3/envs/stock_prediction/lib/python3.9/site-packages/pandas/core/ops/__init__.py?line=28'>29</a>\u001b[0m \u001b[39mfrom\u001b[39;00m \u001b[39mpandas\u001b[39;00m\u001b[39m.\u001b[39;00m\u001b[39mcore\u001b[39;00m \u001b[39mimport\u001b[39;00m (\n\u001b[1;32m     <a href='file:///~/miniconda3/envs/stock_prediction/lib/python3.9/site-packages/pandas/core/ops/__init__.py?line=29'>30</a>\u001b[0m     algorithms,\n\u001b[1;32m     <a href='file:///~/miniconda3/envs/stock_prediction/lib/python3.9/site-packages/pandas/core/ops/__init__.py?line=30'>31</a>\u001b[0m     roperator,\n\u001b[1;32m     <a href='file:///~/miniconda3/envs/stock_prediction/lib/python3.9/site-packages/pandas/core/ops/__init__.py?line=31'>32</a>\u001b[0m )\n\u001b[0;32m---> <a href='file:///~/miniconda3/envs/stock_prediction/lib/python3.9/site-packages/pandas/core/ops/__init__.py?line=32'>33</a>\u001b[0m \u001b[39mfrom\u001b[39;00m \u001b[39mpandas\u001b[39;00m\u001b[39m.\u001b[39;00m\u001b[39mcore\u001b[39;00m\u001b[39m.\u001b[39;00m\u001b[39mops\u001b[39;00m\u001b[39m.\u001b[39;00m\u001b[39marray_ops\u001b[39;00m \u001b[39mimport\u001b[39;00m (  \u001b[39m# noqa:F401\u001b[39;00m\n\u001b[1;32m     <a href='file:///~/miniconda3/envs/stock_prediction/lib/python3.9/site-packages/pandas/core/ops/__init__.py?line=33'>34</a>\u001b[0m     arithmetic_op,\n\u001b[1;32m     <a href='file:///~/miniconda3/envs/stock_prediction/lib/python3.9/site-packages/pandas/core/ops/__init__.py?line=34'>35</a>\u001b[0m     comp_method_OBJECT_ARRAY,\n\u001b[1;32m     <a href='file:///~/miniconda3/envs/stock_prediction/lib/python3.9/site-packages/pandas/core/ops/__init__.py?line=35'>36</a>\u001b[0m     comparison_op,\n\u001b[1;32m     <a href='file:///~/miniconda3/envs/stock_prediction/lib/python3.9/site-packages/pandas/core/ops/__init__.py?line=36'>37</a>\u001b[0m     get_array_op,\n\u001b[1;32m     <a href='file:///~/miniconda3/envs/stock_prediction/lib/python3.9/site-packages/pandas/core/ops/__init__.py?line=37'>38</a>\u001b[0m     logical_op,\n\u001b[1;32m     <a href='file:///~/miniconda3/envs/stock_prediction/lib/python3.9/site-packages/pandas/core/ops/__init__.py?line=38'>39</a>\u001b[0m     maybe_prepare_scalar_for_op,\n\u001b[1;32m     <a href='file:///~/miniconda3/envs/stock_prediction/lib/python3.9/site-packages/pandas/core/ops/__init__.py?line=39'>40</a>\u001b[0m )\n\u001b[1;32m     <a href='file:///~/miniconda3/envs/stock_prediction/lib/python3.9/site-packages/pandas/core/ops/__init__.py?line=40'>41</a>\u001b[0m \u001b[39mfrom\u001b[39;00m \u001b[39mpandas\u001b[39;00m\u001b[39m.\u001b[39;00m\u001b[39mcore\u001b[39;00m\u001b[39m.\u001b[39;00m\u001b[39mops\u001b[39;00m\u001b[39m.\u001b[39;00m\u001b[39mcommon\u001b[39;00m \u001b[39mimport\u001b[39;00m (  \u001b[39m# noqa:F401\u001b[39;00m\n\u001b[1;32m     <a href='file:///~/miniconda3/envs/stock_prediction/lib/python3.9/site-packages/pandas/core/ops/__init__.py?line=41'>42</a>\u001b[0m     get_op_result_name,\n\u001b[1;32m     <a href='file:///~/miniconda3/envs/stock_prediction/lib/python3.9/site-packages/pandas/core/ops/__init__.py?line=42'>43</a>\u001b[0m     unpack_zerodim_and_defer,\n\u001b[1;32m     <a href='file:///~/miniconda3/envs/stock_prediction/lib/python3.9/site-packages/pandas/core/ops/__init__.py?line=43'>44</a>\u001b[0m )\n\u001b[1;32m     <a href='file:///~/miniconda3/envs/stock_prediction/lib/python3.9/site-packages/pandas/core/ops/__init__.py?line=44'>45</a>\u001b[0m \u001b[39mfrom\u001b[39;00m \u001b[39mpandas\u001b[39;00m\u001b[39m.\u001b[39;00m\u001b[39mcore\u001b[39;00m\u001b[39m.\u001b[39;00m\u001b[39mops\u001b[39;00m\u001b[39m.\u001b[39;00m\u001b[39mdocstrings\u001b[39;00m \u001b[39mimport\u001b[39;00m (\n\u001b[1;32m     <a href='file:///~/miniconda3/envs/stock_prediction/lib/python3.9/site-packages/pandas/core/ops/__init__.py?line=45'>46</a>\u001b[0m     _flex_comp_doc_FRAME,\n\u001b[1;32m     <a href='file:///~/miniconda3/envs/stock_prediction/lib/python3.9/site-packages/pandas/core/ops/__init__.py?line=46'>47</a>\u001b[0m     _op_descriptions,\n\u001b[1;32m     <a href='file:///~/miniconda3/envs/stock_prediction/lib/python3.9/site-packages/pandas/core/ops/__init__.py?line=47'>48</a>\u001b[0m     make_flex_doc,\n\u001b[1;32m     <a href='file:///~/miniconda3/envs/stock_prediction/lib/python3.9/site-packages/pandas/core/ops/__init__.py?line=48'>49</a>\u001b[0m )\n",
      "File \u001b[0;32m~/miniconda3/envs/stock_prediction/lib/python3.9/site-packages/pandas/core/ops/array_ops.py:48\u001b[0m, in \u001b[0;36m<module>\u001b[0;34m\u001b[0m\n\u001b[1;32m     <a href='file:///~/miniconda3/envs/stock_prediction/lib/python3.9/site-packages/pandas/core/ops/array_ops.py?line=37'>38</a>\u001b[0m \u001b[39mfrom\u001b[39;00m \u001b[39mpandas\u001b[39;00m\u001b[39m.\u001b[39;00m\u001b[39mcore\u001b[39;00m\u001b[39m.\u001b[39;00m\u001b[39mdtypes\u001b[39;00m\u001b[39m.\u001b[39;00m\u001b[39mgeneric\u001b[39;00m \u001b[39mimport\u001b[39;00m (\n\u001b[1;32m     <a href='file:///~/miniconda3/envs/stock_prediction/lib/python3.9/site-packages/pandas/core/ops/array_ops.py?line=38'>39</a>\u001b[0m     ABCExtensionArray,\n\u001b[1;32m     <a href='file:///~/miniconda3/envs/stock_prediction/lib/python3.9/site-packages/pandas/core/ops/array_ops.py?line=39'>40</a>\u001b[0m     ABCIndex,\n\u001b[1;32m     <a href='file:///~/miniconda3/envs/stock_prediction/lib/python3.9/site-packages/pandas/core/ops/array_ops.py?line=40'>41</a>\u001b[0m     ABCSeries,\n\u001b[1;32m     <a href='file:///~/miniconda3/envs/stock_prediction/lib/python3.9/site-packages/pandas/core/ops/array_ops.py?line=41'>42</a>\u001b[0m )\n\u001b[1;32m     <a href='file:///~/miniconda3/envs/stock_prediction/lib/python3.9/site-packages/pandas/core/ops/array_ops.py?line=42'>43</a>\u001b[0m \u001b[39mfrom\u001b[39;00m \u001b[39mpandas\u001b[39;00m\u001b[39m.\u001b[39;00m\u001b[39mcore\u001b[39;00m\u001b[39m.\u001b[39;00m\u001b[39mdtypes\u001b[39;00m\u001b[39m.\u001b[39;00m\u001b[39mmissing\u001b[39;00m \u001b[39mimport\u001b[39;00m (\n\u001b[1;32m     <a href='file:///~/miniconda3/envs/stock_prediction/lib/python3.9/site-packages/pandas/core/ops/array_ops.py?line=43'>44</a>\u001b[0m     isna,\n\u001b[1;32m     <a href='file:///~/miniconda3/envs/stock_prediction/lib/python3.9/site-packages/pandas/core/ops/array_ops.py?line=44'>45</a>\u001b[0m     notna,\n\u001b[1;32m     <a href='file:///~/miniconda3/envs/stock_prediction/lib/python3.9/site-packages/pandas/core/ops/array_ops.py?line=45'>46</a>\u001b[0m )\n\u001b[0;32m---> <a href='file:///~/miniconda3/envs/stock_prediction/lib/python3.9/site-packages/pandas/core/ops/array_ops.py?line=47'>48</a>\u001b[0m \u001b[39mimport\u001b[39;00m \u001b[39mpandas\u001b[39;00m\u001b[39m.\u001b[39;00m\u001b[39mcore\u001b[39;00m\u001b[39m.\u001b[39;00m\u001b[39mcomputation\u001b[39;00m\u001b[39m.\u001b[39;00m\u001b[39mexpressions\u001b[39;00m \u001b[39mas\u001b[39;00m \u001b[39mexpressions\u001b[39;00m\n\u001b[1;32m     <a href='file:///~/miniconda3/envs/stock_prediction/lib/python3.9/site-packages/pandas/core/ops/array_ops.py?line=48'>49</a>\u001b[0m \u001b[39mfrom\u001b[39;00m \u001b[39mpandas\u001b[39;00m\u001b[39m.\u001b[39;00m\u001b[39mcore\u001b[39;00m\u001b[39m.\u001b[39;00m\u001b[39mconstruction\u001b[39;00m \u001b[39mimport\u001b[39;00m ensure_wrapped_if_datetimelike\n\u001b[1;32m     <a href='file:///~/miniconda3/envs/stock_prediction/lib/python3.9/site-packages/pandas/core/ops/array_ops.py?line=49'>50</a>\u001b[0m \u001b[39mfrom\u001b[39;00m \u001b[39mpandas\u001b[39;00m\u001b[39m.\u001b[39;00m\u001b[39mcore\u001b[39;00m\u001b[39m.\u001b[39;00m\u001b[39mops\u001b[39;00m \u001b[39mimport\u001b[39;00m (\n\u001b[1;32m     <a href='file:///~/miniconda3/envs/stock_prediction/lib/python3.9/site-packages/pandas/core/ops/array_ops.py?line=50'>51</a>\u001b[0m     missing,\n\u001b[1;32m     <a href='file:///~/miniconda3/envs/stock_prediction/lib/python3.9/site-packages/pandas/core/ops/array_ops.py?line=51'>52</a>\u001b[0m     roperator,\n\u001b[1;32m     <a href='file:///~/miniconda3/envs/stock_prediction/lib/python3.9/site-packages/pandas/core/ops/array_ops.py?line=52'>53</a>\u001b[0m )\n",
      "File \u001b[0;32m~/miniconda3/envs/stock_prediction/lib/python3.9/site-packages/pandas/core/computation/expressions.py:19\u001b[0m, in \u001b[0;36m<module>\u001b[0;34m\u001b[0m\n\u001b[1;32m     <a href='file:///~/miniconda3/envs/stock_prediction/lib/python3.9/site-packages/pandas/core/computation/expressions.py?line=14'>15</a>\u001b[0m \u001b[39mfrom\u001b[39;00m \u001b[39mpandas\u001b[39;00m\u001b[39m.\u001b[39;00m\u001b[39m_config\u001b[39;00m \u001b[39mimport\u001b[39;00m get_option\n\u001b[1;32m     <a href='file:///~/miniconda3/envs/stock_prediction/lib/python3.9/site-packages/pandas/core/computation/expressions.py?line=16'>17</a>\u001b[0m \u001b[39mfrom\u001b[39;00m \u001b[39mpandas\u001b[39;00m\u001b[39m.\u001b[39;00m\u001b[39m_typing\u001b[39;00m \u001b[39mimport\u001b[39;00m FuncType\n\u001b[0;32m---> <a href='file:///~/miniconda3/envs/stock_prediction/lib/python3.9/site-packages/pandas/core/computation/expressions.py?line=18'>19</a>\u001b[0m \u001b[39mfrom\u001b[39;00m \u001b[39mpandas\u001b[39;00m\u001b[39m.\u001b[39;00m\u001b[39mcore\u001b[39;00m\u001b[39m.\u001b[39;00m\u001b[39mcomputation\u001b[39;00m\u001b[39m.\u001b[39;00m\u001b[39mcheck\u001b[39;00m \u001b[39mimport\u001b[39;00m NUMEXPR_INSTALLED\n\u001b[1;32m     <a href='file:///~/miniconda3/envs/stock_prediction/lib/python3.9/site-packages/pandas/core/computation/expressions.py?line=19'>20</a>\u001b[0m \u001b[39mfrom\u001b[39;00m \u001b[39mpandas\u001b[39;00m\u001b[39m.\u001b[39;00m\u001b[39mcore\u001b[39;00m\u001b[39m.\u001b[39;00m\u001b[39mops\u001b[39;00m \u001b[39mimport\u001b[39;00m roperator\n\u001b[1;32m     <a href='file:///~/miniconda3/envs/stock_prediction/lib/python3.9/site-packages/pandas/core/computation/expressions.py?line=21'>22</a>\u001b[0m \u001b[39mif\u001b[39;00m NUMEXPR_INSTALLED:\n",
      "File \u001b[0;32m~/miniconda3/envs/stock_prediction/lib/python3.9/site-packages/pandas/core/computation/check.py:3\u001b[0m, in \u001b[0;36m<module>\u001b[0;34m\u001b[0m\n\u001b[1;32m      <a href='file:///~/miniconda3/envs/stock_prediction/lib/python3.9/site-packages/pandas/core/computation/check.py?line=0'>1</a>\u001b[0m \u001b[39mfrom\u001b[39;00m \u001b[39mpandas\u001b[39;00m\u001b[39m.\u001b[39;00m\u001b[39mcompat\u001b[39;00m\u001b[39m.\u001b[39;00m\u001b[39m_optional\u001b[39;00m \u001b[39mimport\u001b[39;00m import_optional_dependency\n\u001b[0;32m----> <a href='file:///~/miniconda3/envs/stock_prediction/lib/python3.9/site-packages/pandas/core/computation/check.py?line=2'>3</a>\u001b[0m ne \u001b[39m=\u001b[39m import_optional_dependency(\u001b[39m\"\u001b[39;49m\u001b[39mnumexpr\u001b[39;49m\u001b[39m\"\u001b[39;49m, errors\u001b[39m=\u001b[39;49m\u001b[39m\"\u001b[39;49m\u001b[39mwarn\u001b[39;49m\u001b[39m\"\u001b[39;49m)\n\u001b[1;32m      <a href='file:///~/miniconda3/envs/stock_prediction/lib/python3.9/site-packages/pandas/core/computation/check.py?line=3'>4</a>\u001b[0m NUMEXPR_INSTALLED \u001b[39m=\u001b[39m ne \u001b[39mis\u001b[39;00m \u001b[39mnot\u001b[39;00m \u001b[39mNone\u001b[39;00m\n\u001b[1;32m      <a href='file:///~/miniconda3/envs/stock_prediction/lib/python3.9/site-packages/pandas/core/computation/check.py?line=4'>5</a>\u001b[0m \u001b[39mif\u001b[39;00m NUMEXPR_INSTALLED:\n",
      "File \u001b[0;32m~/miniconda3/envs/stock_prediction/lib/python3.9/site-packages/pandas/compat/_optional.py:138\u001b[0m, in \u001b[0;36mimport_optional_dependency\u001b[0;34m(name, extra, errors, min_version)\u001b[0m\n\u001b[1;32m    <a href='file:///~/miniconda3/envs/stock_prediction/lib/python3.9/site-packages/pandas/compat/_optional.py?line=132'>133</a>\u001b[0m msg \u001b[39m=\u001b[39m (\n\u001b[1;32m    <a href='file:///~/miniconda3/envs/stock_prediction/lib/python3.9/site-packages/pandas/compat/_optional.py?line=133'>134</a>\u001b[0m     \u001b[39mf\u001b[39m\u001b[39m\"\u001b[39m\u001b[39mMissing optional dependency \u001b[39m\u001b[39m'\u001b[39m\u001b[39m{\u001b[39;00minstall_name\u001b[39m}\u001b[39;00m\u001b[39m'\u001b[39m\u001b[39m. \u001b[39m\u001b[39m{\u001b[39;00mextra\u001b[39m}\u001b[39;00m\u001b[39m \u001b[39m\u001b[39m\"\u001b[39m\n\u001b[1;32m    <a href='file:///~/miniconda3/envs/stock_prediction/lib/python3.9/site-packages/pandas/compat/_optional.py?line=134'>135</a>\u001b[0m     \u001b[39mf\u001b[39m\u001b[39m\"\u001b[39m\u001b[39mUse pip or conda to install \u001b[39m\u001b[39m{\u001b[39;00minstall_name\u001b[39m}\u001b[39;00m\u001b[39m.\u001b[39m\u001b[39m\"\u001b[39m\n\u001b[1;32m    <a href='file:///~/miniconda3/envs/stock_prediction/lib/python3.9/site-packages/pandas/compat/_optional.py?line=135'>136</a>\u001b[0m )\n\u001b[1;32m    <a href='file:///~/miniconda3/envs/stock_prediction/lib/python3.9/site-packages/pandas/compat/_optional.py?line=136'>137</a>\u001b[0m \u001b[39mtry\u001b[39;00m:\n\u001b[0;32m--> <a href='file:///~/miniconda3/envs/stock_prediction/lib/python3.9/site-packages/pandas/compat/_optional.py?line=137'>138</a>\u001b[0m     module \u001b[39m=\u001b[39m importlib\u001b[39m.\u001b[39;49mimport_module(name)\n\u001b[1;32m    <a href='file:///~/miniconda3/envs/stock_prediction/lib/python3.9/site-packages/pandas/compat/_optional.py?line=138'>139</a>\u001b[0m \u001b[39mexcept\u001b[39;00m \u001b[39mImportError\u001b[39;00m:\n\u001b[1;32m    <a href='file:///~/miniconda3/envs/stock_prediction/lib/python3.9/site-packages/pandas/compat/_optional.py?line=139'>140</a>\u001b[0m     \u001b[39mif\u001b[39;00m errors \u001b[39m==\u001b[39m \u001b[39m\"\u001b[39m\u001b[39mraise\u001b[39m\u001b[39m\"\u001b[39m:\n",
      "File \u001b[0;32m~/miniconda3/envs/stock_prediction/lib/python3.9/importlib/__init__.py:127\u001b[0m, in \u001b[0;36mimport_module\u001b[0;34m(name, package)\u001b[0m\n\u001b[1;32m    <a href='file:///~/miniconda3/envs/stock_prediction/lib/python3.9/importlib/__init__.py?line=124'>125</a>\u001b[0m             \u001b[39mbreak\u001b[39;00m\n\u001b[1;32m    <a href='file:///~/miniconda3/envs/stock_prediction/lib/python3.9/importlib/__init__.py?line=125'>126</a>\u001b[0m         level \u001b[39m+\u001b[39m\u001b[39m=\u001b[39m \u001b[39m1\u001b[39m\n\u001b[0;32m--> <a href='file:///~/miniconda3/envs/stock_prediction/lib/python3.9/importlib/__init__.py?line=126'>127</a>\u001b[0m \u001b[39mreturn\u001b[39;00m _bootstrap\u001b[39m.\u001b[39;49m_gcd_import(name[level:], package, level)\n",
      "File \u001b[0;32m~/miniconda3/envs/stock_prediction/lib/python3.9/site-packages/numexpr/__init__.py:33\u001b[0m, in \u001b[0;36m<module>\u001b[0;34m\u001b[0m\n\u001b[1;32m     <a href='file:///~/miniconda3/envs/stock_prediction/lib/python3.9/site-packages/numexpr/__init__.py?line=30'>31</a>\u001b[0m \u001b[39mimport\u001b[39;00m \u001b[39mos\u001b[39;00m\u001b[39m,\u001b[39m \u001b[39mos\u001b[39;00m\u001b[39m.\u001b[39;00m\u001b[39mpath\u001b[39;00m\n\u001b[1;32m     <a href='file:///~/miniconda3/envs/stock_prediction/lib/python3.9/site-packages/numexpr/__init__.py?line=31'>32</a>\u001b[0m \u001b[39mimport\u001b[39;00m \u001b[39mplatform\u001b[39;00m\n\u001b[0;32m---> <a href='file:///~/miniconda3/envs/stock_prediction/lib/python3.9/site-packages/numexpr/__init__.py?line=32'>33</a>\u001b[0m \u001b[39mfrom\u001b[39;00m \u001b[39mnumexpr\u001b[39;00m\u001b[39m.\u001b[39;00m\u001b[39mexpressions\u001b[39;00m \u001b[39mimport\u001b[39;00m E\n\u001b[1;32m     <a href='file:///~/miniconda3/envs/stock_prediction/lib/python3.9/site-packages/numexpr/__init__.py?line=33'>34</a>\u001b[0m \u001b[39mfrom\u001b[39;00m \u001b[39mnumexpr\u001b[39;00m\u001b[39m.\u001b[39;00m\u001b[39mnecompiler\u001b[39;00m \u001b[39mimport\u001b[39;00m NumExpr, disassemble, evaluate, re_evaluate\n\u001b[1;32m     <a href='file:///~/miniconda3/envs/stock_prediction/lib/python3.9/site-packages/numexpr/__init__.py?line=35'>36</a>\u001b[0m \u001b[39mfrom\u001b[39;00m \u001b[39mnumexpr\u001b[39;00m\u001b[39m.\u001b[39;00m\u001b[39mutils\u001b[39;00m \u001b[39mimport\u001b[39;00m (_init_num_threads,\n\u001b[1;32m     <a href='file:///~/miniconda3/envs/stock_prediction/lib/python3.9/site-packages/numexpr/__init__.py?line=36'>37</a>\u001b[0m     get_vml_version, set_vml_accuracy_mode, set_vml_num_threads,\n\u001b[1;32m     <a href='file:///~/miniconda3/envs/stock_prediction/lib/python3.9/site-packages/numexpr/__init__.py?line=37'>38</a>\u001b[0m     set_num_threads, get_num_threads,\n\u001b[1;32m     <a href='file:///~/miniconda3/envs/stock_prediction/lib/python3.9/site-packages/numexpr/__init__.py?line=38'>39</a>\u001b[0m     detect_number_of_cores, detect_number_of_threads)\n",
      "File \u001b[0;32m~/miniconda3/envs/stock_prediction/lib/python3.9/site-packages/numexpr/expressions.py:20\u001b[0m, in \u001b[0;36m<module>\u001b[0;34m\u001b[0m\n\u001b[1;32m     <a href='file:///~/miniconda3/envs/stock_prediction/lib/python3.9/site-packages/numexpr/expressions.py?line=16'>17</a>\u001b[0m \u001b[39mimport\u001b[39;00m \u001b[39mnumpy\u001b[39;00m\n\u001b[1;32m     <a href='file:///~/miniconda3/envs/stock_prediction/lib/python3.9/site-packages/numexpr/expressions.py?line=17'>18</a>\u001b[0m \u001b[39m# NumPy's behavior sometimes changes with versioning, especially in regard as \u001b[39;00m\n\u001b[1;32m     <a href='file:///~/miniconda3/envs/stock_prediction/lib/python3.9/site-packages/numexpr/expressions.py?line=18'>19</a>\u001b[0m \u001b[39m# to when ints are cast to floats.\u001b[39;00m\n\u001b[0;32m---> <a href='file:///~/miniconda3/envs/stock_prediction/lib/python3.9/site-packages/numexpr/expressions.py?line=19'>20</a>\u001b[0m \u001b[39mfrom\u001b[39;00m \u001b[39msetuptools\u001b[39;00m\u001b[39m.\u001b[39;00m\u001b[39m_vendor\u001b[39;00m\u001b[39m.\u001b[39;00m\u001b[39mpackaging\u001b[39;00m\u001b[39m.\u001b[39;00m\u001b[39mversion\u001b[39;00m \u001b[39mimport\u001b[39;00m parse, Version\n\u001b[1;32m     <a href='file:///~/miniconda3/envs/stock_prediction/lib/python3.9/site-packages/numexpr/expressions.py?line=20'>21</a>\u001b[0m _np_version_forbids_neg_powint \u001b[39m=\u001b[39m parse(numpy\u001b[39m.\u001b[39m__version__) \u001b[39m>\u001b[39m Version(\u001b[39m'\u001b[39m\u001b[39m1.12.0b1\u001b[39m\u001b[39m'\u001b[39m)\n\u001b[1;32m     <a href='file:///~/miniconda3/envs/stock_prediction/lib/python3.9/site-packages/numexpr/expressions.py?line=22'>23</a>\u001b[0m \u001b[39m# Declare a double type that does not exist in Python space\u001b[39;00m\n",
      "File \u001b[0;32m~/miniconda3/envs/stock_prediction/lib/python3.9/site-packages/setuptools/__init__.py:8\u001b[0m, in \u001b[0;36m<module>\u001b[0;34m\u001b[0m\n\u001b[1;32m      <a href='file:///~/miniconda3/envs/stock_prediction/lib/python3.9/site-packages/setuptools/__init__.py?line=4'>5</a>\u001b[0m \u001b[39mimport\u001b[39;00m \u001b[39mre\u001b[39;00m\n\u001b[1;32m      <a href='file:///~/miniconda3/envs/stock_prediction/lib/python3.9/site-packages/setuptools/__init__.py?line=5'>6</a>\u001b[0m \u001b[39mimport\u001b[39;00m \u001b[39mwarnings\u001b[39;00m\n\u001b[0;32m----> <a href='file:///~/miniconda3/envs/stock_prediction/lib/python3.9/site-packages/setuptools/__init__.py?line=7'>8</a>\u001b[0m \u001b[39mimport\u001b[39;00m \u001b[39m_distutils_hack\u001b[39;00m\u001b[39m.\u001b[39;00m\u001b[39moverride\u001b[39;00m  \u001b[39m# noqa: F401\u001b[39;00m\n\u001b[1;32m     <a href='file:///~/miniconda3/envs/stock_prediction/lib/python3.9/site-packages/setuptools/__init__.py?line=9'>10</a>\u001b[0m \u001b[39mimport\u001b[39;00m \u001b[39mdistutils\u001b[39;00m\u001b[39m.\u001b[39;00m\u001b[39mcore\u001b[39;00m\n\u001b[1;32m     <a href='file:///~/miniconda3/envs/stock_prediction/lib/python3.9/site-packages/setuptools/__init__.py?line=10'>11</a>\u001b[0m \u001b[39mfrom\u001b[39;00m \u001b[39mdistutils\u001b[39;00m\u001b[39m.\u001b[39;00m\u001b[39merrors\u001b[39;00m \u001b[39mimport\u001b[39;00m DistutilsOptionError\n",
      "File \u001b[0;32m~/miniconda3/envs/stock_prediction/lib/python3.9/site-packages/_distutils_hack/override.py:1\u001b[0m, in \u001b[0;36m<module>\u001b[0;34m\u001b[0m\n\u001b[0;32m----> <a href='file:///~/miniconda3/envs/stock_prediction/lib/python3.9/site-packages/_distutils_hack/override.py?line=0'>1</a>\u001b[0m \u001b[39m__import__\u001b[39;49m(\u001b[39m'\u001b[39;49m\u001b[39m_distutils_hack\u001b[39;49m\u001b[39m'\u001b[39;49m)\u001b[39m.\u001b[39;49mdo_override()\n",
      "File \u001b[0;32m~/miniconda3/envs/stock_prediction/lib/python3.9/site-packages/_distutils_hack/__init__.py:72\u001b[0m, in \u001b[0;36mdo_override\u001b[0;34m()\u001b[0m\n\u001b[1;32m     <a href='file:///~/miniconda3/envs/stock_prediction/lib/python3.9/site-packages/_distutils_hack/__init__.py?line=69'>70</a>\u001b[0m \u001b[39mif\u001b[39;00m enabled():\n\u001b[1;32m     <a href='file:///~/miniconda3/envs/stock_prediction/lib/python3.9/site-packages/_distutils_hack/__init__.py?line=70'>71</a>\u001b[0m     warn_distutils_present()\n\u001b[0;32m---> <a href='file:///~/miniconda3/envs/stock_prediction/lib/python3.9/site-packages/_distutils_hack/__init__.py?line=71'>72</a>\u001b[0m     ensure_local_distutils()\n",
      "File \u001b[0;32m~/miniconda3/envs/stock_prediction/lib/python3.9/site-packages/_distutils_hack/__init__.py:59\u001b[0m, in \u001b[0;36mensure_local_distutils\u001b[0;34m()\u001b[0m\n\u001b[1;32m     <a href='file:///~/miniconda3/envs/stock_prediction/lib/python3.9/site-packages/_distutils_hack/__init__.py?line=56'>57</a>\u001b[0m \u001b[39m# check that submodules load as expected\u001b[39;00m\n\u001b[1;32m     <a href='file:///~/miniconda3/envs/stock_prediction/lib/python3.9/site-packages/_distutils_hack/__init__.py?line=57'>58</a>\u001b[0m core \u001b[39m=\u001b[39m importlib\u001b[39m.\u001b[39mimport_module(\u001b[39m'\u001b[39m\u001b[39mdistutils.core\u001b[39m\u001b[39m'\u001b[39m)\n\u001b[0;32m---> <a href='file:///~/miniconda3/envs/stock_prediction/lib/python3.9/site-packages/_distutils_hack/__init__.py?line=58'>59</a>\u001b[0m \u001b[39massert\u001b[39;00m \u001b[39m'\u001b[39m\u001b[39m_distutils\u001b[39m\u001b[39m'\u001b[39m \u001b[39min\u001b[39;00m core\u001b[39m.\u001b[39m\u001b[39m__file__\u001b[39m, core\u001b[39m.\u001b[39m\u001b[39m__file__\u001b[39m\n\u001b[1;32m     <a href='file:///~/miniconda3/envs/stock_prediction/lib/python3.9/site-packages/_distutils_hack/__init__.py?line=59'>60</a>\u001b[0m \u001b[39massert\u001b[39;00m \u001b[39m'\u001b[39m\u001b[39msetuptools._distutils.log\u001b[39m\u001b[39m'\u001b[39m \u001b[39mnot\u001b[39;00m \u001b[39min\u001b[39;00m sys\u001b[39m.\u001b[39mmodules\n",
      "\u001b[0;31mAssertionError\u001b[0m: /home/turner/miniconda3/envs/stock_prediction/lib/python3.9/distutils/core.py"
     ]
    }
   ],
   "source": [
    "import re\n",
    "from typing import List, NoReturn\n",
    "from bs4 import BeautifulSoup\n",
    "from requests import get\n",
    "\n",
    "import pandas as pd\n",
    "from nltk.corpus import stopwords\n",
    "from nltk.tokenize import word_tokenize\n",
    "\n",
    "stopwords = stopwords.words(\"english\")\n",
    "\n",
    "\n",
    "def get_page(url_string: str) -> BeautifulSoup:\n",
    "    \"\"\"Scrape the page specified by the input url\n",
    "\n",
    "    Args:\n",
    "        url_string (str): input url\n",
    "\n",
    "    Returns:\n",
    "        BeautifulSoup: return the page obtained\n",
    "    \"\"\"\n",
    "\n",
    "    response = get(url_string)\n",
    "    return BeautifulSoup(response.text, \"html.parser\")\n",
    "\n",
    "\n",
    "def clean_article(article: str) -> List[str]:\n",
    "    \"\"\"Clean the article by removing punctuations and stop words\n",
    "\n",
    "    Args:\n",
    "        article (str): article content in string format\n",
    "\n",
    "    Returns:\n",
    "        List[str]: list of words in the article\n",
    "    \"\"\"\n",
    "\n",
    "    article = article.replace(\"/(\\n)/gm\", \" \")\n",
    "    article = re.sub(\"[.,!?:;%&$^*@#)/(-\" '`\"—=+]', \" \", article)\n",
    "    article = re.sub(\"[0-9]\", \" \", article)\n",
    "    article = article.replace(\"`|’|”|“\", \"'\")\n",
    "    article = article.replace(\"/(\\\\x)/g\", \"\")\n",
    "    new_stop_words = [\n",
    "        \"said\",\n",
    "        \"also\",\n",
    "        \"per\",\n",
    "        \"cent\",\n",
    "        \"would\",\n",
    "        \"last\",\n",
    "        \"first\",\n",
    "        \"like\",\n",
    "        \"'\",\n",
    "        '\"',\n",
    "        \"'\",\n",
    "        '\"',\n",
    "        \"’\",\n",
    "        \"'s\",\n",
    "        \"“\",\n",
    "        \"”\",\n",
    "    ]\n",
    "    stopwords.extend(new_stop_words)\n",
    "    clean = [word for word in word_tokenize(article) if not word in stopwords]\n",
    "    return clean\n",
    "\n",
    "\n",
    "def lower_case(article: List[str]) -> List[str]:\n",
    "    \"\"\"Convert all characters of the words in the article to lowercase\n",
    "\n",
    "    Args:\n",
    "        article (List[str]): words present in the article\n",
    "\n",
    "    Returns:\n",
    "        List[str]: words in the article converted to lowercase\n",
    "    \"\"\"\n",
    "    lower_case_list = [sentence.lower() for sentence in article]\n",
    "    return lower_case_list\n",
    "\n",
    "\n",
    "def sort_dictionary(dictionary: dict) -> dict:\n",
    "    \"\"\"Sort the input dictionary\n",
    "\n",
    "    Args:\n",
    "        dictionary (dict): input dictionary\n",
    "\n",
    "    Returns:\n",
    "        dict: sorted dictionary\n",
    "    \"\"\"\n",
    "    sorted_dict = dict(sorted(dictionary.items(), key=lambda value: value[1]))\n",
    "    return dict(reversed(list(sorted_dict.items())))\n",
    "\n",
    "\n",
    "def export_as_csv(dictionary: dict) -> NoReturn:\n",
    "    \"\"\"Export dictionary as csv file\n",
    "\n",
    "    Args:\n",
    "        dictionary (dict): input dictionary\n",
    "\n",
    "    Returns:\n",
    "        NoReturn: Export the csv file to data folder in project root directory\n",
    "    \"\"\"\n",
    "    export = {\"word\": list(dictionary.keys()), \"frequency\": list(dictionary.values())}\n",
    "    export_dataframe = pd.DataFrame(export)\n",
    "    export_dataframe.to_csv(\"../data/word_frequency.csv\")\n",
    "\n",
    "\n",
    "def update_frequency(element: str, dictionary: dict) -> dict:\n",
    "    \"\"\"Update frequency of each word in the dictionary\n",
    "\n",
    "    Args:\n",
    "        element (str): word to be updated\n",
    "        dictionary (dict): the dictionary containing words and their frequency count\n",
    "\n",
    "    Returns:\n",
    "        dict: updated dictionary\n",
    "    \"\"\"\n",
    "    if element in dictionary:\n",
    "        dictionary[element] += 1\n",
    "    else:\n",
    "        dictionary.update({element: 1})\n",
    "    return dictionary\n",
    "\n",
    "\n",
    "def get_word_frequency(news_list: list) -> NoReturn:\n",
    "    \"\"\"Find the frequency of words in the article\n",
    "\n",
    "    Args:\n",
    "        news_list (list): list of articles parsed from the webpage\n",
    "\n",
    "    Returns:\n",
    "        NoReturn: export word frequncy as a csv file\n",
    "    \"\"\"\n",
    "    word_frequency = {}\n",
    "    for news in news_list:\n",
    "        news = news.replace(\"/\\r?\\n|\\r/g\", \" \")\n",
    "\n",
    "    for news in news_list:\n",
    "        cleaned_article = clean_article(news)\n",
    "        cleaned_article = lower_case(cleaned_article)\n",
    "\n",
    "        for word in cleaned_article:\n",
    "            if len(word) > 2:\n",
    "                word_frequency = update_frequency(word, word_frequency)\n",
    "\n",
    "    word_frequency_sorted = sort_dictionary(dict(word_frequency))\n",
    "    export_as_csv(word_frequency_sorted)\n"
   ]
  },
  {
   "cell_type": "markdown",
   "metadata": {},
   "source": [
    "## Testing to parse moneycontrol website"
   ]
  },
  {
   "cell_type": "code",
   "execution_count": null,
   "metadata": {},
   "outputs": [
    {
     "data": {
      "text/plain": [
       "'https://www.moneycontrol.com/news/tags/Aditya-Birla.html'"
      ]
     },
     "execution_count": 3,
     "metadata": {},
     "output_type": "execute_result"
    }
   ],
   "source": [
    "# Setting the url string for a particular stock\n",
    "\n",
    "URL = \"https://www.moneycontrol.com/news/tags/\"\n",
    "stock_name = \"Aditya Birla\"\n",
    "resultant_url = URL + stock_name.replace(\" \", \"-\") + \".html\"\n",
    "resultant_url\n"
   ]
  },
  {
   "cell_type": "markdown",
   "metadata": {},
   "source": [
    "Get the value of number of pages of news a particular stock has"
   ]
  },
  {
   "cell_type": "code",
   "execution_count": null,
   "metadata": {},
   "outputs": [],
   "source": [
    "number_of_pages = int(get_page(resultant_url).find_all('a', class_=\"last\")[-1]['data-page'])"
   ]
  },
  {
   "cell_type": "markdown",
   "metadata": {},
   "source": [
    "Get links of all pages of news of specific stock"
   ]
  },
  {
   "cell_type": "code",
   "execution_count": null,
   "metadata": {},
   "outputs": [
    {
     "data": {
      "text/plain": [
       "['https://www.moneycontrol.com/news/tags/Aditya-Birla.html/page-1/',\n",
       " 'https://www.moneycontrol.com/news/tags/Aditya-Birla.html/page-2/',\n",
       " 'https://www.moneycontrol.com/news/tags/Aditya-Birla.html/page-3/',\n",
       " 'https://www.moneycontrol.com/news/tags/Aditya-Birla.html/page-4/']"
      ]
     },
     "execution_count": 6,
     "metadata": {},
     "output_type": "execute_result"
    }
   ],
   "source": [
    "page_links = []\n",
    "for i in range(1, number_of_pages + 1):\n",
    "    page_links.append(resultant_url + \"/page-\" + str(i) + \"/\")\n",
    "page_links"
   ]
  },
  {
   "cell_type": "code",
   "execution_count": null,
   "metadata": {},
   "outputs": [
    {
     "data": {
      "text/plain": [
       "['Aditya Birla Fashion and Retail to buy 51% stake in House of Masaba Lifestyle',\n",
       " 'Aditya Birla, Kotak backed ARCs among 12 interested in Rs 1,597 crore SBI loan to Coastal Energen',\n",
       " 'Birla favours insolvency for Vodafone Idea if situation worsens: Report',\n",
       " '3 Point Analysis | Is Jaypore and TG Apparel a good buy for ABFRL?',\n",
       " 'Grasim Industries to acquire Soktas India for Rs 165 crore',\n",
       " \"CCI clears Amazon-Witzig bid to acquire Aditya Birla's retail store chain\",\n",
       " 'Aditya Birla group plans $5-bn capex over next three years',\n",
       " 'Kumar Mangalam Birla scouts for acquisition targets in US, Europe and India',\n",
       " 'Podcast | The business of family: Building with the Birlas',\n",
       " 'AB Group may sell up to 20% stake in Idea Payments Bank for Rs 200 crore',\n",
       " 'Prefer Trent over Shoppers Stop, says Abhimanyu Sofat',\n",
       " 'Vodafone, Idea likely to seal merger pact within a month',\n",
       " 'Sensex ends rangebound session flat ahead of Budget; Idea up 25%',\n",
       " 'Vodafone says in Indian merger talks with Idea Cellular',\n",
       " \"Jaiprakash Associates' shareholders approve sale of cement biz\",\n",
       " 'Here are a few stocks ideas from Deven Choksey',\n",
       " 'Here are some stock ideas from SP Tulsian',\n",
       " \"Aditya Birla consolidated Jun '16 sales at Rs 27.50 crore\",\n",
       " 'Big ticket IPO: Should you subscribe L&T Infotech on valuation',\n",
       " 'Has Jabong become a fashion faux pas?',\n",
       " \"Hindalco up 5% on Metal X's improved takeover offer for arm\",\n",
       " '4 Healthcare IPOs in 3 months: Any appetite left for HCG now?',\n",
       " 'Hindalco to raise Rs 1,500 cr via NCDs',\n",
       " \"Aditya Birla consolidated Dec '15 sales at Rs 28.46 crore\",\n",
       " '15 quality stocks for Samvat 2072: AB Money',\n",
       " \"Aditya Birla consolidated Sep '15 sales at Rs 32.40 crore\",\n",
       " \"AB Money 'Neurtal' on IndusInd Bank; target of Rs 1010\",\n",
       " 'See extended economic cycle; payments bks a good step: Citi',\n",
       " \"Aditya Birla consolidated Jun '15 sales at Rs 30.29 crore\",\n",
       " \"Aditya Birla consolidated Mar '15 sales at Rs 31.24 crore\",\n",
       " 'Offline retail cos much better placed than online cos: Pro',\n",
       " 'Eye Rs 1200cr working cap debt, light balance sheet: Biyani',\n",
       " 'Opening bell: Global cues may keep Nifty in green today',\n",
       " 'Hindalco wins Gare Palma IV/5 coal mine in Chhattisgarh',\n",
       " 'Payment bks to see real earnings only after 3-4 yrs: Parekh',\n",
       " \"Aditya Birla consolidated Dec '14 sales at Rs 29.68 crore\",\n",
       " 'Docs require further probe in case against Hindalco: CBI',\n",
       " 'Coal block allocation: CBI examines Kumar Mangalam Birla',\n",
       " \"Aditya Birla consolidated Sep '14 sales at Rs 29.92 crore\",\n",
       " 'Jalan panel on bank licences to hold last meeting on Feb 25',\n",
       " \"Aditya Birla consolidated Dec '13 sales at Rs 18.61 crore\",\n",
       " 'L&T, Maruti, ICICI Bank top 2014 bets: Sandip Sabharwal',\n",
       " \"Aditya Birla consolidated Sep '13 sales at Rs 17.96 crore\",\n",
       " \"Jaiswal labels ex-coal secy Parakh as 'Sheikh Chilli'\",\n",
       " 'UltraTech Cement shares fall on weak Sept quarter results',\n",
       " \"Patnaik's letter to PM was in best interest of state:Odisha\",\n",
       " 'Experts take on the UltraTech-Jaypee Cements deal',\n",
       " 'Jaypee to sell few power, cement assets to cut debt: Report',\n",
       " \"Aditya Birla consolidated Jun '13 sales at Rs 18.18 crore\",\n",
       " \"Aditya Birla consolidated Mar '13 sales at Rs 19.74 crore\",\n",
       " 'Will eye all options to start a bank: Aditya Birla',\n",
       " 'Margin call trigger may have led to 40% fall: CEBBCO',\n",
       " \"Aditya Birla consolidated Dec '12 sales at Rs 21.88 crore\",\n",
       " 'Birla Sun Life launches new pension plan',\n",
       " 'Three big Indian retailers post Rs 1,200 cr loss in 2011',\n",
       " 'Mehta Equities advices to subscribe CARE IPO',\n",
       " \"Aditya Birla Sep '12 sales at Rs 16.27 crore\",\n",
       " \"TV Today up 6% on CCI's nod to Aditya Birla's stake buy\",\n",
       " \"Aditya Birla Jun '12 sales at Rs 16.82 crore\",\n",
       " 'Aditya Birla group eyes new records in financial business',\n",
       " 'Aditya Birla to invest &#36;1.3bn in new plants',\n",
       " 'Who is future ready for business? North or South India',\n",
       " 'Aditya Birla group bids for Aussie iron ore firm: Report',\n",
       " 'Hindalco raises Rs 3000cr via pvt placement of NCDs',\n",
       " 'Idea files clarificatory application in SC on 2G order',\n",
       " \"Aditya Birla Dec '11 sales at Rs 15.46 crore\",\n",
       " 'Balrampur Chini can head to Rs 49.50: Thukral',\n",
       " 'Hindustan Zinc has target of Rs 144: Hemant Thukral',\n",
       " 'Aditya Birla Group to invest USD 500m in Turkey',\n",
       " 'FDI in retail: Which stocks to bet on?',\n",
       " 'Idea to sell Rs 5850 smartphone in 3G push',\n",
       " \"Aditya Birla Sep '11 sales at Rs 16.47 crore\",\n",
       " \"Aditya Birla Sep '11 sales at Rs 16.47 crore\",\n",
       " 'New bank license regime: The shockers and grey areas',\n",
       " \"Aditya Birla Jun '11 sales at Rs 16.26 crore\",\n",
       " 'Buy Aditya Birla above Rs 930: Abhijit Paul',\n",
       " 'Super Six stocks you can bet on July 12',\n",
       " 'Delhi HC slaps Rs 1-cr fine on Idea Cellular',\n",
       " \"Ultratech Cement's despatches up 2% in June\",\n",
       " 'Aditya Birla, JSW in 2nd round bidding for Bandanna: Source',\n",
       " \"Aditya Birla Mar '11 sales at Rs 17.45 crore\",\n",
       " 'Yanzhou, Aditya Birla eye Whitehaven bids: Sources',\n",
       " 'Moneycontrol exclusive: LIC HF resumes project financing',\n",
       " \"Aditya Birla Dec '10 sales at Rs 22.12 crore\"]"
      ]
     },
     "execution_count": 24,
     "metadata": {},
     "output_type": "execute_result"
    }
   ],
   "source": [
    "headline_list = []\n",
    "for link in page_links:\n",
    "    article_list = get_page(link).find('ul', id=\"cagetory\").find_all('a')\n",
    "    for article_block in article_list:\n",
    "        headline_list.append(article_block.text) \n",
    "    headline_list = list(filter(('').__ne__, headline_list))\n",
    "headline_list"
   ]
  },
  {
   "cell_type": "markdown",
   "metadata": {},
   "source": [
    "Scrape the news from page"
   ]
  },
  {
   "cell_type": "code",
   "execution_count": null,
   "metadata": {},
   "outputs": [],
   "source": [
    "article_links = []\n",
    "for link in page_links:\n",
    "    page = get_page(link)\n",
    "    article_tabs = page.find('div', class_='fleft').find_all('li', class_='clearfix')\n",
    "    article_links = [tab.a.get('href') for tab in article_tabs]"
   ]
  },
  {
   "cell_type": "code",
   "execution_count": null,
   "metadata": {},
   "outputs": [
    {
     "data": {
      "text/plain": [
       "['https://www.moneycontrol.com/news/business/stocks/-2124863.html',\n",
       " 'https://www.moneycontrol.com/news/business/stocks/-2123813.html',\n",
       " 'https://www.moneycontrol.com/news/business/companies/-2144379.html',\n",
       " 'https://www.moneycontrol.com/news/business/companies/-2146391.html',\n",
       " 'https://www.moneycontrol.com/news/business/companies/-2031737.html',\n",
       " 'https://www.moneycontrol.com/news/business/earnings/-2112227.html',\n",
       " 'https://www.moneycontrol.com/news/world/-1096223.html',\n",
       " 'https://www.moneycontrol.com/news/business/companies/-1099967.html',\n",
       " 'https://www.moneycontrol.com/news/business/earnings/-1261867.html']"
      ]
     },
     "execution_count": 26,
     "metadata": {},
     "output_type": "execute_result"
    }
   ],
   "source": [
    "article_links"
   ]
  },
  {
   "cell_type": "code",
   "execution_count": null,
   "metadata": {},
   "outputs": [
    {
     "ename": "NameError",
     "evalue": "name 'lower_case_title' is not defined",
     "output_type": "error",
     "traceback": [
      "\u001b[0;31m---------------------------------------------------------------------------\u001b[0m",
      "\u001b[0;31mNameError\u001b[0m                                 Traceback (most recent call last)",
      "\u001b[1;32m/home/turner/repos/stock_market_prediction/notebooks/news_parse.ipynb Cell 13'\u001b[0m in \u001b[0;36m<module>\u001b[0;34m\u001b[0m\n\u001b[0;32m----> <a href='vscode-notebook-cell://wsl%2Bubuntu-20.04/home/turner/repos/stock_market_prediction/notebooks/news_parse.ipynb#ch0000011vscode-remote?line=0'>1</a>\u001b[0m cleaned_titles \u001b[39m=\u001b[39m [clean_article(title) \u001b[39mfor\u001b[39;00m title \u001b[39min\u001b[39;00m lower_case_title]\n\u001b[1;32m      <a href='vscode-notebook-cell://wsl%2Bubuntu-20.04/home/turner/repos/stock_market_prediction/notebooks/news_parse.ipynb#ch0000011vscode-remote?line=1'>2</a>\u001b[0m cleaned_titles\n",
      "\u001b[0;31mNameError\u001b[0m: name 'lower_case_title' is not defined"
     ]
    }
   ],
   "source": []
  },
  {
   "cell_type": "markdown",
   "metadata": {},
   "source": [
    "# News Parse with TICKER"
   ]
  },
  {
   "cell_type": "code",
   "execution_count": 1,
   "metadata": {},
   "outputs": [
    {
     "ename": "ModuleNotFoundError",
     "evalue": "No module named 'gnews'",
     "output_type": "error",
     "traceback": [
      "\u001b[0;31m---------------------------------------------------------------------------\u001b[0m",
      "\u001b[0;31mModuleNotFoundError\u001b[0m                       Traceback (most recent call last)",
      "\u001b[0;32m<ipython-input-1-607fa9173bd4>\u001b[0m in \u001b[0;36m<module>\u001b[0;34m\u001b[0m\n\u001b[0;32m----> 1\u001b[0;31m \u001b[0;32mfrom\u001b[0m \u001b[0mgnews\u001b[0m \u001b[0;32mimport\u001b[0m \u001b[0mGNews\u001b[0m\u001b[0;34m\u001b[0m\u001b[0;34m\u001b[0m\u001b[0m\n\u001b[0m\u001b[1;32m      2\u001b[0m \u001b[0;32mimport\u001b[0m \u001b[0mpandas\u001b[0m \u001b[0;32mas\u001b[0m \u001b[0mpd\u001b[0m\u001b[0;34m\u001b[0m\u001b[0;34m\u001b[0m\u001b[0m\n",
      "\u001b[0;31mModuleNotFoundError\u001b[0m: No module named 'gnews'"
     ]
    }
   ],
   "source": [
    "from gnews import GNews\n",
    "import pandas as pd"
   ]
  },
  {
   "cell_type": "code",
   "execution_count": null,
   "metadata": {},
   "outputs": [],
   "source": [
    "news = GNews()"
   ]
  },
  {
   "cell_type": "code",
   "execution_count": null,
   "metadata": {},
   "outputs": [
    {
     "ename": "NameError",
     "evalue": "name 'news' is not defined",
     "output_type": "error",
     "traceback": [
      "\u001b[0;31m---------------------------------------------------------------------------\u001b[0m",
      "\u001b[0;31mNameError\u001b[0m                                 Traceback (most recent call last)",
      "\u001b[1;32m/home/turner/repos/stock_market_prediction/notebooks/news_parse.ipynb Cell 17'\u001b[0m in \u001b[0;36m<cell line: 1>\u001b[0;34m()\u001b[0m\n\u001b[0;32m----> <a href='vscode-notebook-cell://wsl%2Bubuntu-20.04/home/turner/repos/stock_market_prediction/notebooks/news_parse.ipynb#ch0000016vscode-remote?line=0'>1</a>\u001b[0m adani_news \u001b[39m=\u001b[39m news\u001b[39m.\u001b[39mget_news(\u001b[39m\"\u001b[39m\u001b[39mAdani Ports and Special Economic Zone\u001b[39m\u001b[39m\"\u001b[39m)\n",
      "\u001b[0;31mNameError\u001b[0m: name 'news' is not defined"
     ]
    }
   ],
   "source": [
    "adani_news = news.get_news(\"Adani Ports and Special Economic Zone\")"
   ]
  },
  {
   "cell_type": "code",
   "execution_count": null,
   "metadata": {},
   "outputs": [],
   "source": [
    "news_df = pd.DataFrame()"
   ]
  },
  {
   "cell_type": "code",
   "execution_count": null,
   "metadata": {},
   "outputs": [],
   "source": [
    "for item in adani_news:\n",
    "    news_df.Title = item['title']"
   ]
  },
  {
   "cell_type": "code",
   "execution_count": null,
   "metadata": {},
   "outputs": [
    {
     "data": {
      "text/html": [
       "<div>\n",
       "<style scoped>\n",
       "    .dataframe tbody tr th:only-of-type {\n",
       "        vertical-align: middle;\n",
       "    }\n",
       "\n",
       "    .dataframe tbody tr th {\n",
       "        vertical-align: top;\n",
       "    }\n",
       "\n",
       "    .dataframe thead th {\n",
       "        text-align: right;\n",
       "    }\n",
       "</style>\n",
       "<table border=\"1\" class=\"dataframe\">\n",
       "  <thead>\n",
       "    <tr style=\"text-align: right;\">\n",
       "      <th></th>\n",
       "      <th>title</th>\n",
       "      <th>description</th>\n",
       "      <th>published date</th>\n",
       "      <th>url</th>\n",
       "      <th>publisher</th>\n",
       "    </tr>\n",
       "  </thead>\n",
       "  <tbody>\n",
       "    <tr>\n",
       "      <th>href</th>\n",
       "      <td>Adani Group To Develop Western Container Termi...</td>\n",
       "      <td>Adani Group To Develop Western Container Termi...</td>\n",
       "      <td>Fri, 01 Oct 2021 07:00:00 GMT</td>\n",
       "      <td>https://www.businessworld.in/article/Adani-Gro...</td>\n",
       "      <td>href</td>\n",
       "    </tr>\n",
       "    <tr>\n",
       "      <th>title</th>\n",
       "      <td>Adani Group To Develop Western Container Termi...</td>\n",
       "      <td>Adani Group To Develop Western Container Termi...</td>\n",
       "      <td>Fri, 01 Oct 2021 07:00:00 GMT</td>\n",
       "      <td>https://www.businessworld.in/article/Adani-Gro...</td>\n",
       "      <td>title</td>\n",
       "    </tr>\n",
       "  </tbody>\n",
       "</table>\n",
       "</div>"
      ],
      "text/plain": [
       "                                                   title  \\\n",
       "href   Adani Group To Develop Western Container Termi...   \n",
       "title  Adani Group To Develop Western Container Termi...   \n",
       "\n",
       "                                             description  \\\n",
       "href   Adani Group To Develop Western Container Termi...   \n",
       "title  Adani Group To Develop Western Container Termi...   \n",
       "\n",
       "                      published date  \\\n",
       "href   Fri, 01 Oct 2021 07:00:00 GMT   \n",
       "title  Fri, 01 Oct 2021 07:00:00 GMT   \n",
       "\n",
       "                                                     url publisher  \n",
       "href   https://www.businessworld.in/article/Adani-Gro...      href  \n",
       "title  https://www.businessworld.in/article/Adani-Gro...     title  "
      ]
     },
     "execution_count": 41,
     "metadata": {},
     "output_type": "execute_result"
    }
   ],
   "source": [
    "news_df.head()"
   ]
  }
 ],
 "metadata": {
  "interpreter": {
   "hash": "eb4fb5dfea142a1d2d7a29cfa1c16e0a3126ddd7419aaecf4949844df6a9cd6f"
  },
  "kernelspec": {
   "display_name": "Python 3.7.12 ('finbert')",
   "language": "python",
   "name": "python3"
  },
  "language_info": {
   "codemirror_mode": {
    "name": "ipython",
    "version": 3
   },
   "file_extension": ".py",
   "mimetype": "text/x-python",
   "name": "python",
   "nbconvert_exporter": "python",
   "pygments_lexer": "ipython3",
   "version": "3.7.12"
  },
  "orig_nbformat": 4
 },
 "nbformat": 4,
 "nbformat_minor": 2
}
