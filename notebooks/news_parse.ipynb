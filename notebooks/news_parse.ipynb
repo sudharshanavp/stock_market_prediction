{
 "cells": [
  {
   "cell_type": "markdown",
   "metadata": {},
   "source": [
    "# News Parse prototyping\n",
    "\n",
    "for sentiment analysis of a specified stock we need to "
   ]
  },
  {
   "cell_type": "code",
   "execution_count": 2,
   "metadata": {},
   "outputs": [],
   "source": [
    "import re\n",
    "from typing import List, NoReturn\n",
    "from bs4 import BeautifulSoup\n",
    "from requests import get\n",
    "\n",
    "import pandas as pd\n",
    "from nltk.corpus import stopwords\n",
    "from nltk.tokenize import word_tokenize\n",
    "\n",
    "stopwords = stopwords.words(\"english\")\n",
    "\n",
    "\n",
    "def get_page(url_string: str) -> BeautifulSoup:\n",
    "    \"\"\"Scrape the page specified by the input url\n",
    "\n",
    "    Args:\n",
    "        url_string (str): input url\n",
    "\n",
    "    Returns:\n",
    "        BeautifulSoup: return the page obtained\n",
    "    \"\"\"\n",
    "\n",
    "    response = get(url_string)\n",
    "    return BeautifulSoup(response.text, \"html.parser\")\n",
    "\n",
    "\n",
    "def clean_article(article: str) -> List[str]:\n",
    "    \"\"\"Clean the article by removing punctuations and stop words\n",
    "\n",
    "    Args:\n",
    "        article (str): article content in string format\n",
    "\n",
    "    Returns:\n",
    "        List[str]: list of words in the article\n",
    "    \"\"\"\n",
    "\n",
    "    article = article.replace(\"/(\\n)/gm\", \" \")\n",
    "    article = re.sub(\"[.,!?:;%&$^*@#)/(-\" '`\"—=+]', \" \", article)\n",
    "    article = re.sub(\"[0-9]\", \" \", article)\n",
    "    article = article.replace(\"`|’|”|“\", \"'\")\n",
    "    article = article.replace(\"/(\\\\x)/g\", \"\")\n",
    "    new_stop_words = [\n",
    "        \"said\",\n",
    "        \"also\",\n",
    "        \"per\",\n",
    "        \"cent\",\n",
    "        \"would\",\n",
    "        \"last\",\n",
    "        \"first\",\n",
    "        \"like\",\n",
    "        \"'\",\n",
    "        '\"',\n",
    "        \"'\",\n",
    "        '\"',\n",
    "        \"’\",\n",
    "        \"'s\",\n",
    "        \"“\",\n",
    "        \"”\",\n",
    "    ]\n",
    "    stopwords.extend(new_stop_words)\n",
    "    clean = [word for word in word_tokenize(article) if not word in stopwords]\n",
    "    return clean\n",
    "\n",
    "\n",
    "def lower_case(article: List[str]) -> List[str]:\n",
    "    \"\"\"Convert all characters of the words in the article to lowercase\n",
    "\n",
    "    Args:\n",
    "        article (List[str]): words present in the article\n",
    "\n",
    "    Returns:\n",
    "        List[str]: words in the article converted to lowercase\n",
    "    \"\"\"\n",
    "    lower_case_list = [sentence.lower() for sentence in article]\n",
    "    return lower_case_list\n",
    "\n",
    "\n",
    "def sort_dictionary(dictionary: dict) -> dict:\n",
    "    \"\"\"Sort the input dictionary\n",
    "\n",
    "    Args:\n",
    "        dictionary (dict): input dictionary\n",
    "\n",
    "    Returns:\n",
    "        dict: sorted dictionary\n",
    "    \"\"\"\n",
    "    sorted_dict = dict(sorted(dictionary.items(), key=lambda value: value[1]))\n",
    "    return dict(reversed(list(sorted_dict.items())))\n",
    "\n",
    "\n",
    "def export_as_csv(dictionary: dict) -> NoReturn:\n",
    "    \"\"\"Export dictionary as csv file\n",
    "\n",
    "    Args:\n",
    "        dictionary (dict): input dictionary\n",
    "\n",
    "    Returns:\n",
    "        NoReturn: Export the csv file to data folder in project root directory\n",
    "    \"\"\"\n",
    "    export = {\"word\": list(dictionary.keys()), \"frequency\": list(dictionary.values())}\n",
    "    export_dataframe = pd.DataFrame(export)\n",
    "    export_dataframe.to_csv(\"../data/word_frequency.csv\")\n",
    "\n",
    "\n",
    "def update_frequency(element: str, dictionary: dict) -> dict:\n",
    "    \"\"\"Update frequency of each word in the dictionary\n",
    "\n",
    "    Args:\n",
    "        element (str): word to be updated\n",
    "        dictionary (dict): the dictionary containing words and their frequency count\n",
    "\n",
    "    Returns:\n",
    "        dict: updated dictionary\n",
    "    \"\"\"\n",
    "    if element in dictionary:\n",
    "        dictionary[element] += 1\n",
    "    else:\n",
    "        dictionary.update({element: 1})\n",
    "    return dictionary\n",
    "\n",
    "\n",
    "def get_word_frequency(news_list: list) -> NoReturn:\n",
    "    \"\"\"Find the frequency of words in the article\n",
    "\n",
    "    Args:\n",
    "        news_list (list): list of articles parsed from the webpage\n",
    "\n",
    "    Returns:\n",
    "        NoReturn: export word frequncy as a csv file\n",
    "    \"\"\"\n",
    "    word_frequency = {}\n",
    "    for news in news_list:\n",
    "        news = news.replace(\"/\\r?\\n|\\r/g\", \" \")\n",
    "\n",
    "    for news in news_list:\n",
    "        cleaned_article = clean_article(news)\n",
    "        cleaned_article = lower_case(cleaned_article)\n",
    "\n",
    "        for word in cleaned_article:\n",
    "            if len(word) > 2:\n",
    "                word_frequency = update_frequency(word, word_frequency)\n",
    "\n",
    "    word_frequency_sorted = sort_dictionary(dict(word_frequency))\n",
    "    export_as_csv(word_frequency_sorted)\n"
   ]
  },
  {
   "cell_type": "markdown",
   "metadata": {},
   "source": [
    "## Testing to parse moneycontrol website"
   ]
  },
  {
   "cell_type": "code",
   "execution_count": 3,
   "metadata": {},
   "outputs": [
    {
     "data": {
      "text/plain": [
       "'https://www.moneycontrol.com/news/tags/Aditya-Birla.html'"
      ]
     },
     "execution_count": 3,
     "metadata": {},
     "output_type": "execute_result"
    }
   ],
   "source": [
    "# Setting the url string for a particular stock\n",
    "\n",
    "URL = \"https://www.moneycontrol.com/news/tags/\"\n",
    "stock_name = \"Aditya Birla\"\n",
    "resultant_url = URL + stock_name.replace(\" \", \"-\") + \".html\"\n",
    "resultant_url\n"
   ]
  },
  {
   "cell_type": "markdown",
   "metadata": {},
   "source": [
    "Get the value of number of pages of news a particular stock has"
   ]
  },
  {
   "cell_type": "code",
   "execution_count": 4,
   "metadata": {},
   "outputs": [],
   "source": [
    "number_of_pages = int(get_page(resultant_url).find_all('a', class_=\"last\")[-1]['data-page'])"
   ]
  },
  {
   "cell_type": "markdown",
   "metadata": {},
   "source": [
    "Get links of all pages of news of specific stock"
   ]
  },
  {
   "cell_type": "code",
   "execution_count": 6,
   "metadata": {},
   "outputs": [
    {
     "data": {
      "text/plain": [
       "['https://www.moneycontrol.com/news/tags/Aditya-Birla.html/page-1/',\n",
       " 'https://www.moneycontrol.com/news/tags/Aditya-Birla.html/page-2/',\n",
       " 'https://www.moneycontrol.com/news/tags/Aditya-Birla.html/page-3/',\n",
       " 'https://www.moneycontrol.com/news/tags/Aditya-Birla.html/page-4/']"
      ]
     },
     "execution_count": 6,
     "metadata": {},
     "output_type": "execute_result"
    }
   ],
   "source": [
    "page_links = []\n",
    "for i in range(1, number_of_pages + 1):\n",
    "    page_links.append(resultant_url + \"/page-\" + str(i) + \"/\")\n",
    "page_links"
   ]
  },
  {
   "cell_type": "code",
   "execution_count": 24,
   "metadata": {},
   "outputs": [
    {
     "data": {
      "text/plain": [
       "['Aditya Birla Fashion and Retail to buy 51% stake in House of Masaba Lifestyle',\n",
       " 'Aditya Birla, Kotak backed ARCs among 12 interested in Rs 1,597 crore SBI loan to Coastal Energen',\n",
       " 'Birla favours insolvency for Vodafone Idea if situation worsens: Report',\n",
       " '3 Point Analysis | Is Jaypore and TG Apparel a good buy for ABFRL?',\n",
       " 'Grasim Industries to acquire Soktas India for Rs 165 crore',\n",
       " \"CCI clears Amazon-Witzig bid to acquire Aditya Birla's retail store chain\",\n",
       " 'Aditya Birla group plans $5-bn capex over next three years',\n",
       " 'Kumar Mangalam Birla scouts for acquisition targets in US, Europe and India',\n",
       " 'Podcast | The business of family: Building with the Birlas',\n",
       " 'AB Group may sell up to 20% stake in Idea Payments Bank for Rs 200 crore',\n",
       " 'Prefer Trent over Shoppers Stop, says Abhimanyu Sofat',\n",
       " 'Vodafone, Idea likely to seal merger pact within a month',\n",
       " 'Sensex ends rangebound session flat ahead of Budget; Idea up 25%',\n",
       " 'Vodafone says in Indian merger talks with Idea Cellular',\n",
       " \"Jaiprakash Associates' shareholders approve sale of cement biz\",\n",
       " 'Here are a few stocks ideas from Deven Choksey',\n",
       " 'Here are some stock ideas from SP Tulsian',\n",
       " \"Aditya Birla consolidated Jun '16 sales at Rs 27.50 crore\",\n",
       " 'Big ticket IPO: Should you subscribe L&T Infotech on valuation',\n",
       " 'Has Jabong become a fashion faux pas?',\n",
       " \"Hindalco up 5% on Metal X's improved takeover offer for arm\",\n",
       " '4 Healthcare IPOs in 3 months: Any appetite left for HCG now?',\n",
       " 'Hindalco to raise Rs 1,500 cr via NCDs',\n",
       " \"Aditya Birla consolidated Dec '15 sales at Rs 28.46 crore\",\n",
       " '15 quality stocks for Samvat 2072: AB Money',\n",
       " \"Aditya Birla consolidated Sep '15 sales at Rs 32.40 crore\",\n",
       " \"AB Money 'Neurtal' on IndusInd Bank; target of Rs 1010\",\n",
       " 'See extended economic cycle; payments bks a good step: Citi',\n",
       " \"Aditya Birla consolidated Jun '15 sales at Rs 30.29 crore\",\n",
       " \"Aditya Birla consolidated Mar '15 sales at Rs 31.24 crore\",\n",
       " 'Offline retail cos much better placed than online cos: Pro',\n",
       " 'Eye Rs 1200cr working cap debt, light balance sheet: Biyani',\n",
       " 'Opening bell: Global cues may keep Nifty in green today',\n",
       " 'Hindalco wins Gare Palma IV/5 coal mine in Chhattisgarh',\n",
       " 'Payment bks to see real earnings only after 3-4 yrs: Parekh',\n",
       " \"Aditya Birla consolidated Dec '14 sales at Rs 29.68 crore\",\n",
       " 'Docs require further probe in case against Hindalco: CBI',\n",
       " 'Coal block allocation: CBI examines Kumar Mangalam Birla',\n",
       " \"Aditya Birla consolidated Sep '14 sales at Rs 29.92 crore\",\n",
       " 'Jalan panel on bank licences to hold last meeting on Feb 25',\n",
       " \"Aditya Birla consolidated Dec '13 sales at Rs 18.61 crore\",\n",
       " 'L&T, Maruti, ICICI Bank top 2014 bets: Sandip Sabharwal',\n",
       " \"Aditya Birla consolidated Sep '13 sales at Rs 17.96 crore\",\n",
       " \"Jaiswal labels ex-coal secy Parakh as 'Sheikh Chilli'\",\n",
       " 'UltraTech Cement shares fall on weak Sept quarter results',\n",
       " \"Patnaik's letter to PM was in best interest of state:Odisha\",\n",
       " 'Experts take on the UltraTech-Jaypee Cements deal',\n",
       " 'Jaypee to sell few power, cement assets to cut debt: Report',\n",
       " \"Aditya Birla consolidated Jun '13 sales at Rs 18.18 crore\",\n",
       " \"Aditya Birla consolidated Mar '13 sales at Rs 19.74 crore\",\n",
       " 'Will eye all options to start a bank: Aditya Birla',\n",
       " 'Margin call trigger may have led to 40% fall: CEBBCO',\n",
       " \"Aditya Birla consolidated Dec '12 sales at Rs 21.88 crore\",\n",
       " 'Birla Sun Life launches new pension plan',\n",
       " 'Three big Indian retailers post Rs 1,200 cr loss in 2011',\n",
       " 'Mehta Equities advices to subscribe CARE IPO',\n",
       " \"Aditya Birla Sep '12 sales at Rs 16.27 crore\",\n",
       " \"TV Today up 6% on CCI's nod to Aditya Birla's stake buy\",\n",
       " \"Aditya Birla Jun '12 sales at Rs 16.82 crore\",\n",
       " 'Aditya Birla group eyes new records in financial business',\n",
       " 'Aditya Birla to invest &#36;1.3bn in new plants',\n",
       " 'Who is future ready for business? North or South India',\n",
       " 'Aditya Birla group bids for Aussie iron ore firm: Report',\n",
       " 'Hindalco raises Rs 3000cr via pvt placement of NCDs',\n",
       " 'Idea files clarificatory application in SC on 2G order',\n",
       " \"Aditya Birla Dec '11 sales at Rs 15.46 crore\",\n",
       " 'Balrampur Chini can head to Rs 49.50: Thukral',\n",
       " 'Hindustan Zinc has target of Rs 144: Hemant Thukral',\n",
       " 'Aditya Birla Group to invest USD 500m in Turkey',\n",
       " 'FDI in retail: Which stocks to bet on?',\n",
       " 'Idea to sell Rs 5850 smartphone in 3G push',\n",
       " \"Aditya Birla Sep '11 sales at Rs 16.47 crore\",\n",
       " \"Aditya Birla Sep '11 sales at Rs 16.47 crore\",\n",
       " 'New bank license regime: The shockers and grey areas',\n",
       " \"Aditya Birla Jun '11 sales at Rs 16.26 crore\",\n",
       " 'Buy Aditya Birla above Rs 930: Abhijit Paul',\n",
       " 'Super Six stocks you can bet on July 12',\n",
       " 'Delhi HC slaps Rs 1-cr fine on Idea Cellular',\n",
       " \"Ultratech Cement's despatches up 2% in June\",\n",
       " 'Aditya Birla, JSW in 2nd round bidding for Bandanna: Source',\n",
       " \"Aditya Birla Mar '11 sales at Rs 17.45 crore\",\n",
       " 'Yanzhou, Aditya Birla eye Whitehaven bids: Sources',\n",
       " 'Moneycontrol exclusive: LIC HF resumes project financing',\n",
       " \"Aditya Birla Dec '10 sales at Rs 22.12 crore\"]"
      ]
     },
     "execution_count": 24,
     "metadata": {},
     "output_type": "execute_result"
    }
   ],
   "source": [
    "headline_list = []\n",
    "for link in page_links:\n",
    "    article_list = get_page(link).find('ul', id=\"cagetory\").find_all('a')\n",
    "    for article_block in article_list:\n",
    "        headline_list.append(article_block.text) \n",
    "    headline_list = list(filter(('').__ne__, headline_list))\n",
    "headline_list"
   ]
  },
  {
   "cell_type": "markdown",
   "metadata": {},
   "source": [
    "Scrape the news from page"
   ]
  },
  {
   "cell_type": "code",
   "execution_count": 25,
   "metadata": {},
   "outputs": [],
   "source": [
    "article_links = []\n",
    "for link in page_links:\n",
    "    page = get_page(link)\n",
    "    article_tabs = page.find('div', class_='fleft').find_all('li', class_='clearfix')\n",
    "    article_links = [tab.a.get('href') for tab in article_tabs]"
   ]
  },
  {
   "cell_type": "code",
   "execution_count": 26,
   "metadata": {},
   "outputs": [
    {
     "data": {
      "text/plain": [
       "['https://www.moneycontrol.com/news/business/stocks/-2124863.html',\n",
       " 'https://www.moneycontrol.com/news/business/stocks/-2123813.html',\n",
       " 'https://www.moneycontrol.com/news/business/companies/-2144379.html',\n",
       " 'https://www.moneycontrol.com/news/business/companies/-2146391.html',\n",
       " 'https://www.moneycontrol.com/news/business/companies/-2031737.html',\n",
       " 'https://www.moneycontrol.com/news/business/earnings/-2112227.html',\n",
       " 'https://www.moneycontrol.com/news/world/-1096223.html',\n",
       " 'https://www.moneycontrol.com/news/business/companies/-1099967.html',\n",
       " 'https://www.moneycontrol.com/news/business/earnings/-1261867.html']"
      ]
     },
     "execution_count": 26,
     "metadata": {},
     "output_type": "execute_result"
    }
   ],
   "source": [
    "article_links"
   ]
  },
  {
   "cell_type": "code",
   "execution_count": 9,
   "metadata": {},
   "outputs": [
    {
     "ename": "NameError",
     "evalue": "name 'lower_case_title' is not defined",
     "output_type": "error",
     "traceback": [
      "\u001b[0;31m---------------------------------------------------------------------------\u001b[0m",
      "\u001b[0;31mNameError\u001b[0m                                 Traceback (most recent call last)",
      "\u001b[1;32m/home/turner/repos/stock_market_prediction/notebooks/news_parse.ipynb Cell 13'\u001b[0m in \u001b[0;36m<module>\u001b[0;34m\u001b[0m\n\u001b[0;32m----> <a href='vscode-notebook-cell://wsl%2Bubuntu-20.04/home/turner/repos/stock_market_prediction/notebooks/news_parse.ipynb#ch0000011vscode-remote?line=0'>1</a>\u001b[0m cleaned_titles \u001b[39m=\u001b[39m [clean_article(title) \u001b[39mfor\u001b[39;00m title \u001b[39min\u001b[39;00m lower_case_title]\n\u001b[1;32m      <a href='vscode-notebook-cell://wsl%2Bubuntu-20.04/home/turner/repos/stock_market_prediction/notebooks/news_parse.ipynb#ch0000011vscode-remote?line=1'>2</a>\u001b[0m cleaned_titles\n",
      "\u001b[0;31mNameError\u001b[0m: name 'lower_case_title' is not defined"
     ]
    }
   ],
   "source": []
  }
 ],
 "metadata": {
  "interpreter": {
   "hash": "96c29df3c9882678c9224b48ef6832271283dc1a6410b0d31dfff6ccd69c0f45"
  },
  "kernelspec": {
   "display_name": "Python 3.9.7 ('data_science')",
   "language": "python",
   "name": "python3"
  },
  "language_info": {
   "codemirror_mode": {
    "name": "ipython",
    "version": 3
   },
   "file_extension": ".py",
   "mimetype": "text/x-python",
   "name": "python",
   "nbconvert_exporter": "python",
   "pygments_lexer": "ipython3",
   "version": "3.9.7"
  },
  "orig_nbformat": 4
 },
 "nbformat": 4,
 "nbformat_minor": 2
}
