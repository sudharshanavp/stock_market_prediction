{
 "cells": [
  {
   "cell_type": "code",
   "execution_count": 5,
   "metadata": {},
   "outputs": [],
   "source": [
    "import pandas as pd\n",
    "import numpy as np\n",
    "import sys\n",
    "import os"
   ]
  },
  {
   "cell_type": "markdown",
   "metadata": {},
   "source": [
    "## Testing"
   ]
  },
  {
   "cell_type": "code",
   "execution_count": 33,
   "metadata": {},
   "outputs": [],
   "source": [
    "directory = \"../datasets/stock\"\n",
    "df1 = pd.read_csv(directory+\"/old_data/\"+\"ADANIPORTS.csv\")\n",
    "drop_list = ['Turnover','Trades','Deliverable Volume','%Deliverble']\n",
    "df1 = df1.drop(drop_list, axis=1)\n",
    "df1['Date'] = pd.to_datetime(df1.Date)\n",
    "last_index = df1.index[-1] + 1"
   ]
  },
  {
   "cell_type": "code",
   "execution_count": 34,
   "metadata": {},
   "outputs": [],
   "source": [
    "df2 = pd.read_csv(directory+\"/new_data/\"+\"ADANIPORTS_1.csv\")\n",
    "drop_list = ['52W H ','52W L ','VALUE ','No of trades ']\n",
    "df2 = df2.sort_index(ascending=False)\n",
    "df2.insert(1, \"Symbol\", \"ADANIPORTS\")\n",
    "col = df2['PREV. CLOSE ']\n",
    "df2 = df2.drop('PREV. CLOSE ',axis=1)\n",
    "df2.insert(3, 'PREV. CLOSE ', col)\n",
    "df2 = df2.drop(drop_list,axis=1)\n",
    "rows = np.array(sorted(df2.axes[0]))\n",
    "rows = last_index+rows\n",
    "df2.index = rows"
   ]
  },
  {
   "cell_type": "code",
   "execution_count": 35,
   "metadata": {},
   "outputs": [],
   "source": [
    "df2.columns = df1.columns\n",
    "df2['Date'] = pd.to_datetime(df2.Date)"
   ]
  },
  {
   "cell_type": "code",
   "execution_count": 52,
   "metadata": {},
   "outputs": [],
   "source": [
    "final_df = df1.append(df2)"
   ]
  },
  {
   "cell_type": "markdown",
   "metadata": {},
   "source": [
    "## Function"
   ]
  },
  {
   "cell_type": "code",
   "execution_count": 59,
   "metadata": {},
   "outputs": [],
   "source": [
    "def wrangler(file):\n",
    "    directory = \"../datasets/stock\"\n",
    "    df1 = pd.read_csv(directory+\"/old_data/\"+file+\".csv\")\n",
    "    drop_list = ['Turnover','Trades','Deliverable Volume','%Deliverble']\n",
    "    df1 = df1.drop(drop_list, axis=1)\n",
    "    df1['Date'] = pd.to_datetime(df1.Date)\n",
    "    last_index = df1.index[-1] + 1\n",
    "    \n",
    "    df2 = pd.read_csv(directory+\"/new_data/\"+file+\"_1.csv\")\n",
    "    drop_list = ['52W H ','52W L ','VALUE ','No of trades ']\n",
    "    df2 = df2.sort_index(ascending=False)\n",
    "    df2.insert(1, \"Symbol\", file)\n",
    "    col = df2['PREV. CLOSE ']\n",
    "    df2 = df2.drop('PREV. CLOSE ',axis=1)\n",
    "    df2.insert(3, 'PREV. CLOSE ', col)\n",
    "    df2 = df2.drop(drop_list,axis=1)\n",
    "    rows = np.array(sorted(df2.axes[0]))\n",
    "    rows = last_index+rows\n",
    "    df2.index = rows\n",
    "    \n",
    "    df2.columns = df1.columns\n",
    "    df2['Date'] = pd.to_datetime(df2.Date)\n",
    "    \n",
    "    final_df = df1.append(df2)\n",
    "    final_df.to_csv(r'../data/stocks/'+file+'.csv',index=False)"
   ]
  },
  {
   "cell_type": "code",
   "execution_count": 62,
   "metadata": {},
   "outputs": [
    {
     "name": "stdout",
     "output_type": "stream",
     "text": [
      "<class 'pandas.core.frame.DataFrame'>\n",
      "RangeIndex: 3552 entries, 0 to 3551\n",
      "Data columns (total 11 columns):\n",
      " #   Column      Non-Null Count  Dtype  \n",
      "---  ------      --------------  -----  \n",
      " 0   Date        3552 non-null   object \n",
      " 1   Symbol      3552 non-null   object \n",
      " 2   Series      3552 non-null   object \n",
      " 3   Prev Close  3552 non-null   float64\n",
      " 4   Open        3552 non-null   float64\n",
      " 5   High        3552 non-null   float64\n",
      " 6   Low         3552 non-null   float64\n",
      " 7   Last        3552 non-null   float64\n",
      " 8   Close       3552 non-null   float64\n",
      " 9   VWAP        3552 non-null   float64\n",
      " 10  Volume      3552 non-null   int64  \n",
      "dtypes: float64(7), int64(1), object(3)\n",
      "memory usage: 305.4+ KB\n"
     ]
    }
   ],
   "source": [
    "directory = \"../datasets/stock\"\n",
    "stock_list = sorted(os.listdir(\"../datasets/stock/old_data\"))\n",
    "stock_list = [string.removesuffix('.csv') for string in stock_list]\n",
    "stock_list.remove('stock_metadata')\n",
    "stock_list"
   ]
  }
 ],
 "metadata": {
  "interpreter": {
   "hash": "96c29df3c9882678c9224b48ef6832271283dc1a6410b0d31dfff6ccd69c0f45"
  },
  "kernelspec": {
   "display_name": "Python 3.9.7 ('data_science')",
   "language": "python",
   "name": "python3"
  },
  "language_info": {
   "codemirror_mode": {
    "name": "ipython",
    "version": 3
   },
   "file_extension": ".py",
   "mimetype": "text/x-python",
   "name": "python",
   "nbconvert_exporter": "python",
   "pygments_lexer": "ipython3",
   "version": "3.9.7"
  },
  "orig_nbformat": 4
 },
 "nbformat": 4,
 "nbformat_minor": 2
}
