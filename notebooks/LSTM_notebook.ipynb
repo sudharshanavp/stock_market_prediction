{
 "cells": [
  {
   "cell_type": "markdown",
   "id": "a8dcfc25",
   "metadata": {},
   "source": [
    "# Approach 1"
   ]
  },
  {
   "cell_type": "code",
   "execution_count": 8,
   "id": "bfab9c17",
   "metadata": {},
   "outputs": [],
   "source": [
    "# Importing modules\n",
    "import numpy as np \n",
    "import pandas as pd\n",
    "import keras"
   ]
  },
  {
   "cell_type": "code",
   "execution_count": 35,
   "id": "164876e4",
   "metadata": {},
   "outputs": [
    {
     "data": {
      "text/plain": [
       "(4369, 2)"
      ]
     },
     "execution_count": 35,
     "metadata": {},
     "output_type": "execute_result"
    }
   ],
   "source": [
    "# Reading in the data\n",
    "data = pd.read_csv('../data/processed/stocks/nse_scraped/TCS.csv', \n",
    "                   thousands=',')\n",
    "\n",
    "# Isolating the date and close price\n",
    "data = data[['Date', 'Close']]\n",
    "new_data = data.loc[:,:]\n",
    "new_data.shape"
   ]
  },
  {
   "cell_type": "code",
   "execution_count": 36,
   "id": "658ec765",
   "metadata": {},
   "outputs": [],
   "source": [
    "# Feature Pre Processing\n",
    "new_data = new_data.drop(['Date'], axis = 1)\n",
    "new_data = new_data.reset_index(drop = True)\n",
    "T = new_data.values\n",
    "T = T.astype('float32')\n",
    "T = np.reshape(T, (-1, 1))"
   ]
  },
  {
   "cell_type": "code",
   "execution_count": 37,
   "id": "98418bea",
   "metadata": {},
   "outputs": [],
   "source": [
    "# Min-max scaling to get the values in the range [0,1] to optimize convergence speed\n",
    "from sklearn.preprocessing import MinMaxScaler\n",
    "scaler = MinMaxScaler(feature_range = (0, 1))\n",
    "T = scaler.fit_transform(T)\n"
   ]
  },
  {
   "cell_type": "code",
   "execution_count": 38,
   "id": "473ddc3a",
   "metadata": {},
   "outputs": [],
   "source": [
    "# 80-20 split\n",
    "train_size = int(len(T) * 0.80)\n",
    "test_size = int(len(T) - train_size)\n",
    "train, test = T[0:train_size,:], T[train_size:len(T),:]\n"
   ]
  },
  {
   "cell_type": "code",
   "execution_count": 39,
   "id": "c60bb33a",
   "metadata": {},
   "outputs": [
    {
     "data": {
      "text/plain": [
       "((3495, 1), (874, 1))"
      ]
     },
     "execution_count": 39,
     "metadata": {},
     "output_type": "execute_result"
    }
   ],
   "source": [
    "train.shape,test.shape"
   ]
  },
  {
   "cell_type": "code",
   "execution_count": 40,
   "id": "9c2c3b57",
   "metadata": {},
   "outputs": [],
   "source": [
    "# Method for create features from the time series data\n",
    "def create_features(data, window_size):\n",
    "    X, Y = [], []\n",
    "    for i in range(len(data) - window_size - 1):\n",
    "        window = data[i:(i + window_size), 0]\n",
    "        X.append(window)\n",
    "        Y.append(data[i + window_size, 0])\n",
    "    return np.array(X), np.array(Y)\n"
   ]
  },
  {
   "cell_type": "code",
   "execution_count": 41,
   "id": "84f91079",
   "metadata": {},
   "outputs": [],
   "source": [
    "# Roughly one month of trading \n",
    "window_size = 7\n",
    "X_train, Y_train = create_features(train, window_size)\n",
    "\n",
    "X_test, Y_test = create_features(test, window_size)\n"
   ]
  },
  {
   "cell_type": "code",
   "execution_count": 42,
   "id": "f4c18c1a",
   "metadata": {},
   "outputs": [
    {
     "data": {
      "text/plain": [
       "((3487, 7), (3487,), (866, 7), (866,))"
      ]
     },
     "execution_count": 42,
     "metadata": {},
     "output_type": "execute_result"
    }
   ],
   "source": [
    "X_train.shape,Y_train.shape,X_test.shape,Y_test.shape"
   ]
  },
  {
   "cell_type": "code",
   "execution_count": 43,
   "id": "c5e298bc",
   "metadata": {},
   "outputs": [
    {
     "name": "stdout",
     "output_type": "stream",
     "text": [
      "False\n",
      "WARNING:tensorflow:Layer lstm_1 will not use cuDNN kernels since it doesn't meet the criteria. It will use a generic GPU kernel as fallback when running on GPU.\n",
      "Epoch 1/30\n",
      "175/175 [==============================] - 5s 19ms/step - loss: 0.0311 - val_loss: 6.2774e-04\n",
      "Epoch 2/30\n",
      "175/175 [==============================] - 3s 15ms/step - loss: 0.0032 - val_loss: 5.5995e-04\n",
      "Epoch 3/30\n",
      "175/175 [==============================] - 3s 16ms/step - loss: 0.0028 - val_loss: 7.1071e-04\n",
      "Epoch 4/30\n",
      "175/175 [==============================] - 3s 16ms/step - loss: 0.0026 - val_loss: 6.2953e-04\n",
      "Epoch 5/30\n",
      "175/175 [==============================] - 3s 18ms/step - loss: 0.0025 - val_loss: 6.6788e-04\n",
      "Epoch 6/30\n",
      "175/175 [==============================] - 3s 18ms/step - loss: 0.0022 - val_loss: 5.0095e-04\n",
      "Epoch 7/30\n",
      "175/175 [==============================] - 4s 25ms/step - loss: 0.0021 - val_loss: 5.0840e-04\n",
      "Epoch 8/30\n",
      "175/175 [==============================] - 5s 27ms/step - loss: 0.0020 - val_loss: 5.1109e-04\n",
      "Epoch 9/30\n",
      "175/175 [==============================] - 4s 20ms/step - loss: 0.0018 - val_loss: 4.7095e-04\n",
      "Epoch 10/30\n",
      "175/175 [==============================] - 3s 19ms/step - loss: 0.0017 - val_loss: 5.4738e-04\n",
      "Epoch 11/30\n",
      "175/175 [==============================] - 2s 13ms/step - loss: 0.0017 - val_loss: 4.5484e-04\n",
      "Epoch 12/30\n",
      "175/175 [==============================] - 2s 13ms/step - loss: 0.0016 - val_loss: 4.3673e-04\n",
      "Epoch 13/30\n",
      "175/175 [==============================] - 3s 15ms/step - loss: 0.0016 - val_loss: 4.2904e-04\n",
      "Epoch 14/30\n",
      "175/175 [==============================] - 3s 16ms/step - loss: 0.0016 - val_loss: 4.1257e-04\n",
      "Epoch 15/30\n",
      "175/175 [==============================] - 3s 15ms/step - loss: 0.0015 - val_loss: 3.7781e-04\n",
      "Epoch 16/30\n",
      "175/175 [==============================] - 3s 15ms/step - loss: 0.0014 - val_loss: 3.7766e-04\n",
      "Epoch 17/30\n",
      "175/175 [==============================] - 3s 19ms/step - loss: 0.0014 - val_loss: 4.2269e-04\n",
      "Epoch 18/30\n",
      "175/175 [==============================] - 3s 16ms/step - loss: 0.0012 - val_loss: 3.8189e-04\n",
      "Epoch 19/30\n",
      "175/175 [==============================] - 3s 19ms/step - loss: 0.0013 - val_loss: 3.7964e-04\n",
      "Epoch 20/30\n",
      "175/175 [==============================] - 3s 16ms/step - loss: 0.0012 - val_loss: 3.8665e-04\n",
      "Epoch 21/30\n",
      "175/175 [==============================] - 3s 17ms/step - loss: 0.0012 - val_loss: 3.8724e-04\n",
      "Epoch 22/30\n",
      "175/175 [==============================] - 3s 16ms/step - loss: 0.0013 - val_loss: 4.0786e-04\n",
      "Epoch 23/30\n",
      "175/175 [==============================] - 4s 21ms/step - loss: 0.0012 - val_loss: 3.7815e-04\n",
      "Epoch 24/30\n",
      "175/175 [==============================] - 4s 23ms/step - loss: 0.0012 - val_loss: 5.2829e-04\n",
      "Epoch 25/30\n",
      "175/175 [==============================] - 3s 18ms/step - loss: 0.0012 - val_loss: 4.1090e-04\n",
      "Epoch 26/30\n",
      "175/175 [==============================] - 3s 17ms/step - loss: 0.0011 - val_loss: 4.2846e-04\n",
      "Epoch 27/30\n",
      "175/175 [==============================] - 3s 16ms/step - loss: 0.0012 - val_loss: 4.1058e-04\n",
      "Epoch 28/30\n",
      "175/175 [==============================] - 3s 16ms/step - loss: 0.0012 - val_loss: 3.4340e-04\n",
      "Epoch 29/30\n",
      "175/175 [==============================] - 3s 16ms/step - loss: 0.0013 - val_loss: 4.4533e-04\n",
      "Epoch 30/30\n",
      "175/175 [==============================] - 3s 16ms/step - loss: 0.0011 - val_loss: 4.3379e-04\n",
      "Train RMSE is: \n",
      "57.64228559845519 \n",
      "\n",
      "Test RMSE is: \n",
      "76.07320261524592\n"
     ]
    }
   ],
   "source": [
    "\n",
    "\n",
    "# Reshape to the format of [samples, time steps, features]\n",
    "X_train = np.reshape(X_train, (X_train.shape[0], 1, X_train.shape[1]))\n",
    "\n",
    "X_test = np.reshape(X_test, (X_test.shape[0], 1, X_test.shape[1]))\n",
    "\n",
    "T_shape = T.shape\n",
    "train_shape = train.shape\n",
    "test_shape = test.shape\n",
    "\n",
    "# Make sure that the number of rows in the dataset = train rows + test rows\n",
    "def isLeak(T_shape, train_shape, test_shape):\n",
    "    return not(T_shape[0] == (train_shape[0] + test_shape[0]))\n",
    "\n",
    "print(isLeak(T_shape, train_shape, test_shape))\n",
    "\n",
    "# Model imports\n",
    "import tensorflow as tf\n",
    "from keras.layers import LSTM, Dense, Dropout\n",
    "from keras.models import Sequential\n",
    "\"\"\" from keras.models import Sequential\n",
    "from keras.layers import Dense\n",
    "from keras.layers import LSTM\n",
    "from keras.layers import Dropout \"\"\"\n",
    "\n",
    "# Setting seed for reproducibility \n",
    "tf.random.set_seed(11)\n",
    "np.random.seed(11)\n",
    "\n",
    "# Building model\n",
    "model = Sequential()\n",
    "\n",
    "model.add(LSTM(units = 50, activation = 'relu', #return_sequences = True, \n",
    "               input_shape = (X_train.shape[1], window_size)))\n",
    "model.add(Dropout(0.2))\n",
    "\n",
    "# Optional additional model layer to make a deep network. If you want to use this, uncomment #return_sequences param in previous add\n",
    "\"\"\"\n",
    "model.add(LSTM(units = 25, activation = 'relu'))\n",
    "model.add(Dropout(0.2))\n",
    "\"\"\"\n",
    "\n",
    "# Output layer\n",
    "model.add(Dense(1))\n",
    "model.compile(loss = 'mean_squared_error', optimizer = 'adam')\n",
    "\n",
    "\n",
    "\n",
    "history = model.fit(X_train, Y_train, epochs = 30, batch_size = 20, validation_data = (X_test, Y_test))\n",
    "\n",
    "\"\"\"\n",
    "Loading the best model and predicting\n",
    "\"\"\"\n",
    "\n",
    "\n",
    "# Predicting and inverse transforming the predictions\n",
    "\n",
    "train_predict = model.predict(X_train)\n",
    "\n",
    "Y_hat_train = scaler.inverse_transform(train_predict)\n",
    "\n",
    "test_predict = model.predict(X_test)\n",
    "\n",
    "Y_hat_test = scaler.inverse_transform(test_predict)\n",
    "\n",
    "# Inverse transforming the actual values, to return them to their original values\n",
    "Y_test = scaler.inverse_transform([Y_test])\n",
    "Y_train = scaler.inverse_transform([Y_train])\n",
    "\n",
    "# Reshaping \n",
    "Y_hat_train = np.reshape(Y_hat_train, newshape =X_train.shape[0])\n",
    "Y_hat_test = np.reshape(Y_hat_test, newshape = X_test.shape[0])\n",
    "\n",
    "Y_train = np.reshape(Y_train, newshape = X_train.shape[0])\n",
    "Y_test = np.reshape(Y_test, newshape = X_test.shape[0])\n",
    "\n",
    "# Model performance evaluation\n",
    "from sklearn.metrics import mean_squared_error\n",
    "\n",
    "train_RMSE = np.sqrt(mean_squared_error(Y_train, Y_hat_train))\n",
    "\n",
    "test_RMSE = np.sqrt(mean_squared_error(Y_test, Y_hat_test))\n",
    "\n",
    "print('Train RMSE is: ')\n",
    "print(train_RMSE, '\\n')\n",
    "print('Test RMSE is: ')\n",
    "print(test_RMSE)"
   ]
  },
  {
   "cell_type": "code",
   "execution_count": 50,
   "id": "eea47f28",
   "metadata": {},
   "outputs": [
    {
     "name": "stdout",
     "output_type": "stream",
     "text": [
      "[2162.85009754 2064.80012382 2102.64982847 2077.55007322 2091.80001667\n",
      " 2043.59991768 1979.94988001 1918.30012467 1949.50000085 1962.30002262\n",
      " 1929.40008062 1913.1999272  1902.99996768 1843.65005808 1848.4998937\n",
      " 1852.99987584 1799.09990833 1871.00002211 1894.8000728  1938.14990076\n",
      " 1935.74991028 1913.44985364 1890.8500159  1932.69984982 1942.15003002\n",
      " 1909.20001565 1914.84992066 1934.94984089 1880.65005638 1872.84986963\n",
      " 1886.5999602  1902.44982473 1878.25006591 1811.99996598 1812.55000009\n",
      " 1846.09990322 1890.25001828 1983.8999369  1960.55010213 1968.24992644\n",
      " 1982.39994285 2010.84997508 2006.74991879 1992.69982941 1995.19996462\n",
      " 1975.79996904 1999.99994557 2016.80009661 1982.60001463 1989.74991368\n",
      " 1994.29996819 1987.84999379 1968.44999821 1954.05005536 1895.79999626\n",
      " 1918.49997874 1889.20002245 1908.9498715  1896.0499227  1893.0499346\n",
      " 1902.80011362 1923.29995969 1899.94990722 1876.84999889 1897.89998792\n",
      " 1893.55000519 1886.95003138 1888.54995246 1842.54998988 1813.24992474\n",
      " 1867.79996224 1870.15009805 1894.30000221 1900.65004958 1908.69994506\n",
      " 1901.89989948 1875.59993129 1901.55004601 1920.80004218 1954.99990645\n",
      " 1982.75001403 1981.40001939 2014.09988962 2029.94997185 2050.24996386\n",
      " 2044.54998648 2074.80001157 2082.89997942 2061.39977447 2065.89997432\n",
      " 2051.60017621 2065.39990373 2044.59984114 2029.69982771 1970.30006344\n",
      " 1904.79996054 1914.74999362 1914.19985067 1925.6500955  1985.15000451\n",
      " 2038.70000969 2058.10000527 1983.44993869 1995.4000364  1988.09992023\n",
      " 1999.60001973 2013.30003793 2022.69992805 2014.80003198 2012.44989616\n",
      " 2000.50001616 1987.39999558 2039.9498596  2022.8000728  2022.8000728\n",
      " 2015.04995841 2005.65006829 1984.25000808 1982.650087   1967.90007297\n",
      " 2000.29994438 2001.64993903 2031.65003767 2079.29999371 2079.29999371\n",
      " 2014.50003317 2048.2999716  2070.75002764 2091.50001786 2040.25007611\n",
      " 2019.49986819 2014.50003317 2113.30000391 2131.80000306 2150.05007577\n",
      " 2161.45003053 2155.0501285  2183.44987065 2195.00015137 2238.55005111\n",
      " 2260.35025487 2215.40007041 2132.00007484 2157.85004482 2151.94999566\n",
      " 2152.84999209 2172.54998648 2135.79991462 2128.7499426  2092.35015962\n",
      " 2095.39978468 2108.7499494  2095.44985705 2143.94995484 2109.74987286\n",
      " 2081.75005655 2054.05002135 2047.99997279 2055.14987184 2073.75001573\n",
      " 2107.54995416 2146.30009065 2196.55021779 2242.30003623 2183.10001718\n",
      " 2166.10001208 2181.75002254 2231.50007909 2252.80021226 2260.89996241\n",
      " 2254.10013454 2254.50006038 2249.20000884 2250.85022    2259.90003895\n",
      " 2277.95003988 2249.85007883 2275.49997704 2267.80015273 2254.20006157\n",
      " 2252.55006812 2227.19995102 2239.55019228 2252.10028761 2237.65005468\n",
      " 2242.6498897  2163.10002398 2175.39997517 2133.35006948 2108.20002415\n",
      " 2102.55011914 2107.60002653 2145.69987533 2105.99988775 2117.2500608\n",
      " 2065.94982898 2076.9498579  2109.89987227 2112.44986215 2096.80006939\n",
      " 2127.89980083 2109.04994821 2130.0000102  2179.14996029 2205.69996377\n",
      " 2180.04995671 2205.30003793 2248.60022893 2214.89999983 2213.45007815\n",
      " 2258.1002638  2246.25009312 2199.45006114 2204.4000415  2165.10008861\n",
      " 2162.99987924 2186.75007526 2186.19993231 2216.00006803 2247.7000148\n",
      " 2276.30004643 2236.50013181 2239.24997576 2233.45007135 2259.60025785\n",
      " 2251.60021703 2245.39995136 2215.30014338 2197.50006888 2182.85009074\n",
      " 2153.99991496 2133.59999592 2141.94989021 2150.0000034  2122.64982167\n",
      " 2138.54997627 2101.94990382 2065.4499761  2015.79995544 2044.69998588\n",
      " 2088.44995739 2087.60003334 2056.14979531 2099.2999869  2059.94985279\n",
      " 2060.25006931 2079.35006608 2047.69997398 2020.0998658  2004.44985534\n",
      " 1986.84985262 2021.00007994 2037.29994268 2046.40005171 2030.94989531\n",
      " 2057.35000825 2051.39988672 2070.10017536 2081.99998299 2124.94988511\n",
      " 2115.69999439 2194.85015197 2252.80021226 2269.65000026 2200.89998282\n",
      " 2193.94993783 2201.85026933 2188.49999575 2185.35000825 2129.94993783\n",
      " 2100.94998036 2178.60003504 2196.80014423 2174.44990637 2152.60006565\n",
      " 2108.80002177 2108.55009533 2118.09998486 2071.69987873 2081.49991241\n",
      " 2046.64997814 2054.29994778 2077.35000145 2053.24995195 2021.0499346\n",
      " 2050.99996088 2078.49992431 2121.30004473 2123.60010817 2060.44992338\n",
      " 2012.85003971 2041.90006956 2020.8999352  2071.24988052 2126.74987797\n",
      " 2164.9498715  2167.75000553 2229.05023395 2222.90004065 2231.69993316\n",
      " 2215.60014219 2201.94997865 2198.49999235 2183.19994421 2161.69995697\n",
      " 2167.60000612 2157.64997304 2200.65005638 2200.44998461 2205.85018088\n",
      " 2255.2500574  2214.35007458 2213.55022289 2190.35006097 2206.89995901\n",
      " 2226.89995221 2238.80019526 2219.10020087 2170.35006778 2171.04999243\n",
      " 2206.89995901 2190.94984089 2183.39979828 2169.24999957 2183.74986946\n",
      " 2154.60013028 2137.85005162 2079.05006727 2164.85016217 2102.50004677\n",
      " 2107.75002594 2146.55001709 2128.35001675 2136.55012935 2161.94988341\n",
      " 2153.39991734 2170.74999362 2191.94998206 2184.19986768 2203.25011863\n",
      " 2215.75014159 2196.35014602 2156.80004898 2115.35014091 2156.14997899\n",
      " 2123.60010817 2105.50003487 2000.14994498 2001.30008555 2036.19987448\n",
      " 2083.19997823 2125.05002985 2116.44999141 1972.34998274 1953.69998418\n",
      " 1769.84991555 1806.2999886  1696.39995306 1657.9999966  1654.40001089\n",
      " 1636.3499011  1797.44991487 1669.69995017 1703.15003512 1750.30002942\n",
      " 1790.94997695 1824.49998894 1778.50002636 1826.09991003 1708.74997661\n",
      " 1654.19993911 1775.19993061 1705.44988086 1766.15000281 1759.24992134\n",
      " 1735.1499807  1716.04998393 1806.19995272 1818.65001216 1737.65000706\n",
      " 1769.49995323 1878.25006591 1818.54997627 1836.59986836 1859.0499244\n",
      " 1905.6501023  2014.4499608  1930.44985875 1932.74992219 1903.5999653\n",
      " 1891.6500853  1893.40000578 1935.30012977 1949.50000085 1949.65000026\n",
      " 1902.3498977  1892.8999352  1945.60001633 1948.65007679 1953.60005715\n",
      " 1991.19983536 2020.35000995 1942.99995408 2005.29999711 2004.30007365\n",
      " 1972.34998274 2045.24991113 2047.15004873 2046.14990756 2091.55009023\n",
      " 2048.24989923 2071.7499511  2072.04994991 2108.7499494  2067.6498948\n",
      " 2039.50007909 2029.89989948 2045.80005409 2047.80011872 2038.10001208\n",
      " 2044.59984114 2027.94990722 2035.30009576 2042.19985067 2016.09995425\n",
      " 2118.84998189 2101.64990501 2082.1499824  2092.04994311 2157.14990246\n",
      " 2199.64991521 2263.20002585 2269.89992669 2218.89991139 2204.35018684\n",
      " 2222.3501154  2219.99997959 2171.94998886 2233.90006956 2234.74999362\n",
      " 2200.74998342 2207.89988247 2225.05010469 2190.94984089 2171.19999184\n",
      " 2157.3998289  2206.80003198 2309.75013139 2276.05011999 2279.5001063\n",
      " 2281.40002619 2254.1499892  2249.70007943 2259.50011311 2308.10013794\n",
      " 2295.35018854 2282.80009321 2279.90003215 2257.35026677 2254.44998801\n",
      " 2242.15003682 2253.39999218 2269.750145   2256.60026975 2252.85028463\n",
      " 2248.60022893 2248.10015835 2242.6498897  2253.50013692 2248.39993945\n",
      " 2238.55005111 2257.25012203 2246.35023786 2265.15001811 2299.5000995\n",
      " 2288.80006939 2327.0501353  2348.20005136 2327.64991521 2331.14997389\n",
      " 2374.10009372 2491.40006361 2491.40006361 2503.00009014 2460.94996675\n",
      " 2449.90008317 2465.30016719 2522.95001097 2467.45001352 2332.2500421\n",
      " 2422.3001927  2426.30010426 2488.40007552 2492.30006004 2523.45008155\n",
      " 2705.80015614 2714.30004983 2735.95003648 2825.69997058 2812.95002118\n",
      " 2830.00009865 2826.55011234 2809.60017961 2740.60023573 2763.30021822\n",
      " 2711.55020589 2739.00009695 2675.39991394 2671.15007594 2686.8000864\n",
      " 2688.19993571 2630.14994838 2622.19997993 2632.6500836  2664.85010094\n",
      " 2604.60019491 2633.60015239 2653.14992967 2685.7000182  2707.44993188\n",
      " 2726.60021873 2649.60023403 2687.80022757 2671.05014891 2656.85027783\n",
      " 2670.35022425 2666.05009618 2626.6498897  2636.89992159 2660.24997406\n",
      " 2724.25008292 2722.05016421 2701.30017399 2720.60024254 2679.64996964\n",
      " 2726.8000728  2749.55012765 2709.44999651 2727.55006982 2737.69995697\n",
      " 2797.30022842 2810.80017485 2784.30013488 2783.60021022 2797.69993656\n",
      " 2761.55008002 2814.20008878 2838.19999354 2861.00012076 2820.1499926\n",
      " 2872.50000255 2908.75000383 2909.35021915 2929.40006701 2930.50013522\n",
      " 2909.30014678 2862.75004125 2928.25014415 3039.44999311 3092.9999983\n",
      " 3051.50001786 3032.80016464 3120.89988758 3176.44995739 3174.85025402\n",
      " 3158.95009941 3250.70009814 3233.35023956 3221.74999532 3260.69998588\n",
      " 3308.80015784 3273.85007883 3303.10018046 3291.30008215 3261.05005706\n",
      " 3196.55009533 3111.35021575 3139.35024977 3203.45006795 3200.05015401\n",
      " 3188.45012748 3157.94995824 3214.10024339 3176.89995561 3213.30017399\n",
      " 3206.00005783 3190.80004558 3139.85010264 3108.80022587 3073.10014984\n",
      " 3057.35021235 3071.85008224 2958.45009686 2980.20001055 2948.10013794\n",
      " 2995.30009576 2894.30020631 2924.19994251 3006.35019704 3059.10013283\n",
      " 3049.700025   3008.05004516 3006.94997695 3050.95009261 3070.95008581\n",
      " 3057.94999226 3066.14988715 3110.05007577 3112.95013683 3036.50007739\n",
      " 3050.20009559 3129.64992542 3142.6001643  3121.10017706 3064.85018258\n",
      " 3066.80017485 3158.55017357 3177.85024211 3165.00014797 3238.89999983\n",
      " 3264.70011515 3271.40001599 3317.35012391 3322.25003189 3246.55018718\n",
      " 3104.05009958 3218.950079   3195.15002832 3161.8000881  3144.55015656\n",
      " 3118.80011362 3109.50015052 3100.80018505 3132.00006123 3124.10016515\n",
      " 3115.24998257 3035.64993562 3037.00014797 3049.75009737 3095.69998758\n",
      " 3111.44992508 3132.90005766 3145.50000765 3122.6001711  3087.60023744\n",
      " 3051.50001786 3069.75009057 3088.80023267 3082.00018709 3060.00012926\n",
      " 3080.49997534 3081.50011651 3114.00013266 3158.5001012  3180.00008844\n",
      " 3143.60008776 3159.14995348 3152.99997789 3129.45007135 3141.25016966\n",
      " 3143.75008717 3183.19993061 3200.15008104 3200.25000808 3216.80023267\n",
      " 3273.80022417 3276.35021405 3262.75012288 3274.35014942 3317.75004975\n",
      " 3297.30005834 3273.10008181 3301.20004286 3261.39991054 3373.60011838\n",
      " 3380.8000898  3336.75011948 3340.85017578 3345.75008377 3341.50002806\n",
      " 3325.45009176 3321.00018199 3262.30012467 3274.94992933 3258.50006718\n",
      " 3208.14990416 3193.10010902 3187.55013105 3214.5500239  3202.94999736\n",
      " 3194.80017485 3184.60021532 3205.80020376 3216.35023446 3212.85017578\n",
      " 3197.5502365  3182.95000417 3197.80016294 3195.80009831 3167.44999311\n",
      " 3219.40007722 3284.89996241 3273.95000587 3283.95011132 3309.8000813\n",
      " 3322.7000301  3333.89991309 3344.20001735 3351.75005995 3463.39990713\n",
      " 3472.95001437 3553.0501319  3560.55010213 3559.5001063  3637.40008742\n",
      " 3613.20011089 3659.00021941 3671.85009584 3720.14990416 3701.30005154\n",
      " 3786.45007645 3714.95021507 3836.75016711 3842.05000094 3852.00003402\n",
      " 3815.90003215 3774.15012527 3791.3998391  3845.34998784 3885.89989948\n",
      " 3954.54998988 3903.30026584 3827.85034756 3823.50014712 3862.95020827\n",
      " 3862.14992117 3869.25018326 3871.30010256 3836.95002118 3779.14996029\n",
      " 3791.90012739 3775.54997457 3730.20008198 3773.30020121 3833.29996309\n",
      " 3810.90019713 3892.90001684 3935.65006489 3685.5999687  3652.85002611\n",
      " 3655.19994421 3611.4499727  3647.15004873 3634.14995518 3608.85012816\n",
      " 3532.49999575 3498.85027443 3492.95000757 3482.60026635 3489.75016541\n",
      " 3421.65000026 3397.75002254 3476.40000068 3484.19996973 3492.25008292\n",
      " 3508.6500904  3502.75004125 3505.69995697 3484.30011447 3488.20009899\n",
      " 3526.05023905 3553.30005834 3556.39997347 3521.89989268 3475.70007603\n",
      " 3458.40007212 3464.2500489  3443.30020461 3445.90004915 3446.85011795\n",
      " 3502.00004422 3529.14993647 3577.80003368 3642.89999303 3640.44993018\n",
      " 3536.39998027 3584.50015222 3626.89991139 3601.75008377 3636.8000898\n",
      " 3609.64997985 3623.80021396 3570.35013581 3581.60009116 3584.35015282\n",
      " 3556.90004405 3608.30020291 3630.75004125 3662.69991445 3670.90002704\n",
      " 3696.10036245 3706.55024841 3694.70007773 3733.74999532 3738.3501222\n",
      " 3817.75009737 3884.74997661 3860.94992593 3807.44999311 3853.50002806\n",
      " 3879.85028633 3915.89978042 3859.9001478  3897.89985186 3968.15008104\n",
      " 4019.14987865 3990.60035479 3914.65014823 3826.55020759 3833.50025257\n",
      " 3771.34999124 3769.90006956 3649.25004039 3690.05031389 3736.25013054\n",
      " 3800.65016524 3856.20001735 3824.59999762 3814.89989098 3779.00017859\n",
      " 3743.45010196 3760.5500341  3770.35028548 3694.95000417 3733.74999532\n",
      " 3817.80016974 3813.10033353 3784.19986768 3793.89997432 3719.40012484\n",
      " 3586.40007212 3563.80023437 3401.65000706 3520.75018752 3554.20005477\n",
      " 3546.14994158 3544.40002109 3524.35017323 3484.89989438 3599.95009091\n",
      " 3632.60010647 3620.95000757 3599.15002152 3643.00013777 3593.90004235\n",
      " 3655.90008657 3672.75009227 3626.70005732 3700.94998036 3712.40000748\n",
      " 3749.8502217  3707.45024483 3707.70017127 3705.35025317 3731.55029433\n",
      " 3739.94982558]\n"
     ]
    }
   ],
   "source": [
    "print(Y_test)"
   ]
  },
  {
   "cell_type": "code",
   "execution_count": 44,
   "id": "62b80325",
   "metadata": {},
   "outputs": [
    {
     "name": "stdout",
     "output_type": "stream",
     "text": [
      "2.8.0\n"
     ]
    }
   ],
   "source": [
    "import tensorflow as tf\n",
    "\n",
    "print(tf.__version__)"
   ]
  },
  {
   "cell_type": "markdown",
   "id": "848b941c",
   "metadata": {},
   "source": [
    "# Approach 2"
   ]
  },
  {
   "cell_type": "code",
   "execution_count": 2,
   "id": "4f9a51c8",
   "metadata": {},
   "outputs": [],
   "source": [
    "import matplotlib.pyplot as plt\n",
    "import pandas as pd\n",
    "import numpy as np"
   ]
  },
  {
   "cell_type": "code",
   "execution_count": 3,
   "id": "ea3f2b1e",
   "metadata": {},
   "outputs": [],
   "source": [
    "def plot_series(time, series, format=\"-\", start=0, end=None, label=None):\n",
    "    plt.plot(time[start:end], series[start:end], format, label=label)\n",
    "    plt.xlabel(\"Time\")\n",
    "    plt.ylabel(\"Value\")\n",
    "    if label:\n",
    "        plt.legend(fontsize=14)\n",
    "    plt.grid(True)\n",
    "    \n",
    "\n",
    "def sequential_window_dataset(series, window_size):\n",
    "    ds = tf.data.Dataset.from_tensor_slices(series)\n",
    "    ds = ds.window(window_size + 1, shift=window_size, drop_remainder=True)\n",
    "    ds = ds.flat_map(lambda window: window.batch(window_size + 1))\n",
    "    ds = ds.map(lambda window: (window[:-1], window[1:]))\n",
    "    return ds.batch(1).prefetch(1)"
   ]
  },
  {
   "cell_type": "code",
   "execution_count": 4,
   "id": "9fd00c03",
   "metadata": {},
   "outputs": [],
   "source": [
    "# Read in data\n",
    "spy = pd.read_csv('../data/raw/stock/yahoo_finance/ITC')\n",
    "\n",
    "# Convert series into datetime type\n",
    "spy['Date'] = pd.to_datetime(spy['Date'])\n",
    "\n",
    "# Save target series\n",
    "series = spy['Close']\n",
    "\n",
    "# Create train data set\n",
    "train_split_date = '2014-12-31'\n",
    "train_split_index = np.where(spy.Date == train_split_date)[0][0]\n",
    "x_train = spy.loc[spy['Date'] <= train_split_date]['Close']\n",
    "\n",
    "# Create test data set\n",
    "test_split_date = '2019-01-02'\n",
    "test_split_index = np.where(spy.Date == test_split_date)[0][0]\n",
    "x_test = spy.loc[spy['Date'] >= test_split_date]['Close']\n",
    "\n",
    "# Create valid data set\n",
    "valid_split_index = (train_split_index.max(),test_split_index.min())\n",
    "x_valid = spy.loc[(spy['Date'] < test_split_date) & (spy['Date'] > train_split_date)]['Close']"
   ]
  },
  {
   "cell_type": "code",
   "execution_count": 5,
   "id": "57ffa01f",
   "metadata": {},
   "outputs": [
    {
     "name": "stdout",
     "output_type": "stream",
     "text": [
      "3767 3768 4754 4755 5557\n"
     ]
    },
    {
     "data": {
      "image/png": "[encoded data removed]",
      "text/plain": [
       "<Figure size 432x288 with 1 Axes>"
      ]
     },
     "metadata": {
      "needs_background": "light"
     },
     "output_type": "display_data"
    }
   ],
   "source": [
    "# Plot all lines on one chart to see where one segment starts and another ends\n",
    "plt.plot(x_train, label = 'Train')\n",
    "plt.plot(x_valid, label = 'Validate')\n",
    "plt.plot(x_test, label = 'Test')\n",
    "plt.legend()\n",
    "print(x_train.index.max(),x_valid.index.min(),x_valid.index.max(),x_test.index.min(),x_test.index.max())"
   ]
  },
  {
   "cell_type": "code",
   "execution_count": 6,
   "id": "9c9ac198",
   "metadata": {},
   "outputs": [],
   "source": [
    "from sklearn.preprocessing import MinMaxScaler\n",
    "# Reshape values\n",
    "x_train_values = x_train.values.reshape(-1, 1)\n",
    "x_valid_values = x_valid.values.reshape(-1, 1)\n",
    "x_test_values = x_test.values.reshape(-1, 1)\n",
    "\n",
    "#  Create Scaler Object\n",
    "x_train_scaler = MinMaxScaler(feature_range=(0, 1))\n",
    "\n",
    "# Fit x_train values\n",
    "normalized_x_train = x_train_scaler.fit_transform(x_train_values)\n",
    "\n",
    "# Fit x_valid values\n",
    "normalized_x_valid = x_train_scaler.transform(x_valid_values)\n",
    "\n",
    "# Fit x_test values\n",
    "normalized_x_test = x_train_scaler.transform(x_test_values)\n",
    "\n",
    "# All values normalized to training data\n",
    "spy_normalized_to_traindata = x_train_scaler.transform(series.values.reshape(-1, 1))"
   ]
  },
  {
   "cell_type": "code",
   "execution_count": 10,
   "id": "31ca346a",
   "metadata": {},
   "outputs": [],
   "source": [
    "class ResetStatesCallback(keras.callbacks.Callback):\n",
    "    def on_epoch_begin(self, epoch, logs):\n",
    "        self.model.reset_states()"
   ]
  },
  {
   "cell_type": "code",
   "execution_count": 11,
   "metadata": {},
   "outputs": [],
   "source": [
    "import tensorflow as tf"
   ]
  },
  {
   "cell_type": "code",
   "execution_count": 12,
   "id": "2646b149",
   "metadata": {},
   "outputs": [
    {
     "name": "stderr",
     "output_type": "stream",
     "text": [
      "2022-06-11 11:37:53.960841: I tensorflow/stream_executor/cuda/cuda_gpu_executor.cc:922] could not open file to read NUMA node: /sys/bus/pci/devices/0000:01:00.0/numa_node\n",
      "Your kernel may have been built without NUMA support.\n",
      "2022-06-11 11:37:54.056825: I tensorflow/stream_executor/cuda/cuda_gpu_executor.cc:922] could not open file to read NUMA node: /sys/bus/pci/devices/0000:01:00.0/numa_node\n",
      "Your kernel may have been built without NUMA support.\n",
      "2022-06-11 11:37:54.057955: I tensorflow/stream_executor/cuda/cuda_gpu_executor.cc:922] could not open file to read NUMA node: /sys/bus/pci/devices/0000:01:00.0/numa_node\n",
      "Your kernel may have been built without NUMA support.\n",
      "2022-06-11 11:37:54.071829: I tensorflow/core/platform/cpu_feature_guard.cc:151] This TensorFlow binary is optimized with oneAPI Deep Neural Network Library (oneDNN) to use the following CPU instructions in performance-critical operations:  AVX2 FMA\n",
      "To enable them in other operations, rebuild TensorFlow with the appropriate compiler flags.\n",
      "2022-06-11 11:37:54.079887: I tensorflow/stream_executor/cuda/cuda_gpu_executor.cc:922] could not open file to read NUMA node: /sys/bus/pci/devices/0000:01:00.0/numa_node\n",
      "Your kernel may have been built without NUMA support.\n",
      "2022-06-11 11:37:54.080787: I tensorflow/stream_executor/cuda/cuda_gpu_executor.cc:922] could not open file to read NUMA node: /sys/bus/pci/devices/0000:01:00.0/numa_node\n",
      "Your kernel may have been built without NUMA support.\n",
      "2022-06-11 11:37:54.081476: I tensorflow/stream_executor/cuda/cuda_gpu_executor.cc:922] could not open file to read NUMA node: /sys/bus/pci/devices/0000:01:00.0/numa_node\n",
      "Your kernel may have been built without NUMA support.\n",
      "2022-06-11 11:37:56.068272: I tensorflow/stream_executor/cuda/cuda_gpu_executor.cc:922] could not open file to read NUMA node: /sys/bus/pci/devices/0000:01:00.0/numa_node\n",
      "Your kernel may have been built without NUMA support.\n",
      "2022-06-11 11:37:56.070140: I tensorflow/stream_executor/cuda/cuda_gpu_executor.cc:922] could not open file to read NUMA node: /sys/bus/pci/devices/0000:01:00.0/numa_node\n",
      "Your kernel may have been built without NUMA support.\n",
      "2022-06-11 11:37:56.070592: I tensorflow/core/common_runtime/gpu/gpu_device.cc:1609] Could not identify NUMA node of platform GPU id 0, defaulting to 0.  Your kernel may not have been built with NUMA support.\n",
      "2022-06-11 11:37:56.071221: I tensorflow/stream_executor/cuda/cuda_gpu_executor.cc:922] could not open file to read NUMA node: /sys/bus/pci/devices/0000:01:00.0/numa_node\n",
      "Your kernel may have been built without NUMA support.\n",
      "2022-06-11 11:37:56.072972: I tensorflow/core/common_runtime/gpu/gpu_device.cc:1525] Created device /job:localhost/replica:0/task:0/device:GPU:0 with 2115 MB memory:  -> device: 0, name: NVIDIA GeForce GTX 1650, pci bus id: 0000:01:00.0, compute capability: 7.5\n"
     ]
    },
    {
     "name": "stdout",
     "output_type": "stream",
     "text": [
      "Epoch 1/100\n"
     ]
    },
    {
     "name": "stderr",
     "output_type": "stream",
     "text": [
      "/home/turner/miniconda3/envs/stock_prediction/lib/python3.9/site-packages/keras/optimizer_v2/nadam.py:73: UserWarning: The `lr` argument is deprecated, use `learning_rate` instead.\n",
      "  super(Nadam, self).__init__(name, **kwargs)\n",
      "2022-06-11 11:38:02.615787: I tensorflow/stream_executor/cuda/cuda_dnn.cc:368] Loaded cuDNN version 8101\n"
     ]
    },
    {
     "name": "stdout",
     "output_type": "stream",
     "text": [
      "376/376 [==============================] - 18s 26ms/step - loss: 5.4993e-04 - mae: 0.0251 - lr: 1.0000e-05\n",
      "Epoch 2/100\n",
      "376/376 [==============================] - 9s 23ms/step - loss: 6.2723e-04 - mae: 0.0266 - lr: 1.1220e-05\n",
      "Epoch 3/100\n",
      "376/376 [==============================] - 8s 22ms/step - loss: 2.2451e-04 - mae: 0.0159 - lr: 1.2589e-05\n",
      "Epoch 4/100\n",
      "376/376 [==============================] - 8s 22ms/step - loss: 1.5902e-04 - mae: 0.0121 - lr: 1.4125e-05\n",
      "Epoch 5/100\n",
      "376/376 [==============================] - 9s 23ms/step - loss: 1.5191e-04 - mae: 0.0111 - lr: 1.5849e-05\n",
      "Epoch 6/100\n",
      "376/376 [==============================] - 9s 23ms/step - loss: 1.5133e-04 - mae: 0.0110 - lr: 1.7783e-05\n",
      "Epoch 7/100\n",
      "376/376 [==============================] - 9s 23ms/step - loss: 1.5161e-04 - mae: 0.0109 - lr: 1.9953e-05\n",
      "Epoch 8/100\n",
      "376/376 [==============================] - 9s 24ms/step - loss: 1.5207e-04 - mae: 0.0109 - lr: 2.2387e-05\n",
      "Epoch 9/100\n",
      "376/376 [==============================] - 9s 23ms/step - loss: 1.5256e-04 - mae: 0.0108 - lr: 2.5119e-05\n",
      "Epoch 10/100\n",
      "376/376 [==============================] - 9s 25ms/step - loss: 1.5306e-04 - mae: 0.0108 - lr: 2.8184e-05\n",
      "Epoch 11/100\n",
      "376/376 [==============================] - 9s 23ms/step - loss: 1.5355e-04 - mae: 0.0108 - lr: 3.1623e-05\n",
      "Epoch 12/100\n",
      "376/376 [==============================] - 9s 24ms/step - loss: 1.5400e-04 - mae: 0.0108 - lr: 3.5481e-05\n",
      "Epoch 13/100\n",
      "376/376 [==============================] - 9s 23ms/step - loss: 1.5441e-04 - mae: 0.0108 - lr: 3.9811e-05\n",
      "Epoch 14/100\n",
      "376/376 [==============================] - 10s 26ms/step - loss: 1.5472e-04 - mae: 0.0108 - lr: 4.4668e-05\n",
      "Epoch 15/100\n",
      "376/376 [==============================] - 9s 23ms/step - loss: 1.5491e-04 - mae: 0.0108 - lr: 5.0119e-05\n",
      "Epoch 16/100\n",
      "376/376 [==============================] - 9s 23ms/step - loss: 1.5494e-04 - mae: 0.0108 - lr: 5.6234e-05\n",
      "Epoch 17/100\n",
      "376/376 [==============================] - 8s 22ms/step - loss: 1.5478e-04 - mae: 0.0107 - lr: 6.3096e-05\n",
      "Epoch 18/100\n",
      "376/376 [==============================] - 9s 23ms/step - loss: 1.5441e-04 - mae: 0.0107 - lr: 7.0795e-05\n",
      "Epoch 19/100\n",
      "376/376 [==============================] - 10s 26ms/step - loss: 1.5382e-04 - mae: 0.0106 - lr: 7.9433e-05\n",
      "Epoch 20/100\n",
      "376/376 [==============================] - 9s 23ms/step - loss: 1.5303e-04 - mae: 0.0106 - lr: 8.9125e-05\n",
      "Epoch 21/100\n",
      "376/376 [==============================] - 8s 22ms/step - loss: 1.5204e-04 - mae: 0.0105 - lr: 1.0000e-04\n",
      "Epoch 22/100\n",
      "376/376 [==============================] - 8s 22ms/step - loss: 1.5087e-04 - mae: 0.0104 - lr: 1.1220e-04\n",
      "Epoch 23/100\n",
      "376/376 [==============================] - 9s 23ms/step - loss: 1.4956e-04 - mae: 0.0104 - lr: 1.2589e-04\n",
      "Epoch 24/100\n",
      "376/376 [==============================] - 9s 25ms/step - loss: 1.4806e-04 - mae: 0.0103 - lr: 1.4125e-04\n",
      "Epoch 25/100\n",
      "376/376 [==============================] - 10s 26ms/step - loss: 1.4624e-04 - mae: 0.0103 - lr: 1.5849e-04\n",
      "Epoch 26/100\n",
      "376/376 [==============================] - 10s 25ms/step - loss: 1.4399e-04 - mae: 0.0102 - lr: 1.7783e-04\n",
      "Epoch 27/100\n",
      "376/376 [==============================] - 9s 23ms/step - loss: 1.4130e-04 - mae: 0.0101 - lr: 1.9953e-04\n",
      "Epoch 28/100\n",
      "376/376 [==============================] - 9s 25ms/step - loss: 1.3823e-04 - mae: 0.0101 - lr: 2.2387e-04\n",
      "Epoch 29/100\n",
      "376/376 [==============================] - 10s 27ms/step - loss: 1.3477e-04 - mae: 0.0100 - lr: 2.5119e-04\n",
      "Epoch 30/100\n",
      "376/376 [==============================] - 9s 23ms/step - loss: 1.3095e-04 - mae: 0.0099 - lr: 2.8184e-04\n",
      "Epoch 31/100\n",
      "376/376 [==============================] - 9s 24ms/step - loss: 1.2682e-04 - mae: 0.0098 - lr: 3.1623e-04\n",
      "Epoch 32/100\n",
      "376/376 [==============================] - 13s 35ms/step - loss: 1.2261e-04 - mae: 0.0097 - lr: 3.5481e-04\n",
      "Epoch 33/100\n",
      "376/376 [==============================] - 11s 28ms/step - loss: 1.2225e-04 - mae: 0.0096 - lr: 3.9811e-04\n",
      "Epoch 34/100\n",
      "376/376 [==============================] - 8s 22ms/step - loss: 1.2950e-04 - mae: 0.0097 - lr: 4.4668e-04\n",
      "Epoch 35/100\n",
      "376/376 [==============================] - 8s 21ms/step - loss: 1.3748e-04 - mae: 0.0098 - lr: 5.0119e-04\n",
      "Epoch 36/100\n",
      "376/376 [==============================] - 8s 21ms/step - loss: 1.5122e-04 - mae: 0.0101 - lr: 5.6234e-04\n",
      "Epoch 37/100\n",
      "376/376 [==============================] - 8s 21ms/step - loss: 1.5512e-04 - mae: 0.0101 - lr: 6.3096e-04\n",
      "Epoch 38/100\n",
      "376/376 [==============================] - 8s 21ms/step - loss: 1.6698e-04 - mae: 0.0104 - lr: 7.0795e-04\n",
      "Epoch 39/100\n",
      "376/376 [==============================] - 8s 21ms/step - loss: 1.3855e-04 - mae: 0.0091 - lr: 7.9433e-04\n",
      "Epoch 40/100\n",
      "376/376 [==============================] - 8s 21ms/step - loss: 1.6882e-04 - mae: 0.0099 - lr: 8.9125e-04\n",
      "Epoch 41/100\n",
      "376/376 [==============================] - 8s 21ms/step - loss: 1.9494e-04 - mae: 0.0100 - lr: 0.0010\n",
      "Epoch 42/100\n",
      "376/376 [==============================] - 8s 21ms/step - loss: 2.1028e-04 - mae: 0.0129 - lr: 0.0011\n",
      "Epoch 43/100\n",
      "376/376 [==============================] - 8s 21ms/step - loss: 7.5299e-05 - mae: 0.0079 - lr: 0.0013\n",
      "Epoch 44/100\n",
      "376/376 [==============================] - 8s 21ms/step - loss: 7.9918e-05 - mae: 0.0073 - lr: 0.0014\n",
      "Epoch 45/100\n",
      "376/376 [==============================] - 8s 21ms/step - loss: 7.9448e-05 - mae: 0.0075 - lr: 0.0016\n",
      "Epoch 46/100\n",
      "376/376 [==============================] - 8s 21ms/step - loss: 8.9095e-05 - mae: 0.0073 - lr: 0.0018\n",
      "Epoch 47/100\n",
      "376/376 [==============================] - 8s 21ms/step - loss: 9.5355e-05 - mae: 0.0074 - lr: 0.0020\n",
      "Epoch 48/100\n",
      "376/376 [==============================] - 8s 21ms/step - loss: 8.9874e-05 - mae: 0.0071 - lr: 0.0022\n",
      "Epoch 49/100\n",
      "376/376 [==============================] - 8s 21ms/step - loss: 8.3973e-05 - mae: 0.0078 - lr: 0.0025\n",
      "Epoch 50/100\n",
      "376/376 [==============================] - 8s 21ms/step - loss: 9.9788e-04 - mae: 0.0130 - lr: 0.0028\n",
      "Epoch 51/100\n",
      "376/376 [==============================] - 8s 21ms/step - loss: 3.3034e-04 - mae: 0.0139 - lr: 0.0032\n",
      "Epoch 52/100\n",
      "376/376 [==============================] - 8s 21ms/step - loss: 8.8361e-04 - mae: 0.0166 - lr: 0.0035\n",
      "Epoch 53/100\n",
      "376/376 [==============================] - 8s 21ms/step - loss: 0.0012 - mae: 0.0178 - lr: 0.0040\n",
      "Epoch 54/100\n",
      "376/376 [==============================] - 8s 21ms/step - loss: 0.0015 - mae: 0.0191 - lr: 0.0045\n",
      "Epoch 55/100\n",
      "376/376 [==============================] - 8s 21ms/step - loss: 0.0016 - mae: 0.0209 - lr: 0.0050\n",
      "Epoch 56/100\n",
      "376/376 [==============================] - 8s 21ms/step - loss: 0.0018 - mae: 0.0216 - lr: 0.0056\n",
      "Epoch 57/100\n",
      "376/376 [==============================] - 8s 21ms/step - loss: 0.0016 - mae: 0.0206 - lr: 0.0063\n",
      "Epoch 58/100\n",
      "376/376 [==============================] - 8s 21ms/step - loss: 0.0017 - mae: 0.0188 - lr: 0.0071\n",
      "Epoch 59/100\n",
      "376/376 [==============================] - 8s 21ms/step - loss: 0.0012 - mae: 0.0182 - lr: 0.0079\n",
      "Epoch 60/100\n",
      "376/376 [==============================] - 8s 21ms/step - loss: 0.0016 - mae: 0.0203 - lr: 0.0089\n",
      "Epoch 61/100\n",
      "376/376 [==============================] - 8s 21ms/step - loss: 0.0014 - mae: 0.0186 - lr: 0.0100\n",
      "Epoch 62/100\n",
      "376/376 [==============================] - 8s 21ms/step - loss: 0.0017 - mae: 0.0204 - lr: 0.0112\n",
      "Epoch 63/100\n",
      "376/376 [==============================] - 8s 21ms/step - loss: 6.3521e-04 - mae: 0.0167 - lr: 0.0126\n",
      "Epoch 64/100\n",
      "376/376 [==============================] - 8s 21ms/step - loss: 0.0026 - mae: 0.0205 - lr: 0.0141\n",
      "Epoch 65/100\n",
      "376/376 [==============================] - 8s 21ms/step - loss: 0.0018 - mae: 0.0193 - lr: 0.0158\n",
      "Epoch 66/100\n",
      "376/376 [==============================] - 8s 21ms/step - loss: 0.0019 - mae: 0.0232 - lr: 0.0178\n",
      "Epoch 67/100\n",
      "376/376 [==============================] - 8s 21ms/step - loss: 5.0241e-04 - mae: 0.0163 - lr: 0.0200\n",
      "Epoch 68/100\n",
      "376/376 [==============================] - 8s 21ms/step - loss: 0.0034 - mae: 0.0300 - lr: 0.0224\n",
      "Epoch 69/100\n",
      "376/376 [==============================] - 8s 21ms/step - loss: 0.0026 - mae: 0.0224 - lr: 0.0251\n",
      "Epoch 70/100\n",
      "376/376 [==============================] - 8s 21ms/step - loss: 0.0048 - mae: 0.0261 - lr: 0.0282\n",
      "Epoch 71/100\n",
      "376/376 [==============================] - 8s 21ms/step - loss: 0.0019 - mae: 0.0217 - lr: 0.0316\n",
      "Epoch 72/100\n",
      "376/376 [==============================] - 8s 21ms/step - loss: 0.0026 - mae: 0.0215 - lr: 0.0355\n",
      "Epoch 73/100\n",
      "376/376 [==============================] - 8s 21ms/step - loss: 0.0060 - mae: 0.0278 - lr: 0.0398\n",
      "Epoch 74/100\n",
      "376/376 [==============================] - 8s 21ms/step - loss: 0.0017 - mae: 0.0169 - lr: 0.0447\n",
      "Epoch 75/100\n",
      "376/376 [==============================] - 8s 21ms/step - loss: 0.0021 - mae: 0.0184 - lr: 0.0501\n",
      "Epoch 76/100\n",
      "376/376 [==============================] - 8s 21ms/step - loss: 0.0012 - mae: 0.0165 - lr: 0.0562\n",
      "Epoch 77/100\n",
      "376/376 [==============================] - 8s 21ms/step - loss: 2.7835e-04 - mae: 0.0133 - lr: 0.0631\n",
      "Epoch 78/100\n",
      "376/376 [==============================] - 8s 21ms/step - loss: 0.0018 - mae: 0.0178 - lr: 0.0708\n",
      "Epoch 79/100\n",
      "376/376 [==============================] - 8s 21ms/step - loss: 0.0021 - mae: 0.0190 - lr: 0.0794\n",
      "Epoch 80/100\n",
      "376/376 [==============================] - 8s 21ms/step - loss: 0.0018 - mae: 0.0176 - lr: 0.0891\n",
      "Epoch 81/100\n",
      "376/376 [==============================] - 9s 24ms/step - loss: 0.0018 - mae: 0.0175 - lr: 0.1000\n",
      "Epoch 82/100\n",
      "376/376 [==============================] - 8s 22ms/step - loss: 0.0018 - mae: 0.0174 - lr: 0.1122\n",
      "Epoch 83/100\n",
      "376/376 [==============================] - 8s 22ms/step - loss: 0.0019 - mae: 0.0174 - lr: 0.1259\n",
      "Epoch 84/100\n",
      "376/376 [==============================] - 8s 22ms/step - loss: 0.0018 - mae: 0.0173 - lr: 0.1413\n",
      "Epoch 85/100\n",
      "376/376 [==============================] - 8s 22ms/step - loss: 0.0025 - mae: 0.0183 - lr: 0.1585\n",
      "Epoch 86/100\n",
      "376/376 [==============================] - 9s 24ms/step - loss: 0.0026 - mae: 0.0225 - lr: 0.1778\n",
      "Epoch 87/100\n",
      "376/376 [==============================] - 8s 22ms/step - loss: 0.0036 - mae: 0.0301 - lr: 0.1995\n",
      "Epoch 88/100\n",
      "376/376 [==============================] - 8s 22ms/step - loss: 0.0043 - mae: 0.0345 - lr: 0.2239\n",
      "Epoch 89/100\n",
      "376/376 [==============================] - 8s 22ms/step - loss: 0.0059 - mae: 0.0477 - lr: 0.2512\n",
      "Epoch 90/100\n",
      "376/376 [==============================] - 8s 22ms/step - loss: 0.0070 - mae: 0.0559 - lr: 0.2818\n",
      "Epoch 91/100\n",
      "376/376 [==============================] - 8s 22ms/step - loss: 0.0086 - mae: 0.0588 - lr: 0.3162\n",
      "Epoch 92/100\n",
      "376/376 [==============================] - 9s 24ms/step - loss: 0.0103 - mae: 0.0908 - lr: 0.3548\n",
      "Epoch 93/100\n",
      "376/376 [==============================] - 8s 22ms/step - loss: 0.0126 - mae: 0.0818 - lr: 0.3981\n",
      "Epoch 94/100\n",
      "376/376 [==============================] - 8s 22ms/step - loss: 0.0161 - mae: 0.1251 - lr: 0.4467\n",
      "Epoch 95/100\n",
      "376/376 [==============================] - 8s 22ms/step - loss: 0.0189 - mae: 0.1073 - lr: 0.5012\n",
      "Epoch 96/100\n",
      "376/376 [==============================] - 8s 22ms/step - loss: 0.0209 - mae: 0.1086 - lr: 0.5623\n",
      "Epoch 97/100\n",
      "376/376 [==============================] - 8s 22ms/step - loss: 0.0293 - mae: 0.1254 - lr: 0.6310\n",
      "Epoch 98/100\n",
      "376/376 [==============================] - 8s 22ms/step - loss: 0.0377 - mae: 0.1430 - lr: 0.7079\n",
      "Epoch 99/100\n",
      "376/376 [==============================] - 8s 22ms/step - loss: 0.0465 - mae: 0.1612 - lr: 0.7943\n",
      "Epoch 100/100\n",
      "376/376 [==============================] - 8s 22ms/step - loss: 0.0582 - mae: 0.1871 - lr: 0.8913\n"
     ]
    }
   ],
   "source": [
    "keras = tf.keras\n",
    "# reset any stored data\n",
    "keras.backend.clear_session()\n",
    "tf.random.set_seed(42)\n",
    "np.random.seed(42)\n",
    "\n",
    "# Set window size and create input batch sequences\n",
    "window_size = 10\n",
    "train_set = sequential_window_dataset(normalized_x_train, window_size)\n",
    "\n",
    "# create model\n",
    "model = keras.models.Sequential([\n",
    "  keras.layers.LSTM(100, return_sequences=True, stateful=True,\n",
    "                    batch_input_shape=[1, None, 1]),\n",
    "  keras.layers.LSTM(100, return_sequences=True, stateful=True),\n",
    "  keras.layers.Dense(1),\n",
    "])\n",
    "\n",
    "# create lr\n",
    "lr_schedule = keras.callbacks.LearningRateScheduler(\n",
    "    lambda epoch: 1e-5 * 10**(epoch / 20))\n",
    "reset_states = ResetStatesCallback()\n",
    "\n",
    "# choose optimizer\n",
    "optimizer = keras.optimizers.Nadam(lr=1e-5)\n",
    "\n",
    "# compile model\n",
    "model.compile(loss=keras.losses.Huber(),\n",
    "              optimizer=optimizer,\n",
    "              metrics=[\"mae\"])\n",
    "\n",
    "# set history\n",
    "history = model.fit(train_set, epochs=100,\n",
    "                    callbacks=[lr_schedule, reset_states])"
   ]
  },
  {
   "cell_type": "code",
   "execution_count": 13,
   "id": "3be6312d",
   "metadata": {},
   "outputs": [
    {
     "data": {
      "text/plain": [
       "Text(0, 0.5, 'Loss')"
      ]
     },
     "execution_count": 13,
     "metadata": {},
     "output_type": "execute_result"
    },
    {
     "data": {
      "image/png": "[encoded data removed]",
      "text/plain": [
       "<Figure size 432x288 with 1 Axes>"
      ]
     },
     "metadata": {
      "needs_background": "light"
     },
     "output_type": "display_data"
    }
   ],
   "source": [
    "# Plot the learning rate chart\n",
    "plt.semilogx(history.history[\"lr\"], history.history[\"loss\"])\n",
    "plt.axis([1e-8, 1, 0, 0.01])\n",
    "plt.xlabel(\"Learning Rate\")\n",
    "plt.ylabel(\"Loss\")"
   ]
  },
  {
   "cell_type": "code",
   "execution_count": 14,
   "id": "a68fd7b9",
   "metadata": {},
   "outputs": [
    {
     "name": "stdout",
     "output_type": "stream",
     "text": [
      "Epoch 1/100\n",
      "    375/Unknown - 13s 24ms/step - loss: 2.4687e-04 - mae: 0.0134"
     ]
    },
    {
     "name": "stderr",
     "output_type": "stream",
     "text": [
      "2022-06-11 11:57:23.942767: W tensorflow/python/util/util.cc:368] Sets are not currently considered sequences, but this may change in the future, so consider avoiding using them.\n",
      "WARNING:absl:Found untraced functions such as lstm_cell_layer_call_fn, lstm_cell_layer_call_and_return_conditional_losses, lstm_cell_1_layer_call_fn, lstm_cell_1_layer_call_and_return_conditional_losses while saving (showing 4 of 4). These functions will not be directly callable after loading.\n"
     ]
    },
    {
     "name": "stdout",
     "output_type": "stream",
     "text": [
      "INFO:tensorflow:Assets written to: my_checkpoint/assets\n"
     ]
    },
    {
     "name": "stderr",
     "output_type": "stream",
     "text": [
      "INFO:tensorflow:Assets written to: my_checkpoint/assets\n",
      "WARNING:absl:<keras.layers.recurrent.LSTMCell object at 0x7f38ed9e9fa0> has the same name 'LSTMCell' as a built-in Keras object. Consider renaming <class 'keras.layers.recurrent.LSTMCell'> to avoid naming conflicts when loading with `tf.keras.models.load_model`. If renaming is not possible, pass the object in the `custom_objects` parameter of the load function.\n",
      "WARNING:absl:<keras.layers.recurrent.LSTMCell object at 0x7f381c3ebac0> has the same name 'LSTMCell' as a built-in Keras object. Consider renaming <class 'keras.layers.recurrent.LSTMCell'> to avoid naming conflicts when loading with `tf.keras.models.load_model`. If renaming is not possible, pass the object in the `custom_objects` parameter of the load function.\n"
     ]
    },
    {
     "name": "stdout",
     "output_type": "stream",
     "text": [
      "376/376 [==============================] - 23s 49ms/step - loss: 2.4874e-04 - mae: 0.0135 - val_loss: 0.0013 - val_mae: 0.0395\n",
      "Epoch 2/100\n",
      "374/376 [============================>.] - ETA: 0s - loss: 2.8952e-04 - mae: 0.0133"
     ]
    },
    {
     "name": "stderr",
     "output_type": "stream",
     "text": [
      "WARNING:absl:Found untraced functions such as lstm_cell_layer_call_fn, lstm_cell_layer_call_and_return_conditional_losses, lstm_cell_1_layer_call_fn, lstm_cell_1_layer_call_and_return_conditional_losses while saving (showing 4 of 4). These functions will not be directly callable after loading.\n"
     ]
    },
    {
     "name": "stdout",
     "output_type": "stream",
     "text": [
      "INFO:tensorflow:Assets written to: my_checkpoint/assets\n"
     ]
    },
    {
     "name": "stderr",
     "output_type": "stream",
     "text": [
      "INFO:tensorflow:Assets written to: my_checkpoint/assets\n",
      "WARNING:absl:<keras.layers.recurrent.LSTMCell object at 0x7f38ed9e9fa0> has the same name 'LSTMCell' as a built-in Keras object. Consider renaming <class 'keras.layers.recurrent.LSTMCell'> to avoid naming conflicts when loading with `tf.keras.models.load_model`. If renaming is not possible, pass the object in the `custom_objects` parameter of the load function.\n",
      "WARNING:absl:<keras.layers.recurrent.LSTMCell object at 0x7f381c3ebac0> has the same name 'LSTMCell' as a built-in Keras object. Consider renaming <class 'keras.layers.recurrent.LSTMCell'> to avoid naming conflicts when loading with `tf.keras.models.load_model`. If renaming is not possible, pass the object in the `custom_objects` parameter of the load function.\n"
     ]
    },
    {
     "name": "stdout",
     "output_type": "stream",
     "text": [
      "376/376 [==============================] - 15s 40ms/step - loss: 2.9136e-04 - mae: 0.0133 - val_loss: 9.8401e-04 - val_mae: 0.0347\n",
      "Epoch 3/100\n",
      "374/376 [============================>.] - ETA: 0s - loss: 1.8617e-04 - mae: 0.0114"
     ]
    },
    {
     "name": "stderr",
     "output_type": "stream",
     "text": [
      "WARNING:absl:Found untraced functions such as lstm_cell_layer_call_fn, lstm_cell_layer_call_and_return_conditional_losses, lstm_cell_1_layer_call_fn, lstm_cell_1_layer_call_and_return_conditional_losses while saving (showing 4 of 4). These functions will not be directly callable after loading.\n"
     ]
    },
    {
     "name": "stdout",
     "output_type": "stream",
     "text": [
      "INFO:tensorflow:Assets written to: my_checkpoint/assets\n"
     ]
    },
    {
     "name": "stderr",
     "output_type": "stream",
     "text": [
      "INFO:tensorflow:Assets written to: my_checkpoint/assets\n",
      "WARNING:absl:<keras.layers.recurrent.LSTMCell object at 0x7f38ed9e9fa0> has the same name 'LSTMCell' as a built-in Keras object. Consider renaming <class 'keras.layers.recurrent.LSTMCell'> to avoid naming conflicts when loading with `tf.keras.models.load_model`. If renaming is not possible, pass the object in the `custom_objects` parameter of the load function.\n",
      "WARNING:absl:<keras.layers.recurrent.LSTMCell object at 0x7f381c3ebac0> has the same name 'LSTMCell' as a built-in Keras object. Consider renaming <class 'keras.layers.recurrent.LSTMCell'> to avoid naming conflicts when loading with `tf.keras.models.load_model`. If renaming is not possible, pass the object in the `custom_objects` parameter of the load function.\n"
     ]
    },
    {
     "name": "stdout",
     "output_type": "stream",
     "text": [
      "376/376 [==============================] - 15s 39ms/step - loss: 1.8856e-04 - mae: 0.0115 - val_loss: 8.8546e-04 - val_mae: 0.0327\n",
      "Epoch 4/100\n",
      "375/376 [============================>.] - ETA: 0s - loss: 1.6024e-04 - mae: 0.0106"
     ]
    },
    {
     "name": "stderr",
     "output_type": "stream",
     "text": [
      "WARNING:absl:Found untraced functions such as lstm_cell_layer_call_fn, lstm_cell_layer_call_and_return_conditional_losses, lstm_cell_1_layer_call_fn, lstm_cell_1_layer_call_and_return_conditional_losses while saving (showing 4 of 4). These functions will not be directly callable after loading.\n"
     ]
    },
    {
     "name": "stdout",
     "output_type": "stream",
     "text": [
      "INFO:tensorflow:Assets written to: my_checkpoint/assets\n"
     ]
    },
    {
     "name": "stderr",
     "output_type": "stream",
     "text": [
      "INFO:tensorflow:Assets written to: my_checkpoint/assets\n",
      "WARNING:absl:<keras.layers.recurrent.LSTMCell object at 0x7f38ed9e9fa0> has the same name 'LSTMCell' as a built-in Keras object. Consider renaming <class 'keras.layers.recurrent.LSTMCell'> to avoid naming conflicts when loading with `tf.keras.models.load_model`. If renaming is not possible, pass the object in the `custom_objects` parameter of the load function.\n",
      "WARNING:absl:<keras.layers.recurrent.LSTMCell object at 0x7f381c3ebac0> has the same name 'LSTMCell' as a built-in Keras object. Consider renaming <class 'keras.layers.recurrent.LSTMCell'> to avoid naming conflicts when loading with `tf.keras.models.load_model`. If renaming is not possible, pass the object in the `custom_objects` parameter of the load function.\n"
     ]
    },
    {
     "name": "stdout",
     "output_type": "stream",
     "text": [
      "376/376 [==============================] - 22s 59ms/step - loss: 1.6230e-04 - mae: 0.0107 - val_loss: 8.4694e-04 - val_mae: 0.0319\n",
      "Epoch 5/100\n",
      "375/376 [============================>.] - ETA: 0s - loss: 1.5015e-04 - mae: 0.0103"
     ]
    },
    {
     "name": "stderr",
     "output_type": "stream",
     "text": [
      "WARNING:absl:Found untraced functions such as lstm_cell_layer_call_fn, lstm_cell_layer_call_and_return_conditional_losses, lstm_cell_1_layer_call_fn, lstm_cell_1_layer_call_and_return_conditional_losses while saving (showing 4 of 4). These functions will not be directly callable after loading.\n"
     ]
    },
    {
     "name": "stdout",
     "output_type": "stream",
     "text": [
      "INFO:tensorflow:Assets written to: my_checkpoint/assets\n"
     ]
    },
    {
     "name": "stderr",
     "output_type": "stream",
     "text": [
      "INFO:tensorflow:Assets written to: my_checkpoint/assets\n",
      "WARNING:absl:<keras.layers.recurrent.LSTMCell object at 0x7f38ed9e9fa0> has the same name 'LSTMCell' as a built-in Keras object. Consider renaming <class 'keras.layers.recurrent.LSTMCell'> to avoid naming conflicts when loading with `tf.keras.models.load_model`. If renaming is not possible, pass the object in the `custom_objects` parameter of the load function.\n",
      "WARNING:absl:<keras.layers.recurrent.LSTMCell object at 0x7f381c3ebac0> has the same name 'LSTMCell' as a built-in Keras object. Consider renaming <class 'keras.layers.recurrent.LSTMCell'> to avoid naming conflicts when loading with `tf.keras.models.load_model`. If renaming is not possible, pass the object in the `custom_objects` parameter of the load function.\n"
     ]
    },
    {
     "name": "stdout",
     "output_type": "stream",
     "text": [
      "376/376 [==============================] - 31s 84ms/step - loss: 1.5224e-04 - mae: 0.0104 - val_loss: 8.2543e-04 - val_mae: 0.0314\n",
      "Epoch 6/100\n",
      "375/376 [============================>.] - ETA: 0s - loss: 1.4301e-04 - mae: 0.0102"
     ]
    },
    {
     "name": "stderr",
     "output_type": "stream",
     "text": [
      "WARNING:absl:Found untraced functions such as lstm_cell_layer_call_fn, lstm_cell_layer_call_and_return_conditional_losses, lstm_cell_1_layer_call_fn, lstm_cell_1_layer_call_and_return_conditional_losses while saving (showing 4 of 4). These functions will not be directly callable after loading.\n"
     ]
    },
    {
     "name": "stdout",
     "output_type": "stream",
     "text": [
      "INFO:tensorflow:Assets written to: my_checkpoint/assets\n"
     ]
    },
    {
     "name": "stderr",
     "output_type": "stream",
     "text": [
      "INFO:tensorflow:Assets written to: my_checkpoint/assets\n",
      "WARNING:absl:<keras.layers.recurrent.LSTMCell object at 0x7f38ed9e9fa0> has the same name 'LSTMCell' as a built-in Keras object. Consider renaming <class 'keras.layers.recurrent.LSTMCell'> to avoid naming conflicts when loading with `tf.keras.models.load_model`. If renaming is not possible, pass the object in the `custom_objects` parameter of the load function.\n",
      "WARNING:absl:<keras.layers.recurrent.LSTMCell object at 0x7f381c3ebac0> has the same name 'LSTMCell' as a built-in Keras object. Consider renaming <class 'keras.layers.recurrent.LSTMCell'> to avoid naming conflicts when loading with `tf.keras.models.load_model`. If renaming is not possible, pass the object in the `custom_objects` parameter of the load function.\n"
     ]
    },
    {
     "name": "stdout",
     "output_type": "stream",
     "text": [
      "376/376 [==============================] - 34s 91ms/step - loss: 1.4512e-04 - mae: 0.0102 - val_loss: 8.0797e-04 - val_mae: 0.0310\n",
      "Epoch 7/100\n",
      "376/376 [==============================] - ETA: 0s - loss: 1.3900e-04 - mae: 0.0101"
     ]
    },
    {
     "name": "stderr",
     "output_type": "stream",
     "text": [
      "WARNING:absl:Found untraced functions such as lstm_cell_layer_call_fn, lstm_cell_layer_call_and_return_conditional_losses, lstm_cell_1_layer_call_fn, lstm_cell_1_layer_call_and_return_conditional_losses while saving (showing 4 of 4). These functions will not be directly callable after loading.\n"
     ]
    },
    {
     "name": "stdout",
     "output_type": "stream",
     "text": [
      "INFO:tensorflow:Assets written to: my_checkpoint/assets\n"
     ]
    },
    {
     "name": "stderr",
     "output_type": "stream",
     "text": [
      "INFO:tensorflow:Assets written to: my_checkpoint/assets\n",
      "WARNING:absl:<keras.layers.recurrent.LSTMCell object at 0x7f38ed9e9fa0> has the same name 'LSTMCell' as a built-in Keras object. Consider renaming <class 'keras.layers.recurrent.LSTMCell'> to avoid naming conflicts when loading with `tf.keras.models.load_model`. If renaming is not possible, pass the object in the `custom_objects` parameter of the load function.\n",
      "WARNING:absl:<keras.layers.recurrent.LSTMCell object at 0x7f381c3ebac0> has the same name 'LSTMCell' as a built-in Keras object. Consider renaming <class 'keras.layers.recurrent.LSTMCell'> to avoid naming conflicts when loading with `tf.keras.models.load_model`. If renaming is not possible, pass the object in the `custom_objects` parameter of the load function.\n"
     ]
    },
    {
     "name": "stdout",
     "output_type": "stream",
     "text": [
      "376/376 [==============================] - 48s 127ms/step - loss: 1.3900e-04 - mae: 0.0101 - val_loss: 7.9135e-04 - val_mae: 0.0306\n",
      "Epoch 8/100\n",
      "375/376 [============================>.] - ETA: 0s - loss: 1.3130e-04 - mae: 0.0098"
     ]
    },
    {
     "name": "stderr",
     "output_type": "stream",
     "text": [
      "WARNING:absl:Found untraced functions such as lstm_cell_layer_call_fn, lstm_cell_layer_call_and_return_conditional_losses, lstm_cell_1_layer_call_fn, lstm_cell_1_layer_call_and_return_conditional_losses while saving (showing 4 of 4). These functions will not be directly callable after loading.\n"
     ]
    },
    {
     "name": "stdout",
     "output_type": "stream",
     "text": [
      "INFO:tensorflow:Assets written to: my_checkpoint/assets\n"
     ]
    },
    {
     "name": "stderr",
     "output_type": "stream",
     "text": [
      "INFO:tensorflow:Assets written to: my_checkpoint/assets\n",
      "WARNING:absl:<keras.layers.recurrent.LSTMCell object at 0x7f38ed9e9fa0> has the same name 'LSTMCell' as a built-in Keras object. Consider renaming <class 'keras.layers.recurrent.LSTMCell'> to avoid naming conflicts when loading with `tf.keras.models.load_model`. If renaming is not possible, pass the object in the `custom_objects` parameter of the load function.\n",
      "WARNING:absl:<keras.layers.recurrent.LSTMCell object at 0x7f381c3ebac0> has the same name 'LSTMCell' as a built-in Keras object. Consider renaming <class 'keras.layers.recurrent.LSTMCell'> to avoid naming conflicts when loading with `tf.keras.models.load_model`. If renaming is not possible, pass the object in the `custom_objects` parameter of the load function.\n"
     ]
    },
    {
     "name": "stdout",
     "output_type": "stream",
     "text": [
      "376/376 [==============================] - 55s 142ms/step - loss: 1.3343e-04 - mae: 0.0099 - val_loss: 7.7489e-04 - val_mae: 0.0302\n",
      "Epoch 9/100\n",
      "374/376 [============================>.] - ETA: 0s - loss: 1.2549e-04 - mae: 0.0097"
     ]
    },
    {
     "name": "stderr",
     "output_type": "stream",
     "text": [
      "WARNING:absl:Found untraced functions such as lstm_cell_layer_call_fn, lstm_cell_layer_call_and_return_conditional_losses, lstm_cell_1_layer_call_fn, lstm_cell_1_layer_call_and_return_conditional_losses while saving (showing 4 of 4). These functions will not be directly callable after loading.\n"
     ]
    },
    {
     "name": "stdout",
     "output_type": "stream",
     "text": [
      "INFO:tensorflow:Assets written to: my_checkpoint/assets\n"
     ]
    },
    {
     "name": "stderr",
     "output_type": "stream",
     "text": [
      "INFO:tensorflow:Assets written to: my_checkpoint/assets\n",
      "WARNING:absl:<keras.layers.recurrent.LSTMCell object at 0x7f38ed9e9fa0> has the same name 'LSTMCell' as a built-in Keras object. Consider renaming <class 'keras.layers.recurrent.LSTMCell'> to avoid naming conflicts when loading with `tf.keras.models.load_model`. If renaming is not possible, pass the object in the `custom_objects` parameter of the load function.\n",
      "WARNING:absl:<keras.layers.recurrent.LSTMCell object at 0x7f381c3ebac0> has the same name 'LSTMCell' as a built-in Keras object. Consider renaming <class 'keras.layers.recurrent.LSTMCell'> to avoid naming conflicts when loading with `tf.keras.models.load_model`. If renaming is not possible, pass the object in the `custom_objects` parameter of the load function.\n"
     ]
    },
    {
     "name": "stdout",
     "output_type": "stream",
     "text": [
      "376/376 [==============================] - 26s 69ms/step - loss: 1.2826e-04 - mae: 0.0098 - val_loss: 7.5862e-04 - val_mae: 0.0298\n",
      "Epoch 10/100\n",
      "375/376 [============================>.] - ETA: 0s - loss: 1.2125e-04 - mae: 0.0095"
     ]
    },
    {
     "name": "stderr",
     "output_type": "stream",
     "text": [
      "WARNING:absl:Found untraced functions such as lstm_cell_layer_call_fn, lstm_cell_layer_call_and_return_conditional_losses, lstm_cell_1_layer_call_fn, lstm_cell_1_layer_call_and_return_conditional_losses while saving (showing 4 of 4). These functions will not be directly callable after loading.\n"
     ]
    },
    {
     "name": "stdout",
     "output_type": "stream",
     "text": [
      "INFO:tensorflow:Assets written to: my_checkpoint/assets\n"
     ]
    },
    {
     "name": "stderr",
     "output_type": "stream",
     "text": [
      "INFO:tensorflow:Assets written to: my_checkpoint/assets\n",
      "WARNING:absl:<keras.layers.recurrent.LSTMCell object at 0x7f38ed9e9fa0> has the same name 'LSTMCell' as a built-in Keras object. Consider renaming <class 'keras.layers.recurrent.LSTMCell'> to avoid naming conflicts when loading with `tf.keras.models.load_model`. If renaming is not possible, pass the object in the `custom_objects` parameter of the load function.\n",
      "WARNING:absl:<keras.layers.recurrent.LSTMCell object at 0x7f381c3ebac0> has the same name 'LSTMCell' as a built-in Keras object. Consider renaming <class 'keras.layers.recurrent.LSTMCell'> to avoid naming conflicts when loading with `tf.keras.models.load_model`. If renaming is not possible, pass the object in the `custom_objects` parameter of the load function.\n"
     ]
    },
    {
     "name": "stdout",
     "output_type": "stream",
     "text": [
      "376/376 [==============================] - 19s 50ms/step - loss: 1.2339e-04 - mae: 0.0096 - val_loss: 7.4288e-04 - val_mae: 0.0295\n",
      "Epoch 11/100\n",
      "376/376 [==============================] - ETA: 0s - loss: 1.1874e-04 - mae: 0.0095"
     ]
    },
    {
     "name": "stderr",
     "output_type": "stream",
     "text": [
      "WARNING:absl:Found untraced functions such as lstm_cell_layer_call_fn, lstm_cell_layer_call_and_return_conditional_losses, lstm_cell_1_layer_call_fn, lstm_cell_1_layer_call_and_return_conditional_losses while saving (showing 4 of 4). These functions will not be directly callable after loading.\n"
     ]
    },
    {
     "name": "stdout",
     "output_type": "stream",
     "text": [
      "INFO:tensorflow:Assets written to: my_checkpoint/assets\n"
     ]
    },
    {
     "name": "stderr",
     "output_type": "stream",
     "text": [
      "INFO:tensorflow:Assets written to: my_checkpoint/assets\n",
      "WARNING:absl:<keras.layers.recurrent.LSTMCell object at 0x7f38ed9e9fa0> has the same name 'LSTMCell' as a built-in Keras object. Consider renaming <class 'keras.layers.recurrent.LSTMCell'> to avoid naming conflicts when loading with `tf.keras.models.load_model`. If renaming is not possible, pass the object in the `custom_objects` parameter of the load function.\n",
      "WARNING:absl:<keras.layers.recurrent.LSTMCell object at 0x7f381c3ebac0> has the same name 'LSTMCell' as a built-in Keras object. Consider renaming <class 'keras.layers.recurrent.LSTMCell'> to avoid naming conflicts when loading with `tf.keras.models.load_model`. If renaming is not possible, pass the object in the `custom_objects` parameter of the load function.\n"
     ]
    },
    {
     "name": "stdout",
     "output_type": "stream",
     "text": [
      "376/376 [==============================] - 14s 38ms/step - loss: 1.1874e-04 - mae: 0.0095 - val_loss: 7.2808e-04 - val_mae: 0.0291\n",
      "Epoch 12/100\n",
      "374/376 [============================>.] - ETA: 0s - loss: 1.1140e-04 - mae: 0.0092"
     ]
    },
    {
     "name": "stderr",
     "output_type": "stream",
     "text": [
      "WARNING:absl:Found untraced functions such as lstm_cell_layer_call_fn, lstm_cell_layer_call_and_return_conditional_losses, lstm_cell_1_layer_call_fn, lstm_cell_1_layer_call_and_return_conditional_losses while saving (showing 4 of 4). These functions will not be directly callable after loading.\n"
     ]
    },
    {
     "name": "stdout",
     "output_type": "stream",
     "text": [
      "INFO:tensorflow:Assets written to: my_checkpoint/assets\n"
     ]
    },
    {
     "name": "stderr",
     "output_type": "stream",
     "text": [
      "INFO:tensorflow:Assets written to: my_checkpoint/assets\n",
      "WARNING:absl:<keras.layers.recurrent.LSTMCell object at 0x7f38ed9e9fa0> has the same name 'LSTMCell' as a built-in Keras object. Consider renaming <class 'keras.layers.recurrent.LSTMCell'> to avoid naming conflicts when loading with `tf.keras.models.load_model`. If renaming is not possible, pass the object in the `custom_objects` parameter of the load function.\n",
      "WARNING:absl:<keras.layers.recurrent.LSTMCell object at 0x7f381c3ebac0> has the same name 'LSTMCell' as a built-in Keras object. Consider renaming <class 'keras.layers.recurrent.LSTMCell'> to avoid naming conflicts when loading with `tf.keras.models.load_model`. If renaming is not possible, pass the object in the `custom_objects` parameter of the load function.\n"
     ]
    },
    {
     "name": "stdout",
     "output_type": "stream",
     "text": [
      "376/376 [==============================] - 15s 39ms/step - loss: 1.1424e-04 - mae: 0.0093 - val_loss: 7.1478e-04 - val_mae: 0.0287\n",
      "Epoch 13/100\n",
      "375/376 [============================>.] - ETA: 0s - loss: 1.0770e-04 - mae: 0.0091"
     ]
    },
    {
     "name": "stderr",
     "output_type": "stream",
     "text": [
      "WARNING:absl:Found untraced functions such as lstm_cell_layer_call_fn, lstm_cell_layer_call_and_return_conditional_losses, lstm_cell_1_layer_call_fn, lstm_cell_1_layer_call_and_return_conditional_losses while saving (showing 4 of 4). These functions will not be directly callable after loading.\n"
     ]
    },
    {
     "name": "stdout",
     "output_type": "stream",
     "text": [
      "INFO:tensorflow:Assets written to: my_checkpoint/assets\n"
     ]
    },
    {
     "name": "stderr",
     "output_type": "stream",
     "text": [
      "INFO:tensorflow:Assets written to: my_checkpoint/assets\n",
      "WARNING:absl:<keras.layers.recurrent.LSTMCell object at 0x7f38ed9e9fa0> has the same name 'LSTMCell' as a built-in Keras object. Consider renaming <class 'keras.layers.recurrent.LSTMCell'> to avoid naming conflicts when loading with `tf.keras.models.load_model`. If renaming is not possible, pass the object in the `custom_objects` parameter of the load function.\n",
      "WARNING:absl:<keras.layers.recurrent.LSTMCell object at 0x7f381c3ebac0> has the same name 'LSTMCell' as a built-in Keras object. Consider renaming <class 'keras.layers.recurrent.LSTMCell'> to avoid naming conflicts when loading with `tf.keras.models.load_model`. If renaming is not possible, pass the object in the `custom_objects` parameter of the load function.\n"
     ]
    },
    {
     "name": "stdout",
     "output_type": "stream",
     "text": [
      "376/376 [==============================] - 14s 36ms/step - loss: 1.0984e-04 - mae: 0.0092 - val_loss: 7.0365e-04 - val_mae: 0.0285\n",
      "Epoch 14/100\n",
      "376/376 [==============================] - ETA: 0s - loss: 1.0549e-04 - mae: 0.0090"
     ]
    },
    {
     "name": "stderr",
     "output_type": "stream",
     "text": [
      "WARNING:absl:Found untraced functions such as lstm_cell_layer_call_fn, lstm_cell_layer_call_and_return_conditional_losses, lstm_cell_1_layer_call_fn, lstm_cell_1_layer_call_and_return_conditional_losses while saving (showing 4 of 4). These functions will not be directly callable after loading.\n"
     ]
    },
    {
     "name": "stdout",
     "output_type": "stream",
     "text": [
      "INFO:tensorflow:Assets written to: my_checkpoint/assets\n"
     ]
    },
    {
     "name": "stderr",
     "output_type": "stream",
     "text": [
      "INFO:tensorflow:Assets written to: my_checkpoint/assets\n",
      "WARNING:absl:<keras.layers.recurrent.LSTMCell object at 0x7f38ed9e9fa0> has the same name 'LSTMCell' as a built-in Keras object. Consider renaming <class 'keras.layers.recurrent.LSTMCell'> to avoid naming conflicts when loading with `tf.keras.models.load_model`. If renaming is not possible, pass the object in the `custom_objects` parameter of the load function.\n",
      "WARNING:absl:<keras.layers.recurrent.LSTMCell object at 0x7f381c3ebac0> has the same name 'LSTMCell' as a built-in Keras object. Consider renaming <class 'keras.layers.recurrent.LSTMCell'> to avoid naming conflicts when loading with `tf.keras.models.load_model`. If renaming is not possible, pass the object in the `custom_objects` parameter of the load function.\n"
     ]
    },
    {
     "name": "stdout",
     "output_type": "stream",
     "text": [
      "376/376 [==============================] - 14s 36ms/step - loss: 1.0549e-04 - mae: 0.0090 - val_loss: 6.9558e-04 - val_mae: 0.0283\n",
      "Epoch 15/100\n",
      "376/376 [==============================] - ETA: 0s - loss: 1.0117e-04 - mae: 0.0089"
     ]
    },
    {
     "name": "stderr",
     "output_type": "stream",
     "text": [
      "WARNING:absl:Found untraced functions such as lstm_cell_layer_call_fn, lstm_cell_layer_call_and_return_conditional_losses, lstm_cell_1_layer_call_fn, lstm_cell_1_layer_call_and_return_conditional_losses while saving (showing 4 of 4). These functions will not be directly callable after loading.\n"
     ]
    },
    {
     "name": "stdout",
     "output_type": "stream",
     "text": [
      "INFO:tensorflow:Assets written to: my_checkpoint/assets\n"
     ]
    },
    {
     "name": "stderr",
     "output_type": "stream",
     "text": [
      "INFO:tensorflow:Assets written to: my_checkpoint/assets\n",
      "WARNING:absl:<keras.layers.recurrent.LSTMCell object at 0x7f38ed9e9fa0> has the same name 'LSTMCell' as a built-in Keras object. Consider renaming <class 'keras.layers.recurrent.LSTMCell'> to avoid naming conflicts when loading with `tf.keras.models.load_model`. If renaming is not possible, pass the object in the `custom_objects` parameter of the load function.\n",
      "WARNING:absl:<keras.layers.recurrent.LSTMCell object at 0x7f381c3ebac0> has the same name 'LSTMCell' as a built-in Keras object. Consider renaming <class 'keras.layers.recurrent.LSTMCell'> to avoid naming conflicts when loading with `tf.keras.models.load_model`. If renaming is not possible, pass the object in the `custom_objects` parameter of the load function.\n"
     ]
    },
    {
     "name": "stdout",
     "output_type": "stream",
     "text": [
      "376/376 [==============================] - 14s 38ms/step - loss: 1.0117e-04 - mae: 0.0089 - val_loss: 6.9184e-04 - val_mae: 0.0282\n",
      "Epoch 16/100\n",
      "376/376 [==============================] - 9s 25ms/step - loss: 9.6846e-05 - mae: 0.0087 - val_loss: 6.9423e-04 - val_mae: 0.0283\n",
      "Epoch 17/100\n",
      "376/376 [==============================] - 11s 29ms/step - loss: 9.2538e-05 - mae: 0.0086 - val_loss: 7.0529e-04 - val_mae: 0.0286\n",
      "Epoch 18/100\n",
      "376/376 [==============================] - 11s 28ms/step - loss: 8.8293e-05 - mae: 0.0084 - val_loss: 7.2846e-04 - val_mae: 0.0292\n",
      "Epoch 19/100\n",
      "376/376 [==============================] - 10s 27ms/step - loss: 8.4212e-05 - mae: 0.0082 - val_loss: 7.6767e-04 - val_mae: 0.0302\n",
      "Epoch 20/100\n",
      "376/376 [==============================] - 11s 30ms/step - loss: 8.0475e-05 - mae: 0.0081 - val_loss: 8.2600e-04 - val_mae: 0.0315\n",
      "Epoch 21/100\n",
      "376/376 [==============================] - 9s 25ms/step - loss: 7.7347e-05 - mae: 0.0080 - val_loss: 9.0249e-04 - val_mae: 0.0331\n",
      "Epoch 22/100\n",
      "376/376 [==============================] - 10s 26ms/step - loss: 7.5102e-05 - mae: 0.0079 - val_loss: 9.8884e-04 - val_mae: 0.0347\n",
      "Epoch 23/100\n",
      "376/376 [==============================] - 10s 27ms/step - loss: 7.3856e-05 - mae: 0.0078 - val_loss: 0.0011 - val_mae: 0.0361\n",
      "Epoch 24/100\n",
      "376/376 [==============================] - 10s 27ms/step - loss: 7.3425e-05 - mae: 0.0077 - val_loss: 0.0011 - val_mae: 0.0371\n",
      "Epoch 25/100\n",
      "376/376 [==============================] - 9s 23ms/step - loss: 7.3399e-05 - mae: 0.0077 - val_loss: 0.0012 - val_mae: 0.0376\n",
      "Epoch 26/100\n",
      "376/376 [==============================] - 9s 24ms/step - loss: 7.3369e-05 - mae: 0.0077 - val_loss: 0.0012 - val_mae: 0.0376\n",
      "Epoch 27/100\n",
      "376/376 [==============================] - 10s 26ms/step - loss: 7.3106e-05 - mae: 0.0076 - val_loss: 0.0012 - val_mae: 0.0374\n",
      "Epoch 28/100\n",
      "376/376 [==============================] - 9s 25ms/step - loss: 7.2574e-05 - mae: 0.0076 - val_loss: 0.0012 - val_mae: 0.0371\n",
      "Epoch 29/100\n",
      "376/376 [==============================] - 9s 24ms/step - loss: 7.1848e-05 - mae: 0.0075 - val_loss: 0.0011 - val_mae: 0.0368\n",
      "Epoch 30/100\n",
      "376/376 [==============================] - 9s 24ms/step - loss: 7.1038e-05 - mae: 0.0075 - val_loss: 0.0011 - val_mae: 0.0364\n",
      "Epoch 31/100\n",
      "376/376 [==============================] - 9s 24ms/step - loss: 7.0244e-05 - mae: 0.0074 - val_loss: 0.0011 - val_mae: 0.0361\n",
      "Epoch 32/100\n",
      "376/376 [==============================] - 10s 26ms/step - loss: 6.9536e-05 - mae: 0.0074 - val_loss: 0.0011 - val_mae: 0.0359\n",
      "Epoch 33/100\n",
      "376/376 [==============================] - 9s 25ms/step - loss: 6.8959e-05 - mae: 0.0073 - val_loss: 0.0011 - val_mae: 0.0358\n",
      "Epoch 34/100\n",
      "376/376 [==============================] - 11s 30ms/step - loss: 6.8549e-05 - mae: 0.0073 - val_loss: 0.0011 - val_mae: 0.0361\n",
      "Epoch 35/100\n",
      "376/376 [==============================] - 10s 25ms/step - loss: 6.8357e-05 - mae: 0.0073 - val_loss: 0.0011 - val_mae: 0.0370\n",
      "Epoch 36/100\n",
      "376/376 [==============================] - 11s 28ms/step - loss: 6.8402e-05 - mae: 0.0073 - val_loss: 0.0012 - val_mae: 0.0384\n",
      "Epoch 37/100\n",
      "376/376 [==============================] - 10s 26ms/step - loss: 6.8626e-05 - mae: 0.0073 - val_loss: 0.0012 - val_mae: 0.0404\n",
      "Epoch 38/100\n",
      "376/376 [==============================] - 10s 27ms/step - loss: 6.8986e-05 - mae: 0.0073 - val_loss: 0.0013 - val_mae: 0.0429\n",
      "Epoch 39/100\n",
      "376/376 [==============================] - 10s 26ms/step - loss: 6.9478e-05 - mae: 0.0074 - val_loss: 0.0015 - val_mae: 0.0460\n",
      "Epoch 40/100\n",
      "376/376 [==============================] - 10s 26ms/step - loss: 7.0116e-05 - mae: 0.0074 - val_loss: 0.0017 - val_mae: 0.0496\n",
      "Epoch 41/100\n",
      "376/376 [==============================] - 9s 25ms/step - loss: 7.0901e-05 - mae: 0.0075 - val_loss: 0.0020 - val_mae: 0.0538\n",
      "Epoch 42/100\n",
      "376/376 [==============================] - 9s 24ms/step - loss: 7.1801e-05 - mae: 0.0075 - val_loss: 0.0023 - val_mae: 0.0583\n",
      "Epoch 43/100\n",
      "376/376 [==============================] - 10s 25ms/step - loss: 7.2746e-05 - mae: 0.0076 - val_loss: 0.0027 - val_mae: 0.0628\n",
      "Epoch 44/100\n",
      "376/376 [==============================] - 9s 25ms/step - loss: 7.3660e-05 - mae: 0.0076 - val_loss: 0.0031 - val_mae: 0.0672\n",
      "Epoch 45/100\n",
      "376/376 [==============================] - 9s 25ms/step - loss: 7.4553e-05 - mae: 0.0077 - val_loss: 0.0036 - val_mae: 0.0711\n",
      "Epoch 46/100\n",
      "376/376 [==============================] - 9s 25ms/step - loss: 7.5551e-05 - mae: 0.0077 - val_loss: 0.0040 - val_mae: 0.0739\n",
      "Epoch 47/100\n",
      "376/376 [==============================] - 9s 25ms/step - loss: 7.6816e-05 - mae: 0.0078 - val_loss: 0.0043 - val_mae: 0.0750\n",
      "Epoch 48/100\n",
      "376/376 [==============================] - 9s 25ms/step - loss: 7.5951e-05 - mae: 0.0078 - val_loss: 0.0051 - val_mae: 0.0804\n",
      "Epoch 49/100\n",
      "376/376 [==============================] - 9s 25ms/step - loss: 7.5548e-05 - mae: 0.0077 - val_loss: 0.0064 - val_mae: 0.0864\n",
      "Epoch 50/100\n",
      "376/376 [==============================] - 9s 24ms/step - loss: 7.5098e-05 - mae: 0.0077 - val_loss: 0.0084 - val_mae: 0.0951\n",
      "Epoch 51/100\n",
      "376/376 [==============================] - 9s 25ms/step - loss: 7.4911e-05 - mae: 0.0077 - val_loss: 0.0118 - val_mae: 0.1073\n",
      "Epoch 52/100\n",
      "376/376 [==============================] - 9s 24ms/step - loss: 7.4699e-05 - mae: 0.0077 - val_loss: 0.0168 - val_mae: 0.1228\n",
      "Epoch 53/100\n",
      "376/376 [==============================] - 9s 24ms/step - loss: 7.5214e-05 - mae: 0.0077 - val_loss: 0.0265 - val_mae: 0.1501\n",
      "Epoch 54/100\n",
      "376/376 [==============================] - 9s 24ms/step - loss: 7.5890e-05 - mae: 0.0077 - val_loss: 0.0161 - val_mae: 0.1132\n",
      "Epoch 55/100\n",
      "376/376 [==============================] - 11s 30ms/step - loss: 8.8812e-05 - mae: 0.0082 - val_loss: 0.0083 - val_mae: 0.0798\n",
      "Epoch 56/100\n",
      "376/376 [==============================] - 9s 24ms/step - loss: 6.9282e-05 - mae: 0.0074 - val_loss: 0.0135 - val_mae: 0.1059\n",
      "Epoch 57/100\n",
      "376/376 [==============================] - 9s 24ms/step - loss: 8.2579e-05 - mae: 0.0080 - val_loss: 0.0096 - val_mae: 0.0751\n",
      "Epoch 58/100\n",
      "376/376 [==============================] - 10s 28ms/step - loss: 7.6366e-05 - mae: 0.0077 - val_loss: 0.1395 - val_mae: 0.3512\n",
      "Epoch 59/100\n",
      "376/376 [==============================] - 9s 25ms/step - loss: 8.1164e-05 - mae: 0.0079 - val_loss: 0.0196 - val_mae: 0.1143\n",
      "Epoch 60/100\n",
      "376/376 [==============================] - 9s 24ms/step - loss: 7.0694e-05 - mae: 0.0074 - val_loss: 0.0098 - val_mae: 0.0856\n",
      "Epoch 61/100\n",
      "376/376 [==============================] - 9s 25ms/step - loss: 7.5930e-05 - mae: 0.0074 - val_loss: 0.0046 - val_mae: 0.0646\n",
      "Epoch 62/100\n",
      "376/376 [==============================] - 9s 24ms/step - loss: 6.2039e-05 - mae: 0.0068 - val_loss: 0.0068 - val_mae: 0.0729\n",
      "Epoch 63/100\n",
      "376/376 [==============================] - 10s 26ms/step - loss: 6.1267e-05 - mae: 0.0069 - val_loss: 0.0075 - val_mae: 0.0752\n",
      "Epoch 64/100\n",
      "376/376 [==============================] - 9s 24ms/step - loss: 6.2131e-05 - mae: 0.0069 - val_loss: 0.0131 - val_mae: 0.0993\n",
      "Epoch 65/100\n",
      "376/376 [==============================] - 9s 24ms/step - loss: 5.9497e-05 - mae: 0.0069 - val_loss: 0.0211 - val_mae: 0.1238\n"
     ]
    },
    {
     "data": {
      "text/plain": [
       "<keras.callbacks.History at 0x7f381c333280>"
      ]
     },
     "execution_count": 14,
     "metadata": {},
     "output_type": "execute_result"
    }
   ],
   "source": [
    "# reset any stored data\n",
    "keras.backend.clear_session()\n",
    "tf.random.set_seed(42)\n",
    "np.random.seed(42)\n",
    "\n",
    "# set window size and create input batch sequence\n",
    "window_size = 10\n",
    "train_set = sequential_window_dataset(normalized_x_train, window_size)\n",
    "valid_set = sequential_window_dataset(normalized_x_valid, window_size)\n",
    "\n",
    "# create model\n",
    "model = keras.models.Sequential([\n",
    "  keras.layers.LSTM(100, return_sequences=True, stateful=True,\n",
    "                         batch_input_shape=[1, None, 1]),\n",
    "  keras.layers.LSTM(100, return_sequences=True, stateful=True),\n",
    "  keras.layers.Dense(1),\n",
    "])\n",
    "\n",
    "# set optimizer\n",
    "optimizer = keras.optimizers.Nadam(lr=1e-4)\n",
    "\n",
    "# compile model\n",
    "model.compile(loss=keras.losses.Huber(),\n",
    "              optimizer=optimizer,\n",
    "              metrics=[\"mae\"])\n",
    "\n",
    "# reset states\n",
    "reset_states = ResetStatesCallback()\n",
    "\n",
    "#set up save best only checkpoint\n",
    "model_checkpoint = keras.callbacks.ModelCheckpoint(\n",
    "    \"my_checkpoint\", save_best_only=True)\n",
    "\n",
    "early_stopping = keras.callbacks.EarlyStopping(patience=50)\n",
    "\n",
    "# fit model\n",
    "model.fit(train_set, epochs=100,\n",
    "          validation_data=valid_set,\n",
    "          callbacks=[early_stopping, model_checkpoint, reset_states])"
   ]
  },
  {
   "cell_type": "code",
   "execution_count": 17,
   "id": "69245e3b",
   "metadata": {},
   "outputs": [
    {
     "name": "stdout",
     "output_type": "stream",
     "text": [
      "1/1 [==============================] - 1s 1s/step - loss: 1.2690e-05 - mae: 5.6651e-04\n"
     ]
    },
    {
     "data": {
      "image/png": "[encoded data removed]",
      "text/plain": [
       "<Figure size 720x432 with 1 Axes>"
      ]
     },
     "metadata": {
      "needs_background": "light"
     },
     "output_type": "display_data"
    }
   ],
   "source": [
    "model = keras.models.load_model(\"my_checkpoint\")\n",
    "\n",
    "rnn_forecast = model.predict(normalized_x_test[np.newaxis,:])\n",
    "\n",
    "model.evaluate(normalized_x_test[np.newaxis,:], rnn_forecast)\n",
    "\n",
    "rnn_forecast = rnn_forecast.flatten()\n",
    "\n",
    "rnn_unscaled_forecast = x_train_scaler.inverse_transform(rnn_forecast.reshape(-1,1)).flatten()\n",
    "rnn_unscaled_forecast.shape\n",
    "\n",
    "plt.figure(figsize=(10,6))\n",
    "\n",
    "plt.ylabel('Dollars $')\n",
    "plt.xlabel('Timestep in Days')\n",
    "plt.title(f'LSTM {window_size} Forecast')\n",
    "plot_series(x_test.index, x_test, label=\"Actual\")\n",
    "plot_series(x_test.index, rnn_unscaled_forecast, label=\"Forecast\")\n",
    "plt.show()"
   ]
  },
  {
   "cell_type": "code",
   "execution_count": 16,
   "id": "815d3ade",
   "metadata": {},
   "outputs": [
    {
     "name": "stdout",
     "output_type": "stream",
     "text": [
      "WARNING:tensorflow:Keras is training/fitting/evaluating on array-like data. Keras may not be optimized for this format, so if your input data format is supported by TensorFlow I/O (https://github.com/tensorflow/io) we recommend using that to load a Dataset instead.\n"
     ]
    },
    {
     "name": "stderr",
     "output_type": "stream",
     "text": [
      "WARNING:tensorflow:Keras is training/fitting/evaluating on array-like data. Keras may not be optimized for this format, so if your input data format is supported by TensorFlow I/O (https://github.com/tensorflow/io) we recommend using that to load a Dataset instead.\n"
     ]
    },
    {
     "name": "stdout",
     "output_type": "stream",
     "text": [
      "WARNING:tensorflow:Model was constructed with shape (1, None, 1) for input KerasTensor(type_spec=TensorSpec(shape=(1, None, 1), dtype=tf.float32, name='lstm_input'), name='lstm_input', description=\"created by layer 'lstm_input'\"), but it was called on an input with incompatible shape (None,).\n"
     ]
    },
    {
     "name": "stderr",
     "output_type": "stream",
     "text": [
      "WARNING:tensorflow:Model was constructed with shape (1, None, 1) for input KerasTensor(type_spec=TensorSpec(shape=(1, None, 1), dtype=tf.float32, name='lstm_input'), name='lstm_input', description=\"created by layer 'lstm_input'\"), but it was called on an input with incompatible shape (None,).\n"
     ]
    },
    {
     "ename": "ValueError",
     "evalue": "in user code:\n\n    File \"/home/turner/miniconda3/envs/stock_prediction/lib/python3.9/site-packages/keras/engine/training.py\", line 1525, in test_function  *\n        return step_function(self, iterator)\n    File \"/home/turner/miniconda3/envs/stock_prediction/lib/python3.9/site-packages/keras/engine/training.py\", line 1514, in step_function  **\n        outputs = model.distribute_strategy.run(run_step, args=(data,))\n    File \"/home/turner/miniconda3/envs/stock_prediction/lib/python3.9/site-packages/keras/engine/training.py\", line 1507, in run_step  **\n        outputs = model.test_step(data)\n    File \"/home/turner/miniconda3/envs/stock_prediction/lib/python3.9/site-packages/keras/engine/training.py\", line 1471, in test_step\n        y_pred = self(x, training=False)\n    File \"/home/turner/miniconda3/envs/stock_prediction/lib/python3.9/site-packages/keras/utils/traceback_utils.py\", line 67, in error_handler\n        raise e.with_traceback(filtered_tb) from None\n    File \"/home/turner/miniconda3/envs/stock_prediction/lib/python3.9/site-packages/keras/engine/input_spec.py\", line 214, in assert_input_compatibility\n        raise ValueError(f'Input {input_index} of layer \"{layer_name}\" '\n\n    ValueError: Exception encountered when calling layer \"sequential\" (type Sequential).\n    \n    Input 0 of layer \"lstm\" is incompatible with the layer: expected ndim=3, found ndim=1. Full shape received: (None,)\n    \n    Call arguments received:\n      • inputs=tf.Tensor(shape=(None,), dtype=int64)\n      • training=False\n      • mask=None\n",
     "output_type": "error",
     "traceback": [
      "\u001b[0;31m---------------------------------------------------------------------------\u001b[0m",
      "\u001b[0;31mValueError\u001b[0m                                Traceback (most recent call last)",
      "\u001b[1;32m/home/turner/repos/stock_market_prediction/notebooks/LSTM_notebook.ipynb Cell 26'\u001b[0m in \u001b[0;36m<cell line: 1>\u001b[0;34m()\u001b[0m\n\u001b[0;32m----> <a href='vscode-notebook-cell://wsl%2Bubuntu-20.04/home/turner/repos/stock_market_prediction/notebooks/LSTM_notebook.ipynb#ch0000025vscode-remote?line=0'>1</a>\u001b[0m score \u001b[39m=\u001b[39m model\u001b[39m.\u001b[39;49mevaluate(x_test\u001b[39m.\u001b[39;49mindex, rnn_forecast, verbose \u001b[39m=\u001b[39;49m \u001b[39m0\u001b[39;49m)\n",
      "File \u001b[0;32m~/miniconda3/envs/stock_prediction/lib/python3.9/site-packages/keras/utils/traceback_utils.py:67\u001b[0m, in \u001b[0;36mfilter_traceback.<locals>.error_handler\u001b[0;34m(*args, **kwargs)\u001b[0m\n\u001b[1;32m     <a href='file:///home/turner/miniconda3/envs/stock_prediction/lib/python3.9/site-packages/keras/utils/traceback_utils.py?line=64'>65</a>\u001b[0m \u001b[39mexcept\u001b[39;00m \u001b[39mException\u001b[39;00m \u001b[39mas\u001b[39;00m e:  \u001b[39m# pylint: disable=broad-except\u001b[39;00m\n\u001b[1;32m     <a href='file:///home/turner/miniconda3/envs/stock_prediction/lib/python3.9/site-packages/keras/utils/traceback_utils.py?line=65'>66</a>\u001b[0m   filtered_tb \u001b[39m=\u001b[39m _process_traceback_frames(e\u001b[39m.\u001b[39m__traceback__)\n\u001b[0;32m---> <a href='file:///home/turner/miniconda3/envs/stock_prediction/lib/python3.9/site-packages/keras/utils/traceback_utils.py?line=66'>67</a>\u001b[0m   \u001b[39mraise\u001b[39;00m e\u001b[39m.\u001b[39mwith_traceback(filtered_tb) \u001b[39mfrom\u001b[39;00m \u001b[39mNone\u001b[39m\n\u001b[1;32m     <a href='file:///home/turner/miniconda3/envs/stock_prediction/lib/python3.9/site-packages/keras/utils/traceback_utils.py?line=67'>68</a>\u001b[0m \u001b[39mfinally\u001b[39;00m:\n\u001b[1;32m     <a href='file:///home/turner/miniconda3/envs/stock_prediction/lib/python3.9/site-packages/keras/utils/traceback_utils.py?line=68'>69</a>\u001b[0m   \u001b[39mdel\u001b[39;00m filtered_tb\n",
      "File \u001b[0;32m~/miniconda3/envs/stock_prediction/lib/python3.9/site-packages/tensorflow/python/framework/func_graph.py:1147\u001b[0m, in \u001b[0;36mfunc_graph_from_py_func.<locals>.autograph_handler\u001b[0;34m(*args, **kwargs)\u001b[0m\n\u001b[1;32m   <a href='file:///home/turner/miniconda3/envs/stock_prediction/lib/python3.9/site-packages/tensorflow/python/framework/func_graph.py?line=1144'>1145</a>\u001b[0m \u001b[39mexcept\u001b[39;00m \u001b[39mException\u001b[39;00m \u001b[39mas\u001b[39;00m e:  \u001b[39m# pylint:disable=broad-except\u001b[39;00m\n\u001b[1;32m   <a href='file:///home/turner/miniconda3/envs/stock_prediction/lib/python3.9/site-packages/tensorflow/python/framework/func_graph.py?line=1145'>1146</a>\u001b[0m   \u001b[39mif\u001b[39;00m \u001b[39mhasattr\u001b[39m(e, \u001b[39m\"\u001b[39m\u001b[39mag_error_metadata\u001b[39m\u001b[39m\"\u001b[39m):\n\u001b[0;32m-> <a href='file:///home/turner/miniconda3/envs/stock_prediction/lib/python3.9/site-packages/tensorflow/python/framework/func_graph.py?line=1146'>1147</a>\u001b[0m     \u001b[39mraise\u001b[39;00m e\u001b[39m.\u001b[39mag_error_metadata\u001b[39m.\u001b[39mto_exception(e)\n\u001b[1;32m   <a href='file:///home/turner/miniconda3/envs/stock_prediction/lib/python3.9/site-packages/tensorflow/python/framework/func_graph.py?line=1147'>1148</a>\u001b[0m   \u001b[39melse\u001b[39;00m:\n\u001b[1;32m   <a href='file:///home/turner/miniconda3/envs/stock_prediction/lib/python3.9/site-packages/tensorflow/python/framework/func_graph.py?line=1148'>1149</a>\u001b[0m     \u001b[39mraise\u001b[39;00m\n",
      "\u001b[0;31mValueError\u001b[0m: in user code:\n\n    File \"/home/turner/miniconda3/envs/stock_prediction/lib/python3.9/site-packages/keras/engine/training.py\", line 1525, in test_function  *\n        return step_function(self, iterator)\n    File \"/home/turner/miniconda3/envs/stock_prediction/lib/python3.9/site-packages/keras/engine/training.py\", line 1514, in step_function  **\n        outputs = model.distribute_strategy.run(run_step, args=(data,))\n    File \"/home/turner/miniconda3/envs/stock_prediction/lib/python3.9/site-packages/keras/engine/training.py\", line 1507, in run_step  **\n        outputs = model.test_step(data)\n    File \"/home/turner/miniconda3/envs/stock_prediction/lib/python3.9/site-packages/keras/engine/training.py\", line 1471, in test_step\n        y_pred = self(x, training=False)\n    File \"/home/turner/miniconda3/envs/stock_prediction/lib/python3.9/site-packages/keras/utils/traceback_utils.py\", line 67, in error_handler\n        raise e.with_traceback(filtered_tb) from None\n    File \"/home/turner/miniconda3/envs/stock_prediction/lib/python3.9/site-packages/keras/engine/input_spec.py\", line 214, in assert_input_compatibility\n        raise ValueError(f'Input {input_index} of layer \"{layer_name}\" '\n\n    ValueError: Exception encountered when calling layer \"sequential\" (type Sequential).\n    \n    Input 0 of layer \"lstm\" is incompatible with the layer: expected ndim=3, found ndim=1. Full shape received: (None,)\n    \n    Call arguments received:\n      • inputs=tf.Tensor(shape=(None,), dtype=int64)\n      • training=False\n      • mask=None\n"
     ]
    }
   ],
   "source": [
    "model.evaluate(normalized_x_test[np.newaxis,:], )"
   ]
  }
 ],
 "metadata": {
  "interpreter": {
   "hash": "ed56072c6f91ed32cf61c7f75c4cf4bf0da527d22a01a7641aa726cefce82bd8"
  },
  "kernelspec": {
   "display_name": "Python 3.9.12 ('stock_prediction')",
   "language": "python",
   "name": "python3"
  },
  "language_info": {
   "codemirror_mode": {
    "name": "ipython",
    "version": 3
   },
   "file_extension": ".py",
   "mimetype": "text/x-python",
   "name": "python",
   "nbconvert_exporter": "python",
   "pygments_lexer": "ipython3",
   "version": "3.9.12"
  }
 },
 "nbformat": 4,
 "nbformat_minor": 5
}
