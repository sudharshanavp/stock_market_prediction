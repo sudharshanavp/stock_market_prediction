{
 "cells": [
  {
   "cell_type": "code",
   "execution_count": 1,
   "id": "bfab9c17",
   "metadata": {},
   "outputs": [],
   "source": [
    "# Importing modules\n",
    "import numpy as np \n",
    "import pandas as pd"
   ]
  },
  {
   "cell_type": "code",
   "execution_count": 2,
   "id": "164876e4",
   "metadata": {},
   "outputs": [],
   "source": [
    "# Reading in the data\n",
    "data = pd.read_csv('../data/processed/stocks/nse_scraped/TCS.csv', thousands=',')"
   ]
  },
  {
   "cell_type": "code",
   "execution_count": 3,
   "id": "1e50c800",
   "metadata": {},
   "outputs": [],
   "source": [
    "# Isolating the date and close price\n",
    "data = data[['Date', 'Close']]"
   ]
  },
  {
   "cell_type": "code",
   "execution_count": 4,
   "id": "56089126",
   "metadata": {},
   "outputs": [],
   "source": [
    "new_data = data.loc[:,:]"
   ]
  },
  {
   "cell_type": "code",
   "execution_count": 5,
   "id": "d1e011d7",
   "metadata": {},
   "outputs": [
    {
     "data": {
      "text/plain": [
       "(4369, 2)"
      ]
     },
     "execution_count": 5,
     "metadata": {},
     "output_type": "execute_result"
    }
   ],
   "source": [
    "new_data.shape"
   ]
  },
  {
   "cell_type": "code",
   "execution_count": 6,
   "id": "658ec765",
   "metadata": {},
   "outputs": [],
   "source": [
    "# Feature preprocessing\n",
    "new_data = new_data.drop(['Date'], axis = 1)\n",
    "new_data = new_data.reset_index(drop = True)\n",
    "T = new_data.values\n",
    "T = T.astype('float32')\n",
    "T = np.reshape(T, (-1, 1))"
   ]
  },
  {
   "cell_type": "code",
   "execution_count": 7,
   "id": "98418bea",
   "metadata": {},
   "outputs": [],
   "source": [
    "# Min-max scaling to get the values in the range [0,1] to optimize convergence speed\n",
    "from sklearn.preprocessing import MinMaxScaler\n",
    "scaler = MinMaxScaler(feature_range = (0, 1))\n",
    "T = scaler.fit_transform(T)\n",
    "\n"
   ]
  },
  {
   "cell_type": "code",
   "execution_count": 8,
   "id": "473ddc3a",
   "metadata": {},
   "outputs": [],
   "source": [
    "# 80-20 split\n",
    "train_size = int(len(T) * 0.80)\n",
    "test_size = int(len(T) - train_size)\n",
    "train, test = T[0:train_size,:], T[train_size:len(T),:]\n"
   ]
  },
  {
   "cell_type": "code",
   "execution_count": 9,
   "id": "c60bb33a",
   "metadata": {},
   "outputs": [
    {
     "data": {
      "text/plain": [
       "((3495, 1), (874, 1))"
      ]
     },
     "execution_count": 9,
     "metadata": {},
     "output_type": "execute_result"
    }
   ],
   "source": [
    "train.shape,test.shape"
   ]
  },
  {
   "cell_type": "code",
   "execution_count": 10,
   "id": "9c2c3b57",
   "metadata": {},
   "outputs": [],
   "source": [
    "# Method for create features from the time series data\n",
    "def create_features(data, window_size):\n",
    "    X, Y = [], []\n",
    "    for i in range(len(data) - window_size - 1):\n",
    "        window = data[i:(i + window_size), 0]\n",
    "        X.append(window)\n",
    "        Y.append(data[i + window_size, 0])\n",
    "    return np.array(X), np.array(Y)\n"
   ]
  },
  {
   "cell_type": "code",
   "execution_count": 11,
   "id": "84f91079",
   "metadata": {},
   "outputs": [],
   "source": [
    "# Roughly one month of trading \n",
    "window_size = 7\n",
    "X_train, Y_train = create_features(train, window_size)\n",
    "\n",
    "X_test, Y_test = create_features(test, window_size)\n"
   ]
  },
  {
   "cell_type": "code",
   "execution_count": 12,
   "id": "f4c18c1a",
   "metadata": {},
   "outputs": [
    {
     "data": {
      "text/plain": [
       "((3487, 7), (3487,), (866, 7), (866,))"
      ]
     },
     "execution_count": 12,
     "metadata": {},
     "output_type": "execute_result"
    }
   ],
   "source": [
    "X_train.shape,Y_train.shape,X_test.shape,Y_test.shape"
   ]
  },
  {
   "cell_type": "code",
   "execution_count": 13,
   "id": "c5e298bc",
   "metadata": {},
   "outputs": [
    {
     "name": "stdout",
     "output_type": "stream",
     "text": [
      "False\n"
     ]
    },
    {
     "name": "stderr",
     "output_type": "stream",
     "text": [
      "2022-04-16 10:22:56.060413: I tensorflow/core/platform/cpu_feature_guard.cc:142] This TensorFlow binary is optimized with oneAPI Deep Neural Network Library (oneDNN) to use the following CPU instructions in performance-critical operations:  SSE4.1 SSE4.2 AVX AVX2 FMA\n",
      "To enable them in other operations, rebuild TensorFlow with the appropriate compiler flags.\n"
     ]
    },
    {
     "ename": "NotImplementedError",
     "evalue": "Cannot convert a symbolic Tensor (lstm/strided_slice:0) to a numpy array. This error may indicate that you're trying to pass a Tensor to a NumPy call, which is not supported",
     "output_type": "error",
     "traceback": [
      "\u001b[0;31m---------------------------------------------------------------------------\u001b[0m",
      "\u001b[0;31mNotImplementedError\u001b[0m                       Traceback (most recent call last)",
      "\u001b[1;32m/home/turner/repos/stock_market_prediction/notebooks/LSTM neural network for stock rice prediction.ipynb Cell 13'\u001b[0m in \u001b[0;36m<cell line: 32>\u001b[0;34m()\u001b[0m\n\u001b[1;32m     <a href='vscode-notebook-cell://wsl%2Bubuntu-20.04/home/turner/repos/stock_market_prediction/notebooks/LSTM%20neural%20network%20for%20stock%20rice%20prediction.ipynb#ch0000012vscode-remote?line=28'>29</a>\u001b[0m \u001b[39m# Building model\u001b[39;00m\n\u001b[1;32m     <a href='vscode-notebook-cell://wsl%2Bubuntu-20.04/home/turner/repos/stock_market_prediction/notebooks/LSTM%20neural%20network%20for%20stock%20rice%20prediction.ipynb#ch0000012vscode-remote?line=29'>30</a>\u001b[0m model \u001b[39m=\u001b[39m Sequential()\n\u001b[0;32m---> <a href='vscode-notebook-cell://wsl%2Bubuntu-20.04/home/turner/repos/stock_market_prediction/notebooks/LSTM%20neural%20network%20for%20stock%20rice%20prediction.ipynb#ch0000012vscode-remote?line=31'>32</a>\u001b[0m model\u001b[39m.\u001b[39;49madd(LSTM(units \u001b[39m=\u001b[39;49m \u001b[39m50\u001b[39;49m, activation \u001b[39m=\u001b[39;49m \u001b[39m'\u001b[39;49m\u001b[39mrelu\u001b[39;49m\u001b[39m'\u001b[39;49m, \u001b[39m#return_sequences = True, \u001b[39;49;00m\n\u001b[1;32m     <a href='vscode-notebook-cell://wsl%2Bubuntu-20.04/home/turner/repos/stock_market_prediction/notebooks/LSTM%20neural%20network%20for%20stock%20rice%20prediction.ipynb#ch0000012vscode-remote?line=32'>33</a>\u001b[0m                input_shape \u001b[39m=\u001b[39;49m (X_train\u001b[39m.\u001b[39;49mshape[\u001b[39m1\u001b[39;49m], window_size)))\n\u001b[1;32m     <a href='vscode-notebook-cell://wsl%2Bubuntu-20.04/home/turner/repos/stock_market_prediction/notebooks/LSTM%20neural%20network%20for%20stock%20rice%20prediction.ipynb#ch0000012vscode-remote?line=33'>34</a>\u001b[0m model\u001b[39m.\u001b[39madd(Dropout(\u001b[39m0.2\u001b[39m))\n\u001b[1;32m     <a href='vscode-notebook-cell://wsl%2Bubuntu-20.04/home/turner/repos/stock_market_prediction/notebooks/LSTM%20neural%20network%20for%20stock%20rice%20prediction.ipynb#ch0000012vscode-remote?line=35'>36</a>\u001b[0m \u001b[39m# Optional additional model layer to make a deep network. If you want to use this, uncomment #return_sequences param in previous add\u001b[39;00m\n",
      "File \u001b[0;32m~/miniconda3/envs/stock_prediction/lib/python3.9/site-packages/tensorflow/python/training/tracking/base.py:517\u001b[0m, in \u001b[0;36mno_automatic_dependency_tracking.<locals>._method_wrapper\u001b[0;34m(self, *args, **kwargs)\u001b[0m\n\u001b[1;32m    <a href='file:///~/miniconda3/envs/stock_prediction/lib/python3.9/site-packages/tensorflow/python/training/tracking/base.py?line=514'>515</a>\u001b[0m \u001b[39mself\u001b[39m\u001b[39m.\u001b[39m_self_setattr_tracking \u001b[39m=\u001b[39m \u001b[39mFalse\u001b[39;00m  \u001b[39m# pylint: disable=protected-access\u001b[39;00m\n\u001b[1;32m    <a href='file:///~/miniconda3/envs/stock_prediction/lib/python3.9/site-packages/tensorflow/python/training/tracking/base.py?line=515'>516</a>\u001b[0m \u001b[39mtry\u001b[39;00m:\n\u001b[0;32m--> <a href='file:///~/miniconda3/envs/stock_prediction/lib/python3.9/site-packages/tensorflow/python/training/tracking/base.py?line=516'>517</a>\u001b[0m   result \u001b[39m=\u001b[39m method(\u001b[39mself\u001b[39;49m, \u001b[39m*\u001b[39;49margs, \u001b[39m*\u001b[39;49m\u001b[39m*\u001b[39;49mkwargs)\n\u001b[1;32m    <a href='file:///~/miniconda3/envs/stock_prediction/lib/python3.9/site-packages/tensorflow/python/training/tracking/base.py?line=517'>518</a>\u001b[0m \u001b[39mfinally\u001b[39;00m:\n\u001b[1;32m    <a href='file:///~/miniconda3/envs/stock_prediction/lib/python3.9/site-packages/tensorflow/python/training/tracking/base.py?line=518'>519</a>\u001b[0m   \u001b[39mself\u001b[39m\u001b[39m.\u001b[39m_self_setattr_tracking \u001b[39m=\u001b[39m previous_value  \u001b[39m# pylint: disable=protected-access\u001b[39;00m\n",
      "File \u001b[0;32m~/miniconda3/envs/stock_prediction/lib/python3.9/site-packages/tensorflow/python/keras/engine/sequential.py:208\u001b[0m, in \u001b[0;36mSequential.add\u001b[0;34m(self, layer)\u001b[0m\n\u001b[1;32m    <a href='file:///~/miniconda3/envs/stock_prediction/lib/python3.9/site-packages/tensorflow/python/keras/engine/sequential.py?line=202'>203</a>\u001b[0m     x \u001b[39m=\u001b[39m input_layer\u001b[39m.\u001b[39mInput(\n\u001b[1;32m    <a href='file:///~/miniconda3/envs/stock_prediction/lib/python3.9/site-packages/tensorflow/python/keras/engine/sequential.py?line=203'>204</a>\u001b[0m         batch_shape\u001b[39m=\u001b[39mbatch_shape, dtype\u001b[39m=\u001b[39mdtype, name\u001b[39m=\u001b[39mlayer\u001b[39m.\u001b[39mname \u001b[39m+\u001b[39m \u001b[39m'\u001b[39m\u001b[39m_input\u001b[39m\u001b[39m'\u001b[39m)\n\u001b[1;32m    <a href='file:///~/miniconda3/envs/stock_prediction/lib/python3.9/site-packages/tensorflow/python/keras/engine/sequential.py?line=204'>205</a>\u001b[0m     \u001b[39m# This will build the current layer\u001b[39;00m\n\u001b[1;32m    <a href='file:///~/miniconda3/envs/stock_prediction/lib/python3.9/site-packages/tensorflow/python/keras/engine/sequential.py?line=205'>206</a>\u001b[0m     \u001b[39m# and create the node connecting the current layer\u001b[39;00m\n\u001b[1;32m    <a href='file:///~/miniconda3/envs/stock_prediction/lib/python3.9/site-packages/tensorflow/python/keras/engine/sequential.py?line=206'>207</a>\u001b[0m     \u001b[39m# to the input layer we just created.\u001b[39;00m\n\u001b[0;32m--> <a href='file:///~/miniconda3/envs/stock_prediction/lib/python3.9/site-packages/tensorflow/python/keras/engine/sequential.py?line=207'>208</a>\u001b[0m     layer(x)\n\u001b[1;32m    <a href='file:///~/miniconda3/envs/stock_prediction/lib/python3.9/site-packages/tensorflow/python/keras/engine/sequential.py?line=208'>209</a>\u001b[0m     set_inputs \u001b[39m=\u001b[39m \u001b[39mTrue\u001b[39;00m\n\u001b[1;32m    <a href='file:///~/miniconda3/envs/stock_prediction/lib/python3.9/site-packages/tensorflow/python/keras/engine/sequential.py?line=210'>211</a>\u001b[0m \u001b[39mif\u001b[39;00m set_inputs:\n",
      "File \u001b[0;32m~/miniconda3/envs/stock_prediction/lib/python3.9/site-packages/tensorflow/python/keras/layers/recurrent.py:660\u001b[0m, in \u001b[0;36mRNN.__call__\u001b[0;34m(self, inputs, initial_state, constants, **kwargs)\u001b[0m\n\u001b[1;32m    <a href='file:///~/miniconda3/envs/stock_prediction/lib/python3.9/site-packages/tensorflow/python/keras/layers/recurrent.py?line=653'>654</a>\u001b[0m inputs, initial_state, constants \u001b[39m=\u001b[39m _standardize_args(inputs,\n\u001b[1;32m    <a href='file:///~/miniconda3/envs/stock_prediction/lib/python3.9/site-packages/tensorflow/python/keras/layers/recurrent.py?line=654'>655</a>\u001b[0m                                                      initial_state,\n\u001b[1;32m    <a href='file:///~/miniconda3/envs/stock_prediction/lib/python3.9/site-packages/tensorflow/python/keras/layers/recurrent.py?line=655'>656</a>\u001b[0m                                                      constants,\n\u001b[1;32m    <a href='file:///~/miniconda3/envs/stock_prediction/lib/python3.9/site-packages/tensorflow/python/keras/layers/recurrent.py?line=656'>657</a>\u001b[0m                                                      \u001b[39mself\u001b[39m\u001b[39m.\u001b[39m_num_constants)\n\u001b[1;32m    <a href='file:///~/miniconda3/envs/stock_prediction/lib/python3.9/site-packages/tensorflow/python/keras/layers/recurrent.py?line=658'>659</a>\u001b[0m \u001b[39mif\u001b[39;00m initial_state \u001b[39mis\u001b[39;00m \u001b[39mNone\u001b[39;00m \u001b[39mand\u001b[39;00m constants \u001b[39mis\u001b[39;00m \u001b[39mNone\u001b[39;00m:\n\u001b[0;32m--> <a href='file:///~/miniconda3/envs/stock_prediction/lib/python3.9/site-packages/tensorflow/python/keras/layers/recurrent.py?line=659'>660</a>\u001b[0m   \u001b[39mreturn\u001b[39;00m \u001b[39msuper\u001b[39;49m(RNN, \u001b[39mself\u001b[39;49m)\u001b[39m.\u001b[39;49m\u001b[39m__call__\u001b[39;49m(inputs, \u001b[39m*\u001b[39;49m\u001b[39m*\u001b[39;49mkwargs)\n\u001b[1;32m    <a href='file:///~/miniconda3/envs/stock_prediction/lib/python3.9/site-packages/tensorflow/python/keras/layers/recurrent.py?line=661'>662</a>\u001b[0m \u001b[39m# If any of `initial_state` or `constants` are specified and are Keras\u001b[39;00m\n\u001b[1;32m    <a href='file:///~/miniconda3/envs/stock_prediction/lib/python3.9/site-packages/tensorflow/python/keras/layers/recurrent.py?line=662'>663</a>\u001b[0m \u001b[39m# tensors, then add them to the inputs and temporarily modify the\u001b[39;00m\n\u001b[1;32m    <a href='file:///~/miniconda3/envs/stock_prediction/lib/python3.9/site-packages/tensorflow/python/keras/layers/recurrent.py?line=663'>664</a>\u001b[0m \u001b[39m# input_spec to include them.\u001b[39;00m\n\u001b[1;32m    <a href='file:///~/miniconda3/envs/stock_prediction/lib/python3.9/site-packages/tensorflow/python/keras/layers/recurrent.py?line=665'>666</a>\u001b[0m additional_inputs \u001b[39m=\u001b[39m []\n",
      "File \u001b[0;32m~/miniconda3/envs/stock_prediction/lib/python3.9/site-packages/tensorflow/python/keras/engine/base_layer.py:951\u001b[0m, in \u001b[0;36mLayer.__call__\u001b[0;34m(self, *args, **kwargs)\u001b[0m\n\u001b[1;32m    <a href='file:///~/miniconda3/envs/stock_prediction/lib/python3.9/site-packages/tensorflow/python/keras/engine/base_layer.py?line=944'>945</a>\u001b[0m \u001b[39m# Functional Model construction mode is invoked when `Layer`s are called on\u001b[39;00m\n\u001b[1;32m    <a href='file:///~/miniconda3/envs/stock_prediction/lib/python3.9/site-packages/tensorflow/python/keras/engine/base_layer.py?line=945'>946</a>\u001b[0m \u001b[39m# symbolic `KerasTensor`s, i.e.:\u001b[39;00m\n\u001b[1;32m    <a href='file:///~/miniconda3/envs/stock_prediction/lib/python3.9/site-packages/tensorflow/python/keras/engine/base_layer.py?line=946'>947</a>\u001b[0m \u001b[39m# >> inputs = tf.keras.Input(10)\u001b[39;00m\n\u001b[1;32m    <a href='file:///~/miniconda3/envs/stock_prediction/lib/python3.9/site-packages/tensorflow/python/keras/engine/base_layer.py?line=947'>948</a>\u001b[0m \u001b[39m# >> outputs = MyLayer()(inputs)  # Functional construction mode.\u001b[39;00m\n\u001b[1;32m    <a href='file:///~/miniconda3/envs/stock_prediction/lib/python3.9/site-packages/tensorflow/python/keras/engine/base_layer.py?line=948'>949</a>\u001b[0m \u001b[39m# >> model = tf.keras.Model(inputs, outputs)\u001b[39;00m\n\u001b[1;32m    <a href='file:///~/miniconda3/envs/stock_prediction/lib/python3.9/site-packages/tensorflow/python/keras/engine/base_layer.py?line=949'>950</a>\u001b[0m \u001b[39mif\u001b[39;00m _in_functional_construction_mode(\u001b[39mself\u001b[39m, inputs, args, kwargs, input_list):\n\u001b[0;32m--> <a href='file:///~/miniconda3/envs/stock_prediction/lib/python3.9/site-packages/tensorflow/python/keras/engine/base_layer.py?line=950'>951</a>\u001b[0m   \u001b[39mreturn\u001b[39;00m \u001b[39mself\u001b[39;49m\u001b[39m.\u001b[39;49m_functional_construction_call(inputs, args, kwargs,\n\u001b[1;32m    <a href='file:///~/miniconda3/envs/stock_prediction/lib/python3.9/site-packages/tensorflow/python/keras/engine/base_layer.py?line=951'>952</a>\u001b[0m                                             input_list)\n\u001b[1;32m    <a href='file:///~/miniconda3/envs/stock_prediction/lib/python3.9/site-packages/tensorflow/python/keras/engine/base_layer.py?line=953'>954</a>\u001b[0m \u001b[39m# Maintains info about the `Layer.call` stack.\u001b[39;00m\n\u001b[1;32m    <a href='file:///~/miniconda3/envs/stock_prediction/lib/python3.9/site-packages/tensorflow/python/keras/engine/base_layer.py?line=954'>955</a>\u001b[0m call_context \u001b[39m=\u001b[39m base_layer_utils\u001b[39m.\u001b[39mcall_context()\n",
      "File \u001b[0;32m~/miniconda3/envs/stock_prediction/lib/python3.9/site-packages/tensorflow/python/keras/engine/base_layer.py:1090\u001b[0m, in \u001b[0;36mLayer._functional_construction_call\u001b[0;34m(self, inputs, args, kwargs, input_list)\u001b[0m\n\u001b[1;32m   <a href='file:///~/miniconda3/envs/stock_prediction/lib/python3.9/site-packages/tensorflow/python/keras/engine/base_layer.py?line=1085'>1086</a>\u001b[0m \u001b[39mif\u001b[39;00m keras_tensor\u001b[39m.\u001b[39mkeras_tensors_enabled():\n\u001b[1;32m   <a href='file:///~/miniconda3/envs/stock_prediction/lib/python3.9/site-packages/tensorflow/python/keras/engine/base_layer.py?line=1086'>1087</a>\u001b[0m   \u001b[39mwith\u001b[39;00m call_context\u001b[39m.\u001b[39menter(\n\u001b[1;32m   <a href='file:///~/miniconda3/envs/stock_prediction/lib/python3.9/site-packages/tensorflow/python/keras/engine/base_layer.py?line=1087'>1088</a>\u001b[0m       layer\u001b[39m=\u001b[39m\u001b[39mself\u001b[39m, inputs\u001b[39m=\u001b[39minputs, build_graph\u001b[39m=\u001b[39m\u001b[39mTrue\u001b[39;00m, training\u001b[39m=\u001b[39mtraining_value):\n\u001b[1;32m   <a href='file:///~/miniconda3/envs/stock_prediction/lib/python3.9/site-packages/tensorflow/python/keras/engine/base_layer.py?line=1088'>1089</a>\u001b[0m     \u001b[39m# Check input assumptions set after layer building, e.g. input shape.\u001b[39;00m\n\u001b[0;32m-> <a href='file:///~/miniconda3/envs/stock_prediction/lib/python3.9/site-packages/tensorflow/python/keras/engine/base_layer.py?line=1089'>1090</a>\u001b[0m     outputs \u001b[39m=\u001b[39m \u001b[39mself\u001b[39;49m\u001b[39m.\u001b[39;49m_keras_tensor_symbolic_call(\n\u001b[1;32m   <a href='file:///~/miniconda3/envs/stock_prediction/lib/python3.9/site-packages/tensorflow/python/keras/engine/base_layer.py?line=1090'>1091</a>\u001b[0m         inputs, input_masks, args, kwargs)\n\u001b[1;32m   <a href='file:///~/miniconda3/envs/stock_prediction/lib/python3.9/site-packages/tensorflow/python/keras/engine/base_layer.py?line=1092'>1093</a>\u001b[0m     \u001b[39mif\u001b[39;00m outputs \u001b[39mis\u001b[39;00m \u001b[39mNone\u001b[39;00m:\n\u001b[1;32m   <a href='file:///~/miniconda3/envs/stock_prediction/lib/python3.9/site-packages/tensorflow/python/keras/engine/base_layer.py?line=1093'>1094</a>\u001b[0m       \u001b[39mraise\u001b[39;00m \u001b[39mValueError\u001b[39;00m(\u001b[39m'\u001b[39m\u001b[39mA layer\u001b[39m\u001b[39m\\'\u001b[39;00m\u001b[39ms `call` method should return a \u001b[39m\u001b[39m'\u001b[39m\n\u001b[1;32m   <a href='file:///~/miniconda3/envs/stock_prediction/lib/python3.9/site-packages/tensorflow/python/keras/engine/base_layer.py?line=1094'>1095</a>\u001b[0m                        \u001b[39m'\u001b[39m\u001b[39mTensor or a list of Tensors, not None \u001b[39m\u001b[39m'\u001b[39m\n\u001b[1;32m   <a href='file:///~/miniconda3/envs/stock_prediction/lib/python3.9/site-packages/tensorflow/python/keras/engine/base_layer.py?line=1095'>1096</a>\u001b[0m                        \u001b[39m'\u001b[39m\u001b[39m(layer: \u001b[39m\u001b[39m'\u001b[39m \u001b[39m+\u001b[39m \u001b[39mself\u001b[39m\u001b[39m.\u001b[39mname \u001b[39m+\u001b[39m \u001b[39m'\u001b[39m\u001b[39m).\u001b[39m\u001b[39m'\u001b[39m)\n",
      "File \u001b[0;32m~/miniconda3/envs/stock_prediction/lib/python3.9/site-packages/tensorflow/python/keras/engine/base_layer.py:822\u001b[0m, in \u001b[0;36mLayer._keras_tensor_symbolic_call\u001b[0;34m(self, inputs, input_masks, args, kwargs)\u001b[0m\n\u001b[1;32m    <a href='file:///~/miniconda3/envs/stock_prediction/lib/python3.9/site-packages/tensorflow/python/keras/engine/base_layer.py?line=819'>820</a>\u001b[0m   \u001b[39mreturn\u001b[39;00m nest\u001b[39m.\u001b[39mmap_structure(keras_tensor\u001b[39m.\u001b[39mKerasTensor, output_signature)\n\u001b[1;32m    <a href='file:///~/miniconda3/envs/stock_prediction/lib/python3.9/site-packages/tensorflow/python/keras/engine/base_layer.py?line=820'>821</a>\u001b[0m \u001b[39melse\u001b[39;00m:\n\u001b[0;32m--> <a href='file:///~/miniconda3/envs/stock_prediction/lib/python3.9/site-packages/tensorflow/python/keras/engine/base_layer.py?line=821'>822</a>\u001b[0m   \u001b[39mreturn\u001b[39;00m \u001b[39mself\u001b[39;49m\u001b[39m.\u001b[39;49m_infer_output_signature(inputs, args, kwargs, input_masks)\n",
      "File \u001b[0;32m~/miniconda3/envs/stock_prediction/lib/python3.9/site-packages/tensorflow/python/keras/engine/base_layer.py:863\u001b[0m, in \u001b[0;36mLayer._infer_output_signature\u001b[0;34m(self, inputs, args, kwargs, input_masks)\u001b[0m\n\u001b[1;32m    <a href='file:///~/miniconda3/envs/stock_prediction/lib/python3.9/site-packages/tensorflow/python/keras/engine/base_layer.py?line=856'>857</a>\u001b[0m   \u001b[39mwith\u001b[39;00m autocast_variable\u001b[39m.\u001b[39menable_auto_cast_variables(\n\u001b[1;32m    <a href='file:///~/miniconda3/envs/stock_prediction/lib/python3.9/site-packages/tensorflow/python/keras/engine/base_layer.py?line=857'>858</a>\u001b[0m       \u001b[39mself\u001b[39m\u001b[39m.\u001b[39m_compute_dtype_object):\n\u001b[1;32m    <a href='file:///~/miniconda3/envs/stock_prediction/lib/python3.9/site-packages/tensorflow/python/keras/engine/base_layer.py?line=858'>859</a>\u001b[0m     \u001b[39m# Build layer if applicable (if the `build` method has been\u001b[39;00m\n\u001b[1;32m    <a href='file:///~/miniconda3/envs/stock_prediction/lib/python3.9/site-packages/tensorflow/python/keras/engine/base_layer.py?line=859'>860</a>\u001b[0m     \u001b[39m# overridden).\u001b[39;00m\n\u001b[1;32m    <a href='file:///~/miniconda3/envs/stock_prediction/lib/python3.9/site-packages/tensorflow/python/keras/engine/base_layer.py?line=860'>861</a>\u001b[0m     \u001b[39m# TODO(kaftan): do we maybe_build here, or have we already done it?\u001b[39;00m\n\u001b[1;32m    <a href='file:///~/miniconda3/envs/stock_prediction/lib/python3.9/site-packages/tensorflow/python/keras/engine/base_layer.py?line=861'>862</a>\u001b[0m     \u001b[39mself\u001b[39m\u001b[39m.\u001b[39m_maybe_build(inputs)\n\u001b[0;32m--> <a href='file:///~/miniconda3/envs/stock_prediction/lib/python3.9/site-packages/tensorflow/python/keras/engine/base_layer.py?line=862'>863</a>\u001b[0m     outputs \u001b[39m=\u001b[39m call_fn(inputs, \u001b[39m*\u001b[39;49margs, \u001b[39m*\u001b[39;49m\u001b[39m*\u001b[39;49mkwargs)\n\u001b[1;32m    <a href='file:///~/miniconda3/envs/stock_prediction/lib/python3.9/site-packages/tensorflow/python/keras/engine/base_layer.py?line=864'>865</a>\u001b[0m   \u001b[39mself\u001b[39m\u001b[39m.\u001b[39m_handle_activity_regularization(inputs, outputs)\n\u001b[1;32m    <a href='file:///~/miniconda3/envs/stock_prediction/lib/python3.9/site-packages/tensorflow/python/keras/engine/base_layer.py?line=865'>866</a>\u001b[0m \u001b[39mself\u001b[39m\u001b[39m.\u001b[39m_set_mask_metadata(inputs, outputs, input_masks,\n\u001b[1;32m    <a href='file:///~/miniconda3/envs/stock_prediction/lib/python3.9/site-packages/tensorflow/python/keras/engine/base_layer.py?line=866'>867</a>\u001b[0m                         build_graph\u001b[39m=\u001b[39m\u001b[39mFalse\u001b[39;00m)\n",
      "File \u001b[0;32m~/miniconda3/envs/stock_prediction/lib/python3.9/site-packages/tensorflow/python/keras/layers/recurrent_v2.py:1157\u001b[0m, in \u001b[0;36mLSTM.call\u001b[0;34m(self, inputs, mask, training, initial_state)\u001b[0m\n\u001b[1;32m   <a href='file:///~/miniconda3/envs/stock_prediction/lib/python3.9/site-packages/tensorflow/python/keras/layers/recurrent_v2.py?line=1153'>1154</a>\u001b[0m \u001b[39mself\u001b[39m\u001b[39m.\u001b[39m_validate_args_if_ragged(is_ragged_input, mask)\n\u001b[1;32m   <a href='file:///~/miniconda3/envs/stock_prediction/lib/python3.9/site-packages/tensorflow/python/keras/layers/recurrent_v2.py?line=1155'>1156</a>\u001b[0m \u001b[39m# LSTM does not support constants. Ignore it during process.\u001b[39;00m\n\u001b[0;32m-> <a href='file:///~/miniconda3/envs/stock_prediction/lib/python3.9/site-packages/tensorflow/python/keras/layers/recurrent_v2.py?line=1156'>1157</a>\u001b[0m inputs, initial_state, _ \u001b[39m=\u001b[39m \u001b[39mself\u001b[39;49m\u001b[39m.\u001b[39;49m_process_inputs(inputs, initial_state, \u001b[39mNone\u001b[39;49;00m)\n\u001b[1;32m   <a href='file:///~/miniconda3/envs/stock_prediction/lib/python3.9/site-packages/tensorflow/python/keras/layers/recurrent_v2.py?line=1158'>1159</a>\u001b[0m \u001b[39mif\u001b[39;00m \u001b[39misinstance\u001b[39m(mask, \u001b[39mlist\u001b[39m):\n\u001b[1;32m   <a href='file:///~/miniconda3/envs/stock_prediction/lib/python3.9/site-packages/tensorflow/python/keras/layers/recurrent_v2.py?line=1159'>1160</a>\u001b[0m   mask \u001b[39m=\u001b[39m mask[\u001b[39m0\u001b[39m]\n",
      "File \u001b[0;32m~/miniconda3/envs/stock_prediction/lib/python3.9/site-packages/tensorflow/python/keras/layers/recurrent.py:859\u001b[0m, in \u001b[0;36mRNN._process_inputs\u001b[0;34m(self, inputs, initial_state, constants)\u001b[0m\n\u001b[1;32m    <a href='file:///~/miniconda3/envs/stock_prediction/lib/python3.9/site-packages/tensorflow/python/keras/layers/recurrent.py?line=856'>857</a>\u001b[0m     initial_state \u001b[39m=\u001b[39m \u001b[39mself\u001b[39m\u001b[39m.\u001b[39mstates\n\u001b[1;32m    <a href='file:///~/miniconda3/envs/stock_prediction/lib/python3.9/site-packages/tensorflow/python/keras/layers/recurrent.py?line=857'>858</a>\u001b[0m \u001b[39melif\u001b[39;00m initial_state \u001b[39mis\u001b[39;00m \u001b[39mNone\u001b[39;00m:\n\u001b[0;32m--> <a href='file:///~/miniconda3/envs/stock_prediction/lib/python3.9/site-packages/tensorflow/python/keras/layers/recurrent.py?line=858'>859</a>\u001b[0m   initial_state \u001b[39m=\u001b[39m \u001b[39mself\u001b[39;49m\u001b[39m.\u001b[39;49mget_initial_state(inputs)\n\u001b[1;32m    <a href='file:///~/miniconda3/envs/stock_prediction/lib/python3.9/site-packages/tensorflow/python/keras/layers/recurrent.py?line=860'>861</a>\u001b[0m \u001b[39mif\u001b[39;00m \u001b[39mlen\u001b[39m(initial_state) \u001b[39m!=\u001b[39m \u001b[39mlen\u001b[39m(\u001b[39mself\u001b[39m\u001b[39m.\u001b[39mstates):\n\u001b[1;32m    <a href='file:///~/miniconda3/envs/stock_prediction/lib/python3.9/site-packages/tensorflow/python/keras/layers/recurrent.py?line=861'>862</a>\u001b[0m   \u001b[39mraise\u001b[39;00m \u001b[39mValueError\u001b[39;00m(\u001b[39m'\u001b[39m\u001b[39mLayer has \u001b[39m\u001b[39m'\u001b[39m \u001b[39m+\u001b[39m \u001b[39mstr\u001b[39m(\u001b[39mlen\u001b[39m(\u001b[39mself\u001b[39m\u001b[39m.\u001b[39mstates)) \u001b[39m+\u001b[39m\n\u001b[1;32m    <a href='file:///~/miniconda3/envs/stock_prediction/lib/python3.9/site-packages/tensorflow/python/keras/layers/recurrent.py?line=862'>863</a>\u001b[0m                    \u001b[39m'\u001b[39m\u001b[39m states but was passed \u001b[39m\u001b[39m'\u001b[39m \u001b[39m+\u001b[39m \u001b[39mstr\u001b[39m(\u001b[39mlen\u001b[39m(initial_state)) \u001b[39m+\u001b[39m\n\u001b[1;32m    <a href='file:///~/miniconda3/envs/stock_prediction/lib/python3.9/site-packages/tensorflow/python/keras/layers/recurrent.py?line=863'>864</a>\u001b[0m                    \u001b[39m'\u001b[39m\u001b[39m initial states.\u001b[39m\u001b[39m'\u001b[39m)\n",
      "File \u001b[0;32m~/miniconda3/envs/stock_prediction/lib/python3.9/site-packages/tensorflow/python/keras/layers/recurrent.py:642\u001b[0m, in \u001b[0;36mRNN.get_initial_state\u001b[0;34m(self, inputs)\u001b[0m\n\u001b[1;32m    <a href='file:///~/miniconda3/envs/stock_prediction/lib/python3.9/site-packages/tensorflow/python/keras/layers/recurrent.py?line=639'>640</a>\u001b[0m dtype \u001b[39m=\u001b[39m inputs\u001b[39m.\u001b[39mdtype\n\u001b[1;32m    <a href='file:///~/miniconda3/envs/stock_prediction/lib/python3.9/site-packages/tensorflow/python/keras/layers/recurrent.py?line=640'>641</a>\u001b[0m \u001b[39mif\u001b[39;00m get_initial_state_fn:\n\u001b[0;32m--> <a href='file:///~/miniconda3/envs/stock_prediction/lib/python3.9/site-packages/tensorflow/python/keras/layers/recurrent.py?line=641'>642</a>\u001b[0m   init_state \u001b[39m=\u001b[39m get_initial_state_fn(\n\u001b[1;32m    <a href='file:///~/miniconda3/envs/stock_prediction/lib/python3.9/site-packages/tensorflow/python/keras/layers/recurrent.py?line=642'>643</a>\u001b[0m       inputs\u001b[39m=\u001b[39;49m\u001b[39mNone\u001b[39;49;00m, batch_size\u001b[39m=\u001b[39;49mbatch_size, dtype\u001b[39m=\u001b[39;49mdtype)\n\u001b[1;32m    <a href='file:///~/miniconda3/envs/stock_prediction/lib/python3.9/site-packages/tensorflow/python/keras/layers/recurrent.py?line=643'>644</a>\u001b[0m \u001b[39melse\u001b[39;00m:\n\u001b[1;32m    <a href='file:///~/miniconda3/envs/stock_prediction/lib/python3.9/site-packages/tensorflow/python/keras/layers/recurrent.py?line=644'>645</a>\u001b[0m   init_state \u001b[39m=\u001b[39m _generate_zero_filled_state(batch_size, \u001b[39mself\u001b[39m\u001b[39m.\u001b[39mcell\u001b[39m.\u001b[39mstate_size,\n\u001b[1;32m    <a href='file:///~/miniconda3/envs/stock_prediction/lib/python3.9/site-packages/tensorflow/python/keras/layers/recurrent.py?line=645'>646</a>\u001b[0m                                            dtype)\n",
      "File \u001b[0;32m~/miniconda3/envs/stock_prediction/lib/python3.9/site-packages/tensorflow/python/keras/layers/recurrent.py:2506\u001b[0m, in \u001b[0;36mLSTMCell.get_initial_state\u001b[0;34m(self, inputs, batch_size, dtype)\u001b[0m\n\u001b[1;32m   <a href='file:///~/miniconda3/envs/stock_prediction/lib/python3.9/site-packages/tensorflow/python/keras/layers/recurrent.py?line=2504'>2505</a>\u001b[0m \u001b[39mdef\u001b[39;00m \u001b[39mget_initial_state\u001b[39m(\u001b[39mself\u001b[39m, inputs\u001b[39m=\u001b[39m\u001b[39mNone\u001b[39;00m, batch_size\u001b[39m=\u001b[39m\u001b[39mNone\u001b[39;00m, dtype\u001b[39m=\u001b[39m\u001b[39mNone\u001b[39;00m):\n\u001b[0;32m-> <a href='file:///~/miniconda3/envs/stock_prediction/lib/python3.9/site-packages/tensorflow/python/keras/layers/recurrent.py?line=2505'>2506</a>\u001b[0m   \u001b[39mreturn\u001b[39;00m \u001b[39mlist\u001b[39m(_generate_zero_filled_state_for_cell(\n\u001b[1;32m   <a href='file:///~/miniconda3/envs/stock_prediction/lib/python3.9/site-packages/tensorflow/python/keras/layers/recurrent.py?line=2506'>2507</a>\u001b[0m       \u001b[39mself\u001b[39;49m, inputs, batch_size, dtype))\n",
      "File \u001b[0;32m~/miniconda3/envs/stock_prediction/lib/python3.9/site-packages/tensorflow/python/keras/layers/recurrent.py:2987\u001b[0m, in \u001b[0;36m_generate_zero_filled_state_for_cell\u001b[0;34m(cell, inputs, batch_size, dtype)\u001b[0m\n\u001b[1;32m   <a href='file:///~/miniconda3/envs/stock_prediction/lib/python3.9/site-packages/tensorflow/python/keras/layers/recurrent.py?line=2984'>2985</a>\u001b[0m   batch_size \u001b[39m=\u001b[39m array_ops\u001b[39m.\u001b[39mshape(inputs)[\u001b[39m0\u001b[39m]\n\u001b[1;32m   <a href='file:///~/miniconda3/envs/stock_prediction/lib/python3.9/site-packages/tensorflow/python/keras/layers/recurrent.py?line=2985'>2986</a>\u001b[0m   dtype \u001b[39m=\u001b[39m inputs\u001b[39m.\u001b[39mdtype\n\u001b[0;32m-> <a href='file:///~/miniconda3/envs/stock_prediction/lib/python3.9/site-packages/tensorflow/python/keras/layers/recurrent.py?line=2986'>2987</a>\u001b[0m \u001b[39mreturn\u001b[39;00m _generate_zero_filled_state(batch_size, cell\u001b[39m.\u001b[39;49mstate_size, dtype)\n",
      "File \u001b[0;32m~/miniconda3/envs/stock_prediction/lib/python3.9/site-packages/tensorflow/python/keras/layers/recurrent.py:3003\u001b[0m, in \u001b[0;36m_generate_zero_filled_state\u001b[0;34m(batch_size_tensor, state_size, dtype)\u001b[0m\n\u001b[1;32m   <a href='file:///~/miniconda3/envs/stock_prediction/lib/python3.9/site-packages/tensorflow/python/keras/layers/recurrent.py?line=2999'>3000</a>\u001b[0m   \u001b[39mreturn\u001b[39;00m array_ops\u001b[39m.\u001b[39mzeros(init_state_size, dtype\u001b[39m=\u001b[39mdtype)\n\u001b[1;32m   <a href='file:///~/miniconda3/envs/stock_prediction/lib/python3.9/site-packages/tensorflow/python/keras/layers/recurrent.py?line=3001'>3002</a>\u001b[0m \u001b[39mif\u001b[39;00m nest\u001b[39m.\u001b[39mis_nested(state_size):\n\u001b[0;32m-> <a href='file:///~/miniconda3/envs/stock_prediction/lib/python3.9/site-packages/tensorflow/python/keras/layers/recurrent.py?line=3002'>3003</a>\u001b[0m   \u001b[39mreturn\u001b[39;00m nest\u001b[39m.\u001b[39;49mmap_structure(create_zeros, state_size)\n\u001b[1;32m   <a href='file:///~/miniconda3/envs/stock_prediction/lib/python3.9/site-packages/tensorflow/python/keras/layers/recurrent.py?line=3003'>3004</a>\u001b[0m \u001b[39melse\u001b[39;00m:\n\u001b[1;32m   <a href='file:///~/miniconda3/envs/stock_prediction/lib/python3.9/site-packages/tensorflow/python/keras/layers/recurrent.py?line=3004'>3005</a>\u001b[0m   \u001b[39mreturn\u001b[39;00m create_zeros(state_size)\n",
      "File \u001b[0;32m~/miniconda3/envs/stock_prediction/lib/python3.9/site-packages/tensorflow/python/util/nest.py:659\u001b[0m, in \u001b[0;36mmap_structure\u001b[0;34m(func, *structure, **kwargs)\u001b[0m\n\u001b[1;32m    <a href='file:///~/miniconda3/envs/stock_prediction/lib/python3.9/site-packages/tensorflow/python/util/nest.py?line=654'>655</a>\u001b[0m flat_structure \u001b[39m=\u001b[39m (flatten(s, expand_composites) \u001b[39mfor\u001b[39;00m s \u001b[39min\u001b[39;00m structure)\n\u001b[1;32m    <a href='file:///~/miniconda3/envs/stock_prediction/lib/python3.9/site-packages/tensorflow/python/util/nest.py?line=655'>656</a>\u001b[0m entries \u001b[39m=\u001b[39m \u001b[39mzip\u001b[39m(\u001b[39m*\u001b[39mflat_structure)\n\u001b[1;32m    <a href='file:///~/miniconda3/envs/stock_prediction/lib/python3.9/site-packages/tensorflow/python/util/nest.py?line=657'>658</a>\u001b[0m \u001b[39mreturn\u001b[39;00m pack_sequence_as(\n\u001b[0;32m--> <a href='file:///~/miniconda3/envs/stock_prediction/lib/python3.9/site-packages/tensorflow/python/util/nest.py?line=658'>659</a>\u001b[0m     structure[\u001b[39m0\u001b[39m], [func(\u001b[39m*\u001b[39mx) \u001b[39mfor\u001b[39;00m x \u001b[39min\u001b[39;00m entries],\n\u001b[1;32m    <a href='file:///~/miniconda3/envs/stock_prediction/lib/python3.9/site-packages/tensorflow/python/util/nest.py?line=659'>660</a>\u001b[0m     expand_composites\u001b[39m=\u001b[39mexpand_composites)\n",
      "File \u001b[0;32m~/miniconda3/envs/stock_prediction/lib/python3.9/site-packages/tensorflow/python/util/nest.py:659\u001b[0m, in \u001b[0;36m<listcomp>\u001b[0;34m(.0)\u001b[0m\n\u001b[1;32m    <a href='file:///~/miniconda3/envs/stock_prediction/lib/python3.9/site-packages/tensorflow/python/util/nest.py?line=654'>655</a>\u001b[0m flat_structure \u001b[39m=\u001b[39m (flatten(s, expand_composites) \u001b[39mfor\u001b[39;00m s \u001b[39min\u001b[39;00m structure)\n\u001b[1;32m    <a href='file:///~/miniconda3/envs/stock_prediction/lib/python3.9/site-packages/tensorflow/python/util/nest.py?line=655'>656</a>\u001b[0m entries \u001b[39m=\u001b[39m \u001b[39mzip\u001b[39m(\u001b[39m*\u001b[39mflat_structure)\n\u001b[1;32m    <a href='file:///~/miniconda3/envs/stock_prediction/lib/python3.9/site-packages/tensorflow/python/util/nest.py?line=657'>658</a>\u001b[0m \u001b[39mreturn\u001b[39;00m pack_sequence_as(\n\u001b[0;32m--> <a href='file:///~/miniconda3/envs/stock_prediction/lib/python3.9/site-packages/tensorflow/python/util/nest.py?line=658'>659</a>\u001b[0m     structure[\u001b[39m0\u001b[39m], [func(\u001b[39m*\u001b[39;49mx) \u001b[39mfor\u001b[39;00m x \u001b[39min\u001b[39;00m entries],\n\u001b[1;32m    <a href='file:///~/miniconda3/envs/stock_prediction/lib/python3.9/site-packages/tensorflow/python/util/nest.py?line=659'>660</a>\u001b[0m     expand_composites\u001b[39m=\u001b[39mexpand_composites)\n",
      "File \u001b[0;32m~/miniconda3/envs/stock_prediction/lib/python3.9/site-packages/tensorflow/python/keras/layers/recurrent.py:3000\u001b[0m, in \u001b[0;36m_generate_zero_filled_state.<locals>.create_zeros\u001b[0;34m(unnested_state_size)\u001b[0m\n\u001b[1;32m   <a href='file:///~/miniconda3/envs/stock_prediction/lib/python3.9/site-packages/tensorflow/python/keras/layers/recurrent.py?line=2997'>2998</a>\u001b[0m flat_dims \u001b[39m=\u001b[39m tensor_shape\u001b[39m.\u001b[39mTensorShape(unnested_state_size)\u001b[39m.\u001b[39mas_list()\n\u001b[1;32m   <a href='file:///~/miniconda3/envs/stock_prediction/lib/python3.9/site-packages/tensorflow/python/keras/layers/recurrent.py?line=2998'>2999</a>\u001b[0m init_state_size \u001b[39m=\u001b[39m [batch_size_tensor] \u001b[39m+\u001b[39m flat_dims\n\u001b[0;32m-> <a href='file:///~/miniconda3/envs/stock_prediction/lib/python3.9/site-packages/tensorflow/python/keras/layers/recurrent.py?line=2999'>3000</a>\u001b[0m \u001b[39mreturn\u001b[39;00m array_ops\u001b[39m.\u001b[39;49mzeros(init_state_size, dtype\u001b[39m=\u001b[39;49mdtype)\n",
      "File \u001b[0;32m~/miniconda3/envs/stock_prediction/lib/python3.9/site-packages/tensorflow/python/util/dispatch.py:201\u001b[0m, in \u001b[0;36madd_dispatch_support.<locals>.wrapper\u001b[0;34m(*args, **kwargs)\u001b[0m\n\u001b[1;32m    <a href='file:///~/miniconda3/envs/stock_prediction/lib/python3.9/site-packages/tensorflow/python/util/dispatch.py?line=198'>199</a>\u001b[0m \u001b[39m\"\"\"Call target, and fall back on dispatchers if there is a TypeError.\"\"\"\u001b[39;00m\n\u001b[1;32m    <a href='file:///~/miniconda3/envs/stock_prediction/lib/python3.9/site-packages/tensorflow/python/util/dispatch.py?line=199'>200</a>\u001b[0m \u001b[39mtry\u001b[39;00m:\n\u001b[0;32m--> <a href='file:///~/miniconda3/envs/stock_prediction/lib/python3.9/site-packages/tensorflow/python/util/dispatch.py?line=200'>201</a>\u001b[0m   \u001b[39mreturn\u001b[39;00m target(\u001b[39m*\u001b[39;49margs, \u001b[39m*\u001b[39;49m\u001b[39m*\u001b[39;49mkwargs)\n\u001b[1;32m    <a href='file:///~/miniconda3/envs/stock_prediction/lib/python3.9/site-packages/tensorflow/python/util/dispatch.py?line=201'>202</a>\u001b[0m \u001b[39mexcept\u001b[39;00m (\u001b[39mTypeError\u001b[39;00m, \u001b[39mValueError\u001b[39;00m):\n\u001b[1;32m    <a href='file:///~/miniconda3/envs/stock_prediction/lib/python3.9/site-packages/tensorflow/python/util/dispatch.py?line=202'>203</a>\u001b[0m   \u001b[39m# Note: convert_to_eager_tensor currently raises a ValueError, not a\u001b[39;00m\n\u001b[1;32m    <a href='file:///~/miniconda3/envs/stock_prediction/lib/python3.9/site-packages/tensorflow/python/util/dispatch.py?line=203'>204</a>\u001b[0m   \u001b[39m# TypeError, when given unexpected types.  So we need to catch both.\u001b[39;00m\n\u001b[1;32m    <a href='file:///~/miniconda3/envs/stock_prediction/lib/python3.9/site-packages/tensorflow/python/util/dispatch.py?line=204'>205</a>\u001b[0m   result \u001b[39m=\u001b[39m dispatch(wrapper, args, kwargs)\n",
      "File \u001b[0;32m~/miniconda3/envs/stock_prediction/lib/python3.9/site-packages/tensorflow/python/ops/array_ops.py:2819\u001b[0m, in \u001b[0;36m_tag_zeros_tensor.<locals>.wrapped\u001b[0;34m(*args, **kwargs)\u001b[0m\n\u001b[1;32m   <a href='file:///~/miniconda3/envs/stock_prediction/lib/python3.9/site-packages/tensorflow/python/ops/array_ops.py?line=2817'>2818</a>\u001b[0m \u001b[39mdef\u001b[39;00m \u001b[39mwrapped\u001b[39m(\u001b[39m*\u001b[39margs, \u001b[39m*\u001b[39m\u001b[39m*\u001b[39mkwargs):\n\u001b[0;32m-> <a href='file:///~/miniconda3/envs/stock_prediction/lib/python3.9/site-packages/tensorflow/python/ops/array_ops.py?line=2818'>2819</a>\u001b[0m   tensor \u001b[39m=\u001b[39m fun(\u001b[39m*\u001b[39;49margs, \u001b[39m*\u001b[39;49m\u001b[39m*\u001b[39;49mkwargs)\n\u001b[1;32m   <a href='file:///~/miniconda3/envs/stock_prediction/lib/python3.9/site-packages/tensorflow/python/ops/array_ops.py?line=2819'>2820</a>\u001b[0m   tensor\u001b[39m.\u001b[39m_is_zeros_tensor \u001b[39m=\u001b[39m \u001b[39mTrue\u001b[39;00m\n\u001b[1;32m   <a href='file:///~/miniconda3/envs/stock_prediction/lib/python3.9/site-packages/tensorflow/python/ops/array_ops.py?line=2820'>2821</a>\u001b[0m   \u001b[39mreturn\u001b[39;00m tensor\n",
      "File \u001b[0;32m~/miniconda3/envs/stock_prediction/lib/python3.9/site-packages/tensorflow/python/ops/array_ops.py:2868\u001b[0m, in \u001b[0;36mzeros\u001b[0;34m(shape, dtype, name)\u001b[0m\n\u001b[1;32m   <a href='file:///~/miniconda3/envs/stock_prediction/lib/python3.9/site-packages/tensorflow/python/ops/array_ops.py?line=2863'>2864</a>\u001b[0m \u001b[39mtry\u001b[39;00m:\n\u001b[1;32m   <a href='file:///~/miniconda3/envs/stock_prediction/lib/python3.9/site-packages/tensorflow/python/ops/array_ops.py?line=2864'>2865</a>\u001b[0m   \u001b[39mif\u001b[39;00m \u001b[39mnot\u001b[39;00m context\u001b[39m.\u001b[39mexecuting_eagerly():\n\u001b[1;32m   <a href='file:///~/miniconda3/envs/stock_prediction/lib/python3.9/site-packages/tensorflow/python/ops/array_ops.py?line=2865'>2866</a>\u001b[0m     \u001b[39m# Create a constant if it won't be very big. Otherwise create a fill\u001b[39;00m\n\u001b[1;32m   <a href='file:///~/miniconda3/envs/stock_prediction/lib/python3.9/site-packages/tensorflow/python/ops/array_ops.py?line=2866'>2867</a>\u001b[0m     \u001b[39m# op to prevent serialized GraphDefs from becoming too large.\u001b[39;00m\n\u001b[0;32m-> <a href='file:///~/miniconda3/envs/stock_prediction/lib/python3.9/site-packages/tensorflow/python/ops/array_ops.py?line=2867'>2868</a>\u001b[0m     output \u001b[39m=\u001b[39m _constant_if_small(zero, shape, dtype, name)\n\u001b[1;32m   <a href='file:///~/miniconda3/envs/stock_prediction/lib/python3.9/site-packages/tensorflow/python/ops/array_ops.py?line=2868'>2869</a>\u001b[0m     \u001b[39mif\u001b[39;00m output \u001b[39mis\u001b[39;00m \u001b[39mnot\u001b[39;00m \u001b[39mNone\u001b[39;00m:\n\u001b[1;32m   <a href='file:///~/miniconda3/envs/stock_prediction/lib/python3.9/site-packages/tensorflow/python/ops/array_ops.py?line=2869'>2870</a>\u001b[0m       \u001b[39mreturn\u001b[39;00m output\n",
      "File \u001b[0;32m~/miniconda3/envs/stock_prediction/lib/python3.9/site-packages/tensorflow/python/ops/array_ops.py:2804\u001b[0m, in \u001b[0;36m_constant_if_small\u001b[0;34m(value, shape, dtype, name)\u001b[0m\n\u001b[1;32m   <a href='file:///~/miniconda3/envs/stock_prediction/lib/python3.9/site-packages/tensorflow/python/ops/array_ops.py?line=2801'>2802</a>\u001b[0m \u001b[39mdef\u001b[39;00m \u001b[39m_constant_if_small\u001b[39m(value, shape, dtype, name):\n\u001b[1;32m   <a href='file:///~/miniconda3/envs/stock_prediction/lib/python3.9/site-packages/tensorflow/python/ops/array_ops.py?line=2802'>2803</a>\u001b[0m   \u001b[39mtry\u001b[39;00m:\n\u001b[0;32m-> <a href='file:///~/miniconda3/envs/stock_prediction/lib/python3.9/site-packages/tensorflow/python/ops/array_ops.py?line=2803'>2804</a>\u001b[0m     \u001b[39mif\u001b[39;00m np\u001b[39m.\u001b[39;49mprod(shape) \u001b[39m<\u001b[39m \u001b[39m1000\u001b[39m:\n\u001b[1;32m   <a href='file:///~/miniconda3/envs/stock_prediction/lib/python3.9/site-packages/tensorflow/python/ops/array_ops.py?line=2804'>2805</a>\u001b[0m       \u001b[39mreturn\u001b[39;00m constant(value, shape\u001b[39m=\u001b[39mshape, dtype\u001b[39m=\u001b[39mdtype, name\u001b[39m=\u001b[39mname)\n\u001b[1;32m   <a href='file:///~/miniconda3/envs/stock_prediction/lib/python3.9/site-packages/tensorflow/python/ops/array_ops.py?line=2805'>2806</a>\u001b[0m   \u001b[39mexcept\u001b[39;00m \u001b[39mTypeError\u001b[39;00m:\n\u001b[1;32m   <a href='file:///~/miniconda3/envs/stock_prediction/lib/python3.9/site-packages/tensorflow/python/ops/array_ops.py?line=2806'>2807</a>\u001b[0m     \u001b[39m# Happens when shape is a Tensor, list with Tensor elements, etc.\u001b[39;00m\n",
      "File \u001b[0;32m<__array_function__ internals>:5\u001b[0m, in \u001b[0;36mprod\u001b[0;34m(*args, **kwargs)\u001b[0m\n",
      "File \u001b[0;32m~/miniconda3/envs/stock_prediction/lib/python3.9/site-packages/numpy/core/fromnumeric.py:3051\u001b[0m, in \u001b[0;36mprod\u001b[0;34m(a, axis, dtype, out, keepdims, initial, where)\u001b[0m\n\u001b[1;32m   <a href='file:///~/miniconda3/envs/stock_prediction/lib/python3.9/site-packages/numpy/core/fromnumeric.py?line=2932'>2933</a>\u001b[0m \u001b[39m@array_function_dispatch\u001b[39m(_prod_dispatcher)\n\u001b[1;32m   <a href='file:///~/miniconda3/envs/stock_prediction/lib/python3.9/site-packages/numpy/core/fromnumeric.py?line=2933'>2934</a>\u001b[0m \u001b[39mdef\u001b[39;00m \u001b[39mprod\u001b[39m(a, axis\u001b[39m=\u001b[39m\u001b[39mNone\u001b[39;00m, dtype\u001b[39m=\u001b[39m\u001b[39mNone\u001b[39;00m, out\u001b[39m=\u001b[39m\u001b[39mNone\u001b[39;00m, keepdims\u001b[39m=\u001b[39mnp\u001b[39m.\u001b[39m_NoValue,\n\u001b[1;32m   <a href='file:///~/miniconda3/envs/stock_prediction/lib/python3.9/site-packages/numpy/core/fromnumeric.py?line=2934'>2935</a>\u001b[0m          initial\u001b[39m=\u001b[39mnp\u001b[39m.\u001b[39m_NoValue, where\u001b[39m=\u001b[39mnp\u001b[39m.\u001b[39m_NoValue):\n\u001b[1;32m   <a href='file:///~/miniconda3/envs/stock_prediction/lib/python3.9/site-packages/numpy/core/fromnumeric.py?line=2935'>2936</a>\u001b[0m     \u001b[39m\"\"\"\u001b[39;00m\n\u001b[1;32m   <a href='file:///~/miniconda3/envs/stock_prediction/lib/python3.9/site-packages/numpy/core/fromnumeric.py?line=2936'>2937</a>\u001b[0m \u001b[39m    Return the product of array elements over a given axis.\u001b[39;00m\n\u001b[1;32m   <a href='file:///~/miniconda3/envs/stock_prediction/lib/python3.9/site-packages/numpy/core/fromnumeric.py?line=2937'>2938</a>\u001b[0m \n\u001b[0;32m   (...)\u001b[0m\n\u001b[1;32m   <a href='file:///~/miniconda3/envs/stock_prediction/lib/python3.9/site-packages/numpy/core/fromnumeric.py?line=3048'>3049</a>\u001b[0m \u001b[39m    10\u001b[39;00m\n\u001b[1;32m   <a href='file:///~/miniconda3/envs/stock_prediction/lib/python3.9/site-packages/numpy/core/fromnumeric.py?line=3049'>3050</a>\u001b[0m \u001b[39m    \"\"\"\u001b[39;00m\n\u001b[0;32m-> <a href='file:///~/miniconda3/envs/stock_prediction/lib/python3.9/site-packages/numpy/core/fromnumeric.py?line=3050'>3051</a>\u001b[0m     \u001b[39mreturn\u001b[39;00m _wrapreduction(a, np\u001b[39m.\u001b[39;49mmultiply, \u001b[39m'\u001b[39;49m\u001b[39mprod\u001b[39;49m\u001b[39m'\u001b[39;49m, axis, dtype, out,\n\u001b[1;32m   <a href='file:///~/miniconda3/envs/stock_prediction/lib/python3.9/site-packages/numpy/core/fromnumeric.py?line=3051'>3052</a>\u001b[0m                           keepdims\u001b[39m=\u001b[39;49mkeepdims, initial\u001b[39m=\u001b[39;49minitial, where\u001b[39m=\u001b[39;49mwhere)\n",
      "File \u001b[0;32m~/miniconda3/envs/stock_prediction/lib/python3.9/site-packages/numpy/core/fromnumeric.py:86\u001b[0m, in \u001b[0;36m_wrapreduction\u001b[0;34m(obj, ufunc, method, axis, dtype, out, **kwargs)\u001b[0m\n\u001b[1;32m     <a href='file:///~/miniconda3/envs/stock_prediction/lib/python3.9/site-packages/numpy/core/fromnumeric.py?line=82'>83</a>\u001b[0m         \u001b[39melse\u001b[39;00m:\n\u001b[1;32m     <a href='file:///~/miniconda3/envs/stock_prediction/lib/python3.9/site-packages/numpy/core/fromnumeric.py?line=83'>84</a>\u001b[0m             \u001b[39mreturn\u001b[39;00m reduction(axis\u001b[39m=\u001b[39maxis, out\u001b[39m=\u001b[39mout, \u001b[39m*\u001b[39m\u001b[39m*\u001b[39mpasskwargs)\n\u001b[0;32m---> <a href='file:///~/miniconda3/envs/stock_prediction/lib/python3.9/site-packages/numpy/core/fromnumeric.py?line=85'>86</a>\u001b[0m \u001b[39mreturn\u001b[39;00m ufunc\u001b[39m.\u001b[39;49mreduce(obj, axis, dtype, out, \u001b[39m*\u001b[39;49m\u001b[39m*\u001b[39;49mpasskwargs)\n",
      "File \u001b[0;32m~/miniconda3/envs/stock_prediction/lib/python3.9/site-packages/tensorflow/python/framework/ops.py:852\u001b[0m, in \u001b[0;36mTensor.__array__\u001b[0;34m(self)\u001b[0m\n\u001b[1;32m    <a href='file:///~/miniconda3/envs/stock_prediction/lib/python3.9/site-packages/tensorflow/python/framework/ops.py?line=850'>851</a>\u001b[0m \u001b[39mdef\u001b[39;00m \u001b[39m__array__\u001b[39m(\u001b[39mself\u001b[39m):\n\u001b[0;32m--> <a href='file:///~/miniconda3/envs/stock_prediction/lib/python3.9/site-packages/tensorflow/python/framework/ops.py?line=851'>852</a>\u001b[0m   \u001b[39mraise\u001b[39;00m \u001b[39mNotImplementedError\u001b[39;00m(\n\u001b[1;32m    <a href='file:///~/miniconda3/envs/stock_prediction/lib/python3.9/site-packages/tensorflow/python/framework/ops.py?line=852'>853</a>\u001b[0m       \u001b[39m\"\u001b[39m\u001b[39mCannot convert a symbolic Tensor (\u001b[39m\u001b[39m{}\u001b[39;00m\u001b[39m) to a numpy array.\u001b[39m\u001b[39m\"\u001b[39m\n\u001b[1;32m    <a href='file:///~/miniconda3/envs/stock_prediction/lib/python3.9/site-packages/tensorflow/python/framework/ops.py?line=853'>854</a>\u001b[0m       \u001b[39m\"\u001b[39m\u001b[39m This error may indicate that you\u001b[39m\u001b[39m'\u001b[39m\u001b[39mre trying to pass a Tensor to\u001b[39m\u001b[39m\"\u001b[39m\n\u001b[1;32m    <a href='file:///~/miniconda3/envs/stock_prediction/lib/python3.9/site-packages/tensorflow/python/framework/ops.py?line=854'>855</a>\u001b[0m       \u001b[39m\"\u001b[39m\u001b[39m a NumPy call, which is not supported\u001b[39m\u001b[39m\"\u001b[39m\u001b[39m.\u001b[39mformat(\u001b[39mself\u001b[39m\u001b[39m.\u001b[39mname))\n",
      "\u001b[0;31mNotImplementedError\u001b[0m: Cannot convert a symbolic Tensor (lstm/strided_slice:0) to a numpy array. This error may indicate that you're trying to pass a Tensor to a NumPy call, which is not supported"
     ]
    }
   ],
   "source": [
    "# Reshape to the format of [samples, time steps, features]\n",
    "X_train = np.reshape(X_train, (X_train.shape[0], 1, X_train.shape[1]))\n",
    "\n",
    "X_test = np.reshape(X_test, (X_test.shape[0], 1, X_test.shape[1]))\n",
    "\n",
    "T_shape = T.shape\n",
    "train_shape = train.shape\n",
    "test_shape = test.shape\n",
    "\n",
    "# Make sure that the number of rows in the dataset = train rows + test rows\n",
    "def isLeak(T_shape, train_shape, test_shape):\n",
    "    return not(T_shape[0] == (train_shape[0] + test_shape[0]))\n",
    "\n",
    "print(isLeak(T_shape, train_shape, test_shape))\n",
    "\n",
    "# Model imports\n",
    "import tensorflow as tf\n",
    "from tensorflow.keras.layers import LSTM, Dense, Dropout\n",
    "from tensorflow.keras.models import Sequential\n",
    "\"\"\" from keras.models import Sequential\n",
    "from keras.layers import Dense\n",
    "from keras.layers import LSTM\n",
    "from keras.layers import Dropout \"\"\"\n",
    "\n",
    "# Setting seed for reproducibility \n",
    "tf.random.set_seed(11)\n",
    "np.random.seed(11)\n",
    "\n",
    "# Building model\n",
    "model = Sequential()\n",
    "\n",
    "model.add(LSTM(units = 50, activation = 'relu', #return_sequences = True, \n",
    "               input_shape = (X_train.shape[1], window_size)))\n",
    "model.add(Dropout(0.2))\n",
    "\n",
    "# Optional additional model layer to make a deep network. If you want to use this, uncomment #return_sequences param in previous add\n",
    "\"\"\"\n",
    "model.add(LSTM(units = 25, activation = 'relu'))\n",
    "model.add(Dropout(0.2))\n",
    "\"\"\"\n",
    "\n",
    "# Output layer\n",
    "model.add(Dense(1))\n",
    "model.compile(loss = 'mean_squared_error', optimizer = 'adam')\n",
    "\n",
    "\n",
    "\n",
    "history = model.fit(X_train, Y_train, epochs = 30, batch_size = 20, validation_data = (X_test, Y_test))\n",
    "\n",
    "\"\"\"\n",
    "Loading the best model and predicting\n",
    "\"\"\"\n",
    "\n",
    "\n",
    "# Predicting and inverse transforming the predictions\n",
    "\n",
    "train_predict = model.predict(X_train)\n",
    "\n",
    "Y_hat_train = scaler.inverse_transform(train_predict)\n",
    "\n",
    "test_predict = model.predict(X_test)\n",
    "\n",
    "Y_hat_test = scaler.inverse_transform(test_predict)\n",
    "\n",
    "# Inverse transforming the actual values, to return them to their original values\n",
    "Y_test = scaler.inverse_transform([Y_test])\n",
    "Y_train = scaler.inverse_transform([Y_train])\n",
    "\n",
    "# Reshaping \n",
    "Y_hat_train = np.reshape(Y_hat_train, newshape =X_train.shape[0])\n",
    "Y_hat_test = np.reshape(Y_hat_test, newshape = X_test.shape[0])\n",
    "\n",
    "Y_train = np.reshape(Y_train, newshape = X_train.shape[0])\n",
    "Y_test = np.reshape(Y_test, newshape = X_test.shape[0])\n",
    "\n",
    "# Model performance evaluation\n",
    "from sklearn.metrics import mean_squared_error\n",
    "\n",
    "train_RMSE = np.sqrt(mean_squared_error(Y_train, Y_hat_train))\n",
    "\n",
    "test_RMSE = np.sqrt(mean_squared_error(Y_test, Y_hat_test))\n",
    "\n",
    "print('Train RMSE is: ')\n",
    "print(train_RMSE, '\\n')\n",
    "print('Test RMSE is: ')\n",
    "print(test_RMSE)"
   ]
  },
  {
   "cell_type": "code",
   "execution_count": 17,
   "id": "62b80325",
   "metadata": {},
   "outputs": [
    {
     "name": "stdout",
     "output_type": "stream",
     "text": [
      "2.4.1\n"
     ]
    }
   ],
   "source": [
    "import tensorflow as tf\n",
    "\n",
    "print(tf.__version__)"
   ]
  }
 ],
 "metadata": {
  "kernelspec": {
   "display_name": "Python 3 (ipykernel)",
   "language": "python",
   "name": "python3"
  },
  "language_info": {
   "codemirror_mode": {
    "name": "ipython",
    "version": 3
   },
   "file_extension": ".py",
   "mimetype": "text/x-python",
   "name": "python",
   "nbconvert_exporter": "python",
   "pygments_lexer": "ipython3",
   "version": "3.9.12"
  }
 },
 "nbformat": 4,
 "nbformat_minor": 5
}
